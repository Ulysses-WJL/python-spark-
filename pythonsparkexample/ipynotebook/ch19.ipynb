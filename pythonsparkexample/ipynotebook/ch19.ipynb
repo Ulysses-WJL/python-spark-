{
 "cells": [
  {
   "cell_type": "markdown",
   "metadata": {
    "collapsed": true
   },
   "source": [
    "#注意事项:\n",
    "#当运行本Notebook的程序后，如果要关闭Notebook，请选择菜单: File > Close and Halt 才能确实停止当前正在运行的程序，并且释放资源\n",
    "#如果没有使用以上方法，只关闭此分页，程序仍在运行，未释放资源，当您打开并运行其他的Notebook，可能会发生错误"
   ]
  },
  {
   "cell_type": "code",
   "execution_count": 1,
   "metadata": {},
   "outputs": [],
   "source": [
    "from pyspark import SparkConf\n",
    "from pyspark.sql import SparkSession\n",
    "\n",
    "conf = SparkConf().setAppName('rdd_df').setMaster('local')\n",
    "spark = SparkSession.builder.config(conf=conf).getOrCreate()\n",
    "sc = spark.sparkContext\n"
   ]
  },
  {
   "cell_type": "code",
   "execution_count": 2,
   "metadata": {
    "collapsed": false
   },
   "outputs": [
    {
     "output_type": "execute_result",
     "data": {
      "text/plain": "'local'"
     },
     "metadata": {},
     "execution_count": 2
    }
   ],
   "source": [
    "sc.master"
   ]
  },
  {
   "cell_type": "code",
   "execution_count": 3,
   "metadata": {},
   "outputs": [],
   "source": [
    "if spark.conf.get('spark.sql.execution.arrow.enabled') != 'true':\n",
    "    spark.conf.set(\"spark.sql.execution.arrow.enabled\", 'true')"
   ]
  },
  {
   "cell_type": "code",
   "execution_count": 4,
   "metadata": {
    "collapsed": true
   },
   "outputs": [],
   "source": [
    "global Path    \n",
    "if sc.master[0:5]==\"local\" :\n",
    "   Path=\"file:///mnt/data1/workspace/data_analysis_mining/Python+Spark2.0+Hadoop机器学习与大数据实战/pythonsparkexample/PythonProject/\"\n",
    "else:   \n",
    "   Path=\"hdfs://master:9000/user/hduser/\"\n",
    "#如果要在cluster模式运行(hadoop yarn 或Spark Stand alone)，请按照书上的说明，先把文件上传到HDFS目录"
   ]
  },
  {
   "cell_type": "markdown",
   "metadata": {},
   "source": [
    "# 19.3\t建立RDD、DataFrame与Spark SQL tempTable\n"
   ]
  },
  {
   "cell_type": "code",
   "execution_count": 3,
   "metadata": {
    "collapsed": true
   },
   "outputs": [],
   "source": [
    "#Step 1  读取文本文件,建立RDD"
   ]
  },
  {
   "cell_type": "code",
   "execution_count": 5,
   "metadata": {
    "collapsed": false
   },
   "outputs": [],
   "source": [
    "RawUserRDD= sc.textFile(Path+\"data/u.user\")"
   ]
  },
  {
   "cell_type": "code",
   "execution_count": 7,
   "metadata": {
    "collapsed": false
   },
   "outputs": [
    {
     "output_type": "execute_result",
     "data": {
      "text/plain": "943"
     },
     "metadata": {},
     "execution_count": 7
    }
   ],
   "source": [
    "RawUserRDD.count()"
   ]
  },
  {
   "cell_type": "code",
   "execution_count": 8,
   "metadata": {
    "collapsed": false
   },
   "outputs": [
    {
     "output_type": "execute_result",
     "data": {
      "text/plain": "['1|24|M|technician|85711',\n '2|53|F|other|94043',\n '3|23|M|writer|32067',\n '4|24|M|technician|43537',\n '5|33|F|other|15213',\n '6|42|M|executive|98101',\n '7|57|M|administrator|91344']"
     },
     "metadata": {},
     "execution_count": 8
    }
   ],
   "source": [
    "RawUserRDD.take(7)"
   ]
  },
  {
   "cell_type": "code",
   "execution_count": 9,
   "metadata": {},
   "outputs": [
    {
     "output_type": "execute_result",
     "data": {
      "text/plain": "[['1', '24', 'M', 'technician', '85711'],\n ['2', '53', 'F', 'other', '94043'],\n ['3', '23', 'M', 'writer', '32067'],\n ['4', '24', 'M', 'technician', '43537'],\n ['5', '33', 'F', 'other', '15213']]"
     },
     "metadata": {},
     "execution_count": 9
    }
   ],
   "source": [
    "userRDD = RawUserRDD.map(lambda line: line.split(\"|\"))\n",
    "userRDD.take(5)"
   ]
  },
  {
   "cell_type": "markdown",
   "metadata": {},
   "source": [
    "# 建立DataFrame"
   ]
  },
  {
   "cell_type": "code",
   "execution_count": 8,
   "metadata": {
    "collapsed": false
   },
   "outputs": [],
   "source": [
    "# sqlContext = SparkSession.builder.getOrCreate()"
   ]
  },
  {
   "cell_type": "code",
   "execution_count": 10,
   "metadata": {},
   "outputs": [
    {
     "output_type": "execute_result",
     "data": {
      "text/plain": "PythonRDD[5] at RDD at PythonRDD.scala:53"
     },
     "metadata": {},
     "execution_count": 10
    }
   ],
   "source": [
    "from pyspark.sql import Row\n",
    "User = Row('userid', \"age\", 'gender', 'occupation', 'zipcode')\n",
    "user_ROWs = userRDD.map(lambda x: User(int(x[0]), int(x[1]), x[2], x[3], x[4]))\n",
    "user_ROWs"
   ]
  },
  {
   "cell_type": "code",
   "execution_count": 11,
   "metadata": {},
   "outputs": [
    {
     "output_type": "execute_result",
     "data": {
      "text/plain": "[Row(userid=1, age=24, gender='M', occupation='technician', zipcode='85711'),\n Row(userid=2, age=53, gender='F', occupation='other', zipcode='94043'),\n Row(userid=3, age=23, gender='M', occupation='writer', zipcode='32067'),\n Row(userid=4, age=24, gender='M', occupation='technician', zipcode='43537'),\n Row(userid=5, age=33, gender='F', occupation='other', zipcode='15213')]"
     },
     "metadata": {},
     "execution_count": 11
    }
   ],
   "source": [
    "user_ROWs.take(5)"
   ]
  },
  {
   "cell_type": "code",
   "execution_count": 9,
   "metadata": {
    "collapsed": false
   },
   "outputs": [
    {
     "data": {
      "text/plain": [
       "[Row(age=24, gender=u'M', occupation=u'technician', userid=1, zipcode=u'85711'),\n",
       " Row(age=53, gender=u'F', occupation=u'other', userid=2, zipcode=u'94043'),\n",
       " Row(age=23, gender=u'M', occupation=u'writer', userid=3, zipcode=u'32067'),\n",
       " Row(age=24, gender=u'M', occupation=u'technician', userid=4, zipcode=u'43537'),\n",
       " Row(age=33, gender=u'F', occupation=u'other', userid=5, zipcode=u'15213')]"
      ]
     },
     "execution_count": 9,
     "metadata": {},
     "output_type": "execute_result"
    }
   ],
   "source": [
    "from pyspark.sql import Row\n",
    "user_Rows = userRDD.map(lambda p:\n",
    "     Row(\n",
    "         userid=int(p[0]), \n",
    "         age=int(p[1]),\n",
    "         gender=p[2],\n",
    "         occupation=p[3],\n",
    "         zipcode=p[4]\n",
    "    )\n",
    ")\n",
    "user_Rows.take(5)"
   ]
  },
  {
   "cell_type": "code",
   "execution_count": 12,
   "metadata": {
    "collapsed": false,
    "tags": []
   },
   "outputs": [
    {
     "output_type": "stream",
     "name": "stdout",
     "text": "root\n |-- userid: long (nullable = true)\n |-- age: long (nullable = true)\n |-- gender: string (nullable = true)\n |-- occupation: string (nullable = true)\n |-- zipcode: string (nullable = true)\n\n"
    }
   ],
   "source": [
    "user_df = spark.createDataFrame(user_ROWs)\n",
    "user_df.printSchema()"
   ]
  },
  {
   "cell_type": "code",
   "execution_count": 13,
   "metadata": {
    "collapsed": false,
    "tags": []
   },
   "outputs": [
    {
     "output_type": "stream",
     "name": "stdout",
     "text": "+------+---+------+----------+-------+\n|userid|age|gender|occupation|zipcode|\n+------+---+------+----------+-------+\n|     1| 24|     M|technician|  85711|\n|     2| 53|     F|     other|  94043|\n|     3| 23|     M|    writer|  32067|\n|     4| 24|     M|technician|  43537|\n|     5| 33|     F|     other|  15213|\n+------+---+------+----------+-------+\nonly showing top 5 rows\n\n"
    }
   ],
   "source": [
    "user_df.show(5)"
   ]
  },
  {
   "cell_type": "code",
   "execution_count": 14,
   "metadata": {
    "collapsed": false,
    "tags": []
   },
   "outputs": [
    {
     "output_type": "stream",
     "name": "stdout",
     "text": "+------+---+------+----------+-------+\n|userid|age|gender|occupation|zipcode|\n+------+---+------+----------+-------+\n|     1| 24|     M|technician|  85711|\n|     2| 53|     F|     other|  94043|\n|     3| 23|     M|    writer|  32067|\n|     4| 24|     M|technician|  43537|\n|     5| 33|     F|     other|  15213|\n+------+---+------+----------+-------+\nonly showing top 5 rows\n\n"
    }
   ],
   "source": [
    "df=user_df.alias(\"df\")\n",
    "df.show(5)"
   ]
  },
  {
   "cell_type": "code",
   "execution_count": 15,
   "metadata": {},
   "outputs": [],
   "source": [
    "# 第二种方法创建\n",
    "from pyspark.sql.types import *\n",
    "\n",
    "fields = [\n",
    "    StructField('userid', IntegerType(), True),\n",
    "    StructField('age', IntegerType(), True),\n",
    "    StructField('gender', StringType(), True),\n",
    "    StructField('occupation', StringType(), True),\n",
    "    StructField(\"zipcode\", StringType(), True)\n",
    "    ]\n",
    "schema = StructType(fields=fields)"
   ]
  },
  {
   "cell_type": "code",
   "execution_count": 16,
   "metadata": {},
   "outputs": [],
   "source": [
    "use_rdd = userRDD.map(lambda x: [int(x[0]), int(x[1]), x[2], x[3], x[4]])"
   ]
  },
  {
   "cell_type": "code",
   "execution_count": 17,
   "metadata": {
    "tags": []
   },
   "outputs": [
    {
     "output_type": "stream",
     "name": "stdout",
     "text": "root\n |-- userid: integer (nullable = true)\n |-- age: integer (nullable = true)\n |-- gender: string (nullable = true)\n |-- occupation: string (nullable = true)\n |-- zipcode: string (nullable = true)\n\n"
    }
   ],
   "source": [
    "user_df2 = spark.createDataFrame(use_rdd, schema)\n",
    "user_df2.printSchema()"
   ]
  },
  {
   "cell_type": "code",
   "execution_count": 18,
   "metadata": {
    "tags": []
   },
   "outputs": [
    {
     "output_type": "stream",
     "name": "stdout",
     "text": "+------+---+------+----------+-------+\n|userid|age|gender|occupation|zipcode|\n+------+---+------+----------+-------+\n|     1| 24|     M|technician|  85711|\n|     2| 53|     F|     other|  94043|\n|     3| 23|     M|    writer|  32067|\n|     4| 24|     M|technician|  43537|\n|     5| 33|     F|     other|  15213|\n+------+---+------+----------+-------+\nonly showing top 5 rows\n\n"
    }
   ],
   "source": [
    "user_df2.show(5)"
   ]
  },
  {
   "cell_type": "markdown",
   "metadata": {},
   "source": [
    "# 建立Spark SQL tempTable"
   ]
  },
  {
   "cell_type": "code",
   "execution_count": 19,
   "metadata": {
    "collapsed": false
   },
   "outputs": [],
   "source": [
    "user_df2.createOrReplaceTempView(\"user_table\")"
   ]
  },
  {
   "cell_type": "code",
   "execution_count": 20,
   "metadata": {
    "collapsed": false,
    "tags": []
   },
   "outputs": [
    {
     "output_type": "stream",
     "name": "stdout",
     "text": "+------+\n|counts|\n+------+\n|   943|\n+------+\n\n"
    }
   ],
   "source": [
    "spark.sql(\"select count(*) counts from user_table\").show()\n",
    "# sqlContext.sql(\" SELECT count(*) counts FROM user_table\").show()"
   ]
  },
  {
   "cell_type": "code",
   "execution_count": 21,
   "metadata": {
    "collapsed": false,
    "tags": []
   },
   "outputs": [
    {
     "output_type": "stream",
     "name": "stdout",
     "text": "+------+\n|counts|\n+------+\n|   943|\n+------+\n\n"
    }
   ],
   "source": [
    "spark.sql(\"\"\"\n",
    "SELECT count(*) counts \n",
    "FROM   user_table\n",
    "\"\"\").show()"
   ]
  },
  {
   "cell_type": "code",
   "execution_count": 22,
   "metadata": {
    "collapsed": false,
    "tags": []
   },
   "outputs": [
    {
     "output_type": "stream",
     "name": "stdout",
     "text": "+------+---+------+-------------+-------+\n|userid|age|gender|   occupation|zipcode|\n+------+---+------+-------------+-------+\n|     1| 24|     M|   technician|  85711|\n|     2| 53|     F|        other|  94043|\n|     3| 23|     M|       writer|  32067|\n|     4| 24|     M|   technician|  43537|\n|     5| 33|     F|        other|  15213|\n|     6| 42|     M|    executive|  98101|\n|     7| 57|     M|administrator|  91344|\n|     8| 36|     M|administrator|  05201|\n|     9| 29|     M|      student|  01002|\n|    10| 53|     M|       lawyer|  90703|\n|    11| 39|     F|        other|  30329|\n|    12| 28|     F|        other|  06405|\n|    13| 47|     M|     educator|  29206|\n|    14| 45|     M|    scientist|  55106|\n|    15| 49|     F|     educator|  97301|\n|    16| 21|     M|entertainment|  10309|\n|    17| 30|     M|   programmer|  06355|\n|    18| 35|     F|        other|  37212|\n|    19| 40|     M|    librarian|  02138|\n|    20| 42|     F|    homemaker|  95660|\n+------+---+------+-------------+-------+\nonly showing top 20 rows\n\n"
    }
   ],
   "source": [
    "spark.sql(\" SELECT *  FROM user_table \").show()"
   ]
  },
  {
   "cell_type": "code",
   "execution_count": 23,
   "metadata": {
    "collapsed": false,
    "tags": []
   },
   "outputs": [
    {
     "output_type": "stream",
     "name": "stdout",
     "text": "+------+---+------+----------+-------+\n|userid|age|gender|occupation|zipcode|\n+------+---+------+----------+-------+\n|     1| 24|     M|technician|  85711|\n|     2| 53|     F|     other|  94043|\n|     3| 23|     M|    writer|  32067|\n|     4| 24|     M|technician|  43537|\n|     5| 33|     F|     other|  15213|\n+------+---+------+----------+-------+\nonly showing top 5 rows\n\n"
    }
   ],
   "source": [
    "spark.sql(\" SELECT *  FROM user_table\").show(5)"
   ]
  },
  {
   "cell_type": "code",
   "execution_count": 24,
   "metadata": {
    "collapsed": false,
    "tags": []
   },
   "outputs": [
    {
     "output_type": "stream",
     "name": "stdout",
     "text": "+------+---+------+----------+-------+\n|userid|age|gender|occupation|zipcode|\n+------+---+------+----------+-------+\n|     1| 24|     M|technician|  85711|\n|     2| 53|     F|     other|  94043|\n|     3| 23|     M|    writer|  32067|\n|     4| 24|     M|technician|  43537|\n|     5| 33|     F|     other|  15213|\n+------+---+------+----------+-------+\n\n"
    }
   ],
   "source": [
    "spark.sql(\" SELECT *  FROM user_table LIMIT 5\").show()"
   ]
  },
  {
   "cell_type": "markdown",
   "metadata": {},
   "source": [
    "# 19.3\t显示部分字段"
   ]
  },
  {
   "cell_type": "code",
   "execution_count": 43,
   "metadata": {
    "collapsed": false
   },
   "outputs": [
    {
     "output_type": "execute_result",
     "data": {
      "text/plain": "[('1', 'technician', 'M', '24'),\n ('2', 'other', 'F', '53'),\n ('3', 'writer', 'M', '23'),\n ('4', 'technician', 'M', '24'),\n ('5', 'other', 'F', '33')]"
     },
     "metadata": {},
     "execution_count": 43
    }
   ],
   "source": [
    "userRDDnew= userRDD.map(lambda x: (x[0],x[3],x[2] ,x[1]) )\n",
    "userRDDnew.take(5)"
   ]
  },
  {
   "cell_type": "code",
   "execution_count": 44,
   "metadata": {
    "collapsed": false,
    "tags": []
   },
   "outputs": [
    {
     "output_type": "stream",
     "name": "stdout",
     "text": "+------+----------+------+---+\n|userid|occupation|gender|age|\n+------+----------+------+---+\n|     1|technician|     M| 24|\n|     2|     other|     F| 53|\n|     3|    writer|     M| 23|\n|     4|technician|     M| 24|\n|     5|     other|     F| 33|\n+------+----------+------+---+\nonly showing top 5 rows\n\n"
    }
   ],
   "source": [
    "user_df.select(\"userid\",\"occupation\",\"gender\",\"age\").show(5)"
   ]
  },
  {
   "cell_type": "code",
   "execution_count": 45,
   "metadata": {
    "collapsed": false,
    "tags": []
   },
   "outputs": [
    {
     "output_type": "stream",
     "name": "stdout",
     "text": "+------+----------+------+---+\n|userid|occupation|gender|age|\n+------+----------+------+---+\n|     1|technician|     M| 24|\n|     2|     other|     F| 53|\n|     3|    writer|     M| 23|\n|     4|technician|     M| 24|\n|     5|     other|     F| 33|\n+------+----------+------+---+\nonly showing top 5 rows\n\n"
    }
   ],
   "source": [
    "user_df.select( user_df.userid, user_df.occupation,user_df.gender,user_df.age ).show(5)"
   ]
  },
  {
   "cell_type": "code",
   "execution_count": 46,
   "metadata": {
    "collapsed": false,
    "tags": []
   },
   "outputs": [
    {
     "output_type": "stream",
     "name": "stdout",
     "text": "+------+----------+------+---+\n|userid|occupation|gender|age|\n+------+----------+------+---+\n|     1|technician|     M| 24|\n|     2|     other|     F| 53|\n|     3|    writer|     M| 23|\n|     4|technician|     M| 24|\n|     5|     other|     F| 33|\n+------+----------+------+---+\nonly showing top 5 rows\n\n"
    }
   ],
   "source": [
    "df.select(df.userid,df.occupation,df.gender,df.age  ).show(5)"
   ]
  },
  {
   "cell_type": "code",
   "execution_count": 47,
   "metadata": {
    "collapsed": false,
    "tags": []
   },
   "outputs": [
    {
     "output_type": "stream",
     "name": "stdout",
     "text": "+------+----------+------+---+\n|userid|occupation|gender|age|\n+------+----------+------+---+\n|     1|technician|     M| 24|\n|     2|     other|     F| 53|\n|     3|    writer|     M| 23|\n|     4|technician|     M| 24|\n|     5|     other|     F| 33|\n+------+----------+------+---+\nonly showing top 5 rows\n\n"
    }
   ],
   "source": [
    "# df 是 user_df 的别名\n",
    "user_df.select(user_df.userid, user_df.occupation,df.gender,df.age ).show(5)"
   ]
  },
  {
   "cell_type": "code",
   "execution_count": 53,
   "metadata": {
    "tags": []
   },
   "outputs": [
    {
     "output_type": "stream",
     "name": "stdout",
     "text": "+------+\n|userid|\n+------+\n|     1|\n|     2|\n|     3|\n|     4|\n|     5|\n+------+\nonly showing top 5 rows\n\n"
    }
   ],
   "source": [
    "df[[df['userid']]].show(5)  # [] 保持dataframe 结构"
   ]
  },
  {
   "cell_type": "code",
   "execution_count": 55,
   "metadata": {
    "tags": []
   },
   "outputs": [
    {
     "output_type": "stream",
     "name": "stdout",
     "text": "+------+\n|userid|\n+------+\n|     1|\n|     2|\n|     3|\n|     4|\n|     5|\n+------+\nonly showing top 5 rows\n\n"
    }
   ],
   "source": [
    "df[['userid']].show(5)"
   ]
  },
  {
   "cell_type": "code",
   "execution_count": 51,
   "metadata": {
    "collapsed": false,
    "tags": []
   },
   "outputs": [
    {
     "output_type": "stream",
     "name": "stdout",
     "text": "+------+----------+------+---+\n|userid|occupation|gender|age|\n+------+----------+------+---+\n|     1|technician|     M| 24|\n|     2|     other|     F| 53|\n|     3|    writer|     M| 23|\n|     4|technician|     M| 24|\n|     5|     other|     F| 33|\n+------+----------+------+---+\nonly showing top 5 rows\n\n"
    }
   ],
   "source": [
    "df[df['userid'],df['occupation'],df['gender'],df['age']  ].show(5)"
   ]
  },
  {
   "cell_type": "code",
   "execution_count": 56,
   "metadata": {
    "collapsed": false,
    "tags": []
   },
   "outputs": [
    {
     "output_type": "stream",
     "name": "stdout",
     "text": "+------+----------+------+---+\n|userid|occupation|gender|age|\n+------+----------+------+---+\n|     1|technician|     M| 24|\n|     2|     other|     F| 53|\n|     3|    writer|     M| 23|\n|     4|technician|     M| 24|\n|     5|     other|     F| 33|\n+------+----------+------+---+\nonly showing top 5 rows\n\n"
    }
   ],
   "source": [
    "spark.sql(\" SELECT userid,occupation,gender,age  FROM user_table\").show(5)"
   ]
  },
  {
   "cell_type": "markdown",
   "metadata": {},
   "source": [
    "# 19.4 增加计算字段"
   ]
  },
  {
   "cell_type": "code",
   "execution_count": 25,
   "metadata": {
    "collapsed": false
   },
   "outputs": [
    {
     "output_type": "execute_result",
     "data": {
      "text/plain": "[('1', 'technician', 'M', '24', 1992),\n ('2', 'other', 'F', '53', 1963),\n ('3', 'writer', 'M', '23', 1993),\n ('4', 'technician', 'M', '24', 1992),\n ('5', 'other', 'F', '33', 1983)]"
     },
     "metadata": {},
     "execution_count": 25
    }
   ],
   "source": [
    "userRDDnew= userRDD.map(lambda x: (x[0],x[3],x[2],x[1] ,2016-int(x[1])) )\n",
    "userRDDnew.take(5)"
   ]
  },
  {
   "cell_type": "code",
   "execution_count": 26,
   "metadata": {
    "collapsed": false,
    "tags": []
   },
   "outputs": [
    {
     "output_type": "stream",
     "name": "stdout",
     "text": "+------+----------+------+---+----------+\n|userid|occupation|gender|age|birth_year|\n+------+----------+------+---+----------+\n|     1|technician|     M| 24|      1992|\n|     2|     other|     F| 53|      1963|\n|     3|    writer|     M| 23|      1993|\n|     4|technician|     M| 24|      1992|\n|     5|     other|     F| 33|      1983|\n+------+----------+------+---+----------+\nonly showing top 5 rows\n\n"
    }
   ],
   "source": [
    "df.select(\"userid\",\"occupation\",\"gender\",\"age\",(2016-df.age).alias('birth_year')).show(5)"
   ]
  },
  {
   "cell_type": "code",
   "execution_count": 28,
   "metadata": {
    "collapsed": false,
    "tags": []
   },
   "outputs": [
    {
     "output_type": "stream",
     "name": "stdout",
     "text": "+------+----------+------+---+---------+\n|userid|occupation|gender|age|birthyear|\n+------+----------+------+---+---------+\n|     1|technician|     M| 24|     1992|\n|     2|     other|     F| 53|     1963|\n|     3|    writer|     M| 23|     1993|\n|     4|technician|     M| 24|     1992|\n|     5|     other|     F| 33|     1983|\n+------+----------+------+---+---------+\nonly showing top 5 rows\n\n"
    }
   ],
   "source": [
    "spark.sql(\"\"\"\n",
    "SELECT userid,occupation,gender,age,2016-age birthyear \n",
    "FROM user_table\"\"\").show(5)"
   ]
  },
  {
   "cell_type": "markdown",
   "metadata": {},
   "source": [
    "# 19.5筛选数据"
   ]
  },
  {
   "cell_type": "code",
   "execution_count": 29,
   "metadata": {},
   "outputs": [
    {
     "output_type": "execute_result",
     "data": {
      "text/plain": "6"
     },
     "metadata": {},
     "execution_count": 29
    }
   ],
   "source": [
    "userRDD.filter(lambda r: r[3] == 'technician' and r[2] == 'M' and r[1] == '24').count()"
   ]
  },
  {
   "cell_type": "code",
   "execution_count": 30,
   "metadata": {
    "collapsed": false
   },
   "outputs": [
    {
     "output_type": "execute_result",
     "data": {
      "text/plain": "[['1', '24', 'M', 'technician', '85711'],\n ['4', '24', 'M', 'technician', '43537'],\n ['456', '24', 'M', 'technician', '31820'],\n ['717', '24', 'M', 'technician', '84105'],\n ['832', '24', 'M', 'technician', '77042'],\n ['889', '24', 'M', 'technician', '78704']]"
     },
     "metadata": {},
     "execution_count": 30
    }
   ],
   "source": [
    "userRDD.filter(lambda r:   r[3]=='technician' and r[2]=='M' and r[1]=='24').take(6)    "
   ]
  },
  {
   "cell_type": "code",
   "execution_count": 31,
   "metadata": {
    "collapsed": false,
    "tags": []
   },
   "outputs": [
    {
     "output_type": "stream",
     "name": "stdout",
     "text": "+------+---+------+----------+-------+\n|userid|age|gender|occupation|zipcode|\n+------+---+------+----------+-------+\n|     1| 24|     M|technician|  85711|\n|     4| 24|     M|technician|  43537|\n|   456| 24|     M|technician|  31820|\n|   717| 24|     M|technician|  84105|\n|   832| 24|     M|technician|  77042|\n|   889| 24|     M|technician|  78704|\n+------+---+------+----------+-------+\n\n"
    }
   ],
   "source": [
    "user_df.filter(\"occupation='technician' \").filter(\"gender='M' \").filter(\"age=24\").show()"
   ]
  },
  {
   "cell_type": "code",
   "execution_count": 32,
   "metadata": {
    "collapsed": false,
    "tags": []
   },
   "outputs": [
    {
     "output_type": "stream",
     "name": "stdout",
     "text": "+------+---+------+----------+-------+\n|userid|age|gender|occupation|zipcode|\n+------+---+------+----------+-------+\n|     1| 24|     M|technician|  85711|\n|     4| 24|     M|technician|  43537|\n|   456| 24|     M|technician|  31820|\n|   717| 24|     M|technician|  84105|\n|   832| 24|     M|technician|  77042|\n|   889| 24|     M|technician|  78704|\n+------+---+------+----------+-------+\n\n"
    }
   ],
   "source": [
    "user_df.filter(\"occupation='technician' and gender='M' and age=24\").show()"
   ]
  },
  {
   "cell_type": "code",
   "execution_count": 66,
   "metadata": {
    "collapsed": false,
    "tags": []
   },
   "outputs": [
    {
     "output_type": "stream",
     "name": "stdout",
     "text": "+------+---+------+----------+-------+\n|userid|age|gender|occupation|zipcode|\n+------+---+------+----------+-------+\n|     1| 24|     M|technician|  85711|\n|     4| 24|     M|technician|  43537|\n|   456| 24|     M|technician|  31820|\n|   717| 24|     M|technician|  84105|\n|   832| 24|     M|technician|  77042|\n|   889| 24|     M|technician|  78704|\n+------+---+------+----------+-------+\n\n"
    }
   ],
   "source": [
    "# 使用 & == \n",
    "df.filter((df.occupation=='technician' ) & (df.gender=='M' ) & (df.age==24)).show()"
   ]
  },
  {
   "cell_type": "code",
   "execution_count": 67,
   "metadata": {
    "collapsed": false,
    "tags": []
   },
   "outputs": [
    {
     "output_type": "stream",
     "name": "stdout",
     "text": "+------+---+------+----------+-------+\n|userid|age|gender|occupation|zipcode|\n+------+---+------+----------+-------+\n|     1| 24|     M|technician|  85711|\n|     4| 24|     M|technician|  43537|\n|   456| 24|     M|technician|  31820|\n|   717| 24|     M|technician|  84105|\n|   832| 24|     M|technician|  77042|\n|   889| 24|     M|technician|  78704|\n+------+---+------+----------+-------+\n\n"
    }
   ],
   "source": [
    "df.filter((df['occupation']=='technician' ) & (df['gender']=='M' ) & (df['age']==24)).show()"
   ]
  },
  {
   "cell_type": "code",
   "execution_count": 35,
   "metadata": {
    "collapsed": false
   },
   "outputs": [],
   "source": [
    "#Step3 使用Spark SQL 筛选数据"
   ]
  },
  {
   "cell_type": "code",
   "execution_count": 33,
   "metadata": {
    "tags": []
   },
   "outputs": [
    {
     "output_type": "stream",
     "name": "stdout",
     "text": "+------+---+------+----------+-------+\n|userid|age|gender|occupation|zipcode|\n+------+---+------+----------+-------+\n|     1| 24|     M|technician|  85711|\n|     4| 24|     M|technician|  43537|\n|   456| 24|     M|technician|  31820|\n|   717| 24|     M|technician|  84105|\n|   832| 24|     M|technician|  77042|\n+------+---+------+----------+-------+\nonly showing top 5 rows\n\n"
    }
   ],
   "source": [
    "spark.sql(\"\"\"\n",
    "select * from user_table\n",
    "where occupation = 'technician' and gender = 'M' and age = 24\n",
    "\"\"\").show(5)"
   ]
  },
  {
   "cell_type": "markdown",
   "metadata": {},
   "source": [
    "# 19.6 筛选数据"
   ]
  },
  {
   "cell_type": "code",
   "execution_count": 71,
   "metadata": {
    "collapsed": false,
    "tags": []
   },
   "outputs": [
    {
     "output_type": "stream",
     "name": "stdout",
     "text": "+------+---+------+----------+-------+\n|userid|age|gender|occupation|zipcode|\n+------+---+------+----------+-------+\n|     1| 24|     M|technician|  85711|\n|     4| 24|     M|technician|  43537|\n|   456| 24|     M|technician|  31820|\n|   717| 24|     M|technician|  84105|\n|   832| 24|     M|technician|  77042|\n+------+---+------+----------+-------+\nonly showing top 5 rows\n\n"
    }
   ],
   "source": [
    "#Step1 使用多个filter筛选数据\n",
    "user_df.filter(\"occupation='technician' \").filter(\"gender='M' \").filter(\"age=24\").show(5)"
   ]
  },
  {
   "cell_type": "code",
   "execution_count": 72,
   "metadata": {
    "collapsed": false,
    "tags": []
   },
   "outputs": [
    {
     "output_type": "stream",
     "name": "stdout",
     "text": "+------+---+------+----------+-------+\n|userid|age|gender|occupation|zipcode|\n+------+---+------+----------+-------+\n|     1| 24|     M|technician|  85711|\n|     4| 24|     M|technician|  43537|\n|   456| 24|     M|technician|  31820|\n|   717| 24|     M|technician|  84105|\n|   832| 24|     M|technician|  77042|\n|   889| 24|     M|technician|  78704|\n+------+---+------+----------+-------+\n\n"
    }
   ],
   "source": [
    "user_df.filter(\"occupation='technician' and gender='M' and age=24\").show()"
   ]
  },
  {
   "cell_type": "code",
   "execution_count": 73,
   "metadata": {
    "collapsed": false,
    "tags": []
   },
   "outputs": [
    {
     "output_type": "stream",
     "name": "stdout",
     "text": "+------+---+------+----------+-------+\n|userid|age|gender|occupation|zipcode|\n+------+---+------+----------+-------+\n|     1| 24|     M|technician|  85711|\n|     4| 24|     M|technician|  43537|\n|   456| 24|     M|technician|  31820|\n|   717| 24|     M|technician|  84105|\n|   832| 24|     M|technician|  77042|\n|   889| 24|     M|technician|  78704|\n+------+---+------+----------+-------+\n\n"
    }
   ],
   "source": [
    "user_df.filter(user_df.occupation=='technician' ).filter(user_df.gender=='M' ).filter(user_df.age==24).show()"
   ]
  },
  {
   "cell_type": "code",
   "execution_count": 75,
   "metadata": {
    "collapsed": false,
    "tags": []
   },
   "outputs": [
    {
     "output_type": "stream",
     "name": "stdout",
     "text": "+------+---+------+----------+-------+\n|userid|age|gender|occupation|zipcode|\n+------+---+------+----------+-------+\n|     1| 24|     M|technician|  85711|\n|     4| 24|     M|technician|  43537|\n|   456| 24|     M|technician|  31820|\n|   717| 24|     M|technician|  84105|\n|   832| 24|     M|technician|  77042|\n|   889| 24|     M|technician|  78704|\n+------+---+------+----------+-------+\n\n"
    }
   ],
   "source": [
    "df.filter((df['occupation']=='technician' ) & (df['gender']=='M' ) &  (df['age']==24)).show()"
   ]
  },
  {
   "cell_type": "markdown",
   "metadata": {},
   "source": [
    "# 19.6 单个字段排序数据"
   ]
  },
  {
   "cell_type": "code",
   "execution_count": 34,
   "metadata": {
    "collapsed": false
   },
   "outputs": [
    {
     "output_type": "execute_result",
     "data": {
      "text/plain": "[['30', '7', 'M', 'student', '55436'],\n ['471', '10', 'M', 'student', '77459'],\n ['289', '11', 'M', 'none', '94619'],\n ['142', '13', 'M', 'other', '48118'],\n ['609', '13', 'F', 'student', '55106']]"
     },
     "metadata": {},
     "execution_count": 34
    }
   ],
   "source": [
    "userRDD.takeOrdered(5, key = lambda x: int(x[1]))"
   ]
  },
  {
   "cell_type": "code",
   "execution_count": 35,
   "metadata": {},
   "outputs": [
    {
     "output_type": "execute_result",
     "data": {
      "text/plain": "[['481', '73', 'M', 'retired', '37771'],\n ['767', '70', 'M', 'engineer', '00000'],\n ['803', '70', 'M', 'administrator', '78212'],\n ['860', '70', 'F', 'retired', '48322'],\n ['559', '69', 'M', 'executive', '10022'],\n ['585', '69', 'M', 'librarian', '98501']]"
     },
     "metadata": {},
     "execution_count": 35
    }
   ],
   "source": [
    "userRDD.takeOrdered(6, key= lambda x: -1*int(x[1]))  # 降序"
   ]
  },
  {
   "cell_type": "code",
   "execution_count": 36,
   "metadata": {
    "collapsed": false,
    "tags": []
   },
   "outputs": [
    {
     "output_type": "stream",
     "name": "stdout",
     "text": "+------+----------+------+---+\n|userid|occupation|gender|age|\n+------+----------+------+---+\n|    30|   student|     M|  7|\n|   471|   student|     M| 10|\n|   289|      none|     M| 11|\n|   142|     other|     M| 13|\n|   609|   student|     F| 13|\n+------+----------+------+---+\nonly showing top 5 rows\n\n"
    }
   ],
   "source": [
    "spark.sql(\"\"\"\n",
    "SELECT userid,occupation,gender,age   \n",
    "FROM user_table \n",
    "ORDER BY age\"\"\").show(5)"
   ]
  },
  {
   "cell_type": "code",
   "execution_count": 37,
   "metadata": {
    "collapsed": false,
    "tags": []
   },
   "outputs": [
    {
     "output_type": "stream",
     "name": "stdout",
     "text": "+------+-------------+------+---+\n|userid|   occupation|gender|age|\n+------+-------------+------+---+\n|   481|      retired|     M| 73|\n|   767|     engineer|     M| 70|\n|   860|      retired|     F| 70|\n|   803|administrator|     M| 70|\n|   559|    executive|     M| 69|\n+------+-------------+------+---+\nonly showing top 5 rows\n\n"
    }
   ],
   "source": [
    "spark.sql(\"\"\"\n",
    "SELECT userid,occupation,gender,age   \n",
    "FROM user_table \n",
    "ORDER BY age DESC\"\"\").show(5)"
   ]
  },
  {
   "cell_type": "code",
   "execution_count": 83,
   "metadata": {
    "tags": []
   },
   "outputs": [
    {
     "output_type": "stream",
     "name": "stdout",
     "text": "+------+----------+------+---+\n|userid|occupation|gender|age|\n+------+----------+------+---+\n|    30|   student|     M|  7|\n|   471|   student|     M| 10|\n|   289|      none|     M| 11|\n|   142|     other|     M| 13|\n|   609|   student|     F| 13|\n+------+----------+------+---+\nonly showing top 5 rows\n\n"
    }
   ],
   "source": [
    "user_df.select('userid', 'occupation', 'gender', 'age').orderBy('age').show(5)"
   ]
  },
  {
   "cell_type": "code",
   "execution_count": 38,
   "metadata": {
    "collapsed": false,
    "tags": []
   },
   "outputs": [
    {
     "output_type": "stream",
     "name": "stdout",
     "text": "+------+-------------+------+---+\n|userid|   occupation|gender|age|\n+------+-------------+------+---+\n|   481|      retired|     M| 73|\n|   767|     engineer|     M| 70|\n|   860|      retired|     F| 70|\n|   803|administrator|     M| 70|\n|   559|    executive|     M| 69|\n+------+-------------+------+---+\nonly showing top 5 rows\n\n"
    }
   ],
   "source": [
    "df.select(\"userid\",\"occupation\",\"gender\",\"age\").orderBy(\"age\",ascending=False).show(5)"
   ]
  },
  {
   "cell_type": "code",
   "execution_count": 39,
   "metadata": {
    "collapsed": false,
    "tags": []
   },
   "outputs": [
    {
     "output_type": "stream",
     "name": "stdout",
     "text": "+------+----------+------+---+\n|userid|occupation|gender|age|\n+------+----------+------+---+\n|    30|   student|     M|  7|\n|   471|   student|     M| 10|\n|   289|      none|     M| 11|\n|   142|     other|     M| 13|\n|   609|   student|     F| 13|\n+------+----------+------+---+\nonly showing top 5 rows\n\n"
    }
   ],
   "source": [
    "df.select(\"userid\",\"occupation\",\"gender\",\"age\").orderBy(df.age).show(5)"
   ]
  },
  {
   "cell_type": "code",
   "execution_count": 41,
   "metadata": {},
   "outputs": [],
   "source": [
    "import pyspark.sql.functions as fn"
   ]
  },
  {
   "cell_type": "code",
   "execution_count": 42,
   "metadata": {
    "tags": []
   },
   "outputs": [
    {
     "output_type": "stream",
     "name": "stdout",
     "text": "+------+-------------+------+---+\n|userid|   occupation|gender|age|\n+------+-------------+------+---+\n|   481|      retired|     M| 73|\n|   767|     engineer|     M| 70|\n|   860|      retired|     F| 70|\n|   803|administrator|     M| 70|\n|   559|    executive|     M| 69|\n+------+-------------+------+---+\nonly showing top 5 rows\n\n"
    }
   ],
   "source": [
    "df.select(\"userid\",\"occupation\",\"gender\",\"age\").orderBy(fn.desc('age')).show(5)"
   ]
  },
  {
   "cell_type": "code",
   "execution_count": 43,
   "metadata": {
    "collapsed": false,
    "tags": []
   },
   "outputs": [
    {
     "output_type": "stream",
     "name": "stdout",
     "text": "+------+-------------+------+---+\n|userid|   occupation|gender|age|\n+------+-------------+------+---+\n|   481|      retired|     M| 73|\n|   767|     engineer|     M| 70|\n|   860|      retired|     F| 70|\n|   803|administrator|     M| 70|\n|   559|    executive|     M| 69|\n+------+-------------+------+---+\nonly showing top 5 rows\n\n"
    }
   ],
   "source": [
    "df.select(\"userid\",\"occupation\",\"gender\",\"age\").orderBy(df.age.desc()).show(5)"
   ]
  },
  {
   "cell_type": "code",
   "execution_count": null,
   "metadata": {},
   "outputs": [],
   "source": []
  },
  {
   "cell_type": "markdown",
   "metadata": {},
   "source": [
    "# 19.7 多字段排序数据"
   ]
  },
  {
   "cell_type": "code",
   "execution_count": 44,
   "metadata": {
    "collapsed": false
   },
   "outputs": [
    {
     "output_type": "execute_result",
     "data": {
      "text/plain": "[['481', '73', 'M', 'retired', '37771'],\n ['860', '70', 'F', 'retired', '48322'],\n ['767', '70', 'M', 'engineer', '00000'],\n ['803', '70', 'M', 'administrator', '78212'],\n ['559', '69', 'M', 'executive', '10022']]"
     },
     "metadata": {},
     "execution_count": 44
    }
   ],
   "source": [
    "userRDD.takeOrdered(5, key = lambda x: (-int(x[1]), x[2] ) )"
   ]
  },
  {
   "cell_type": "code",
   "execution_count": 45,
   "metadata": {
    "collapsed": false,
    "tags": []
   },
   "outputs": [
    {
     "output_type": "stream",
     "name": "stdout",
     "text": "+------+---+------+-------------+-------+\n|userid|age|gender|   occupation|zipcode|\n+------+---+------+-------------+-------+\n|   481| 73|     M|      retired|  37771|\n|   860| 70|     F|      retired|  48322|\n|   767| 70|     M|     engineer|  00000|\n|   803| 70|     M|administrator|  78212|\n|   559| 69|     M|    executive|  10022|\n+------+---+------+-------------+-------+\nonly showing top 5 rows\n\n"
    }
   ],
   "source": [
    "spark.sql(\"\"\"\n",
    "SELECT userid, age, gender,occupation,zipcode\n",
    "FROM user_table\n",
    "ORDER BY age DESC,gender \"\"\").show(5)"
   ]
  },
  {
   "cell_type": "code",
   "execution_count": 46,
   "metadata": {
    "collapsed": false,
    "tags": []
   },
   "outputs": [
    {
     "output_type": "stream",
     "name": "stdout",
     "text": "+------+---+------+-------------+-------+\n|userid|age|gender|   occupation|zipcode|\n+------+---+------+-------------+-------+\n|   481| 73|     M|      retired|  37771|\n|   860| 70|     F|      retired|  48322|\n|   767| 70|     M|     engineer|  00000|\n|   803| 70|     M|administrator|  78212|\n|   559| 69|     M|    executive|  10022|\n+------+---+------+-------------+-------+\nonly showing top 5 rows\n\n"
    }
   ],
   "source": [
    "df.orderBy([\"age\",\"gender\"], ascending=[0,1] ).show(5)"
   ]
  },
  {
   "cell_type": "code",
   "execution_count": 47,
   "metadata": {
    "collapsed": false,
    "tags": []
   },
   "outputs": [
    {
     "output_type": "stream",
     "name": "stdout",
     "text": "+------+---+------+-------------+-------+\n|userid|age|gender|   occupation|zipcode|\n+------+---+------+-------------+-------+\n|   481| 73|     M|      retired|  37771|\n|   860| 70|     F|      retired|  48322|\n|   767| 70|     M|     engineer|  00000|\n|   803| 70|     M|administrator|  78212|\n|   559| 69|     M|    executive|  10022|\n+------+---+------+-------------+-------+\nonly showing top 5 rows\n\n"
    }
   ],
   "source": [
    "df.orderBy(df.age.desc(), df.gender).show(5)"
   ]
  },
  {
   "cell_type": "code",
   "execution_count": 48,
   "metadata": {
    "tags": []
   },
   "outputs": [
    {
     "output_type": "stream",
     "name": "stdout",
     "text": "+------+---+------+-------------+-------+\n|userid|age|gender|   occupation|zipcode|\n+------+---+------+-------------+-------+\n|   481| 73|     M|      retired|  37771|\n|   860| 70|     F|      retired|  48322|\n|   767| 70|     M|     engineer|  00000|\n|   803| 70|     M|administrator|  78212|\n|   559| 69|     M|    executive|  10022|\n+------+---+------+-------------+-------+\nonly showing top 5 rows\n\n"
    }
   ],
   "source": [
    "df.orderBy(fn.desc('age'), 'gender').show(5)"
   ]
  },
  {
   "cell_type": "markdown",
   "metadata": {},
   "source": [
    "# 19.8 显示不重复数据"
   ]
  },
  {
   "cell_type": "code",
   "execution_count": 49,
   "metadata": {
    "collapsed": false
   },
   "outputs": [
    {
     "output_type": "execute_result",
     "data": {
      "text/plain": "['M', 'F']"
     },
     "metadata": {},
     "execution_count": 49
    }
   ],
   "source": [
    "userRDD.map( lambda x:x[2] ).distinct().collect()"
   ]
  },
  {
   "cell_type": "code",
   "execution_count": 50,
   "metadata": {
    "collapsed": false
   },
   "outputs": [
    {
     "output_type": "execute_result",
     "data": {
      "text/plain": "[('24', 'M'),\n ('53', 'F'),\n ('23', 'M'),\n ('33', 'F'),\n ('42', 'M'),\n ('57', 'M'),\n ('36', 'M'),\n ('29', 'M'),\n ('53', 'M'),\n ('39', 'F'),\n ('28', 'F'),\n ('47', 'M'),\n ('45', 'M'),\n ('49', 'F'),\n ('21', 'M'),\n ('30', 'M'),\n ('35', 'F'),\n ('40', 'M'),\n ('42', 'F'),\n ('26', 'M')]"
     },
     "metadata": {},
     "execution_count": 50
    }
   ],
   "source": [
    "userRDD.map( lambda x:(x[1],x[2]) ).distinct().take(20)"
   ]
  },
  {
   "cell_type": "code",
   "execution_count": 51,
   "metadata": {
    "collapsed": false,
    "tags": []
   },
   "outputs": [
    {
     "output_type": "stream",
     "name": "stdout",
     "text": "+------+\n|gender|\n+------+\n|     F|\n|     M|\n+------+\n\n"
    }
   ],
   "source": [
    "spark.sql(\"SELECT distinct gender FROM user_table\").show()"
   ]
  },
  {
   "cell_type": "code",
   "execution_count": 52,
   "metadata": {
    "collapsed": false,
    "tags": []
   },
   "outputs": [
    {
     "output_type": "stream",
     "name": "stdout",
     "text": "+---+------+\n|age|gender|\n+---+------+\n| 45|     M|\n| 62|     F|\n| 24|     M|\n| 30|     F|\n| 18|     F|\n| 31|     F|\n| 23|     F|\n| 34|     M|\n| 48|     F|\n| 15|     M|\n| 40|     F|\n| 48|     M|\n| 57|     F|\n| 42|     F|\n| 26|     F|\n| 37|     M|\n| 70|     F|\n| 49|     F|\n| 25|     F|\n| 19|     M|\n+---+------+\nonly showing top 20 rows\n\n"
    }
   ],
   "source": [
    "spark.sql(\"SELECT distinct age, gender FROM user_table\").show()"
   ]
  },
  {
   "cell_type": "code",
   "execution_count": 53,
   "metadata": {
    "collapsed": false,
    "tags": []
   },
   "outputs": [
    {
     "output_type": "stream",
     "name": "stdout",
     "text": "+------+\n|gender|\n+------+\n|     F|\n|     M|\n+------+\n\n"
    }
   ],
   "source": [
    "user_df.select(\"gender\").distinct().show()"
   ]
  },
  {
   "cell_type": "code",
   "execution_count": 54,
   "metadata": {
    "collapsed": false,
    "tags": []
   },
   "outputs": [
    {
     "output_type": "stream",
     "name": "stdout",
     "text": "+---+------+\n|age|gender|\n+---+------+\n| 39|     F|\n| 48|     M|\n| 26|     M|\n| 28|     M|\n| 54|     M|\n| 60|     M|\n| 50|     M|\n| 53|     F|\n| 30|     M|\n| 48|     F|\n| 47|     M|\n| 46|     M|\n| 56|     M|\n| 32|     M|\n| 31|     M|\n| 53|     M|\n| 20|     F|\n| 29|     F|\n| 21|     F|\n| 42|     M|\n+---+------+\nonly showing top 20 rows\n\n"
    }
   ],
   "source": [
    "user_df.select(\"age\",\"gender\").distinct().show()"
   ]
  },
  {
   "cell_type": "markdown",
   "metadata": {},
   "source": [
    "# 19.9\t分组统计数据"
   ]
  },
  {
   "cell_type": "code",
   "execution_count": 105,
   "metadata": {
    "collapsed": false
   },
   "outputs": [
    {
     "output_type": "execute_result",
     "data": {
      "text/plain": "[('M', 670), ('F', 273)]"
     },
     "metadata": {},
     "execution_count": 105
    }
   ],
   "source": [
    "# RDD 分组统计性别  使用MapReduce\n",
    "userRDD.map(lambda x: (x[2], 1)).reduceByKey(lambda x, y: x+y).collect()"
   ]
  },
  {
   "cell_type": "code",
   "execution_count": 106,
   "metadata": {},
   "outputs": [
    {
     "output_type": "execute_result",
     "data": {
      "text/plain": "['userid', 'age', 'gender', 'occupation', 'zipcode']"
     },
     "metadata": {},
     "execution_count": 106
    }
   ],
   "source": [
    "df.columns"
   ]
  },
  {
   "cell_type": "code",
   "execution_count": 109,
   "metadata": {
    "collapsed": false
   },
   "outputs": [
    {
     "output_type": "execute_result",
     "data": {
      "text/plain": "[(('M', 'student'), 136),\n (('M', 'educator'), 69),\n (('M', 'other'), 69),\n (('M', 'engineer'), 65),\n (('M', 'programmer'), 60),\n (('F', 'student'), 60),\n (('M', 'administrator'), 43),\n (('F', 'other'), 36),\n (('F', 'administrator'), 36),\n (('M', 'executive'), 29),\n (('F', 'librarian'), 29),\n (('M', 'scientist'), 28),\n (('M', 'technician'), 26),\n (('M', 'writer'), 26),\n (('F', 'educator'), 26),\n (('M', 'librarian'), 22),\n (('F', 'writer'), 19),\n (('M', 'entertainment'), 16),\n (('M', 'marketing'), 16),\n (('M', 'artist'), 15),\n (('F', 'artist'), 13),\n (('M', 'retired'), 13),\n (('F', 'healthcare'), 11),\n (('M', 'lawyer'), 10),\n (('F', 'marketing'), 10),\n (('M', 'salesman'), 9),\n (('M', 'doctor'), 7),\n (('F', 'homemaker'), 6),\n (('F', 'programmer'), 6),\n (('M', 'none'), 5),\n (('M', 'healthcare'), 5),\n (('F', 'none'), 4),\n (('F', 'executive'), 3),\n (('F', 'scientist'), 3),\n (('F', 'salesman'), 3),\n (('F', 'lawyer'), 2),\n (('F', 'entertainment'), 2),\n (('F', 'engineer'), 2),\n (('F', 'retired'), 1),\n (('M', 'homemaker'), 1),\n (('F', 'technician'), 1)]"
     },
     "metadata": {},
     "execution_count": 109
    }
   ],
   "source": [
    "# 按性别 职业统计\n",
    "userRDD.map(lambda x: ((x[2], x[3]), 1)).reduceByKey(lambda x, y: x+y).sortBy(lambda x: -x[1]).collect()"
   ]
  },
  {
   "cell_type": "code",
   "execution_count": 55,
   "metadata": {},
   "outputs": [
    {
     "output_type": "execute_result",
     "data": {
      "text/plain": "[(('M', 'student'), 136),\n (('M', 'educator'), 69),\n (('M', 'other'), 69),\n (('M', 'engineer'), 65),\n (('M', 'programmer'), 60)]"
     },
     "metadata": {},
     "execution_count": 55
    }
   ],
   "source": [
    "userRDD.map(lambda x: ((x[2], x[3]), 1)).reduceByKey(lambda x, y: x+y).takeOrdered(5, key=lambda x: -x[1])"
   ]
  },
  {
   "cell_type": "code",
   "execution_count": 56,
   "metadata": {
    "collapsed": false,
    "tags": []
   },
   "outputs": [
    {
     "output_type": "stream",
     "name": "stdout",
     "text": "+------+------+\n|gender|counts|\n+------+------+\n|     F|   273|\n|     M|   670|\n+------+------+\n\n"
    }
   ],
   "source": [
    "spark.sql(\"\"\" \n",
    "SELECT gender ,count(*)  counts  \n",
    "FROM   user_table \n",
    "GROUP BY gender\"\"\").show()"
   ]
  },
  {
   "cell_type": "code",
   "execution_count": 57,
   "metadata": {
    "collapsed": false,
    "tags": []
   },
   "outputs": [
    {
     "output_type": "stream",
     "name": "stdout",
     "text": "+------+-------------+------+\n|gender|   occupation|counts|\n+------+-------------+------+\n|     M|    executive|    29|\n|     M|     educator|    69|\n|     F|         none|     4|\n|     F|entertainment|     2|\n|     F|      retired|     1|\n|     F|       artist|    13|\n|     F|    librarian|    29|\n|     F|     engineer|     2|\n|     F|   healthcare|    11|\n|     F|administrator|    36|\n|     M|        other|    69|\n|     M|    homemaker|     1|\n|     F|       lawyer|     2|\n|     M|   programmer|    60|\n|     M|     salesman|     9|\n|     M|         none|     5|\n|     M|entertainment|    16|\n|     M|    marketing|    16|\n|     M|   technician|    26|\n|     M|administrator|    43|\n|     F|    marketing|    10|\n|     F|   programmer|     6|\n|     F|   technician|     1|\n|     F|    executive|     3|\n|     M|    scientist|    28|\n|     F|     educator|    26|\n|     M|      retired|    13|\n|     M|   healthcare|     5|\n|     M|       writer|    26|\n|     M|       lawyer|    10|\n|     M|      student|   136|\n|     F|     salesman|     3|\n|     M|       doctor|     7|\n|     M|       artist|    15|\n|     F|    homemaker|     6|\n|     M|     engineer|    65|\n|     F|        other|    36|\n|     F|       writer|    19|\n|     F|      student|    60|\n|     F|    scientist|     3|\n|     M|    librarian|    22|\n+------+-------------+------+\n\n"
    }
   ],
   "source": [
    "spark.sql(\"\"\" \n",
    "SELECT gender,occupation,count(*) counts  \n",
    "FROM   user_table \n",
    "GROUP BY gender,occupation\n",
    "\"\"\").show(100)"
   ]
  },
  {
   "cell_type": "code",
   "execution_count": 58,
   "metadata": {
    "collapsed": false,
    "tags": []
   },
   "outputs": [
    {
     "output_type": "stream",
     "name": "stdout",
     "text": "+------+-----+\n|gender|count|\n+------+-----+\n|     F|  273|\n|     M|  670|\n+------+-----+\n\n"
    }
   ],
   "source": [
    "user_df.select('gender').groupBy('gender').count().show()"
   ]
  },
  {
   "cell_type": "code",
   "execution_count": 59,
   "metadata": {
    "collapsed": false,
    "tags": []
   },
   "outputs": [
    {
     "output_type": "stream",
     "name": "stdout",
     "text": "+------+-------------+-----+\n|gender|   occupation|count|\n+------+-------------+-----+\n|     F|administrator|   36|\n|     F|       artist|   13|\n|     F|     educator|   26|\n|     F|     engineer|    2|\n|     F|entertainment|    2|\n|     F|    executive|    3|\n|     F|   healthcare|   11|\n|     F|    homemaker|    6|\n|     F|       lawyer|    2|\n|     F|    librarian|   29|\n|     F|    marketing|   10|\n|     F|         none|    4|\n|     F|        other|   36|\n|     F|   programmer|    6|\n|     F|      retired|    1|\n|     F|     salesman|    3|\n|     F|    scientist|    3|\n|     F|      student|   60|\n|     F|   technician|    1|\n|     F|       writer|   19|\n|     M|administrator|   43|\n|     M|       artist|   15|\n|     M|       doctor|    7|\n|     M|     educator|   69|\n|     M|     engineer|   65|\n|     M|entertainment|   16|\n|     M|    executive|   29|\n|     M|   healthcare|    5|\n|     M|    homemaker|    1|\n|     M|       lawyer|   10|\n|     M|    librarian|   22|\n|     M|    marketing|   16|\n|     M|         none|    5|\n|     M|        other|   69|\n|     M|   programmer|   60|\n|     M|      retired|   13|\n|     M|     salesman|    9|\n|     M|    scientist|   28|\n|     M|      student|  136|\n|     M|   technician|   26|\n|     M|       writer|   26|\n+------+-------------+-----+\n\n"
    }
   ],
   "source": [
    "user_df.select('gender', 'occupation')\\\n",
    "    .groupby('gender', 'occupation')\\\n",
    "    .count()\\\n",
    "    .orderBy('gender', 'occupation')\\\n",
    "    .show(100)"
   ]
  },
  {
   "cell_type": "code",
   "execution_count": 122,
   "metadata": {
    "tags": []
   },
   "outputs": [
    {
     "output_type": "stream",
     "name": "stdout",
     "text": "+-----------------+---+---+\n|occupation_gender|  F|  M|\n+-----------------+---+---+\n|        scientist|  3| 28|\n|          student| 60|136|\n|           writer| 19| 26|\n|         salesman|  3|  9|\n|          retired|  1| 13|\n|    administrator| 36| 43|\n|       programmer|  6| 60|\n|           doctor|  0|  7|\n|        homemaker|  6|  1|\n|        executive|  3| 29|\n|         engineer|  2| 65|\n|    entertainment|  2| 16|\n|        marketing| 10| 16|\n|       technician|  1| 26|\n|           artist| 13| 15|\n|        librarian| 29| 22|\n|           lawyer|  2| 10|\n|         educator| 26| 69|\n|       healthcare| 11|  5|\n|             none|  4|  5|\n+-----------------+---+---+\nonly showing top 20 rows\n\n"
    }
   ],
   "source": [
    "# Computes a pair-wise frequency table of the given columns\n",
    "user_df.crosstab(\"occupation\",\"gender\").show()"
   ]
  },
  {
   "cell_type": "code",
   "execution_count": 127,
   "metadata": {
    "tags": []
   },
   "outputs": [
    {
     "output_type": "execute_result",
     "data": {
      "text/plain": "[Row(occupation='librarian', F=40.0, M=40.0),\n Row(occupation='retired', F=70.0, M=62.53846153846154),\n Row(occupation='lawyer', F=39.5, M=36.2),\n Row(occupation='none', F=36.5, M=18.6),\n Row(occupation='writer', F=37.63157894736842, M=35.34615384615385),\n Row(occupation='programmer', F=32.166666666666664, M=33.21666666666667),\n Row(occupation='marketing', F=37.2, M=37.875),\n Row(occupation='other', F=35.47222222222222, M=34.028985507246375),\n Row(occupation='executive', F=44.0, M=38.172413793103445),\n Row(occupation='scientist', F=28.333333333333332, M=36.32142857142857),\n Row(occupation='student', F=20.75, M=22.669117647058822),\n Row(occupation='salesman', F=27.0, M=38.55555555555556),\n Row(occupation='artist', F=30.307692307692307, M=32.333333333333336),\n Row(occupation='technician', F=38.0, M=32.96153846153846),\n Row(occupation='administrator', F=40.638888888888886, M=37.16279069767442),\n Row(occupation='engineer', F=29.5, M=36.6),\n Row(occupation='healthcare', F=39.81818181818182, M=45.4),\n Row(occupation='educator', F=39.11538461538461, M=43.10144927536232),\n Row(occupation='entertainment', F=31.0, M=29.0),\n Row(occupation='homemaker', F=34.166666666666664, M=23.0),\n Row(occupation='doctor', F=None, M=43.57142857142857)]"
     },
     "metadata": {},
     "execution_count": 127
    }
   ],
   "source": [
    "# 'gender', 'occupation', 'zipcode'\n",
    "# 数据透视表\n",
    "user_df.groupBy('occupation').pivot('gender').mean('age').collect()"
   ]
  },
  {
   "cell_type": "code",
   "execution_count": 60,
   "metadata": {},
   "outputs": [
    {
     "output_type": "execute_result",
     "data": {
      "text/plain": "   userid  age gender  occupation zipcode\n0       1   24      M  technician   85711\n1       2   53      F       other   94043\n2       3   23      M      writer   32067\n3       4   24      M  technician   43537\n4       5   33      F       other   15213",
      "text/html": "<div>\n<style scoped>\n    .dataframe tbody tr th:only-of-type {\n        vertical-align: middle;\n    }\n\n    .dataframe tbody tr th {\n        vertical-align: top;\n    }\n\n    .dataframe thead th {\n        text-align: right;\n    }\n</style>\n<table border=\"1\" class=\"dataframe\">\n  <thead>\n    <tr style=\"text-align: right;\">\n      <th></th>\n      <th>userid</th>\n      <th>age</th>\n      <th>gender</th>\n      <th>occupation</th>\n      <th>zipcode</th>\n    </tr>\n  </thead>\n  <tbody>\n    <tr>\n      <th>0</th>\n      <td>1</td>\n      <td>24</td>\n      <td>M</td>\n      <td>technician</td>\n      <td>85711</td>\n    </tr>\n    <tr>\n      <th>1</th>\n      <td>2</td>\n      <td>53</td>\n      <td>F</td>\n      <td>other</td>\n      <td>94043</td>\n    </tr>\n    <tr>\n      <th>2</th>\n      <td>3</td>\n      <td>23</td>\n      <td>M</td>\n      <td>writer</td>\n      <td>32067</td>\n    </tr>\n    <tr>\n      <th>3</th>\n      <td>4</td>\n      <td>24</td>\n      <td>M</td>\n      <td>technician</td>\n      <td>43537</td>\n    </tr>\n    <tr>\n      <th>4</th>\n      <td>5</td>\n      <td>33</td>\n      <td>F</td>\n      <td>other</td>\n      <td>15213</td>\n    </tr>\n  </tbody>\n</table>\n</div>"
     },
     "metadata": {},
     "execution_count": 60
    }
   ],
   "source": [
    "pdf = user_df.toPandas()\n",
    "pdf.head(5)"
   ]
  },
  {
   "cell_type": "code",
   "execution_count": 130,
   "metadata": {},
   "outputs": [
    {
     "output_type": "execute_result",
     "data": {
      "text/plain": "gender                 F          M\noccupation                         \nadministrator  40.638889  37.162791\nartist         30.307692  32.333333\ndoctor               NaN  43.571429\neducator       39.115385  43.101449\nengineer       29.500000  36.600000\nentertainment  31.000000  29.000000\nexecutive      44.000000  38.172414\nhealthcare     39.818182  45.400000\nhomemaker      34.166667  23.000000\nlawyer         39.500000  36.200000\nlibrarian      40.000000  40.000000\nmarketing      37.200000  37.875000\nnone           36.500000  18.600000\nother          35.472222  34.028986\nprogrammer     32.166667  33.216667\nretired        70.000000  62.538462\nsalesman       27.000000  38.555556\nscientist      28.333333  36.321429\nstudent        20.750000  22.669118\ntechnician     38.000000  32.961538\nwriter         37.631579  35.346154",
      "text/html": "<div>\n<style scoped>\n    .dataframe tbody tr th:only-of-type {\n        vertical-align: middle;\n    }\n\n    .dataframe tbody tr th {\n        vertical-align: top;\n    }\n\n    .dataframe thead th {\n        text-align: right;\n    }\n</style>\n<table border=\"1\" class=\"dataframe\">\n  <thead>\n    <tr style=\"text-align: right;\">\n      <th>gender</th>\n      <th>F</th>\n      <th>M</th>\n    </tr>\n    <tr>\n      <th>occupation</th>\n      <th></th>\n      <th></th>\n    </tr>\n  </thead>\n  <tbody>\n    <tr>\n      <th>administrator</th>\n      <td>40.638889</td>\n      <td>37.162791</td>\n    </tr>\n    <tr>\n      <th>artist</th>\n      <td>30.307692</td>\n      <td>32.333333</td>\n    </tr>\n    <tr>\n      <th>doctor</th>\n      <td>NaN</td>\n      <td>43.571429</td>\n    </tr>\n    <tr>\n      <th>educator</th>\n      <td>39.115385</td>\n      <td>43.101449</td>\n    </tr>\n    <tr>\n      <th>engineer</th>\n      <td>29.500000</td>\n      <td>36.600000</td>\n    </tr>\n    <tr>\n      <th>entertainment</th>\n      <td>31.000000</td>\n      <td>29.000000</td>\n    </tr>\n    <tr>\n      <th>executive</th>\n      <td>44.000000</td>\n      <td>38.172414</td>\n    </tr>\n    <tr>\n      <th>healthcare</th>\n      <td>39.818182</td>\n      <td>45.400000</td>\n    </tr>\n    <tr>\n      <th>homemaker</th>\n      <td>34.166667</td>\n      <td>23.000000</td>\n    </tr>\n    <tr>\n      <th>lawyer</th>\n      <td>39.500000</td>\n      <td>36.200000</td>\n    </tr>\n    <tr>\n      <th>librarian</th>\n      <td>40.000000</td>\n      <td>40.000000</td>\n    </tr>\n    <tr>\n      <th>marketing</th>\n      <td>37.200000</td>\n      <td>37.875000</td>\n    </tr>\n    <tr>\n      <th>none</th>\n      <td>36.500000</td>\n      <td>18.600000</td>\n    </tr>\n    <tr>\n      <th>other</th>\n      <td>35.472222</td>\n      <td>34.028986</td>\n    </tr>\n    <tr>\n      <th>programmer</th>\n      <td>32.166667</td>\n      <td>33.216667</td>\n    </tr>\n    <tr>\n      <th>retired</th>\n      <td>70.000000</td>\n      <td>62.538462</td>\n    </tr>\n    <tr>\n      <th>salesman</th>\n      <td>27.000000</td>\n      <td>38.555556</td>\n    </tr>\n    <tr>\n      <th>scientist</th>\n      <td>28.333333</td>\n      <td>36.321429</td>\n    </tr>\n    <tr>\n      <th>student</th>\n      <td>20.750000</td>\n      <td>22.669118</td>\n    </tr>\n    <tr>\n      <th>technician</th>\n      <td>38.000000</td>\n      <td>32.961538</td>\n    </tr>\n    <tr>\n      <th>writer</th>\n      <td>37.631579</td>\n      <td>35.346154</td>\n    </tr>\n  </tbody>\n</table>\n</div>"
     },
     "metadata": {},
     "execution_count": 130
    }
   ],
   "source": [
    "# pandas 的数据透视表\n",
    "pdf.pivot_table('age', columns='gender', index='occupation', aggfunc='mean')"
   ]
  },
  {
   "cell_type": "code",
   "execution_count": 64,
   "metadata": {
    "collapsed": false,
    "scrolled": true,
    "tags": []
   },
   "outputs": [
    {
     "output_type": "stream",
     "name": "stdout",
     "text": "+-------+-----------------+\n|summary|              age|\n+-------+-----------------+\n|  count|              943|\n|   mean|34.05196182396607|\n| stddev|12.19273973305903|\n|    min|                7|\n|    max|               73|\n+-------+-----------------+\n\n"
    }
   ],
   "source": [
    "user_df.describe('age').show()"
   ]
  },
  {
   "cell_type": "markdown",
   "metadata": {},
   "source": [
    "# 19.10\tJoin关联数据"
   ]
  },
  {
   "cell_type": "markdown",
   "metadata": {},
   "source": [
    "# ZipCode"
   ]
  },
  {
   "cell_type": "code",
   "execution_count": 68,
   "metadata": {
    "collapsed": true
   },
   "outputs": [],
   "source": [
    "#wget http://federalgovernmentzipcodes.us/free-zipcode-database-Primary.csv"
   ]
  },
  {
   "cell_type": "code",
   "execution_count": 65,
   "metadata": {
    "collapsed": false
   },
   "outputs": [
    {
     "output_type": "execute_result",
     "data": {
      "text/plain": "['\"Zipcode\",\"ZipCodeType\",\"City\",\"State\",\"LocationType\",\"Lat\",\"Long\",\"Location\",\"Decommisioned\",\"TaxReturnsFiled\",\"EstimatedPopulation\",\"TotalWages\"',\n '\"00705\",\"STANDARD\",\"AIBONITO\",\"PR\",\"PRIMARY\",18.14,-66.26,\"NA-US-PR-AIBONITO\",\"false\",,,']"
     },
     "metadata": {},
     "execution_count": 65
    }
   ],
   "source": [
    "#Path=\"file:/home/hduser/pythonwork/ipynotebook/\"\n",
    "rawDataWithHeader = sc.textFile(Path+\"data/free-zipcode-database-Primary.csv\")\n",
    "rawDataWithHeader.take(2)"
   ]
  },
  {
   "cell_type": "code",
   "execution_count": 66,
   "metadata": {
    "collapsed": false
   },
   "outputs": [
    {
     "output_type": "execute_result",
     "data": {
      "text/plain": "'\"00705\",\"STANDARD\",\"AIBONITO\",\"PR\",\"PRIMARY\",18.14,-66.26,\"NA-US-PR-AIBONITO\",\"false\",,,'"
     },
     "metadata": {},
     "execution_count": 66
    }
   ],
   "source": [
    "header = rawDataWithHeader.first()\n",
    "rawData = rawDataWithHeader.filter(lambda x:x !=header)\n",
    "rawData.first()"
   ]
  },
  {
   "cell_type": "code",
   "execution_count": 67,
   "metadata": {
    "collapsed": false
   },
   "outputs": [
    {
     "output_type": "execute_result",
     "data": {
      "text/plain": "'00705,STANDARD,AIBONITO,PR,PRIMARY,18.14,-66.26,NA-US-PR-AIBONITO,false,,,'"
     },
     "metadata": {},
     "execution_count": 67
    }
   ],
   "source": [
    "rData=rawData.map(lambda x: x.replace(\"\\\"\", \"\"))   \n",
    "rData.first()"
   ]
  },
  {
   "cell_type": "code",
   "execution_count": 68,
   "metadata": {
    "collapsed": false
   },
   "outputs": [
    {
     "output_type": "execute_result",
     "data": {
      "text/plain": "['00705',\n 'STANDARD',\n 'AIBONITO',\n 'PR',\n 'PRIMARY',\n '18.14',\n '-66.26',\n 'NA-US-PR-AIBONITO',\n 'false',\n '',\n '',\n '']"
     },
     "metadata": {},
     "execution_count": 68
    }
   ],
   "source": [
    "ZipRDD = rData.map(lambda x: x.split(\",\"))\n",
    "ZipRDD.first()"
   ]
  },
  {
   "cell_type": "markdown",
   "metadata": {},
   "source": [
    "# 19.19.2\t建立zipcode_table"
   ]
  },
  {
   "cell_type": "code",
   "execution_count": 69,
   "metadata": {
    "collapsed": false
   },
   "outputs": [
    {
     "output_type": "execute_result",
     "data": {
      "text/plain": "[Row(city='AIBONITO', state='PR', zipCodeType='STANDARD', zipcode=705),\n Row(city='ANASCO', state='PR', zipCodeType='STANDARD', zipcode=610),\n Row(city='ANGELES', state='PR', zipCodeType='PO BOX', zipcode=611),\n Row(city='ARECIBO', state='PR', zipCodeType='STANDARD', zipcode=612),\n Row(city='ADJUNTAS', state='PR', zipCodeType='STANDARD', zipcode=601)]"
     },
     "metadata": {},
     "execution_count": 69
    }
   ],
   "source": [
    "from pyspark.sql import Row\n",
    "zipcode_data =ZipRDD.map(lambda p: \n",
    "   Row(\n",
    "    zipcode=int(p[0]), \n",
    "    zipCodeType=p[1],\n",
    "    city=p[2],\n",
    "    state=p[3]\n",
    "    )\n",
    ")\n",
    "zipcode_data.take(5)"
   ]
  },
  {
   "cell_type": "code",
   "execution_count": 70,
   "metadata": {
    "collapsed": false,
    "tags": []
   },
   "outputs": [
    {
     "output_type": "stream",
     "name": "stdout",
     "text": "root\n |-- city: string (nullable = true)\n |-- state: string (nullable = true)\n |-- zipCodeType: string (nullable = true)\n |-- zipcode: long (nullable = true)\n\n"
    }
   ],
   "source": [
    "zipcode_df = spark.createDataFrame(zipcode_data)\n",
    "zipcode_df.printSchema()"
   ]
  },
  {
   "cell_type": "code",
   "execution_count": 71,
   "metadata": {
    "collapsed": false,
    "scrolled": true,
    "tags": []
   },
   "outputs": [
    {
     "output_type": "stream",
     "name": "stdout",
     "text": "+---------+-----+-----------+-------+\n|     city|state|zipCodeType|zipcode|\n+---------+-----+-----------+-------+\n| AIBONITO|   PR|   STANDARD|    705|\n|   ANASCO|   PR|   STANDARD|    610|\n|  ANGELES|   PR|     PO BOX|    611|\n|  ARECIBO|   PR|   STANDARD|    612|\n| ADJUNTAS|   PR|   STANDARD|    601|\n| CASTANER|   PR|     PO BOX|    631|\n|   AGUADA|   PR|   STANDARD|    602|\n|AGUADILLA|   PR|   STANDARD|    603|\n|AGUADILLA|   PR|     PO BOX|    604|\n|AGUADILLA|   PR|     PO BOX|    605|\n+---------+-----+-----------+-------+\nonly showing top 10 rows\n\n"
    }
   ],
   "source": [
    "zipcode_df.createOrReplaceTempView(\"zipcode_table\")\n",
    "zipcode_df.show(10)  # zipcode 对应的地址"
   ]
  },
  {
   "cell_type": "code",
   "execution_count": 72,
   "metadata": {
    "collapsed": false,
    "tags": []
   },
   "outputs": [
    {
     "output_type": "stream",
     "name": "stdout",
     "text": "+---------+-----+-----------+-------+\n|     city|state|zipCodeType|zipcode|\n+---------+-----+-----------+-------+\n| AIBONITO|   PR|   STANDARD|    705|\n|   ANASCO|   PR|   STANDARD|    610|\n|  ANGELES|   PR|     PO BOX|    611|\n|  ARECIBO|   PR|   STANDARD|    612|\n| ADJUNTAS|   PR|   STANDARD|    601|\n| CASTANER|   PR|     PO BOX|    631|\n|   AGUADA|   PR|   STANDARD|    602|\n|AGUADILLA|   PR|   STANDARD|    603|\n|AGUADILLA|   PR|     PO BOX|    604|\n|AGUADILLA|   PR|     PO BOX|    605|\n+---------+-----+-----------+-------+\nonly showing top 10 rows\n\n"
    }
   ],
   "source": [
    "spark.sql(\"\"\" \n",
    "SELECT z.* \n",
    "FROM zipcode_table z \n",
    "\"\"\").show(10)"
   ]
  },
  {
   "cell_type": "code",
   "execution_count": 74,
   "metadata": {
    "collapsed": false,
    "scrolled": true,
    "tags": []
   },
   "outputs": [
    {
     "output_type": "stream",
     "name": "stdout",
     "text": "+------+---+------+-------------+-------+----------------+-----+\n|userid|age|gender|   occupation|zipcode|            city|state|\n+------+---+------+-------------+-------+----------------+-----+\n|   405| 22|     F|   healthcare|  10019|        NEW YORK|   NY|\n|   478| 29|     M|        other|  10019|        NEW YORK|   NY|\n|   327| 22|     M|      student|  11101|LONG ISLAND CITY|   NY|\n|   656| 48|     M|     educator|  10314|   STATEN ISLAND|   NY|\n|   617| 27|     F|       writer|  11201|        BROOKLYN|   NY|\n|   760| 35|     F|        other|  14211|         BUFFALO|   NY|\n|   155| 32|     F|        other|  11217|        BROOKLYN|   NY|\n|   557| 30|     F|       writer|  11217|        BROOKLYN|   NY|\n|   806| 27|     M|    marketing|  11217|        BROOKLYN|   NY|\n|   509| 23|     M|administrator|  10011|        NEW YORK|   NY|\n+------+---+------+-------------+-------+----------------+-----+\nonly showing top 10 rows\n\n"
    }
   ],
   "source": [
    "spark.sql(\"\"\" \n",
    "SELECT u.* ,z.city,z.state \n",
    "FROM user_table u \n",
    "LEFT JOIN zipcode_table z  ON u.zipcode = z.zipcode\n",
    "WHERE z.state='NY'\n",
    "\"\"\").show(10)"
   ]
  },
  {
   "cell_type": "code",
   "execution_count": 75,
   "metadata": {
    "collapsed": false,
    "scrolled": true,
    "tags": []
   },
   "outputs": [
    {
     "output_type": "stream",
     "name": "stdout",
     "text": "+-----+-----+\n|state|count|\n+-----+-----+\n|   AZ|   14|\n|   SC|   11|\n|   LA|    6|\n|   MN|   78|\n|   NJ|   18|\n|   DC|   14|\n|   OR|   20|\n|   VA|   27|\n| null|   35|\n|   RI|    3|\n|   KY|   11|\n|   WY|    1|\n|   NH|    6|\n|   MI|   23|\n|   NV|    3|\n|   WI|   22|\n|   ID|    7|\n|   CA|  116|\n|   NE|    6|\n|   CT|   17|\n|   MT|    2|\n|   NC|   19|\n|   VT|    5|\n|   MD|   27|\n|   DE|    3|\n|   MO|   17|\n|   IL|   50|\n|   ME|    2|\n|   WA|   24|\n|   ND|    2|\n|   MS|    3|\n|   AL|    3|\n|   IN|    9|\n|   AE|    1|\n|   OH|   32|\n|   TN|   12|\n|   IA|   14|\n|   NM|    2|\n|   PA|   34|\n|   SD|    1|\n|   NY|   60|\n|   TX|   51|\n|   WV|    3|\n|   GA|   19|\n|   MA|   35|\n|   KS|    4|\n|   CO|   20|\n|   FL|   24|\n|   AK|    5|\n|   AR|    1|\n|   OK|    9|\n|   AP|    1|\n|   UT|    9|\n|   HI|    2|\n+-----+-----+\n\n"
    }
   ],
   "source": [
    "spark.sql(\"\"\" \n",
    "SELECT z.state ,count(*) count\n",
    "FROM user_table u\n",
    "LEFT JOIN zipcode_table z  ON u.zipcode = z.zipcode\n",
    "GROUP BY z.state \n",
    "\"\"\").show(60)"
   ]
  },
  {
   "cell_type": "code",
   "execution_count": 76,
   "metadata": {
    "collapsed": true,
    "tags": []
   },
   "outputs": [
    {
     "output_type": "stream",
     "name": "stdout",
     "text": "+------+---+------+-------------+-------+-------------+-----+-----------+-------+\n|userid|age|gender|   occupation|zipcode|         city|state|zipCodeType|zipcode|\n+------+---+------+-------------+-------+-------------+-----+-----------+-------+\n|   131| 59|     F|administrator|  15237|   PITTSBURGH|   PA|   STANDARD|  15237|\n|   619| 17|     M|      student|  44134|    CLEVELAND|   OH|   STANDARD|  44134|\n|   839| 38|     F|entertainment|  90814|   LONG BEACH|   CA|   STANDARD|  90814|\n|   409| 48|     M|administrator|  98225|   BELLINGHAM|   WA|   STANDARD|  98225|\n|   791| 31|     M|     educator|  20064|   WASHINGTON|   DC|     UNIQUE|  20064|\n|   271| 51|     M|     engineer|  22932|       CROZET|   VA|   STANDARD|  22932|\n|   375| 17|     M|entertainment|  37777|   LOUISVILLE|   TN|   STANDARD|  37777|\n|   272| 33|     M|    scientist|  53706|      MADISON|   WI|   STANDARD|  53706|\n|   758| 27|     M|      student|  53706|      MADISON|   WI|   STANDARD|  53706|\n|   344| 30|     F|    librarian|  94117|SAN FRANCISCO|   CA|   STANDARD|  94117|\n+------+---+------+-------------+-------+-------------+-----+-----------+-------+\nonly showing top 10 rows\n\n"
    }
   ],
   "source": [
    "#user_df.leftOuterJoin(zipcode_df)\n",
    "# 使用dataframe 的join\n",
    "joined_df = user_df.join(zipcode_df, \n",
    "                         user_df.zipcode == zipcode_df.zipcode,\n",
    "                         how='left')\n",
    "joined_df.show(10)"
   ]
  },
  {
   "cell_type": "code",
   "execution_count": 77,
   "metadata": {
    "collapsed": false,
    "tags": []
   },
   "outputs": [
    {
     "output_type": "stream",
     "name": "stdout",
     "text": "root\n |-- userid: long (nullable = true)\n |-- age: long (nullable = true)\n |-- gender: string (nullable = true)\n |-- occupation: string (nullable = true)\n |-- zipcode: string (nullable = true)\n |-- city: string (nullable = true)\n |-- state: string (nullable = true)\n |-- zipCodeType: string (nullable = true)\n |-- zipcode: long (nullable = true)\n\n"
    }
   ],
   "source": [
    "joined_df=user_df.join(zipcode_df ,  \\\n",
    "                                 user_df.zipcode == zipcode_df.zipcode, \"left_outer\")\n",
    "\n",
    "joined_df.printSchema()    "
   ]
  },
  {
   "cell_type": "code",
   "execution_count": 78,
   "metadata": {
    "collapsed": false,
    "scrolled": true,
    "tags": []
   },
   "outputs": [
    {
     "output_type": "stream",
     "name": "stdout",
     "text": "+------+---+------+-------------+-------+-------------+-----+-----------+-------+\n|userid|age|gender|   occupation|zipcode|         city|state|zipCodeType|zipcode|\n+------+---+------+-------------+-------+-------------+-----+-----------+-------+\n|   131| 59|     F|administrator|  15237|   PITTSBURGH|   PA|   STANDARD|  15237|\n|   619| 17|     M|      student|  44134|    CLEVELAND|   OH|   STANDARD|  44134|\n|   839| 38|     F|entertainment|  90814|   LONG BEACH|   CA|   STANDARD|  90814|\n|   409| 48|     M|administrator|  98225|   BELLINGHAM|   WA|   STANDARD|  98225|\n|   791| 31|     M|     educator|  20064|   WASHINGTON|   DC|     UNIQUE|  20064|\n|   271| 51|     M|     engineer|  22932|       CROZET|   VA|   STANDARD|  22932|\n|   375| 17|     M|entertainment|  37777|   LOUISVILLE|   TN|   STANDARD|  37777|\n|   272| 33|     M|    scientist|  53706|      MADISON|   WI|   STANDARD|  53706|\n|   758| 27|     M|      student|  53706|      MADISON|   WI|   STANDARD|  53706|\n|   344| 30|     F|    librarian|  94117|SAN FRANCISCO|   CA|   STANDARD|  94117|\n+------+---+------+-------------+-------+-------------+-----+-----------+-------+\nonly showing top 10 rows\n\n"
    }
   ],
   "source": [
    "joined_df.show(10)"
   ]
  },
  {
   "cell_type": "code",
   "execution_count": 79,
   "metadata": {
    "collapsed": false,
    "tags": []
   },
   "outputs": [
    {
     "output_type": "stream",
     "name": "stdout",
     "text": "+------+---+------+-------------+-------+----------------+-----+-----------+-------+\n|userid|age|gender|   occupation|zipcode|            city|state|zipCodeType|zipcode|\n+------+---+------+-------------+-------+----------------+-----+-----------+-------+\n|   405| 22|     F|   healthcare|  10019|        NEW YORK|   NY|   STANDARD|  10019|\n|   478| 29|     M|        other|  10019|        NEW YORK|   NY|   STANDARD|  10019|\n|   327| 22|     M|      student|  11101|LONG ISLAND CITY|   NY|   STANDARD|  11101|\n|   656| 48|     M|     educator|  10314|   STATEN ISLAND|   NY|   STANDARD|  10314|\n|   617| 27|     F|       writer|  11201|        BROOKLYN|   NY|   STANDARD|  11201|\n|   760| 35|     F|        other|  14211|         BUFFALO|   NY|   STANDARD|  14211|\n|   155| 32|     F|        other|  11217|        BROOKLYN|   NY|   STANDARD|  11217|\n|   557| 30|     F|       writer|  11217|        BROOKLYN|   NY|   STANDARD|  11217|\n|   806| 27|     M|    marketing|  11217|        BROOKLYN|   NY|   STANDARD|  11217|\n|   509| 23|     M|administrator|  10011|        NEW YORK|   NY|   STANDARD|  10011|\n+------+---+------+-------------+-------+----------------+-----+-----------+-------+\nonly showing top 10 rows\n\n"
    }
   ],
   "source": [
    "joined_df.filter(\"state='NY' \").show(10)"
   ]
  },
  {
   "cell_type": "code",
   "execution_count": 82,
   "metadata": {
    "collapsed": false,
    "scrolled": true,
    "tags": []
   },
   "outputs": [
    {
     "output_type": "stream",
     "name": "stdout",
     "text": "+-----+-----+\n|state|count|\n+-----+-----+\n|   CA|  116|\n|   MN|   78|\n|   NY|   60|\n|   TX|   51|\n|   IL|   50|\n| null|   35|\n|   MA|   35|\n|   PA|   34|\n|   OH|   32|\n|   VA|   27|\n+-----+-----+\nonly showing top 10 rows\n\n"
    }
   ],
   "source": [
    "GroupByState_df=joined_df.groupBy(\"state\").count()\n",
    "GroupByState_df.orderBy('count', ascending=False).show(10)"
   ]
  },
  {
   "cell_type": "markdown",
   "metadata": {
    "collapsed": true
   },
   "source": [
    "# 19.11\t以Pandas DataFrame绘图"
   ]
  },
  {
   "cell_type": "code",
   "execution_count": 83,
   "metadata": {
    "collapsed": false
   },
   "outputs": [
    {
     "output_type": "execute_result",
     "data": {
      "text/plain": "       count\nstate       \nAZ        14\nSC        11\nLA         6\nMN        78\nNJ        18\nDC        14\nOR        20\nVA        27\nNaN       35\nRI         3",
      "text/html": "<div>\n<style scoped>\n    .dataframe tbody tr th:only-of-type {\n        vertical-align: middle;\n    }\n\n    .dataframe tbody tr th {\n        vertical-align: top;\n    }\n\n    .dataframe thead th {\n        text-align: right;\n    }\n</style>\n<table border=\"1\" class=\"dataframe\">\n  <thead>\n    <tr style=\"text-align: right;\">\n      <th></th>\n      <th>count</th>\n    </tr>\n    <tr>\n      <th>state</th>\n      <th></th>\n    </tr>\n  </thead>\n  <tbody>\n    <tr>\n      <th>AZ</th>\n      <td>14</td>\n    </tr>\n    <tr>\n      <th>SC</th>\n      <td>11</td>\n    </tr>\n    <tr>\n      <th>LA</th>\n      <td>6</td>\n    </tr>\n    <tr>\n      <th>MN</th>\n      <td>78</td>\n    </tr>\n    <tr>\n      <th>NJ</th>\n      <td>18</td>\n    </tr>\n    <tr>\n      <th>DC</th>\n      <td>14</td>\n    </tr>\n    <tr>\n      <th>OR</th>\n      <td>20</td>\n    </tr>\n    <tr>\n      <th>VA</th>\n      <td>27</td>\n    </tr>\n    <tr>\n      <th>NaN</th>\n      <td>35</td>\n    </tr>\n    <tr>\n      <th>RI</th>\n      <td>3</td>\n    </tr>\n  </tbody>\n</table>\n</div>"
     },
     "metadata": {},
     "execution_count": 83
    }
   ],
   "source": [
    "import pandas as pd\n",
    "GroupByState_pandas_df =GroupByState_df.toPandas().set_index('state')\n",
    "GroupByState_pandas_df.head(10)"
   ]
  },
  {
   "cell_type": "code",
   "execution_count": 84,
   "metadata": {
    "collapsed": false
   },
   "outputs": [
    {
     "output_type": "execute_result",
     "data": {
      "text/plain": "state  AZ  SC  LA  MN  NJ  DC  OR  VA  NaN  RI  ...  MA  KS  CO  FL  AK  AR  \\\ncount  14  11   6  78  18  14  20  27   35   3  ...  35   4  20  24   5   1   \n\nstate  OK  AP  UT  HI  \ncount   9   1   9   2  \n\n[1 rows x 54 columns]",
      "text/html": "<div>\n<style scoped>\n    .dataframe tbody tr th:only-of-type {\n        vertical-align: middle;\n    }\n\n    .dataframe tbody tr th {\n        vertical-align: top;\n    }\n\n    .dataframe thead th {\n        text-align: right;\n    }\n</style>\n<table border=\"1\" class=\"dataframe\">\n  <thead>\n    <tr style=\"text-align: right;\">\n      <th>state</th>\n      <th>AZ</th>\n      <th>SC</th>\n      <th>LA</th>\n      <th>MN</th>\n      <th>NJ</th>\n      <th>DC</th>\n      <th>OR</th>\n      <th>VA</th>\n      <th>NaN</th>\n      <th>RI</th>\n      <th>...</th>\n      <th>MA</th>\n      <th>KS</th>\n      <th>CO</th>\n      <th>FL</th>\n      <th>AK</th>\n      <th>AR</th>\n      <th>OK</th>\n      <th>AP</th>\n      <th>UT</th>\n      <th>HI</th>\n    </tr>\n  </thead>\n  <tbody>\n    <tr>\n      <th>count</th>\n      <td>14</td>\n      <td>11</td>\n      <td>6</td>\n      <td>78</td>\n      <td>18</td>\n      <td>14</td>\n      <td>20</td>\n      <td>27</td>\n      <td>35</td>\n      <td>3</td>\n      <td>...</td>\n      <td>35</td>\n      <td>4</td>\n      <td>20</td>\n      <td>24</td>\n      <td>5</td>\n      <td>1</td>\n      <td>9</td>\n      <td>1</td>\n      <td>9</td>\n      <td>2</td>\n    </tr>\n  </tbody>\n</table>\n<p>1 rows × 54 columns</p>\n</div>"
     },
     "metadata": {},
     "execution_count": 84
    }
   ],
   "source": [
    "GroupByState_pandas_df.T"
   ]
  },
  {
   "cell_type": "code",
   "execution_count": 85,
   "metadata": {
    "collapsed": false
   },
   "outputs": [
    {
     "output_type": "display_data",
     "data": {
      "text/plain": "<Figure size 864x432 with 1 Axes>",
      "image/svg+xml": "<?xml version=\"1.0\" encoding=\"utf-8\" standalone=\"no\"?>\n<!DOCTYPE svg PUBLIC \"-//W3C//DTD SVG 1.1//EN\"\n  \"http://www.w3.org/Graphics/SVG/1.1/DTD/svg11.dtd\">\n<!-- Created with matplotlib (https://matplotlib.org/) -->\n<svg height=\"407.665pt\" version=\"1.1\" viewBox=\"0 0 713.905 407.665\" width=\"713.905pt\" xmlns=\"http://www.w3.org/2000/svg\" xmlns:xlink=\"http://www.w3.org/1999/xlink\">\n <defs>\n  <style type=\"text/css\">\n*{stroke-linecap:butt;stroke-linejoin:round;}\n  </style>\n </defs>\n <g id=\"figure_1\">\n  <g id=\"patch_1\">\n   <path d=\"M 0 407.665 \nL 713.905 407.665 \nL 713.905 0 \nL 0 0 \nz\n\" style=\"fill:none;\"/>\n  </g>\n  <g id=\"axes_1\">\n   <g id=\"patch_2\">\n    <path d=\"M 37.105 348.478125 \nL 706.705 348.478125 \nL 706.705 22.318125 \nL 37.105 22.318125 \nz\n\" style=\"fill:#ffffff;\"/>\n   </g>\n   <g id=\"patch_3\">\n    <path clip-path=\"url(#pf49a6a9955)\" d=\"M 40.205 348.478125 \nL 46.405 348.478125 \nL 46.405 310.98847 \nL 40.205 310.98847 \nz\n\" style=\"fill:#1f77b4;\"/>\n   </g>\n   <g id=\"patch_4\">\n    <path clip-path=\"url(#pf49a6a9955)\" d=\"M 52.605 348.478125 \nL 58.805 348.478125 \nL 58.805 319.021967 \nL 52.605 319.021967 \nz\n\" style=\"fill:#1f77b4;\"/>\n   </g>\n   <g id=\"patch_5\">\n    <path clip-path=\"url(#pf49a6a9955)\" d=\"M 65.005 348.478125 \nL 71.205 348.478125 \nL 71.205 332.41113 \nL 65.005 332.41113 \nz\n\" style=\"fill:#1f77b4;\"/>\n   </g>\n   <g id=\"patch_6\">\n    <path clip-path=\"url(#pf49a6a9955)\" d=\"M 77.405 348.478125 \nL 83.605 348.478125 \nL 83.605 139.607189 \nL 77.405 139.607189 \nz\n\" style=\"fill:#1f77b4;\"/>\n   </g>\n   <g id=\"patch_7\">\n    <path clip-path=\"url(#pf49a6a9955)\" d=\"M 89.805 348.478125 \nL 96.005 348.478125 \nL 96.005 300.27714 \nL 89.805 300.27714 \nz\n\" style=\"fill:#1f77b4;\"/>\n   </g>\n   <g id=\"patch_8\">\n    <path clip-path=\"url(#pf49a6a9955)\" d=\"M 102.205 348.478125 \nL 108.405 348.478125 \nL 108.405 310.98847 \nL 102.205 310.98847 \nz\n\" style=\"fill:#1f77b4;\"/>\n   </g>\n   <g id=\"patch_9\">\n    <path clip-path=\"url(#pf49a6a9955)\" d=\"M 114.605 348.478125 \nL 120.805 348.478125 \nL 120.805 294.921475 \nL 114.605 294.921475 \nz\n\" style=\"fill:#1f77b4;\"/>\n   </g>\n   <g id=\"patch_10\">\n    <path clip-path=\"url(#pf49a6a9955)\" d=\"M 127.005 348.478125 \nL 133.205 348.478125 \nL 133.205 276.176647 \nL 127.005 276.176647 \nz\n\" style=\"fill:#1f77b4;\"/>\n   </g>\n   <g id=\"patch_11\">\n    <path clip-path=\"url(#pf49a6a9955)\" d=\"M 139.405 348.478125 \nL 145.605 348.478125 \nL 145.605 254.753987 \nL 139.405 254.753987 \nz\n\" style=\"fill:#1f77b4;\"/>\n   </g>\n   <g id=\"patch_12\">\n    <path clip-path=\"url(#pf49a6a9955)\" d=\"M 151.805 348.478125 \nL 158.005 348.478125 \nL 158.005 340.444627 \nL 151.805 340.444627 \nz\n\" style=\"fill:#1f77b4;\"/>\n   </g>\n   <g id=\"patch_13\">\n    <path clip-path=\"url(#pf49a6a9955)\" d=\"M 164.205 348.478125 \nL 170.405 348.478125 \nL 170.405 319.021967 \nL 164.205 319.021967 \nz\n\" style=\"fill:#1f77b4;\"/>\n   </g>\n   <g id=\"patch_14\">\n    <path clip-path=\"url(#pf49a6a9955)\" d=\"M 176.605 348.478125 \nL 182.805 348.478125 \nL 182.805 345.800292 \nL 176.605 345.800292 \nz\n\" style=\"fill:#1f77b4;\"/>\n   </g>\n   <g id=\"patch_15\">\n    <path clip-path=\"url(#pf49a6a9955)\" d=\"M 189.005 348.478125 \nL 195.205 348.478125 \nL 195.205 332.41113 \nL 189.005 332.41113 \nz\n\" style=\"fill:#1f77b4;\"/>\n   </g>\n   <g id=\"patch_16\">\n    <path clip-path=\"url(#pf49a6a9955)\" d=\"M 201.405 348.478125 \nL 207.605 348.478125 \nL 207.605 286.887977 \nL 201.405 286.887977 \nz\n\" style=\"fill:#1f77b4;\"/>\n   </g>\n   <g id=\"patch_17\">\n    <path clip-path=\"url(#pf49a6a9955)\" d=\"M 213.805 348.478125 \nL 220.005 348.478125 \nL 220.005 340.444627 \nL 213.805 340.444627 \nz\n\" style=\"fill:#1f77b4;\"/>\n   </g>\n   <g id=\"patch_18\">\n    <path clip-path=\"url(#pf49a6a9955)\" d=\"M 226.205 348.478125 \nL 232.405 348.478125 \nL 232.405 289.56581 \nL 226.205 289.56581 \nz\n\" style=\"fill:#1f77b4;\"/>\n   </g>\n   <g id=\"patch_19\">\n    <path clip-path=\"url(#pf49a6a9955)\" d=\"M 238.605 348.478125 \nL 244.805 348.478125 \nL 244.805 329.733297 \nL 238.605 329.733297 \nz\n\" style=\"fill:#1f77b4;\"/>\n   </g>\n   <g id=\"patch_20\">\n    <path clip-path=\"url(#pf49a6a9955)\" d=\"M 251.005 348.478125 \nL 257.205 348.478125 \nL 257.205 37.849554 \nL 251.005 37.849554 \nz\n\" style=\"fill:#1f77b4;\"/>\n   </g>\n   <g id=\"patch_21\">\n    <path clip-path=\"url(#pf49a6a9955)\" d=\"M 263.405 348.478125 \nL 269.605 348.478125 \nL 269.605 332.41113 \nL 263.405 332.41113 \nz\n\" style=\"fill:#1f77b4;\"/>\n   </g>\n   <g id=\"patch_22\">\n    <path clip-path=\"url(#pf49a6a9955)\" d=\"M 275.805 348.478125 \nL 282.005 348.478125 \nL 282.005 302.954972 \nL 275.805 302.954972 \nz\n\" style=\"fill:#1f77b4;\"/>\n   </g>\n   <g id=\"patch_23\">\n    <path clip-path=\"url(#pf49a6a9955)\" d=\"M 288.205 348.478125 \nL 294.405 348.478125 \nL 294.405 343.12246 \nL 288.205 343.12246 \nz\n\" style=\"fill:#1f77b4;\"/>\n   </g>\n   <g id=\"patch_24\">\n    <path clip-path=\"url(#pf49a6a9955)\" d=\"M 300.605 348.478125 \nL 306.805 348.478125 \nL 306.805 297.599307 \nL 300.605 297.599307 \nz\n\" style=\"fill:#1f77b4;\"/>\n   </g>\n   <g id=\"patch_25\">\n    <path clip-path=\"url(#pf49a6a9955)\" d=\"M 313.005 348.478125 \nL 319.205 348.478125 \nL 319.205 335.088962 \nL 313.005 335.088962 \nz\n\" style=\"fill:#1f77b4;\"/>\n   </g>\n   <g id=\"patch_26\">\n    <path clip-path=\"url(#pf49a6a9955)\" d=\"M 325.405 348.478125 \nL 331.605 348.478125 \nL 331.605 276.176647 \nL 325.405 276.176647 \nz\n\" style=\"fill:#1f77b4;\"/>\n   </g>\n   <g id=\"patch_27\">\n    <path clip-path=\"url(#pf49a6a9955)\" d=\"M 337.805 348.478125 \nL 344.005 348.478125 \nL 344.005 340.444627 \nL 337.805 340.444627 \nz\n\" style=\"fill:#1f77b4;\"/>\n   </g>\n   <g id=\"patch_28\">\n    <path clip-path=\"url(#pf49a6a9955)\" d=\"M 350.205 348.478125 \nL 356.405 348.478125 \nL 356.405 302.954972 \nL 350.205 302.954972 \nz\n\" style=\"fill:#1f77b4;\"/>\n   </g>\n   <g id=\"patch_29\">\n    <path clip-path=\"url(#pf49a6a9955)\" d=\"M 362.605 348.478125 \nL 368.805 348.478125 \nL 368.805 214.586499 \nL 362.605 214.586499 \nz\n\" style=\"fill:#1f77b4;\"/>\n   </g>\n   <g id=\"patch_30\">\n    <path clip-path=\"url(#pf49a6a9955)\" d=\"M 375.005 348.478125 \nL 381.205 348.478125 \nL 381.205 343.12246 \nL 375.005 343.12246 \nz\n\" style=\"fill:#1f77b4;\"/>\n   </g>\n   <g id=\"patch_31\">\n    <path clip-path=\"url(#pf49a6a9955)\" d=\"M 387.405 348.478125 \nL 393.605 348.478125 \nL 393.605 284.210145 \nL 387.405 284.210145 \nz\n\" style=\"fill:#1f77b4;\"/>\n   </g>\n   <g id=\"patch_32\">\n    <path clip-path=\"url(#pf49a6a9955)\" d=\"M 399.805 348.478125 \nL 406.005 348.478125 \nL 406.005 343.12246 \nL 399.805 343.12246 \nz\n\" style=\"fill:#1f77b4;\"/>\n   </g>\n   <g id=\"patch_33\">\n    <path clip-path=\"url(#pf49a6a9955)\" d=\"M 412.205 348.478125 \nL 418.405 348.478125 \nL 418.405 340.444627 \nL 412.205 340.444627 \nz\n\" style=\"fill:#1f77b4;\"/>\n   </g>\n   <g id=\"patch_34\">\n    <path clip-path=\"url(#pf49a6a9955)\" d=\"M 424.605 348.478125 \nL 430.805 348.478125 \nL 430.805 340.444627 \nL 424.605 340.444627 \nz\n\" style=\"fill:#1f77b4;\"/>\n   </g>\n   <g id=\"patch_35\">\n    <path clip-path=\"url(#pf49a6a9955)\" d=\"M 437.005 348.478125 \nL 443.205 348.478125 \nL 443.205 324.377632 \nL 437.005 324.377632 \nz\n\" style=\"fill:#1f77b4;\"/>\n   </g>\n   <g id=\"patch_36\">\n    <path clip-path=\"url(#pf49a6a9955)\" d=\"M 449.405 348.478125 \nL 455.605 348.478125 \nL 455.605 345.800292 \nL 449.405 345.800292 \nz\n\" style=\"fill:#1f77b4;\"/>\n   </g>\n   <g id=\"patch_37\">\n    <path clip-path=\"url(#pf49a6a9955)\" d=\"M 461.805 348.478125 \nL 468.005 348.478125 \nL 468.005 262.787485 \nL 461.805 262.787485 \nz\n\" style=\"fill:#1f77b4;\"/>\n   </g>\n   <g id=\"patch_38\">\n    <path clip-path=\"url(#pf49a6a9955)\" d=\"M 474.205 348.478125 \nL 480.405 348.478125 \nL 480.405 316.344135 \nL 474.205 316.344135 \nz\n\" style=\"fill:#1f77b4;\"/>\n   </g>\n   <g id=\"patch_39\">\n    <path clip-path=\"url(#pf49a6a9955)\" d=\"M 486.605 348.478125 \nL 492.805 348.478125 \nL 492.805 310.98847 \nL 486.605 310.98847 \nz\n\" style=\"fill:#1f77b4;\"/>\n   </g>\n   <g id=\"patch_40\">\n    <path clip-path=\"url(#pf49a6a9955)\" d=\"M 499.005 348.478125 \nL 505.205 348.478125 \nL 505.205 343.12246 \nL 499.005 343.12246 \nz\n\" style=\"fill:#1f77b4;\"/>\n   </g>\n   <g id=\"patch_41\">\n    <path clip-path=\"url(#pf49a6a9955)\" d=\"M 511.405 348.478125 \nL 517.605 348.478125 \nL 517.605 257.43182 \nL 511.405 257.43182 \nz\n\" style=\"fill:#1f77b4;\"/>\n   </g>\n   <g id=\"patch_42\">\n    <path clip-path=\"url(#pf49a6a9955)\" d=\"M 523.805 348.478125 \nL 530.005 348.478125 \nL 530.005 345.800292 \nL 523.805 345.800292 \nz\n\" style=\"fill:#1f77b4;\"/>\n   </g>\n   <g id=\"patch_43\">\n    <path clip-path=\"url(#pf49a6a9955)\" d=\"M 536.205 348.478125 \nL 542.405 348.478125 \nL 542.405 187.808174 \nL 536.205 187.808174 \nz\n\" style=\"fill:#1f77b4;\"/>\n   </g>\n   <g id=\"patch_44\">\n    <path clip-path=\"url(#pf49a6a9955)\" d=\"M 548.605 348.478125 \nL 554.805 348.478125 \nL 554.805 211.908667 \nL 548.605 211.908667 \nz\n\" style=\"fill:#1f77b4;\"/>\n   </g>\n   <g id=\"patch_45\">\n    <path clip-path=\"url(#pf49a6a9955)\" d=\"M 561.005 348.478125 \nL 567.205 348.478125 \nL 567.205 340.444627 \nL 561.005 340.444627 \nz\n\" style=\"fill:#1f77b4;\"/>\n   </g>\n   <g id=\"patch_46\">\n    <path clip-path=\"url(#pf49a6a9955)\" d=\"M 573.405 348.478125 \nL 579.605 348.478125 \nL 579.605 297.599307 \nL 573.405 297.599307 \nz\n\" style=\"fill:#1f77b4;\"/>\n   </g>\n   <g id=\"patch_47\">\n    <path clip-path=\"url(#pf49a6a9955)\" d=\"M 585.805 348.478125 \nL 592.005 348.478125 \nL 592.005 254.753987 \nL 585.805 254.753987 \nz\n\" style=\"fill:#1f77b4;\"/>\n   </g>\n   <g id=\"patch_48\">\n    <path clip-path=\"url(#pf49a6a9955)\" d=\"M 598.205 348.478125 \nL 604.405 348.478125 \nL 604.405 337.766795 \nL 598.205 337.766795 \nz\n\" style=\"fill:#1f77b4;\"/>\n   </g>\n   <g id=\"patch_49\">\n    <path clip-path=\"url(#pf49a6a9955)\" d=\"M 610.605 348.478125 \nL 616.805 348.478125 \nL 616.805 294.921475 \nL 610.605 294.921475 \nz\n\" style=\"fill:#1f77b4;\"/>\n   </g>\n   <g id=\"patch_50\">\n    <path clip-path=\"url(#pf49a6a9955)\" d=\"M 623.005 348.478125 \nL 629.205 348.478125 \nL 629.205 284.210145 \nL 623.005 284.210145 \nz\n\" style=\"fill:#1f77b4;\"/>\n   </g>\n   <g id=\"patch_51\">\n    <path clip-path=\"url(#pf49a6a9955)\" d=\"M 635.405 348.478125 \nL 641.605 348.478125 \nL 641.605 335.088962 \nL 635.405 335.088962 \nz\n\" style=\"fill:#1f77b4;\"/>\n   </g>\n   <g id=\"patch_52\">\n    <path clip-path=\"url(#pf49a6a9955)\" d=\"M 647.805 348.478125 \nL 654.005 348.478125 \nL 654.005 345.800292 \nL 647.805 345.800292 \nz\n\" style=\"fill:#1f77b4;\"/>\n   </g>\n   <g id=\"patch_53\">\n    <path clip-path=\"url(#pf49a6a9955)\" d=\"M 660.205 348.478125 \nL 666.405 348.478125 \nL 666.405 324.377632 \nL 660.205 324.377632 \nz\n\" style=\"fill:#1f77b4;\"/>\n   </g>\n   <g id=\"patch_54\">\n    <path clip-path=\"url(#pf49a6a9955)\" d=\"M 672.605 348.478125 \nL 678.805 348.478125 \nL 678.805 345.800292 \nL 672.605 345.800292 \nz\n\" style=\"fill:#1f77b4;\"/>\n   </g>\n   <g id=\"patch_55\">\n    <path clip-path=\"url(#pf49a6a9955)\" d=\"M 685.005 348.478125 \nL 691.205 348.478125 \nL 691.205 324.377632 \nL 685.005 324.377632 \nz\n\" style=\"fill:#1f77b4;\"/>\n   </g>\n   <g id=\"patch_56\">\n    <path clip-path=\"url(#pf49a6a9955)\" d=\"M 697.405 348.478125 \nL 703.605 348.478125 \nL 703.605 343.12246 \nL 697.405 343.12246 \nz\n\" style=\"fill:#1f77b4;\"/>\n   </g>\n   <g id=\"matplotlib.axis_1\">\n    <g id=\"xtick_1\">\n     <g id=\"line2d_1\">\n      <defs>\n       <path d=\"M 0 0 \nL 0 3.5 \n\" id=\"mb04d7a5266\" style=\"stroke:#000000;stroke-width:0.8;\"/>\n      </defs>\n      <g>\n       <use style=\"stroke:#000000;stroke-width:0.8;\" x=\"43.305\" xlink:href=\"#mb04d7a5266\" y=\"348.478125\"/>\n      </g>\n     </g>\n     <g id=\"text_1\">\n      <!-- AZ -->\n      <defs>\n       <path d=\"M 34.1875 63.1875 \nL 20.796875 26.90625 \nL 47.609375 26.90625 \nz\nM 28.609375 72.90625 \nL 39.796875 72.90625 \nL 67.578125 0 \nL 57.328125 0 \nL 50.6875 18.703125 \nL 17.828125 18.703125 \nL 11.1875 0 \nL 0.78125 0 \nz\n\" id=\"DejaVuSans-65\"/>\n       <path d=\"M 5.609375 72.90625 \nL 62.890625 72.90625 \nL 62.890625 65.375 \nL 16.796875 8.296875 \nL 64.015625 8.296875 \nL 64.015625 0 \nL 4.5 0 \nL 4.5 7.515625 \nL 50.59375 64.59375 \nL 5.609375 64.59375 \nz\n\" id=\"DejaVuSans-90\"/>\n      </defs>\n      <g transform=\"translate(46.61625 371.906875)rotate(-90)scale(0.12 -0.12)\">\n       <use xlink:href=\"#DejaVuSans-65\"/>\n       <use x=\"68.408203\" xlink:href=\"#DejaVuSans-90\"/>\n      </g>\n     </g>\n    </g>\n    <g id=\"xtick_2\">\n     <g id=\"line2d_2\">\n      <g>\n       <use style=\"stroke:#000000;stroke-width:0.8;\" x=\"55.705\" xlink:href=\"#mb04d7a5266\" y=\"348.478125\"/>\n      </g>\n     </g>\n     <g id=\"text_2\">\n      <!-- SC -->\n      <defs>\n       <path d=\"M 53.515625 70.515625 \nL 53.515625 60.890625 \nQ 47.90625 63.578125 42.921875 64.890625 \nQ 37.9375 66.21875 33.296875 66.21875 \nQ 25.25 66.21875 20.875 63.09375 \nQ 16.5 59.96875 16.5 54.203125 \nQ 16.5 49.359375 19.40625 46.890625 \nQ 22.3125 44.4375 30.421875 42.921875 \nL 36.375 41.703125 \nQ 47.40625 39.59375 52.65625 34.296875 \nQ 57.90625 29 57.90625 20.125 \nQ 57.90625 9.515625 50.796875 4.046875 \nQ 43.703125 -1.421875 29.984375 -1.421875 \nQ 24.8125 -1.421875 18.96875 -0.25 \nQ 13.140625 0.921875 6.890625 3.21875 \nL 6.890625 13.375 \nQ 12.890625 10.015625 18.65625 8.296875 \nQ 24.421875 6.59375 29.984375 6.59375 \nQ 38.421875 6.59375 43.015625 9.90625 \nQ 47.609375 13.234375 47.609375 19.390625 \nQ 47.609375 24.75 44.3125 27.78125 \nQ 41.015625 30.8125 33.5 32.328125 \nL 27.484375 33.5 \nQ 16.453125 35.6875 11.515625 40.375 \nQ 6.59375 45.0625 6.59375 53.421875 \nQ 6.59375 63.09375 13.40625 68.65625 \nQ 20.21875 74.21875 32.171875 74.21875 \nQ 37.3125 74.21875 42.625 73.28125 \nQ 47.953125 72.359375 53.515625 70.515625 \nz\n\" id=\"DejaVuSans-83\"/>\n       <path d=\"M 64.40625 67.28125 \nL 64.40625 56.890625 \nQ 59.421875 61.53125 53.78125 63.8125 \nQ 48.140625 66.109375 41.796875 66.109375 \nQ 29.296875 66.109375 22.65625 58.46875 \nQ 16.015625 50.828125 16.015625 36.375 \nQ 16.015625 21.96875 22.65625 14.328125 \nQ 29.296875 6.6875 41.796875 6.6875 \nQ 48.140625 6.6875 53.78125 8.984375 \nQ 59.421875 11.28125 64.40625 15.921875 \nL 64.40625 5.609375 \nQ 59.234375 2.09375 53.4375 0.328125 \nQ 47.65625 -1.421875 41.21875 -1.421875 \nQ 24.65625 -1.421875 15.125 8.703125 \nQ 5.609375 18.84375 5.609375 36.375 \nQ 5.609375 53.953125 15.125 64.078125 \nQ 24.65625 74.21875 41.21875 74.21875 \nQ 47.75 74.21875 53.53125 72.484375 \nQ 59.328125 70.75 64.40625 67.28125 \nz\n\" id=\"DejaVuSans-67\"/>\n      </defs>\n      <g transform=\"translate(59.01625 371.475625)rotate(-90)scale(0.12 -0.12)\">\n       <use xlink:href=\"#DejaVuSans-83\"/>\n       <use x=\"63.476562\" xlink:href=\"#DejaVuSans-67\"/>\n      </g>\n     </g>\n    </g>\n    <g id=\"xtick_3\">\n     <g id=\"line2d_3\">\n      <g>\n       <use style=\"stroke:#000000;stroke-width:0.8;\" x=\"68.105\" xlink:href=\"#mb04d7a5266\" y=\"348.478125\"/>\n      </g>\n     </g>\n     <g id=\"text_3\">\n      <!-- LA -->\n      <defs>\n       <path d=\"M 9.8125 72.90625 \nL 19.671875 72.90625 \nL 19.671875 8.296875 \nL 55.171875 8.296875 \nL 55.171875 0 \nL 9.8125 0 \nz\n\" id=\"DejaVuSans-76\"/>\n      </defs>\n      <g transform=\"translate(71.41625 370.643125)rotate(-90)scale(0.12 -0.12)\">\n       <use xlink:href=\"#DejaVuSans-76\"/>\n       <use x=\"57.962891\" xlink:href=\"#DejaVuSans-65\"/>\n      </g>\n     </g>\n    </g>\n    <g id=\"xtick_4\">\n     <g id=\"line2d_4\">\n      <g>\n       <use style=\"stroke:#000000;stroke-width:0.8;\" x=\"80.505\" xlink:href=\"#mb04d7a5266\" y=\"348.478125\"/>\n      </g>\n     </g>\n     <g id=\"text_4\">\n      <!-- MN -->\n      <defs>\n       <path d=\"M 9.8125 72.90625 \nL 24.515625 72.90625 \nL 43.109375 23.296875 \nL 61.8125 72.90625 \nL 76.515625 72.90625 \nL 76.515625 0 \nL 66.890625 0 \nL 66.890625 64.015625 \nL 48.09375 14.015625 \nL 38.1875 14.015625 \nL 19.390625 64.015625 \nL 19.390625 0 \nL 9.8125 0 \nz\n\" id=\"DejaVuSans-77\"/>\n       <path d=\"M 9.8125 72.90625 \nL 23.09375 72.90625 \nL 55.421875 11.921875 \nL 55.421875 72.90625 \nL 64.984375 72.90625 \nL 64.984375 0 \nL 51.703125 0 \nL 19.390625 60.984375 \nL 19.390625 0 \nL 9.8125 0 \nz\n\" id=\"DejaVuSans-78\"/>\n      </defs>\n      <g transform=\"translate(83.81625 374.809375)rotate(-90)scale(0.12 -0.12)\">\n       <use xlink:href=\"#DejaVuSans-77\"/>\n       <use x=\"86.279297\" xlink:href=\"#DejaVuSans-78\"/>\n      </g>\n     </g>\n    </g>\n    <g id=\"xtick_5\">\n     <g id=\"line2d_5\">\n      <g>\n       <use style=\"stroke:#000000;stroke-width:0.8;\" x=\"92.905\" xlink:href=\"#mb04d7a5266\" y=\"348.478125\"/>\n      </g>\n     </g>\n     <g id=\"text_5\">\n      <!-- NJ -->\n      <defs>\n       <path d=\"M 9.8125 72.90625 \nL 19.671875 72.90625 \nL 19.671875 5.078125 \nQ 19.671875 -8.109375 14.671875 -14.0625 \nQ 9.671875 -20.015625 -1.421875 -20.015625 \nL -5.171875 -20.015625 \nL -5.171875 -11.71875 \nL -2.09375 -11.71875 \nQ 4.4375 -11.71875 7.125 -8.046875 \nQ 9.8125 -4.390625 9.8125 5.078125 \nz\n\" id=\"DejaVuSans-74\"/>\n      </defs>\n      <g transform=\"translate(96.21625 367.995625)rotate(-90)scale(0.12 -0.12)\">\n       <use xlink:href=\"#DejaVuSans-78\"/>\n       <use x=\"74.804688\" xlink:href=\"#DejaVuSans-74\"/>\n      </g>\n     </g>\n    </g>\n    <g id=\"xtick_6\">\n     <g id=\"line2d_6\">\n      <g>\n       <use style=\"stroke:#000000;stroke-width:0.8;\" x=\"105.305\" xlink:href=\"#mb04d7a5266\" y=\"348.478125\"/>\n      </g>\n     </g>\n     <g id=\"text_6\">\n      <!-- DC -->\n      <defs>\n       <path d=\"M 19.671875 64.796875 \nL 19.671875 8.109375 \nL 31.59375 8.109375 \nQ 46.6875 8.109375 53.6875 14.9375 \nQ 60.6875 21.78125 60.6875 36.53125 \nQ 60.6875 51.171875 53.6875 57.984375 \nQ 46.6875 64.796875 31.59375 64.796875 \nz\nM 9.8125 72.90625 \nL 30.078125 72.90625 \nQ 51.265625 72.90625 61.171875 64.09375 \nQ 71.09375 55.28125 71.09375 36.53125 \nQ 71.09375 17.671875 61.125 8.828125 \nQ 51.171875 0 30.078125 0 \nL 9.8125 0 \nz\n\" id=\"DejaVuSans-68\"/>\n      </defs>\n      <g transform=\"translate(108.61625 373.0975)rotate(-90)scale(0.12 -0.12)\">\n       <use xlink:href=\"#DejaVuSans-68\"/>\n       <use x=\"77.001953\" xlink:href=\"#DejaVuSans-67\"/>\n      </g>\n     </g>\n    </g>\n    <g id=\"xtick_7\">\n     <g id=\"line2d_7\">\n      <g>\n       <use style=\"stroke:#000000;stroke-width:0.8;\" x=\"117.705\" xlink:href=\"#mb04d7a5266\" y=\"348.478125\"/>\n      </g>\n     </g>\n     <g id=\"text_7\">\n      <!-- OR -->\n      <defs>\n       <path d=\"M 39.40625 66.21875 \nQ 28.65625 66.21875 22.328125 58.203125 \nQ 16.015625 50.203125 16.015625 36.375 \nQ 16.015625 22.609375 22.328125 14.59375 \nQ 28.65625 6.59375 39.40625 6.59375 \nQ 50.140625 6.59375 56.421875 14.59375 \nQ 62.703125 22.609375 62.703125 36.375 \nQ 62.703125 50.203125 56.421875 58.203125 \nQ 50.140625 66.21875 39.40625 66.21875 \nz\nM 39.40625 74.21875 \nQ 54.734375 74.21875 63.90625 63.9375 \nQ 73.09375 53.65625 73.09375 36.375 \nQ 73.09375 19.140625 63.90625 8.859375 \nQ 54.734375 -1.421875 39.40625 -1.421875 \nQ 24.03125 -1.421875 14.8125 8.828125 \nQ 5.609375 19.09375 5.609375 36.375 \nQ 5.609375 53.65625 14.8125 63.9375 \nQ 24.03125 74.21875 39.40625 74.21875 \nz\n\" id=\"DejaVuSans-79\"/>\n       <path d=\"M 44.390625 34.1875 \nQ 47.5625 33.109375 50.5625 29.59375 \nQ 53.5625 26.078125 56.59375 19.921875 \nL 66.609375 0 \nL 56 0 \nL 46.6875 18.703125 \nQ 43.0625 26.03125 39.671875 28.421875 \nQ 36.28125 30.8125 30.421875 30.8125 \nL 19.671875 30.8125 \nL 19.671875 0 \nL 9.8125 0 \nL 9.8125 72.90625 \nL 32.078125 72.90625 \nQ 44.578125 72.90625 50.734375 67.671875 \nQ 56.890625 62.453125 56.890625 51.90625 \nQ 56.890625 45.015625 53.6875 40.46875 \nQ 50.484375 35.9375 44.390625 34.1875 \nz\nM 19.671875 64.796875 \nL 19.671875 38.921875 \nL 32.078125 38.921875 \nQ 39.203125 38.921875 42.84375 42.21875 \nQ 46.484375 45.515625 46.484375 51.90625 \nQ 46.484375 58.296875 42.84375 61.546875 \nQ 39.203125 64.796875 32.078125 64.796875 \nz\n\" id=\"DejaVuSans-82\"/>\n      </defs>\n      <g transform=\"translate(121.01625 373.2625)rotate(-90)scale(0.12 -0.12)\">\n       <use xlink:href=\"#DejaVuSans-79\"/>\n       <use x=\"78.710938\" xlink:href=\"#DejaVuSans-82\"/>\n      </g>\n     </g>\n    </g>\n    <g id=\"xtick_8\">\n     <g id=\"line2d_8\">\n      <g>\n       <use style=\"stroke:#000000;stroke-width:0.8;\" x=\"130.105\" xlink:href=\"#mb04d7a5266\" y=\"348.478125\"/>\n      </g>\n     </g>\n     <g id=\"text_8\">\n      <!-- VA -->\n      <defs>\n       <path d=\"M 28.609375 0 \nL 0.78125 72.90625 \nL 11.078125 72.90625 \nL 34.1875 11.53125 \nL 57.328125 72.90625 \nL 67.578125 72.90625 \nL 39.796875 0 \nz\n\" id=\"DejaVuSans-86\"/>\n      </defs>\n      <g transform=\"translate(133.41625 371.130625)rotate(-90)scale(0.12 -0.12)\">\n       <use xlink:href=\"#DejaVuSans-86\"/>\n       <use x=\"62.033203\" xlink:href=\"#DejaVuSans-65\"/>\n      </g>\n     </g>\n    </g>\n    <g id=\"xtick_9\">\n     <g id=\"line2d_9\">\n      <g>\n       <use style=\"stroke:#000000;stroke-width:0.8;\" x=\"142.505\" xlink:href=\"#mb04d7a5266\" y=\"348.478125\"/>\n      </g>\n     </g>\n     <g id=\"text_9\">\n      <!-- None -->\n      <defs>\n       <path d=\"M 30.609375 48.390625 \nQ 23.390625 48.390625 19.1875 42.75 \nQ 14.984375 37.109375 14.984375 27.296875 \nQ 14.984375 17.484375 19.15625 11.84375 \nQ 23.34375 6.203125 30.609375 6.203125 \nQ 37.796875 6.203125 41.984375 11.859375 \nQ 46.1875 17.53125 46.1875 27.296875 \nQ 46.1875 37.015625 41.984375 42.703125 \nQ 37.796875 48.390625 30.609375 48.390625 \nz\nM 30.609375 56 \nQ 42.328125 56 49.015625 48.375 \nQ 55.71875 40.765625 55.71875 27.296875 \nQ 55.71875 13.875 49.015625 6.21875 \nQ 42.328125 -1.421875 30.609375 -1.421875 \nQ 18.84375 -1.421875 12.171875 6.21875 \nQ 5.515625 13.875 5.515625 27.296875 \nQ 5.515625 40.765625 12.171875 48.375 \nQ 18.84375 56 30.609375 56 \nz\n\" id=\"DejaVuSans-111\"/>\n       <path d=\"M 54.890625 33.015625 \nL 54.890625 0 \nL 45.90625 0 \nL 45.90625 32.71875 \nQ 45.90625 40.484375 42.875 44.328125 \nQ 39.84375 48.1875 33.796875 48.1875 \nQ 26.515625 48.1875 22.3125 43.546875 \nQ 18.109375 38.921875 18.109375 30.90625 \nL 18.109375 0 \nL 9.078125 0 \nL 9.078125 54.6875 \nL 18.109375 54.6875 \nL 18.109375 46.1875 \nQ 21.34375 51.125 25.703125 53.5625 \nQ 30.078125 56 35.796875 56 \nQ 45.21875 56 50.046875 50.171875 \nQ 54.890625 44.34375 54.890625 33.015625 \nz\n\" id=\"DejaVuSans-110\"/>\n       <path d=\"M 56.203125 29.59375 \nL 56.203125 25.203125 \nL 14.890625 25.203125 \nQ 15.484375 15.921875 20.484375 11.0625 \nQ 25.484375 6.203125 34.421875 6.203125 \nQ 39.59375 6.203125 44.453125 7.46875 \nQ 49.3125 8.734375 54.109375 11.28125 \nL 54.109375 2.78125 \nQ 49.265625 0.734375 44.1875 -0.34375 \nQ 39.109375 -1.421875 33.890625 -1.421875 \nQ 20.796875 -1.421875 13.15625 6.1875 \nQ 5.515625 13.8125 5.515625 26.8125 \nQ 5.515625 40.234375 12.765625 48.109375 \nQ 20.015625 56 32.328125 56 \nQ 43.359375 56 49.78125 48.890625 \nQ 56.203125 41.796875 56.203125 29.59375 \nz\nM 47.21875 32.234375 \nQ 47.125 39.59375 43.09375 43.984375 \nQ 39.0625 48.390625 32.421875 48.390625 \nQ 24.90625 48.390625 20.390625 44.140625 \nQ 15.875 39.890625 15.1875 32.171875 \nz\n\" id=\"DejaVuSans-101\"/>\n      </defs>\n      <g transform=\"translate(145.81625 386.786875)rotate(-90)scale(0.12 -0.12)\">\n       <use xlink:href=\"#DejaVuSans-78\"/>\n       <use x=\"74.804688\" xlink:href=\"#DejaVuSans-111\"/>\n       <use x=\"135.986328\" xlink:href=\"#DejaVuSans-110\"/>\n       <use x=\"199.365234\" xlink:href=\"#DejaVuSans-101\"/>\n      </g>\n     </g>\n    </g>\n    <g id=\"xtick_10\">\n     <g id=\"line2d_10\">\n      <g>\n       <use style=\"stroke:#000000;stroke-width:0.8;\" x=\"154.905\" xlink:href=\"#mb04d7a5266\" y=\"348.478125\"/>\n      </g>\n     </g>\n     <g id=\"text_10\">\n      <!-- RI -->\n      <defs>\n       <path d=\"M 9.8125 72.90625 \nL 19.671875 72.90625 \nL 19.671875 0 \nL 9.8125 0 \nz\n\" id=\"DejaVuSans-73\"/>\n      </defs>\n      <g transform=\"translate(158.21625 367.35625)rotate(-90)scale(0.12 -0.12)\">\n       <use xlink:href=\"#DejaVuSans-82\"/>\n       <use x=\"69.482422\" xlink:href=\"#DejaVuSans-73\"/>\n      </g>\n     </g>\n    </g>\n    <g id=\"xtick_11\">\n     <g id=\"line2d_11\">\n      <g>\n       <use style=\"stroke:#000000;stroke-width:0.8;\" x=\"167.305\" xlink:href=\"#mb04d7a5266\" y=\"348.478125\"/>\n      </g>\n     </g>\n     <g id=\"text_11\">\n      <!-- KY -->\n      <defs>\n       <path d=\"M 9.8125 72.90625 \nL 19.671875 72.90625 \nL 19.671875 42.09375 \nL 52.390625 72.90625 \nL 65.09375 72.90625 \nL 28.90625 38.921875 \nL 67.671875 0 \nL 54.6875 0 \nL 19.671875 35.109375 \nL 19.671875 0 \nL 9.8125 0 \nz\n\" id=\"DejaVuSans-75\"/>\n       <path d=\"M -0.203125 72.90625 \nL 10.40625 72.90625 \nL 30.609375 42.921875 \nL 50.6875 72.90625 \nL 61.28125 72.90625 \nL 35.5 34.71875 \nL 35.5 0 \nL 25.59375 0 \nL 25.59375 34.71875 \nz\n\" id=\"DejaVuSans-89\"/>\n      </defs>\n      <g transform=\"translate(170.61625 370.241875)rotate(-90)scale(0.12 -0.12)\">\n       <use xlink:href=\"#DejaVuSans-75\"/>\n       <use x=\"61.951172\" xlink:href=\"#DejaVuSans-89\"/>\n      </g>\n     </g>\n    </g>\n    <g id=\"xtick_12\">\n     <g id=\"line2d_12\">\n      <g>\n       <use style=\"stroke:#000000;stroke-width:0.8;\" x=\"179.705\" xlink:href=\"#mb04d7a5266\" y=\"348.478125\"/>\n      </g>\n     </g>\n     <g id=\"text_12\">\n      <!-- WY -->\n      <defs>\n       <path d=\"M 3.328125 72.90625 \nL 13.28125 72.90625 \nL 28.609375 11.28125 \nL 43.890625 72.90625 \nL 54.984375 72.90625 \nL 70.3125 11.28125 \nL 85.59375 72.90625 \nL 95.609375 72.90625 \nL 77.296875 0 \nL 64.890625 0 \nL 49.515625 63.28125 \nL 33.984375 0 \nL 21.578125 0 \nz\n\" id=\"DejaVuSans-87\"/>\n      </defs>\n      <g transform=\"translate(183.01625 374.6725)rotate(-90)scale(0.12 -0.12)\">\n       <use xlink:href=\"#DejaVuSans-87\"/>\n       <use x=\"98.876953\" xlink:href=\"#DejaVuSans-89\"/>\n      </g>\n     </g>\n    </g>\n    <g id=\"xtick_13\">\n     <g id=\"line2d_13\">\n      <g>\n       <use style=\"stroke:#000000;stroke-width:0.8;\" x=\"192.105\" xlink:href=\"#mb04d7a5266\" y=\"348.478125\"/>\n      </g>\n     </g>\n     <g id=\"text_13\">\n      <!-- NH -->\n      <defs>\n       <path d=\"M 9.8125 72.90625 \nL 19.671875 72.90625 \nL 19.671875 43.015625 \nL 55.515625 43.015625 \nL 55.515625 72.90625 \nL 65.375 72.90625 \nL 65.375 0 \nL 55.515625 0 \nL 55.515625 34.71875 \nL 19.671875 34.71875 \nL 19.671875 0 \nL 9.8125 0 \nz\n\" id=\"DejaVuSans-72\"/>\n      </defs>\n      <g transform=\"translate(195.41625 373.48)rotate(-90)scale(0.12 -0.12)\">\n       <use xlink:href=\"#DejaVuSans-78\"/>\n       <use x=\"74.804688\" xlink:href=\"#DejaVuSans-72\"/>\n      </g>\n     </g>\n    </g>\n    <g id=\"xtick_14\">\n     <g id=\"line2d_14\">\n      <g>\n       <use style=\"stroke:#000000;stroke-width:0.8;\" x=\"204.505\" xlink:href=\"#mb04d7a5266\" y=\"348.478125\"/>\n      </g>\n     </g>\n     <g id=\"text_14\">\n      <!-- MI -->\n      <g transform=\"translate(207.81625 369.371875)rotate(-90)scale(0.12 -0.12)\">\n       <use xlink:href=\"#DejaVuSans-77\"/>\n       <use x=\"86.279297\" xlink:href=\"#DejaVuSans-73\"/>\n      </g>\n     </g>\n    </g>\n    <g id=\"xtick_15\">\n     <g id=\"line2d_15\">\n      <g>\n       <use style=\"stroke:#000000;stroke-width:0.8;\" x=\"216.905\" xlink:href=\"#mb04d7a5266\" y=\"348.478125\"/>\n      </g>\n     </g>\n     <g id=\"text_15\">\n      <!-- NV -->\n      <g transform=\"translate(220.21625 372.664375)rotate(-90)scale(0.12 -0.12)\">\n       <use xlink:href=\"#DejaVuSans-78\"/>\n       <use x=\"74.804688\" xlink:href=\"#DejaVuSans-86\"/>\n      </g>\n     </g>\n    </g>\n    <g id=\"xtick_16\">\n     <g id=\"line2d_16\">\n      <g>\n       <use style=\"stroke:#000000;stroke-width:0.8;\" x=\"229.305\" xlink:href=\"#mb04d7a5266\" y=\"348.478125\"/>\n      </g>\n     </g>\n     <g id=\"text_16\">\n      <!-- WI -->\n      <g transform=\"translate(232.61625 370.883125)rotate(-90)scale(0.12 -0.12)\">\n       <use xlink:href=\"#DejaVuSans-87\"/>\n       <use x=\"98.876953\" xlink:href=\"#DejaVuSans-73\"/>\n      </g>\n     </g>\n    </g>\n    <g id=\"xtick_17\">\n     <g id=\"line2d_17\">\n      <g>\n       <use style=\"stroke:#000000;stroke-width:0.8;\" x=\"241.705\" xlink:href=\"#mb04d7a5266\" y=\"348.478125\"/>\n      </g>\n     </g>\n     <g id=\"text_17\">\n      <!-- ID -->\n      <g transform=\"translate(245.01625 368.258125)rotate(-90)scale(0.12 -0.12)\">\n       <use xlink:href=\"#DejaVuSans-73\"/>\n       <use x=\"29.492188\" xlink:href=\"#DejaVuSans-68\"/>\n      </g>\n     </g>\n    </g>\n    <g id=\"xtick_18\">\n     <g id=\"line2d_18\">\n      <g>\n       <use style=\"stroke:#000000;stroke-width:0.8;\" x=\"254.105\" xlink:href=\"#mb04d7a5266\" y=\"348.478125\"/>\n      </g>\n     </g>\n     <g id=\"text_18\">\n      <!-- CA -->\n      <g transform=\"translate(257.41625 372.06625)rotate(-90)scale(0.12 -0.12)\">\n       <use xlink:href=\"#DejaVuSans-67\"/>\n       <use x=\"69.824219\" xlink:href=\"#DejaVuSans-65\"/>\n      </g>\n     </g>\n    </g>\n    <g id=\"xtick_19\">\n     <g id=\"line2d_19\">\n      <g>\n       <use style=\"stroke:#000000;stroke-width:0.8;\" x=\"266.505\" xlink:href=\"#mb04d7a5266\" y=\"348.478125\"/>\n      </g>\n     </g>\n     <g id=\"text_19\">\n      <!-- NE -->\n      <defs>\n       <path d=\"M 9.8125 72.90625 \nL 55.90625 72.90625 \nL 55.90625 64.59375 \nL 19.671875 64.59375 \nL 19.671875 43.015625 \nL 54.390625 43.015625 \nL 54.390625 34.71875 \nL 19.671875 34.71875 \nL 19.671875 8.296875 \nL 56.78125 8.296875 \nL 56.78125 0 \nL 9.8125 0 \nz\n\" id=\"DejaVuSans-69\"/>\n      </defs>\n      <g transform=\"translate(269.81625 372.038125)rotate(-90)scale(0.12 -0.12)\">\n       <use xlink:href=\"#DejaVuSans-78\"/>\n       <use x=\"74.804688\" xlink:href=\"#DejaVuSans-69\"/>\n      </g>\n     </g>\n    </g>\n    <g id=\"xtick_20\">\n     <g id=\"line2d_20\">\n      <g>\n       <use style=\"stroke:#000000;stroke-width:0.8;\" x=\"278.905\" xlink:href=\"#mb04d7a5266\" y=\"348.478125\"/>\n      </g>\n     </g>\n     <g id=\"text_20\">\n      <!-- CT -->\n      <defs>\n       <path d=\"M -0.296875 72.90625 \nL 61.375 72.90625 \nL 61.375 64.59375 \nL 35.5 64.59375 \nL 35.5 0 \nL 25.59375 0 \nL 25.59375 64.59375 \nL -0.296875 64.59375 \nz\n\" id=\"DejaVuSans-84\"/>\n      </defs>\n      <g transform=\"translate(282.21625 371.186875)rotate(-90)scale(0.12 -0.12)\">\n       <use xlink:href=\"#DejaVuSans-67\"/>\n       <use x=\"69.824219\" xlink:href=\"#DejaVuSans-84\"/>\n      </g>\n     </g>\n    </g>\n    <g id=\"xtick_21\">\n     <g id=\"line2d_21\">\n      <g>\n       <use style=\"stroke:#000000;stroke-width:0.8;\" x=\"291.305\" xlink:href=\"#mb04d7a5266\" y=\"348.478125\"/>\n      </g>\n     </g>\n     <g id=\"text_21\">\n      <!-- MT -->\n      <g transform=\"translate(294.61625 373.16125)rotate(-90)scale(0.12 -0.12)\">\n       <use xlink:href=\"#DejaVuSans-77\"/>\n       <use x=\"86.279297\" xlink:href=\"#DejaVuSans-84\"/>\n      </g>\n     </g>\n    </g>\n    <g id=\"xtick_22\">\n     <g id=\"line2d_22\">\n      <g>\n       <use style=\"stroke:#000000;stroke-width:0.8;\" x=\"303.705\" xlink:href=\"#mb04d7a5266\" y=\"348.478125\"/>\n      </g>\n     </g>\n     <g id=\"text_22\">\n      <!-- NC -->\n      <g transform=\"translate(307.01625 372.835)rotate(-90)scale(0.12 -0.12)\">\n       <use xlink:href=\"#DejaVuSans-78\"/>\n       <use x=\"74.804688\" xlink:href=\"#DejaVuSans-67\"/>\n      </g>\n     </g>\n    </g>\n    <g id=\"xtick_23\">\n     <g id=\"line2d_23\">\n      <g>\n       <use style=\"stroke:#000000;stroke-width:0.8;\" x=\"316.105\" xlink:href=\"#mb04d7a5266\" y=\"348.478125\"/>\n      </g>\n     </g>\n     <g id=\"text_23\">\n      <!-- VT -->\n      <g transform=\"translate(319.41625 371.01625)rotate(-90)scale(0.12 -0.12)\">\n       <use xlink:href=\"#DejaVuSans-86\"/>\n       <use x=\"68.408203\" xlink:href=\"#DejaVuSans-84\"/>\n      </g>\n     </g>\n    </g>\n    <g id=\"xtick_24\">\n     <g id=\"line2d_24\">\n      <g>\n       <use style=\"stroke:#000000;stroke-width:0.8;\" x=\"328.505\" xlink:href=\"#mb04d7a5266\" y=\"348.478125\"/>\n      </g>\n     </g>\n     <g id=\"text_24\">\n      <!-- MD -->\n      <g transform=\"translate(331.81625 375.071875)rotate(-90)scale(0.12 -0.12)\">\n       <use xlink:href=\"#DejaVuSans-77\"/>\n       <use x=\"86.279297\" xlink:href=\"#DejaVuSans-68\"/>\n      </g>\n     </g>\n    </g>\n    <g id=\"xtick_25\">\n     <g id=\"line2d_25\">\n      <g>\n       <use style=\"stroke:#000000;stroke-width:0.8;\" x=\"340.905\" xlink:href=\"#mb04d7a5266\" y=\"348.478125\"/>\n      </g>\n     </g>\n     <g id=\"text_25\">\n      <!-- DE -->\n      <g transform=\"translate(344.21625 372.300625)rotate(-90)scale(0.12 -0.12)\">\n       <use xlink:href=\"#DejaVuSans-68\"/>\n       <use x=\"77.001953\" xlink:href=\"#DejaVuSans-69\"/>\n      </g>\n     </g>\n    </g>\n    <g id=\"xtick_26\">\n     <g id=\"line2d_26\">\n      <g>\n       <use style=\"stroke:#000000;stroke-width:0.8;\" x=\"353.305\" xlink:href=\"#mb04d7a5266\" y=\"348.478125\"/>\n      </g>\n     </g>\n     <g id=\"text_26\">\n      <!-- MO -->\n      <g transform=\"translate(356.61625 375.278125)rotate(-90)scale(0.12 -0.12)\">\n       <use xlink:href=\"#DejaVuSans-77\"/>\n       <use x=\"86.279297\" xlink:href=\"#DejaVuSans-79\"/>\n      </g>\n     </g>\n    </g>\n    <g id=\"xtick_27\">\n     <g id=\"line2d_27\">\n      <g>\n       <use style=\"stroke:#000000;stroke-width:0.8;\" x=\"365.705\" xlink:href=\"#mb04d7a5266\" y=\"348.478125\"/>\n      </g>\n     </g>\n     <g id=\"text_27\">\n      <!-- IL -->\n      <g transform=\"translate(369.01625 365.704375)rotate(-90)scale(0.12 -0.12)\">\n       <use xlink:href=\"#DejaVuSans-73\"/>\n       <use x=\"29.492188\" xlink:href=\"#DejaVuSans-76\"/>\n      </g>\n     </g>\n    </g>\n    <g id=\"xtick_28\">\n     <g id=\"line2d_28\">\n      <g>\n       <use style=\"stroke:#000000;stroke-width:0.8;\" x=\"378.105\" xlink:href=\"#mb04d7a5266\" y=\"348.478125\"/>\n      </g>\n     </g>\n     <g id=\"text_28\">\n      <!-- ME -->\n      <g transform=\"translate(381.41625 373.414375)rotate(-90)scale(0.12 -0.12)\">\n       <use xlink:href=\"#DejaVuSans-77\"/>\n       <use x=\"86.279297\" xlink:href=\"#DejaVuSans-69\"/>\n      </g>\n     </g>\n    </g>\n    <g id=\"xtick_29\">\n     <g id=\"line2d_29\">\n      <g>\n       <use style=\"stroke:#000000;stroke-width:0.8;\" x=\"390.505\" xlink:href=\"#mb04d7a5266\" y=\"348.478125\"/>\n      </g>\n     </g>\n     <g id=\"text_29\">\n      <!-- WA -->\n      <g transform=\"translate(393.81625 374.891875)rotate(-90)scale(0.12 -0.12)\">\n       <use xlink:href=\"#DejaVuSans-87\"/>\n       <use x=\"93.376953\" xlink:href=\"#DejaVuSans-65\"/>\n      </g>\n     </g>\n    </g>\n    <g id=\"xtick_30\">\n     <g id=\"line2d_30\">\n      <g>\n       <use style=\"stroke:#000000;stroke-width:0.8;\" x=\"402.905\" xlink:href=\"#mb04d7a5266\" y=\"348.478125\"/>\n      </g>\n     </g>\n     <g id=\"text_30\">\n      <!-- ND -->\n      <g transform=\"translate(406.21625 373.695625)rotate(-90)scale(0.12 -0.12)\">\n       <use xlink:href=\"#DejaVuSans-78\"/>\n       <use x=\"74.804688\" xlink:href=\"#DejaVuSans-68\"/>\n      </g>\n     </g>\n    </g>\n    <g id=\"xtick_31\">\n     <g id=\"line2d_31\">\n      <g>\n       <use style=\"stroke:#000000;stroke-width:0.8;\" x=\"415.305\" xlink:href=\"#mb04d7a5266\" y=\"348.478125\"/>\n      </g>\n     </g>\n     <g id=\"text_31\">\n      <!-- MS -->\n      <g transform=\"translate(418.61625 373.45)rotate(-90)scale(0.12 -0.12)\">\n       <use xlink:href=\"#DejaVuSans-77\"/>\n       <use x=\"86.279297\" xlink:href=\"#DejaVuSans-83\"/>\n      </g>\n     </g>\n    </g>\n    <g id=\"xtick_32\">\n     <g id=\"line2d_32\">\n      <g>\n       <use style=\"stroke:#000000;stroke-width:0.8;\" x=\"427.705\" xlink:href=\"#mb04d7a5266\" y=\"348.478125\"/>\n      </g>\n     </g>\n     <g id=\"text_32\">\n      <!-- AL -->\n      <g transform=\"translate(431.01625 370.373125)rotate(-90)scale(0.12 -0.12)\">\n       <use xlink:href=\"#DejaVuSans-65\"/>\n       <use x=\"68.408203\" xlink:href=\"#DejaVuSans-76\"/>\n      </g>\n     </g>\n    </g>\n    <g id=\"xtick_33\">\n     <g id=\"line2d_33\">\n      <g>\n       <use style=\"stroke:#000000;stroke-width:0.8;\" x=\"440.105\" xlink:href=\"#mb04d7a5266\" y=\"348.478125\"/>\n      </g>\n     </g>\n     <g id=\"text_33\">\n      <!-- IN -->\n      <g transform=\"translate(443.41625 367.995625)rotate(-90)scale(0.12 -0.12)\">\n       <use xlink:href=\"#DejaVuSans-73\"/>\n       <use x=\"29.492188\" xlink:href=\"#DejaVuSans-78\"/>\n      </g>\n     </g>\n    </g>\n    <g id=\"xtick_34\">\n     <g id=\"line2d_34\">\n      <g>\n       <use style=\"stroke:#000000;stroke-width:0.8;\" x=\"452.505\" xlink:href=\"#mb04d7a5266\" y=\"348.478125\"/>\n      </g>\n     </g>\n     <g id=\"text_34\">\n      <!-- AE -->\n      <g transform=\"translate(455.81625 371.269375)rotate(-90)scale(0.12 -0.12)\">\n       <use xlink:href=\"#DejaVuSans-65\"/>\n       <use x=\"68.408203\" xlink:href=\"#DejaVuSans-69\"/>\n      </g>\n     </g>\n    </g>\n    <g id=\"xtick_35\">\n     <g id=\"line2d_35\">\n      <g>\n       <use style=\"stroke:#000000;stroke-width:0.8;\" x=\"464.905\" xlink:href=\"#mb04d7a5266\" y=\"348.478125\"/>\n      </g>\n     </g>\n     <g id=\"text_35\">\n      <!-- OH -->\n      <g transform=\"translate(468.21625 373.94875)rotate(-90)scale(0.12 -0.12)\">\n       <use xlink:href=\"#DejaVuSans-79\"/>\n       <use x=\"78.710938\" xlink:href=\"#DejaVuSans-72\"/>\n      </g>\n     </g>\n    </g>\n    <g id=\"xtick_36\">\n     <g id=\"line2d_36\">\n      <g>\n       <use style=\"stroke:#000000;stroke-width:0.8;\" x=\"477.305\" xlink:href=\"#mb04d7a5266\" y=\"348.478125\"/>\n      </g>\n     </g>\n     <g id=\"text_36\">\n      <!-- TN -->\n      <g transform=\"translate(480.61625 371.785)rotate(-90)scale(0.12 -0.12)\">\n       <use xlink:href=\"#DejaVuSans-84\"/>\n       <use x=\"61.083984\" xlink:href=\"#DejaVuSans-78\"/>\n      </g>\n     </g>\n    </g>\n    <g id=\"xtick_37\">\n     <g id=\"line2d_37\">\n      <g>\n       <use style=\"stroke:#000000;stroke-width:0.8;\" x=\"489.705\" xlink:href=\"#mb04d7a5266\" y=\"348.478125\"/>\n      </g>\n     </g>\n     <g id=\"text_37\">\n      <!-- IA -->\n      <g transform=\"translate(493.01625 367.226875)rotate(-90)scale(0.12 -0.12)\">\n       <use xlink:href=\"#DejaVuSans-73\"/>\n       <use x=\"29.492188\" xlink:href=\"#DejaVuSans-65\"/>\n      </g>\n     </g>\n    </g>\n    <g id=\"xtick_38\">\n     <g id=\"line2d_38\">\n      <g>\n       <use style=\"stroke:#000000;stroke-width:0.8;\" x=\"502.105\" xlink:href=\"#mb04d7a5266\" y=\"348.478125\"/>\n      </g>\n     </g>\n     <g id=\"text_38\">\n      <!-- NM -->\n      <g transform=\"translate(505.41625 374.809375)rotate(-90)scale(0.12 -0.12)\">\n       <use xlink:href=\"#DejaVuSans-78\"/>\n       <use x=\"74.804688\" xlink:href=\"#DejaVuSans-77\"/>\n      </g>\n     </g>\n    </g>\n    <g id=\"xtick_39\">\n     <g id=\"line2d_39\">\n      <g>\n       <use style=\"stroke:#000000;stroke-width:0.8;\" x=\"514.505\" xlink:href=\"#mb04d7a5266\" y=\"348.478125\"/>\n      </g>\n     </g>\n     <g id=\"text_39\">\n      <!-- PA -->\n      <defs>\n       <path d=\"M 19.671875 64.796875 \nL 19.671875 37.40625 \nL 32.078125 37.40625 \nQ 38.96875 37.40625 42.71875 40.96875 \nQ 46.484375 44.53125 46.484375 51.125 \nQ 46.484375 57.671875 42.71875 61.234375 \nQ 38.96875 64.796875 32.078125 64.796875 \nz\nM 9.8125 72.90625 \nL 32.078125 72.90625 \nQ 44.34375 72.90625 50.609375 67.359375 \nQ 56.890625 61.8125 56.890625 51.125 \nQ 56.890625 40.328125 50.609375 34.8125 \nQ 44.34375 29.296875 32.078125 29.296875 \nL 19.671875 29.296875 \nL 19.671875 0 \nL 9.8125 0 \nz\n\" id=\"DejaVuSans-80\"/>\n      </defs>\n      <g transform=\"translate(517.81625 370.1575)rotate(-90)scale(0.12 -0.12)\">\n       <use xlink:href=\"#DejaVuSans-80\"/>\n       <use x=\"53.927734\" xlink:href=\"#DejaVuSans-65\"/>\n      </g>\n     </g>\n    </g>\n    <g id=\"xtick_40\">\n     <g id=\"line2d_40\">\n      <g>\n       <use style=\"stroke:#000000;stroke-width:0.8;\" x=\"526.905\" xlink:href=\"#mb04d7a5266\" y=\"348.478125\"/>\n      </g>\n     </g>\n     <g id=\"text_40\">\n      <!-- SD -->\n      <g transform=\"translate(530.21625 372.33625)rotate(-90)scale(0.12 -0.12)\">\n       <use xlink:href=\"#DejaVuSans-83\"/>\n       <use x=\"63.476562\" xlink:href=\"#DejaVuSans-68\"/>\n      </g>\n     </g>\n    </g>\n    <g id=\"xtick_41\">\n     <g id=\"line2d_41\">\n      <g>\n       <use style=\"stroke:#000000;stroke-width:0.8;\" x=\"539.305\" xlink:href=\"#mb04d7a5266\" y=\"348.478125\"/>\n      </g>\n     </g>\n     <g id=\"text_41\">\n      <!-- NY -->\n      <g transform=\"translate(542.61625 371.785)rotate(-90)scale(0.12 -0.12)\">\n       <use xlink:href=\"#DejaVuSans-78\"/>\n       <use x=\"74.804688\" xlink:href=\"#DejaVuSans-89\"/>\n      </g>\n     </g>\n    </g>\n    <g id=\"xtick_42\">\n     <g id=\"line2d_42\">\n      <g>\n       <use style=\"stroke:#000000;stroke-width:0.8;\" x=\"551.705\" xlink:href=\"#mb04d7a5266\" y=\"348.478125\"/>\n      </g>\n     </g>\n     <g id=\"text_42\">\n      <!-- TX -->\n      <defs>\n       <path d=\"M 6.296875 72.90625 \nL 16.890625 72.90625 \nL 35.015625 45.796875 \nL 53.21875 72.90625 \nL 63.8125 72.90625 \nL 40.375 37.890625 \nL 65.375 0 \nL 54.78125 0 \nL 34.28125 31 \nL 13.625 0 \nL 2.984375 0 \nL 29 38.921875 \nz\n\" id=\"DejaVuSans-88\"/>\n      </defs>\n      <g transform=\"translate(555.01625 371.0275)rotate(-90)scale(0.12 -0.12)\">\n       <use xlink:href=\"#DejaVuSans-84\"/>\n       <use x=\"61.083984\" xlink:href=\"#DejaVuSans-88\"/>\n      </g>\n     </g>\n    </g>\n    <g id=\"xtick_43\">\n     <g id=\"line2d_43\">\n      <g>\n       <use style=\"stroke:#000000;stroke-width:0.8;\" x=\"564.105\" xlink:href=\"#mb04d7a5266\" y=\"348.478125\"/>\n      </g>\n     </g>\n     <g id=\"text_43\">\n      <!-- WV -->\n      <g transform=\"translate(567.41625 375.551875)rotate(-90)scale(0.12 -0.12)\">\n       <use xlink:href=\"#DejaVuSans-87\"/>\n       <use x=\"98.876953\" xlink:href=\"#DejaVuSans-86\"/>\n      </g>\n     </g>\n    </g>\n    <g id=\"xtick_44\">\n     <g id=\"line2d_44\">\n      <g>\n       <use style=\"stroke:#000000;stroke-width:0.8;\" x=\"576.505\" xlink:href=\"#mb04d7a5266\" y=\"348.478125\"/>\n      </g>\n     </g>\n     <g id=\"text_44\">\n      <!-- GA -->\n      <defs>\n       <path d=\"M 59.515625 10.40625 \nL 59.515625 29.984375 \nL 43.40625 29.984375 \nL 43.40625 38.09375 \nL 69.28125 38.09375 \nL 69.28125 6.78125 \nQ 63.578125 2.734375 56.6875 0.65625 \nQ 49.8125 -1.421875 42 -1.421875 \nQ 24.90625 -1.421875 15.25 8.5625 \nQ 5.609375 18.5625 5.609375 36.375 \nQ 5.609375 54.25 15.25 64.234375 \nQ 24.90625 74.21875 42 74.21875 \nQ 49.125 74.21875 55.546875 72.453125 \nQ 61.96875 70.703125 67.390625 67.28125 \nL 67.390625 56.78125 \nQ 61.921875 61.421875 55.765625 63.765625 \nQ 49.609375 66.109375 42.828125 66.109375 \nQ 29.4375 66.109375 22.71875 58.640625 \nQ 16.015625 51.171875 16.015625 36.375 \nQ 16.015625 21.625 22.71875 14.15625 \nQ 29.4375 6.6875 42.828125 6.6875 \nQ 48.046875 6.6875 52.140625 7.59375 \nQ 56.25 8.5 59.515625 10.40625 \nz\n\" id=\"DejaVuSans-71\"/>\n      </defs>\n      <g transform=\"translate(579.81625 372.985)rotate(-90)scale(0.12 -0.12)\">\n       <use xlink:href=\"#DejaVuSans-71\"/>\n       <use x=\"77.490234\" xlink:href=\"#DejaVuSans-65\"/>\n      </g>\n     </g>\n    </g>\n    <g id=\"xtick_45\">\n     <g id=\"line2d_45\">\n      <g>\n       <use style=\"stroke:#000000;stroke-width:0.8;\" x=\"588.905\" xlink:href=\"#mb04d7a5266\" y=\"348.478125\"/>\n      </g>\n     </g>\n     <g id=\"text_45\">\n      <!-- MA -->\n      <g transform=\"translate(592.21625 374.040625)rotate(-90)scale(0.12 -0.12)\">\n       <use xlink:href=\"#DejaVuSans-77\"/>\n       <use x=\"86.279297\" xlink:href=\"#DejaVuSans-65\"/>\n      </g>\n     </g>\n    </g>\n    <g id=\"xtick_46\">\n     <g id=\"line2d_46\">\n      <g>\n       <use style=\"stroke:#000000;stroke-width:0.8;\" x=\"601.305\" xlink:href=\"#mb04d7a5266\" y=\"348.478125\"/>\n      </g>\n     </g>\n     <g id=\"text_46\">\n      <!-- KS -->\n      <g transform=\"translate(604.61625 370.965625)rotate(-90)scale(0.12 -0.12)\">\n       <use xlink:href=\"#DejaVuSans-75\"/>\n       <use x=\"65.576172\" xlink:href=\"#DejaVuSans-83\"/>\n      </g>\n     </g>\n    </g>\n    <g id=\"xtick_47\">\n     <g id=\"line2d_47\">\n      <g>\n       <use style=\"stroke:#000000;stroke-width:0.8;\" x=\"613.705\" xlink:href=\"#mb04d7a5266\" y=\"348.478125\"/>\n      </g>\n     </g>\n     <g id=\"text_47\">\n      <!-- CO -->\n      <g transform=\"translate(617.01625 373.30375)rotate(-90)scale(0.12 -0.12)\">\n       <use xlink:href=\"#DejaVuSans-67\"/>\n       <use x=\"69.824219\" xlink:href=\"#DejaVuSans-79\"/>\n      </g>\n     </g>\n    </g>\n    <g id=\"xtick_48\">\n     <g id=\"line2d_48\">\n      <g>\n       <use style=\"stroke:#000000;stroke-width:0.8;\" x=\"626.105\" xlink:href=\"#mb04d7a5266\" y=\"348.478125\"/>\n      </g>\n     </g>\n     <g id=\"text_48\">\n      <!-- FL -->\n      <defs>\n       <path d=\"M 9.8125 72.90625 \nL 51.703125 72.90625 \nL 51.703125 64.59375 \nL 19.671875 64.59375 \nL 19.671875 43.109375 \nL 48.578125 43.109375 \nL 48.578125 34.8125 \nL 19.671875 34.8125 \nL 19.671875 0 \nL 9.8125 0 \nz\n\" id=\"DejaVuSans-70\"/>\n      </defs>\n      <g transform=\"translate(629.41625 369.06625)rotate(-90)scale(0.12 -0.12)\">\n       <use xlink:href=\"#DejaVuSans-70\"/>\n       <use x=\"57.519531\" xlink:href=\"#DejaVuSans-76\"/>\n      </g>\n     </g>\n    </g>\n    <g id=\"xtick_49\">\n     <g id=\"line2d_49\">\n      <g>\n       <use style=\"stroke:#000000;stroke-width:0.8;\" x=\"638.505\" xlink:href=\"#mb04d7a5266\" y=\"348.478125\"/>\n      </g>\n     </g>\n     <g id=\"text_49\">\n      <!-- AK -->\n      <g transform=\"translate(641.81625 371.55625)rotate(-90)scale(0.12 -0.12)\">\n       <use xlink:href=\"#DejaVuSans-65\"/>\n       <use x=\"68.408203\" xlink:href=\"#DejaVuSans-75\"/>\n      </g>\n     </g>\n    </g>\n    <g id=\"xtick_50\">\n     <g id=\"line2d_50\">\n      <g>\n       <use style=\"stroke:#000000;stroke-width:0.8;\" x=\"650.905\" xlink:href=\"#mb04d7a5266\" y=\"348.478125\"/>\n      </g>\n     </g>\n     <g id=\"text_50\">\n      <!-- AR -->\n      <g transform=\"translate(654.21625 372.025)rotate(-90)scale(0.12 -0.12)\">\n       <use xlink:href=\"#DejaVuSans-65\"/>\n       <use x=\"68.408203\" xlink:href=\"#DejaVuSans-82\"/>\n      </g>\n     </g>\n    </g>\n    <g id=\"xtick_51\">\n     <g id=\"line2d_51\">\n      <g>\n       <use style=\"stroke:#000000;stroke-width:0.8;\" x=\"663.305\" xlink:href=\"#mb04d7a5266\" y=\"348.478125\"/>\n      </g>\n     </g>\n     <g id=\"text_51\">\n      <!-- OK -->\n      <g transform=\"translate(666.61625 372.79375)rotate(-90)scale(0.12 -0.12)\">\n       <use xlink:href=\"#DejaVuSans-79\"/>\n       <use x=\"78.710938\" xlink:href=\"#DejaVuSans-75\"/>\n      </g>\n     </g>\n    </g>\n    <g id=\"xtick_52\">\n     <g id=\"line2d_52\">\n      <g>\n       <use style=\"stroke:#000000;stroke-width:0.8;\" x=\"675.705\" xlink:href=\"#mb04d7a5266\" y=\"348.478125\"/>\n      </g>\n     </g>\n     <g id=\"text_52\">\n      <!-- AP -->\n      <g transform=\"translate(679.01625 370.9225)rotate(-90)scale(0.12 -0.12)\">\n       <use xlink:href=\"#DejaVuSans-65\"/>\n       <use x=\"68.408203\" xlink:href=\"#DejaVuSans-80\"/>\n      </g>\n     </g>\n    </g>\n    <g id=\"xtick_53\">\n     <g id=\"line2d_53\">\n      <g>\n       <use style=\"stroke:#000000;stroke-width:0.8;\" x=\"688.105\" xlink:href=\"#mb04d7a5266\" y=\"348.478125\"/>\n      </g>\n     </g>\n     <g id=\"text_53\">\n      <!-- UT -->\n      <defs>\n       <path d=\"M 8.6875 72.90625 \nL 18.609375 72.90625 \nL 18.609375 28.609375 \nQ 18.609375 16.890625 22.84375 11.734375 \nQ 27.09375 6.59375 36.625 6.59375 \nQ 46.09375 6.59375 50.34375 11.734375 \nQ 54.59375 16.890625 54.59375 28.609375 \nL 54.59375 72.90625 \nL 64.5 72.90625 \nL 64.5 27.390625 \nQ 64.5 13.140625 57.4375 5.859375 \nQ 50.390625 -1.421875 36.625 -1.421875 \nQ 22.796875 -1.421875 15.734375 5.859375 \nQ 8.6875 13.140625 8.6875 27.390625 \nz\n\" id=\"DejaVuSans-85\"/>\n      </defs>\n      <g transform=\"translate(691.41625 371.59)rotate(-90)scale(0.12 -0.12)\">\n       <use xlink:href=\"#DejaVuSans-85\"/>\n       <use x=\"73.193359\" xlink:href=\"#DejaVuSans-84\"/>\n      </g>\n     </g>\n    </g>\n    <g id=\"xtick_54\">\n     <g id=\"line2d_54\">\n      <g>\n       <use style=\"stroke:#000000;stroke-width:0.8;\" x=\"700.505\" xlink:href=\"#mb04d7a5266\" y=\"348.478125\"/>\n      </g>\n     </g>\n     <g id=\"text_54\">\n      <!-- HI -->\n      <g transform=\"translate(703.81625 368.0425)rotate(-90)scale(0.12 -0.12)\">\n       <use xlink:href=\"#DejaVuSans-72\"/>\n       <use x=\"75.195312\" xlink:href=\"#DejaVuSans-73\"/>\n      </g>\n     </g>\n    </g>\n    <g id=\"text_55\">\n     <!-- state -->\n     <defs>\n      <path d=\"M 44.28125 53.078125 \nL 44.28125 44.578125 \nQ 40.484375 46.53125 36.375 47.5 \nQ 32.28125 48.484375 27.875 48.484375 \nQ 21.1875 48.484375 17.84375 46.4375 \nQ 14.5 44.390625 14.5 40.28125 \nQ 14.5 37.15625 16.890625 35.375 \nQ 19.28125 33.59375 26.515625 31.984375 \nL 29.59375 31.296875 \nQ 39.15625 29.25 43.1875 25.515625 \nQ 47.21875 21.78125 47.21875 15.09375 \nQ 47.21875 7.46875 41.1875 3.015625 \nQ 35.15625 -1.421875 24.609375 -1.421875 \nQ 20.21875 -1.421875 15.453125 -0.5625 \nQ 10.6875 0.296875 5.421875 2 \nL 5.421875 11.28125 \nQ 10.40625 8.6875 15.234375 7.390625 \nQ 20.0625 6.109375 24.8125 6.109375 \nQ 31.15625 6.109375 34.5625 8.28125 \nQ 37.984375 10.453125 37.984375 14.40625 \nQ 37.984375 18.0625 35.515625 20.015625 \nQ 33.0625 21.96875 24.703125 23.78125 \nL 21.578125 24.515625 \nQ 13.234375 26.265625 9.515625 29.90625 \nQ 5.8125 33.546875 5.8125 39.890625 \nQ 5.8125 47.609375 11.28125 51.796875 \nQ 16.75 56 26.8125 56 \nQ 31.78125 56 36.171875 55.265625 \nQ 40.578125 54.546875 44.28125 53.078125 \nz\n\" id=\"DejaVuSans-115\"/>\n      <path d=\"M 18.3125 70.21875 \nL 18.3125 54.6875 \nL 36.8125 54.6875 \nL 36.8125 47.703125 \nL 18.3125 47.703125 \nL 18.3125 18.015625 \nQ 18.3125 11.328125 20.140625 9.421875 \nQ 21.96875 7.515625 27.59375 7.515625 \nL 36.8125 7.515625 \nL 36.8125 0 \nL 27.59375 0 \nQ 17.1875 0 13.234375 3.875 \nQ 9.28125 7.765625 9.28125 18.015625 \nL 9.28125 47.703125 \nL 2.6875 47.703125 \nL 2.6875 54.6875 \nL 9.28125 54.6875 \nL 9.28125 70.21875 \nz\n\" id=\"DejaVuSans-116\"/>\n      <path d=\"M 34.28125 27.484375 \nQ 23.390625 27.484375 19.1875 25 \nQ 14.984375 22.515625 14.984375 16.5 \nQ 14.984375 11.71875 18.140625 8.90625 \nQ 21.296875 6.109375 26.703125 6.109375 \nQ 34.1875 6.109375 38.703125 11.40625 \nQ 43.21875 16.703125 43.21875 25.484375 \nL 43.21875 27.484375 \nz\nM 52.203125 31.203125 \nL 52.203125 0 \nL 43.21875 0 \nL 43.21875 8.296875 \nQ 40.140625 3.328125 35.546875 0.953125 \nQ 30.953125 -1.421875 24.3125 -1.421875 \nQ 15.921875 -1.421875 10.953125 3.296875 \nQ 6 8.015625 6 15.921875 \nQ 6 25.140625 12.171875 29.828125 \nQ 18.359375 34.515625 30.609375 34.515625 \nL 43.21875 34.515625 \nL 43.21875 35.40625 \nQ 43.21875 41.609375 39.140625 45 \nQ 35.0625 48.390625 27.6875 48.390625 \nQ 23 48.390625 18.546875 47.265625 \nQ 14.109375 46.140625 10.015625 43.890625 \nL 10.015625 52.203125 \nQ 14.9375 54.109375 19.578125 55.046875 \nQ 24.21875 56 28.609375 56 \nQ 40.484375 56 46.34375 49.84375 \nQ 52.203125 43.703125 52.203125 31.203125 \nz\n\" id=\"DejaVuSans-97\"/>\n     </defs>\n     <g transform=\"translate(359.239375 398.385312)scale(0.1 -0.1)\">\n      <use xlink:href=\"#DejaVuSans-115\"/>\n      <use x=\"52.099609\" xlink:href=\"#DejaVuSans-116\"/>\n      <use x=\"91.308594\" xlink:href=\"#DejaVuSans-97\"/>\n      <use x=\"152.587891\" xlink:href=\"#DejaVuSans-116\"/>\n      <use x=\"191.796875\" xlink:href=\"#DejaVuSans-101\"/>\n     </g>\n    </g>\n   </g>\n   <g id=\"matplotlib.axis_2\">\n    <g id=\"ytick_1\">\n     <g id=\"line2d_55\">\n      <defs>\n       <path d=\"M 0 0 \nL -3.5 0 \n\" id=\"m0a991320f6\" style=\"stroke:#000000;stroke-width:0.8;\"/>\n      </defs>\n      <g>\n       <use style=\"stroke:#000000;stroke-width:0.8;\" x=\"37.105\" xlink:href=\"#m0a991320f6\" y=\"348.478125\"/>\n      </g>\n     </g>\n     <g id=\"text_56\">\n      <!-- 0 -->\n      <defs>\n       <path d=\"M 31.78125 66.40625 \nQ 24.171875 66.40625 20.328125 58.90625 \nQ 16.5 51.421875 16.5 36.375 \nQ 16.5 21.390625 20.328125 13.890625 \nQ 24.171875 6.390625 31.78125 6.390625 \nQ 39.453125 6.390625 43.28125 13.890625 \nQ 47.125 21.390625 47.125 36.375 \nQ 47.125 51.421875 43.28125 58.90625 \nQ 39.453125 66.40625 31.78125 66.40625 \nz\nM 31.78125 74.21875 \nQ 44.046875 74.21875 50.515625 64.515625 \nQ 56.984375 54.828125 56.984375 36.375 \nQ 56.984375 17.96875 50.515625 8.265625 \nQ 44.046875 -1.421875 31.78125 -1.421875 \nQ 19.53125 -1.421875 13.0625 8.265625 \nQ 6.59375 17.96875 6.59375 36.375 \nQ 6.59375 54.828125 13.0625 64.515625 \nQ 19.53125 74.21875 31.78125 74.21875 \nz\n\" id=\"DejaVuSans-48\"/>\n      </defs>\n      <g transform=\"translate(22.47 353.037187)scale(0.12 -0.12)\">\n       <use xlink:href=\"#DejaVuSans-48\"/>\n      </g>\n     </g>\n    </g>\n    <g id=\"ytick_2\">\n     <g id=\"line2d_56\">\n      <g>\n       <use style=\"stroke:#000000;stroke-width:0.8;\" x=\"37.105\" xlink:href=\"#m0a991320f6\" y=\"294.921475\"/>\n      </g>\n     </g>\n     <g id=\"text_57\">\n      <!-- 20 -->\n      <defs>\n       <path d=\"M 19.1875 8.296875 \nL 53.609375 8.296875 \nL 53.609375 0 \nL 7.328125 0 \nL 7.328125 8.296875 \nQ 12.9375 14.109375 22.625 23.890625 \nQ 32.328125 33.6875 34.8125 36.53125 \nQ 39.546875 41.84375 41.421875 45.53125 \nQ 43.3125 49.21875 43.3125 52.78125 \nQ 43.3125 58.59375 39.234375 62.25 \nQ 35.15625 65.921875 28.609375 65.921875 \nQ 23.96875 65.921875 18.8125 64.3125 \nQ 13.671875 62.703125 7.8125 59.421875 \nL 7.8125 69.390625 \nQ 13.765625 71.78125 18.9375 73 \nQ 24.125 74.21875 28.421875 74.21875 \nQ 39.75 74.21875 46.484375 68.546875 \nQ 53.21875 62.890625 53.21875 53.421875 \nQ 53.21875 48.921875 51.53125 44.890625 \nQ 49.859375 40.875 45.40625 35.40625 \nQ 44.1875 33.984375 37.640625 27.21875 \nQ 31.109375 20.453125 19.1875 8.296875 \nz\n\" id=\"DejaVuSans-50\"/>\n      </defs>\n      <g transform=\"translate(14.835 299.480537)scale(0.12 -0.12)\">\n       <use xlink:href=\"#DejaVuSans-50\"/>\n       <use x=\"63.623047\" xlink:href=\"#DejaVuSans-48\"/>\n      </g>\n     </g>\n    </g>\n    <g id=\"ytick_3\">\n     <g id=\"line2d_57\">\n      <g>\n       <use style=\"stroke:#000000;stroke-width:0.8;\" x=\"37.105\" xlink:href=\"#m0a991320f6\" y=\"241.364825\"/>\n      </g>\n     </g>\n     <g id=\"text_58\">\n      <!-- 40 -->\n      <defs>\n       <path d=\"M 37.796875 64.3125 \nL 12.890625 25.390625 \nL 37.796875 25.390625 \nz\nM 35.203125 72.90625 \nL 47.609375 72.90625 \nL 47.609375 25.390625 \nL 58.015625 25.390625 \nL 58.015625 17.1875 \nL 47.609375 17.1875 \nL 47.609375 0 \nL 37.796875 0 \nL 37.796875 17.1875 \nL 4.890625 17.1875 \nL 4.890625 26.703125 \nz\n\" id=\"DejaVuSans-52\"/>\n      </defs>\n      <g transform=\"translate(14.835 245.923887)scale(0.12 -0.12)\">\n       <use xlink:href=\"#DejaVuSans-52\"/>\n       <use x=\"63.623047\" xlink:href=\"#DejaVuSans-48\"/>\n      </g>\n     </g>\n    </g>\n    <g id=\"ytick_4\">\n     <g id=\"line2d_58\">\n      <g>\n       <use style=\"stroke:#000000;stroke-width:0.8;\" x=\"37.105\" xlink:href=\"#m0a991320f6\" y=\"187.808174\"/>\n      </g>\n     </g>\n     <g id=\"text_59\">\n      <!-- 60 -->\n      <defs>\n       <path d=\"M 33.015625 40.375 \nQ 26.375 40.375 22.484375 35.828125 \nQ 18.609375 31.296875 18.609375 23.390625 \nQ 18.609375 15.53125 22.484375 10.953125 \nQ 26.375 6.390625 33.015625 6.390625 \nQ 39.65625 6.390625 43.53125 10.953125 \nQ 47.40625 15.53125 47.40625 23.390625 \nQ 47.40625 31.296875 43.53125 35.828125 \nQ 39.65625 40.375 33.015625 40.375 \nz\nM 52.59375 71.296875 \nL 52.59375 62.3125 \nQ 48.875 64.0625 45.09375 64.984375 \nQ 41.3125 65.921875 37.59375 65.921875 \nQ 27.828125 65.921875 22.671875 59.328125 \nQ 17.53125 52.734375 16.796875 39.40625 \nQ 19.671875 43.65625 24.015625 45.921875 \nQ 28.375 48.1875 33.59375 48.1875 \nQ 44.578125 48.1875 50.953125 41.515625 \nQ 57.328125 34.859375 57.328125 23.390625 \nQ 57.328125 12.15625 50.6875 5.359375 \nQ 44.046875 -1.421875 33.015625 -1.421875 \nQ 20.359375 -1.421875 13.671875 8.265625 \nQ 6.984375 17.96875 6.984375 36.375 \nQ 6.984375 53.65625 15.1875 63.9375 \nQ 23.390625 74.21875 37.203125 74.21875 \nQ 40.921875 74.21875 44.703125 73.484375 \nQ 48.484375 72.75 52.59375 71.296875 \nz\n\" id=\"DejaVuSans-54\"/>\n      </defs>\n      <g transform=\"translate(14.835 192.367237)scale(0.12 -0.12)\">\n       <use xlink:href=\"#DejaVuSans-54\"/>\n       <use x=\"63.623047\" xlink:href=\"#DejaVuSans-48\"/>\n      </g>\n     </g>\n    </g>\n    <g id=\"ytick_5\">\n     <g id=\"line2d_59\">\n      <g>\n       <use style=\"stroke:#000000;stroke-width:0.8;\" x=\"37.105\" xlink:href=\"#m0a991320f6\" y=\"134.251524\"/>\n      </g>\n     </g>\n     <g id=\"text_60\">\n      <!-- 80 -->\n      <defs>\n       <path d=\"M 31.78125 34.625 \nQ 24.75 34.625 20.71875 30.859375 \nQ 16.703125 27.09375 16.703125 20.515625 \nQ 16.703125 13.921875 20.71875 10.15625 \nQ 24.75 6.390625 31.78125 6.390625 \nQ 38.8125 6.390625 42.859375 10.171875 \nQ 46.921875 13.96875 46.921875 20.515625 \nQ 46.921875 27.09375 42.890625 30.859375 \nQ 38.875 34.625 31.78125 34.625 \nz\nM 21.921875 38.8125 \nQ 15.578125 40.375 12.03125 44.71875 \nQ 8.5 49.078125 8.5 55.328125 \nQ 8.5 64.0625 14.71875 69.140625 \nQ 20.953125 74.21875 31.78125 74.21875 \nQ 42.671875 74.21875 48.875 69.140625 \nQ 55.078125 64.0625 55.078125 55.328125 \nQ 55.078125 49.078125 51.53125 44.71875 \nQ 48 40.375 41.703125 38.8125 \nQ 48.828125 37.15625 52.796875 32.3125 \nQ 56.78125 27.484375 56.78125 20.515625 \nQ 56.78125 9.90625 50.3125 4.234375 \nQ 43.84375 -1.421875 31.78125 -1.421875 \nQ 19.734375 -1.421875 13.25 4.234375 \nQ 6.78125 9.90625 6.78125 20.515625 \nQ 6.78125 27.484375 10.78125 32.3125 \nQ 14.796875 37.15625 21.921875 38.8125 \nz\nM 18.3125 54.390625 \nQ 18.3125 48.734375 21.84375 45.5625 \nQ 25.390625 42.390625 31.78125 42.390625 \nQ 38.140625 42.390625 41.71875 45.5625 \nQ 45.3125 48.734375 45.3125 54.390625 \nQ 45.3125 60.0625 41.71875 63.234375 \nQ 38.140625 66.40625 31.78125 66.40625 \nQ 25.390625 66.40625 21.84375 63.234375 \nQ 18.3125 60.0625 18.3125 54.390625 \nz\n\" id=\"DejaVuSans-56\"/>\n      </defs>\n      <g transform=\"translate(14.835 138.810587)scale(0.12 -0.12)\">\n       <use xlink:href=\"#DejaVuSans-56\"/>\n       <use x=\"63.623047\" xlink:href=\"#DejaVuSans-48\"/>\n      </g>\n     </g>\n    </g>\n    <g id=\"ytick_6\">\n     <g id=\"line2d_60\">\n      <g>\n       <use style=\"stroke:#000000;stroke-width:0.8;\" x=\"37.105\" xlink:href=\"#m0a991320f6\" y=\"80.694874\"/>\n      </g>\n     </g>\n     <g id=\"text_61\">\n      <!-- 100 -->\n      <defs>\n       <path d=\"M 12.40625 8.296875 \nL 28.515625 8.296875 \nL 28.515625 63.921875 \nL 10.984375 60.40625 \nL 10.984375 69.390625 \nL 28.421875 72.90625 \nL 38.28125 72.90625 \nL 38.28125 8.296875 \nL 54.390625 8.296875 \nL 54.390625 0 \nL 12.40625 0 \nz\n\" id=\"DejaVuSans-49\"/>\n      </defs>\n      <g transform=\"translate(7.2 85.253936)scale(0.12 -0.12)\">\n       <use xlink:href=\"#DejaVuSans-49\"/>\n       <use x=\"63.623047\" xlink:href=\"#DejaVuSans-48\"/>\n       <use x=\"127.246094\" xlink:href=\"#DejaVuSans-48\"/>\n      </g>\n     </g>\n    </g>\n    <g id=\"ytick_7\">\n     <g id=\"line2d_61\">\n      <g>\n       <use style=\"stroke:#000000;stroke-width:0.8;\" x=\"37.105\" xlink:href=\"#m0a991320f6\" y=\"27.138224\"/>\n      </g>\n     </g>\n     <g id=\"text_62\">\n      <!-- 120 -->\n      <g transform=\"translate(7.2 31.697286)scale(0.12 -0.12)\">\n       <use xlink:href=\"#DejaVuSans-49\"/>\n       <use x=\"63.623047\" xlink:href=\"#DejaVuSans-50\"/>\n       <use x=\"127.246094\" xlink:href=\"#DejaVuSans-48\"/>\n      </g>\n     </g>\n    </g>\n   </g>\n   <g id=\"patch_57\">\n    <path d=\"M 37.105 348.478125 \nL 37.105 22.318125 \n\" style=\"fill:none;stroke:#000000;stroke-linecap:square;stroke-linejoin:miter;stroke-width:0.8;\"/>\n   </g>\n   <g id=\"patch_58\">\n    <path d=\"M 706.705 348.478125 \nL 706.705 22.318125 \n\" style=\"fill:none;stroke:#000000;stroke-linecap:square;stroke-linejoin:miter;stroke-width:0.8;\"/>\n   </g>\n   <g id=\"patch_59\">\n    <path d=\"M 37.105 348.478125 \nL 706.705 348.478125 \n\" style=\"fill:none;stroke:#000000;stroke-linecap:square;stroke-linejoin:miter;stroke-width:0.8;\"/>\n   </g>\n   <g id=\"patch_60\">\n    <path d=\"M 37.105 22.318125 \nL 706.705 22.318125 \n\" style=\"fill:none;stroke:#000000;stroke-linecap:square;stroke-linejoin:miter;stroke-width:0.8;\"/>\n   </g>\n   <g id=\"text_63\">\n    <!-- State  -->\n    <defs>\n     <path id=\"DejaVuSans-32\"/>\n    </defs>\n    <g transform=\"translate(354.115938 16.318125)scale(0.12 -0.12)\">\n     <use xlink:href=\"#DejaVuSans-83\"/>\n     <use x=\"63.476562\" xlink:href=\"#DejaVuSans-116\"/>\n     <use x=\"102.685547\" xlink:href=\"#DejaVuSans-97\"/>\n     <use x=\"163.964844\" xlink:href=\"#DejaVuSans-116\"/>\n     <use x=\"203.173828\" xlink:href=\"#DejaVuSans-101\"/>\n     <use x=\"264.697266\" xlink:href=\"#DejaVuSans-32\"/>\n    </g>\n   </g>\n   <g id=\"legend_1\">\n    <g id=\"patch_61\">\n     <path d=\"M 639.4925 44.99625 \nL 699.705 44.99625 \nQ 701.705 44.99625 701.705 42.99625 \nL 701.705 29.318125 \nQ 701.705 27.318125 699.705 27.318125 \nL 639.4925 27.318125 \nQ 637.4925 27.318125 637.4925 29.318125 \nL 637.4925 42.99625 \nQ 637.4925 44.99625 639.4925 44.99625 \nz\n\" style=\"fill:#ffffff;opacity:0.8;stroke:#cccccc;stroke-linejoin:miter;\"/>\n    </g>\n    <g id=\"patch_62\">\n     <path d=\"M 641.4925 38.916562 \nL 661.4925 38.916562 \nL 661.4925 31.916562 \nL 641.4925 31.916562 \nz\n\" style=\"fill:#1f77b4;\"/>\n    </g>\n    <g id=\"text_64\">\n     <!-- count -->\n     <defs>\n      <path d=\"M 48.78125 52.59375 \nL 48.78125 44.1875 \nQ 44.96875 46.296875 41.140625 47.34375 \nQ 37.3125 48.390625 33.40625 48.390625 \nQ 24.65625 48.390625 19.8125 42.84375 \nQ 14.984375 37.3125 14.984375 27.296875 \nQ 14.984375 17.28125 19.8125 11.734375 \nQ 24.65625 6.203125 33.40625 6.203125 \nQ 37.3125 6.203125 41.140625 7.25 \nQ 44.96875 8.296875 48.78125 10.40625 \nL 48.78125 2.09375 \nQ 45.015625 0.34375 40.984375 -0.53125 \nQ 36.96875 -1.421875 32.421875 -1.421875 \nQ 20.0625 -1.421875 12.78125 6.34375 \nQ 5.515625 14.109375 5.515625 27.296875 \nQ 5.515625 40.671875 12.859375 48.328125 \nQ 20.21875 56 33.015625 56 \nQ 37.15625 56 41.109375 55.140625 \nQ 45.0625 54.296875 48.78125 52.59375 \nz\n\" id=\"DejaVuSans-99\"/>\n      <path d=\"M 8.5 21.578125 \nL 8.5 54.6875 \nL 17.484375 54.6875 \nL 17.484375 21.921875 \nQ 17.484375 14.15625 20.5 10.265625 \nQ 23.53125 6.390625 29.59375 6.390625 \nQ 36.859375 6.390625 41.078125 11.03125 \nQ 45.3125 15.671875 45.3125 23.6875 \nL 45.3125 54.6875 \nL 54.296875 54.6875 \nL 54.296875 0 \nL 45.3125 0 \nL 45.3125 8.40625 \nQ 42.046875 3.421875 37.71875 1 \nQ 33.40625 -1.421875 27.6875 -1.421875 \nQ 18.265625 -1.421875 13.375 4.4375 \nQ 8.5 10.296875 8.5 21.578125 \nz\nM 31.109375 56 \nz\n\" id=\"DejaVuSans-117\"/>\n     </defs>\n     <g transform=\"translate(669.4925 38.916562)scale(0.1 -0.1)\">\n      <use xlink:href=\"#DejaVuSans-99\"/>\n      <use x=\"54.980469\" xlink:href=\"#DejaVuSans-111\"/>\n      <use x=\"116.162109\" xlink:href=\"#DejaVuSans-117\"/>\n      <use x=\"179.541016\" xlink:href=\"#DejaVuSans-110\"/>\n      <use x=\"242.919922\" xlink:href=\"#DejaVuSans-116\"/>\n     </g>\n    </g>\n   </g>\n  </g>\n </g>\n <defs>\n  <clipPath id=\"pf49a6a9955\">\n   <rect height=\"326.16\" width=\"669.6\" x=\"37.105\" y=\"22.318125\"/>\n  </clipPath>\n </defs>\n</svg>\n",
      "image/png": "[encoded data removed]"
     },
     "metadata": {
      "needs_background": "light"
     }
    }
   ],
   "source": [
    "import matplotlib.pyplot as plt\n",
    "%matplotlib inline\n",
    "ax = GroupByState_pandas_df['count']\\\n",
    "            .plot(kind='bar', title =\"State \",figsize=(12,6), legend=True, fontsize=12)\n",
    "plt.show()"
   ]
  },
  {
   "cell_type": "code",
   "execution_count": 86,
   "metadata": {
    "collapsed": false,
    "tags": []
   },
   "outputs": [
    {
     "output_type": "stream",
     "name": "stdout",
     "text": "+-------------+------+\n|   occupation|counts|\n+-------------+------+\n|    librarian|    51|\n|      retired|    14|\n|       lawyer|    12|\n|         none|     9|\n|       writer|    45|\n|   programmer|    66|\n|    marketing|    26|\n|        other|   105|\n|    executive|    32|\n|    scientist|    31|\n|      student|   196|\n|     salesman|    12|\n|       artist|    28|\n|   technician|    27|\n|administrator|    79|\n|     engineer|    67|\n|   healthcare|    16|\n|     educator|    95|\n|entertainment|    18|\n|    homemaker|     7|\n|       doctor|     7|\n+-------------+------+\n\n"
    }
   ],
   "source": [
    "Occupation_df=spark.sql(\"\"\" \n",
    "SELECT u.occupation ,count(*) counts\n",
    "FROM user_table u\n",
    "GROUP BY occupation\n",
    "\"\"\")\n",
    "Occupation_df.show(30)"
   ]
  },
  {
   "cell_type": "code",
   "execution_count": 87,
   "metadata": {
    "collapsed": false
   },
   "outputs": [
    {
     "output_type": "execute_result",
     "data": {
      "text/plain": "               counts\noccupation           \nlibrarian          51\nretired            14\nlawyer             12\nnone                9\nwriter             45\nprogrammer         66\nmarketing          26\nother             105\nexecutive          32\nscientist          31\nstudent           196\nsalesman           12\nartist             28\ntechnician         27\nadministrator      79\nengineer           67\nhealthcare         16\neducator           95\nentertainment      18\nhomemaker           7\ndoctor              7",
      "text/html": "<div>\n<style scoped>\n    .dataframe tbody tr th:only-of-type {\n        vertical-align: middle;\n    }\n\n    .dataframe tbody tr th {\n        vertical-align: top;\n    }\n\n    .dataframe thead th {\n        text-align: right;\n    }\n</style>\n<table border=\"1\" class=\"dataframe\">\n  <thead>\n    <tr style=\"text-align: right;\">\n      <th></th>\n      <th>counts</th>\n    </tr>\n    <tr>\n      <th>occupation</th>\n      <th></th>\n    </tr>\n  </thead>\n  <tbody>\n    <tr>\n      <th>librarian</th>\n      <td>51</td>\n    </tr>\n    <tr>\n      <th>retired</th>\n      <td>14</td>\n    </tr>\n    <tr>\n      <th>lawyer</th>\n      <td>12</td>\n    </tr>\n    <tr>\n      <th>none</th>\n      <td>9</td>\n    </tr>\n    <tr>\n      <th>writer</th>\n      <td>45</td>\n    </tr>\n    <tr>\n      <th>programmer</th>\n      <td>66</td>\n    </tr>\n    <tr>\n      <th>marketing</th>\n      <td>26</td>\n    </tr>\n    <tr>\n      <th>other</th>\n      <td>105</td>\n    </tr>\n    <tr>\n      <th>executive</th>\n      <td>32</td>\n    </tr>\n    <tr>\n      <th>scientist</th>\n      <td>31</td>\n    </tr>\n    <tr>\n      <th>student</th>\n      <td>196</td>\n    </tr>\n    <tr>\n      <th>salesman</th>\n      <td>12</td>\n    </tr>\n    <tr>\n      <th>artist</th>\n      <td>28</td>\n    </tr>\n    <tr>\n      <th>technician</th>\n      <td>27</td>\n    </tr>\n    <tr>\n      <th>administrator</th>\n      <td>79</td>\n    </tr>\n    <tr>\n      <th>engineer</th>\n      <td>67</td>\n    </tr>\n    <tr>\n      <th>healthcare</th>\n      <td>16</td>\n    </tr>\n    <tr>\n      <th>educator</th>\n      <td>95</td>\n    </tr>\n    <tr>\n      <th>entertainment</th>\n      <td>18</td>\n    </tr>\n    <tr>\n      <th>homemaker</th>\n      <td>7</td>\n    </tr>\n    <tr>\n      <th>doctor</th>\n      <td>7</td>\n    </tr>\n  </tbody>\n</table>\n</div>"
     },
     "metadata": {},
     "execution_count": 87
    }
   ],
   "source": [
    "Occupation_pandas_df =Occupation_df.toPandas().set_index('occupation')\n",
    "Occupation_pandas_df"
   ]
  },
  {
   "cell_type": "code",
   "execution_count": 91,
   "metadata": {
    "collapsed": false
   },
   "outputs": [
    {
     "output_type": "display_data",
     "data": {
      "text/plain": "<Figure size 720x576 with 1 Axes>",
      "image/svg+xml": "<?xml version=\"1.0\" encoding=\"utf-8\" standalone=\"no\"?>\n<!DOCTYPE svg PUBLIC \"-//W3C//DTD SVG 1.1//EN\"\n  \"http://www.w3.org/Graphics/SVG/1.1/DTD/svg11.dtd\">\n<!-- Created with matplotlib (https://matplotlib.org/) -->\n<svg height=\"464.398125pt\" version=\"1.1\" viewBox=\"0 0 622.801713 464.398125\" width=\"622.801713pt\" xmlns=\"http://www.w3.org/2000/svg\" xmlns:xlink=\"http://www.w3.org/1999/xlink\">\n <defs>\n  <style type=\"text/css\">\n*{stroke-linecap:butt;stroke-linejoin:round;}\n  </style>\n </defs>\n <g id=\"figure_1\">\n  <g id=\"patch_1\">\n   <path d=\"M -0 464.398125 \nL 622.801713 464.398125 \nL 622.801713 0 \nL -0 0 \nz\n\" style=\"fill:none;\"/>\n  </g>\n  <g id=\"axes_1\">\n   <g id=\"patch_2\">\n    <path d=\"M 246.683088 65.806125 \nC 236.825346 65.806125 226.985419 66.644072 217.269621 68.310914 \nC 207.553823 69.977755 197.997272 72.467466 188.703221 75.753146 \nL 246.683088 239.758125 \nL 246.683088 65.806125 \nz\n\" style=\"fill:#1f77b4;\"/>\n   </g>\n   <g id=\"patch_3\">\n    <path d=\"M 188.703221 75.753146 \nC 186.153329 76.654596 183.624808 77.615391 181.119718 78.634747 \nC 178.614629 79.654103 176.133653 80.731743 173.678815 81.866788 \nL 246.683088 239.758125 \nL 188.703221 75.753146 \nz\n\" style=\"fill:#ff7f0e;\"/>\n   </g>\n   <g id=\"patch_4\">\n    <path d=\"M 173.678815 81.866788 \nC 171.574693 82.839672 169.490228 83.854519 167.426671 84.910721 \nC 165.363113 85.966923 163.320875 87.064269 161.30118 88.202102 \nL 246.683088 239.758125 \nL 173.678815 81.866788 \nz\n\" style=\"fill:#2ca02c;\"/>\n   </g>\n   <g id=\"patch_5\">\n    <path d=\"M 161.30118 88.202102 \nC 159.786431 89.055465 158.28456 89.931488 156.796074 90.829877 \nC 155.307589 91.728266 153.832655 92.64892 152.371772 93.591529 \nL 246.683088 239.758125 \nL 161.30118 88.202102 \nz\n\" style=\"fill:#d62728;\"/>\n   </g>\n   <g id=\"patch_6\">\n    <path d=\"M 152.371772 93.591529 \nC 145.064071 98.306689 138.120255 103.563248 131.598758 109.316969 \nC 125.077262 115.07069 118.996429 121.305389 113.407434 127.968598 \nL 246.683088 239.758125 \nL 152.371772 93.591529 \nz\n\" style=\"fill:#9467bd;\"/>\n   </g>\n   <g id=\"patch_7\">\n    <path d=\"M 113.407434 127.968598 \nC 105.205831 137.746563 98.105141 148.397483 92.233679 159.728891 \nC 86.362217 171.060299 81.755563 183.003525 78.496964 195.342747 \nL 246.683088 239.758125 \nL 113.407434 127.968598 \nz\n\" style=\"fill:#8c564b;\"/>\n   </g>\n   <g id=\"patch_8\">\n    <path d=\"M 78.496964 195.342747 \nC 77.214363 200.199526 76.142741 205.109583 75.28511 210.059111 \nC 74.42748 215.00864 73.784646 219.992996 73.358417 224.998162 \nL 246.683088 239.758125 \nL 78.496964 195.342747 \nz\n\" style=\"fill:#e377c2;\"/>\n   </g>\n   <g id=\"patch_9\">\n    <path d=\"M 73.358417 224.998162 \nC 71.632999 245.259556 73.47366 265.667455 78.796634 285.29313 \nC 84.119608 304.918805 92.842904 323.459961 104.569542 340.072821 \nL 246.683088 239.758125 \nL 73.358417 224.998162 \nz\n\" style=\"fill:#7f7f7f;\"/>\n   </g>\n   <g id=\"patch_10\">\n    <path d=\"M 104.569542 340.072821 \nC 108.135156 345.124145 111.967553 349.981772 116.050414 354.625017 \nC 120.133275 359.268261 124.460795 363.690521 129.014545 367.872965 \nL 246.683088 239.758125 \nL 104.569542 340.072821 \nz\n\" style=\"fill:#bcbd22;\"/>\n   </g>\n   <g id=\"patch_11\">\n    <path d=\"M 129.014545 367.872965 \nC 133.425926 371.924648 138.043631 375.745783 142.849205 379.321096 \nC 147.654779 382.89641 152.641811 386.221134 157.790368 389.281978 \nL 246.683088 239.758125 \nL 129.014545 367.872965 \nz\n\" style=\"fill:#17becf;\"/>\n   </g>\n   <g id=\"patch_12\">\n    <path d=\"M 157.790368 389.281978 \nC 190.621553 408.800291 228.984766 416.972455 266.920322 412.528935 \nC 304.855877 408.085414 340.292078 391.268872 367.723947 364.691743 \nL 246.683088 239.758125 \nL 157.790368 389.281978 \nz\n\" style=\"fill:#1f77b4;\"/>\n   </g>\n   <g id=\"patch_13\">\n    <path d=\"M 367.723947 364.691743 \nC 369.388861 363.078705 371.021365 361.432547 372.620481 359.754256 \nC 374.219597 358.075965 375.785004 356.365875 377.315766 354.625013 \nL 246.683088 239.758125 \nL 367.723947 364.691743 \nz\n\" style=\"fill:#ff7f0e;\"/>\n   </g>\n   <g id=\"patch_14\">\n    <path d=\"M 377.315766 354.625013 \nC 380.888071 350.562399 384.268914 346.335351 387.44727 341.957653 \nC 390.625626 337.579955 393.598036 333.05637 396.354807 328.401652 \nL 246.683088 239.758125 \nL 377.315766 354.625013 \nz\n\" style=\"fill:#2ca02c;\"/>\n   </g>\n   <g id=\"patch_15\">\n    <path d=\"M 396.354807 328.401652 \nC 399.013089 323.91323 401.468124 319.307503 403.712468 314.598437 \nC 405.956812 309.889371 407.988195 305.08173 409.800455 300.190095 \nL 246.683088 239.758125 \nL 396.354807 328.401652 \nz\n\" style=\"fill:#d62728;\"/>\n   </g>\n   <g id=\"patch_16\">\n    <path d=\"M 409.800455 300.190095 \nC 415.109741 285.859325 418.507393 270.891167 419.905568 255.672606 \nC 421.303744 240.454046 420.69029 225.117375 418.081066 210.059107 \nL 246.683088 239.758125 \nL 409.800455 300.190095 \nz\n\" style=\"fill:#9467bd;\"/>\n   </g>\n   <g id=\"patch_17\">\n    <path d=\"M 418.081066 210.059107 \nC 415.869072 197.293324 412.237786 184.814531 407.254824 172.85509 \nC 402.271862 160.895649 395.968345 149.530255 388.461649 138.970536 \nL 246.683088 239.758125 \nL 418.081066 210.059107 \nz\n\" style=\"fill:#8c564b;\"/>\n   </g>\n   <g id=\"patch_18\">\n    <path d=\"M 388.461649 138.970536 \nC 386.670756 136.451275 384.813034 133.980195 382.890461 131.559928 \nC 380.967889 129.139661 378.98115 126.771067 376.93236 124.45667 \nL 246.683088 239.758125 \nL 388.461649 138.970536 \nz\n\" style=\"fill:#e377c2;\"/>\n   </g>\n   <g id=\"patch_19\">\n    <path d=\"M 376.93236 124.45667 \nC 364.743063 110.687138 350.44701 98.937225 334.577569 89.645305 \nC 318.708127 80.353385 301.465139 73.63647 283.491918 69.74516 \nL 246.683088 239.758125 \nL 376.93236 124.45667 \nz\n\" style=\"fill:#7f7f7f;\"/>\n   </g>\n   <g id=\"patch_20\">\n    <path d=\"M 283.491918 69.74516 \nC 280.093287 69.009336 276.673356 68.375587 273.236736 67.844769 \nC 269.800115 67.31395 266.34835 66.8863 262.886095 66.562395 \nL 246.683088 239.758125 \nL 283.491918 69.74516 \nz\n\" style=\"fill:#bcbd22;\"/>\n   </g>\n   <g id=\"patch_21\">\n    <path d=\"M 262.886095 66.562395 \nC 261.539747 66.43644 260.191977 66.326188 258.843059 66.231662 \nC 257.494141 66.137136 256.144166 66.058341 254.793411 65.995295 \nL 246.683088 239.758125 \nL 262.886095 66.562395 \nz\n\" style=\"fill:#17becf;\"/>\n   </g>\n   <g id=\"patch_22\">\n    <path d=\"M 254.793411 65.995295 \nC 253.442655 65.932249 252.09121 65.884956 250.739352 65.853424 \nC 249.387494 65.821892 248.035313 65.806125 246.683087 65.806125 \nL 246.683088 239.758125 \nL 254.793411 65.995295 \nz\n\" style=\"fill:#1f77b4;\"/>\n   </g>\n   <g id=\"matplotlib.axis_1\"/>\n   <g id=\"matplotlib.axis_2\">\n    <g id=\"text_1\">\n     <!-- counts -->\n     <defs>\n      <path d=\"M 48.78125 52.59375 \nL 48.78125 44.1875 \nQ 44.96875 46.296875 41.140625 47.34375 \nQ 37.3125 48.390625 33.40625 48.390625 \nQ 24.65625 48.390625 19.8125 42.84375 \nQ 14.984375 37.3125 14.984375 27.296875 \nQ 14.984375 17.28125 19.8125 11.734375 \nQ 24.65625 6.203125 33.40625 6.203125 \nQ 37.3125 6.203125 41.140625 7.25 \nQ 44.96875 8.296875 48.78125 10.40625 \nL 48.78125 2.09375 \nQ 45.015625 0.34375 40.984375 -0.53125 \nQ 36.96875 -1.421875 32.421875 -1.421875 \nQ 20.0625 -1.421875 12.78125 6.34375 \nQ 5.515625 14.109375 5.515625 27.296875 \nQ 5.515625 40.671875 12.859375 48.328125 \nQ 20.21875 56 33.015625 56 \nQ 37.15625 56 41.109375 55.140625 \nQ 45.0625 54.296875 48.78125 52.59375 \nz\n\" id=\"DejaVuSans-99\"/>\n      <path d=\"M 30.609375 48.390625 \nQ 23.390625 48.390625 19.1875 42.75 \nQ 14.984375 37.109375 14.984375 27.296875 \nQ 14.984375 17.484375 19.15625 11.84375 \nQ 23.34375 6.203125 30.609375 6.203125 \nQ 37.796875 6.203125 41.984375 11.859375 \nQ 46.1875 17.53125 46.1875 27.296875 \nQ 46.1875 37.015625 41.984375 42.703125 \nQ 37.796875 48.390625 30.609375 48.390625 \nz\nM 30.609375 56 \nQ 42.328125 56 49.015625 48.375 \nQ 55.71875 40.765625 55.71875 27.296875 \nQ 55.71875 13.875 49.015625 6.21875 \nQ 42.328125 -1.421875 30.609375 -1.421875 \nQ 18.84375 -1.421875 12.171875 6.21875 \nQ 5.515625 13.875 5.515625 27.296875 \nQ 5.515625 40.765625 12.171875 48.375 \nQ 18.84375 56 30.609375 56 \nz\n\" id=\"DejaVuSans-111\"/>\n      <path d=\"M 8.5 21.578125 \nL 8.5 54.6875 \nL 17.484375 54.6875 \nL 17.484375 21.921875 \nQ 17.484375 14.15625 20.5 10.265625 \nQ 23.53125 6.390625 29.59375 6.390625 \nQ 36.859375 6.390625 41.078125 11.03125 \nQ 45.3125 15.671875 45.3125 23.6875 \nL 45.3125 54.6875 \nL 54.296875 54.6875 \nL 54.296875 0 \nL 45.3125 0 \nL 45.3125 8.40625 \nQ 42.046875 3.421875 37.71875 1 \nQ 33.40625 -1.421875 27.6875 -1.421875 \nQ 18.265625 -1.421875 13.375 4.4375 \nQ 8.5 10.296875 8.5 21.578125 \nz\nM 31.109375 56 \nz\n\" id=\"DejaVuSans-117\"/>\n      <path d=\"M 54.890625 33.015625 \nL 54.890625 0 \nL 45.90625 0 \nL 45.90625 32.71875 \nQ 45.90625 40.484375 42.875 44.328125 \nQ 39.84375 48.1875 33.796875 48.1875 \nQ 26.515625 48.1875 22.3125 43.546875 \nQ 18.109375 38.921875 18.109375 30.90625 \nL 18.109375 0 \nL 9.078125 0 \nL 9.078125 54.6875 \nL 18.109375 54.6875 \nL 18.109375 46.1875 \nQ 21.34375 51.125 25.703125 53.5625 \nQ 30.078125 56 35.796875 56 \nQ 45.21875 56 50.046875 50.171875 \nQ 54.890625 44.34375 54.890625 33.015625 \nz\n\" id=\"DejaVuSans-110\"/>\n      <path d=\"M 18.3125 70.21875 \nL 18.3125 54.6875 \nL 36.8125 54.6875 \nL 36.8125 47.703125 \nL 18.3125 47.703125 \nL 18.3125 18.015625 \nQ 18.3125 11.328125 20.140625 9.421875 \nQ 21.96875 7.515625 27.59375 7.515625 \nL 36.8125 7.515625 \nL 36.8125 0 \nL 27.59375 0 \nQ 17.1875 0 13.234375 3.875 \nQ 9.28125 7.765625 9.28125 18.015625 \nL 9.28125 47.703125 \nL 2.6875 47.703125 \nL 2.6875 54.6875 \nL 9.28125 54.6875 \nL 9.28125 70.21875 \nz\n\" id=\"DejaVuSans-116\"/>\n      <path d=\"M 44.28125 53.078125 \nL 44.28125 44.578125 \nQ 40.484375 46.53125 36.375 47.5 \nQ 32.28125 48.484375 27.875 48.484375 \nQ 21.1875 48.484375 17.84375 46.4375 \nQ 14.5 44.390625 14.5 40.28125 \nQ 14.5 37.15625 16.890625 35.375 \nQ 19.28125 33.59375 26.515625 31.984375 \nL 29.59375 31.296875 \nQ 39.15625 29.25 43.1875 25.515625 \nQ 47.21875 21.78125 47.21875 15.09375 \nQ 47.21875 7.46875 41.1875 3.015625 \nQ 35.15625 -1.421875 24.609375 -1.421875 \nQ 20.21875 -1.421875 15.453125 -0.5625 \nQ 10.6875 0.296875 5.421875 2 \nL 5.421875 11.28125 \nQ 10.40625 8.6875 15.234375 7.390625 \nQ 20.0625 6.109375 24.8125 6.109375 \nQ 31.15625 6.109375 34.5625 8.28125 \nQ 37.984375 10.453125 37.984375 14.40625 \nQ 37.984375 18.0625 35.515625 20.015625 \nQ 33.0625 21.96875 24.703125 23.78125 \nL 21.578125 24.515625 \nQ 13.234375 26.265625 9.515625 29.90625 \nQ 5.8125 33.546875 5.8125 39.890625 \nQ 5.8125 47.609375 11.28125 51.796875 \nQ 16.75 56 26.8125 56 \nQ 31.78125 56 36.171875 55.265625 \nQ 40.578125 54.546875 44.28125 53.078125 \nz\n\" id=\"DejaVuSans-115\"/>\n     </defs>\n     <g transform=\"translate(23.163401 256.469062)rotate(-90)scale(0.1 -0.1)\">\n      <use xlink:href=\"#DejaVuSans-99\"/>\n      <use x=\"54.980469\" xlink:href=\"#DejaVuSans-111\"/>\n      <use x=\"116.162109\" xlink:href=\"#DejaVuSans-117\"/>\n      <use x=\"179.541016\" xlink:href=\"#DejaVuSans-110\"/>\n      <use x=\"242.919922\" xlink:href=\"#DejaVuSans-116\"/>\n      <use x=\"282.128906\" xlink:href=\"#DejaVuSans-115\"/>\n     </g>\n    </g>\n   </g>\n   <g id=\"text_2\">\n    <!-- librarian -->\n    <defs>\n     <path d=\"M 9.421875 75.984375 \nL 18.40625 75.984375 \nL 18.40625 0 \nL 9.421875 0 \nz\n\" id=\"DejaVuSans-108\"/>\n     <path d=\"M 9.421875 54.6875 \nL 18.40625 54.6875 \nL 18.40625 0 \nL 9.421875 0 \nz\nM 9.421875 75.984375 \nL 18.40625 75.984375 \nL 18.40625 64.59375 \nL 9.421875 64.59375 \nz\n\" id=\"DejaVuSans-105\"/>\n     <path d=\"M 48.6875 27.296875 \nQ 48.6875 37.203125 44.609375 42.84375 \nQ 40.53125 48.484375 33.40625 48.484375 \nQ 26.265625 48.484375 22.1875 42.84375 \nQ 18.109375 37.203125 18.109375 27.296875 \nQ 18.109375 17.390625 22.1875 11.75 \nQ 26.265625 6.109375 33.40625 6.109375 \nQ 40.53125 6.109375 44.609375 11.75 \nQ 48.6875 17.390625 48.6875 27.296875 \nz\nM 18.109375 46.390625 \nQ 20.953125 51.265625 25.265625 53.625 \nQ 29.59375 56 35.59375 56 \nQ 45.5625 56 51.78125 48.09375 \nQ 58.015625 40.1875 58.015625 27.296875 \nQ 58.015625 14.40625 51.78125 6.484375 \nQ 45.5625 -1.421875 35.59375 -1.421875 \nQ 29.59375 -1.421875 25.265625 0.953125 \nQ 20.953125 3.328125 18.109375 8.203125 \nL 18.109375 0 \nL 9.078125 0 \nL 9.078125 75.984375 \nL 18.109375 75.984375 \nz\n\" id=\"DejaVuSans-98\"/>\n     <path d=\"M 41.109375 46.296875 \nQ 39.59375 47.171875 37.8125 47.578125 \nQ 36.03125 48 33.890625 48 \nQ 26.265625 48 22.1875 43.046875 \nQ 18.109375 38.09375 18.109375 28.8125 \nL 18.109375 0 \nL 9.078125 0 \nL 9.078125 54.6875 \nL 18.109375 54.6875 \nL 18.109375 46.1875 \nQ 20.953125 51.171875 25.484375 53.578125 \nQ 30.03125 56 36.53125 56 \nQ 37.453125 56 38.578125 55.875 \nQ 39.703125 55.765625 41.0625 55.515625 \nz\n\" id=\"DejaVuSans-114\"/>\n     <path d=\"M 34.28125 27.484375 \nQ 23.390625 27.484375 19.1875 25 \nQ 14.984375 22.515625 14.984375 16.5 \nQ 14.984375 11.71875 18.140625 8.90625 \nQ 21.296875 6.109375 26.703125 6.109375 \nQ 34.1875 6.109375 38.703125 11.40625 \nQ 43.21875 16.703125 43.21875 25.484375 \nL 43.21875 27.484375 \nz\nM 52.203125 31.203125 \nL 52.203125 0 \nL 43.21875 0 \nL 43.21875 8.296875 \nQ 40.140625 3.328125 35.546875 0.953125 \nQ 30.953125 -1.421875 24.3125 -1.421875 \nQ 15.921875 -1.421875 10.953125 3.296875 \nQ 6 8.015625 6 15.921875 \nQ 6 25.140625 12.171875 29.828125 \nQ 18.359375 34.515625 30.609375 34.515625 \nL 43.21875 34.515625 \nL 43.21875 35.40625 \nQ 43.21875 41.609375 39.140625 45 \nQ 35.0625 48.390625 27.6875 48.390625 \nQ 23 48.390625 18.546875 47.265625 \nQ 14.109375 46.140625 10.015625 43.890625 \nL 10.015625 52.203125 \nQ 14.9375 54.109375 19.578125 55.046875 \nQ 24.21875 56 28.609375 56 \nQ 40.484375 56 46.34375 49.84375 \nQ 52.203125 43.703125 52.203125 31.203125 \nz\n\" id=\"DejaVuSans-97\"/>\n    </defs>\n    <g transform=\"translate(172.829837 53.925568)scale(0.1 -0.1)\">\n     <use xlink:href=\"#DejaVuSans-108\"/>\n     <use x=\"27.783203\" xlink:href=\"#DejaVuSans-105\"/>\n     <use x=\"55.566406\" xlink:href=\"#DejaVuSans-98\"/>\n     <use x=\"119.042969\" xlink:href=\"#DejaVuSans-114\"/>\n     <use x=\"160.15625\" xlink:href=\"#DejaVuSans-97\"/>\n     <use x=\"221.435547\" xlink:href=\"#DejaVuSans-114\"/>\n     <use x=\"262.548828\" xlink:href=\"#DejaVuSans-105\"/>\n     <use x=\"290.332031\" xlink:href=\"#DejaVuSans-97\"/>\n     <use x=\"351.611328\" xlink:href=\"#DejaVuSans-110\"/>\n    </g>\n   </g>\n   <g id=\"text_3\">\n    <!-- 5.4% -->\n    <defs>\n     <path d=\"M 10.796875 72.90625 \nL 49.515625 72.90625 \nL 49.515625 64.59375 \nL 19.828125 64.59375 \nL 19.828125 46.734375 \nQ 21.96875 47.46875 24.109375 47.828125 \nQ 26.265625 48.1875 28.421875 48.1875 \nQ 40.625 48.1875 47.75 41.5 \nQ 54.890625 34.8125 54.890625 23.390625 \nQ 54.890625 11.625 47.5625 5.09375 \nQ 40.234375 -1.421875 26.90625 -1.421875 \nQ 22.3125 -1.421875 17.546875 -0.640625 \nQ 12.796875 0.140625 7.71875 1.703125 \nL 7.71875 11.625 \nQ 12.109375 9.234375 16.796875 8.0625 \nQ 21.484375 6.890625 26.703125 6.890625 \nQ 35.15625 6.890625 40.078125 11.328125 \nQ 45.015625 15.765625 45.015625 23.390625 \nQ 45.015625 31 40.078125 35.4375 \nQ 35.15625 39.890625 26.703125 39.890625 \nQ 22.75 39.890625 18.8125 39.015625 \nQ 14.890625 38.140625 10.796875 36.28125 \nz\n\" id=\"DejaVuSans-53\"/>\n     <path d=\"M 10.6875 12.40625 \nL 21 12.40625 \nL 21 0 \nL 10.6875 0 \nz\n\" id=\"DejaVuSans-46\"/>\n     <path d=\"M 37.796875 64.3125 \nL 12.890625 25.390625 \nL 37.796875 25.390625 \nz\nM 35.203125 72.90625 \nL 47.609375 72.90625 \nL 47.609375 25.390625 \nL 58.015625 25.390625 \nL 58.015625 17.1875 \nL 47.609375 17.1875 \nL 47.609375 0 \nL 37.796875 0 \nL 37.796875 17.1875 \nL 4.890625 17.1875 \nL 4.890625 26.703125 \nz\n\" id=\"DejaVuSans-52\"/>\n     <path d=\"M 72.703125 32.078125 \nQ 68.453125 32.078125 66.03125 28.46875 \nQ 63.625 24.859375 63.625 18.40625 \nQ 63.625 12.0625 66.03125 8.421875 \nQ 68.453125 4.78125 72.703125 4.78125 \nQ 76.859375 4.78125 79.265625 8.421875 \nQ 81.6875 12.0625 81.6875 18.40625 \nQ 81.6875 24.8125 79.265625 28.4375 \nQ 76.859375 32.078125 72.703125 32.078125 \nz\nM 72.703125 38.28125 \nQ 80.421875 38.28125 84.953125 32.90625 \nQ 89.5 27.546875 89.5 18.40625 \nQ 89.5 9.28125 84.9375 3.921875 \nQ 80.375 -1.421875 72.703125 -1.421875 \nQ 64.890625 -1.421875 60.34375 3.921875 \nQ 55.8125 9.28125 55.8125 18.40625 \nQ 55.8125 27.59375 60.375 32.9375 \nQ 64.9375 38.28125 72.703125 38.28125 \nz\nM 22.3125 68.015625 \nQ 18.109375 68.015625 15.6875 64.375 \nQ 13.28125 60.75 13.28125 54.390625 \nQ 13.28125 47.953125 15.671875 44.328125 \nQ 18.0625 40.71875 22.3125 40.71875 \nQ 26.5625 40.71875 28.96875 44.328125 \nQ 31.390625 47.953125 31.390625 54.390625 \nQ 31.390625 60.6875 28.953125 64.34375 \nQ 26.515625 68.015625 22.3125 68.015625 \nz\nM 66.40625 74.21875 \nL 74.21875 74.21875 \nL 28.609375 -1.421875 \nL 20.796875 -1.421875 \nz\nM 22.3125 74.21875 \nQ 30.03125 74.21875 34.609375 68.875 \nQ 39.203125 63.53125 39.203125 54.390625 \nQ 39.203125 45.171875 34.640625 39.84375 \nQ 30.078125 34.515625 22.3125 34.515625 \nQ 14.546875 34.515625 10.03125 39.859375 \nQ 5.515625 45.21875 5.515625 54.390625 \nQ 5.515625 63.484375 10.046875 68.84375 \nQ 14.59375 74.21875 22.3125 74.21875 \nz\n\" id=\"DejaVuSans-37\"/>\n    </defs>\n    <g transform=\"translate(216.332664 139.649173)scale(0.1 -0.1)\">\n     <use xlink:href=\"#DejaVuSans-53\"/>\n     <use x=\"63.623047\" xlink:href=\"#DejaVuSans-46\"/>\n     <use x=\"95.410156\" xlink:href=\"#DejaVuSans-52\"/>\n     <use x=\"159.033203\" xlink:href=\"#DejaVuSans-37\"/>\n    </g>\n   </g>\n   <g id=\"text_4\">\n    <!-- retired -->\n    <defs>\n     <path d=\"M 56.203125 29.59375 \nL 56.203125 25.203125 \nL 14.890625 25.203125 \nQ 15.484375 15.921875 20.484375 11.0625 \nQ 25.484375 6.203125 34.421875 6.203125 \nQ 39.59375 6.203125 44.453125 7.46875 \nQ 49.3125 8.734375 54.109375 11.28125 \nL 54.109375 2.78125 \nQ 49.265625 0.734375 44.1875 -0.34375 \nQ 39.109375 -1.421875 33.890625 -1.421875 \nQ 20.796875 -1.421875 13.15625 6.1875 \nQ 5.515625 13.8125 5.515625 26.8125 \nQ 5.515625 40.234375 12.765625 48.109375 \nQ 20.015625 56 32.328125 56 \nQ 43.359375 56 49.78125 48.890625 \nQ 56.203125 41.796875 56.203125 29.59375 \nz\nM 47.21875 32.234375 \nQ 47.125 39.59375 43.09375 43.984375 \nQ 39.0625 48.390625 32.421875 48.390625 \nQ 24.90625 48.390625 20.390625 44.140625 \nQ 15.875 39.890625 15.1875 32.171875 \nz\n\" id=\"DejaVuSans-101\"/>\n     <path d=\"M 45.40625 46.390625 \nL 45.40625 75.984375 \nL 54.390625 75.984375 \nL 54.390625 0 \nL 45.40625 0 \nL 45.40625 8.203125 \nQ 42.578125 3.328125 38.25 0.953125 \nQ 33.9375 -1.421875 27.875 -1.421875 \nQ 17.96875 -1.421875 11.734375 6.484375 \nQ 5.515625 14.40625 5.515625 27.296875 \nQ 5.515625 40.1875 11.734375 48.09375 \nQ 17.96875 56 27.875 56 \nQ 33.9375 56 38.25 53.625 \nQ 42.578125 51.265625 45.40625 46.390625 \nz\nM 14.796875 27.296875 \nQ 14.796875 17.390625 18.875 11.75 \nQ 22.953125 6.109375 30.078125 6.109375 \nQ 37.203125 6.109375 41.296875 11.75 \nQ 45.40625 17.390625 45.40625 27.296875 \nQ 45.40625 37.203125 41.296875 42.84375 \nQ 37.203125 48.484375 30.078125 48.484375 \nQ 22.953125 48.484375 18.875 42.84375 \nQ 14.796875 37.203125 14.796875 27.296875 \nz\n\" id=\"DejaVuSans-100\"/>\n    </defs>\n    <g transform=\"translate(141.438381 65.281785)scale(0.1 -0.1)\">\n     <use xlink:href=\"#DejaVuSans-114\"/>\n     <use x=\"38.863281\" xlink:href=\"#DejaVuSans-101\"/>\n     <use x=\"100.386719\" xlink:href=\"#DejaVuSans-116\"/>\n     <use x=\"139.595703\" xlink:href=\"#DejaVuSans-105\"/>\n     <use x=\"167.378906\" xlink:href=\"#DejaVuSans-114\"/>\n     <use x=\"206.242188\" xlink:href=\"#DejaVuSans-101\"/>\n     <use x=\"267.765625\" xlink:href=\"#DejaVuSans-100\"/>\n    </g>\n   </g>\n   <g id=\"text_5\">\n    <!-- 1.5% -->\n    <defs>\n     <path d=\"M 12.40625 8.296875 \nL 28.515625 8.296875 \nL 28.515625 63.921875 \nL 10.984375 60.40625 \nL 10.984375 69.390625 \nL 28.421875 72.90625 \nL 38.28125 72.90625 \nL 38.28125 8.296875 \nL 54.390625 8.296875 \nL 54.390625 0 \nL 12.40625 0 \nz\n\" id=\"DejaVuSans-49\"/>\n    </defs>\n    <g transform=\"translate(194.642723 145.843473)scale(0.1 -0.1)\">\n     <use xlink:href=\"#DejaVuSans-49\"/>\n     <use x=\"63.623047\" xlink:href=\"#DejaVuSans-46\"/>\n     <use x=\"95.410156\" xlink:href=\"#DejaVuSans-53\"/>\n     <use x=\"159.033203\" xlink:href=\"#DejaVuSans-37\"/>\n    </g>\n   </g>\n   <g id=\"text_6\">\n    <!-- lawyer -->\n    <defs>\n     <path d=\"M 4.203125 54.6875 \nL 13.1875 54.6875 \nL 24.421875 12.015625 \nL 35.59375 54.6875 \nL 46.1875 54.6875 \nL 57.421875 12.015625 \nL 68.609375 54.6875 \nL 77.59375 54.6875 \nL 63.28125 0 \nL 52.6875 0 \nL 40.921875 44.828125 \nL 29.109375 0 \nL 18.5 0 \nz\n\" id=\"DejaVuSans-119\"/>\n     <path d=\"M 32.171875 -5.078125 \nQ 28.375 -14.84375 24.75 -17.8125 \nQ 21.140625 -20.796875 15.09375 -20.796875 \nL 7.90625 -20.796875 \nL 7.90625 -13.28125 \nL 13.1875 -13.28125 \nQ 16.890625 -13.28125 18.9375 -11.515625 \nQ 21 -9.765625 23.484375 -3.21875 \nL 25.09375 0.875 \nL 2.984375 54.6875 \nL 12.5 54.6875 \nL 29.59375 11.921875 \nL 46.6875 54.6875 \nL 56.203125 54.6875 \nz\n\" id=\"DejaVuSans-121\"/>\n    </defs>\n    <g transform=\"translate(126.233842 72.185355)scale(0.1 -0.1)\">\n     <use xlink:href=\"#DejaVuSans-108\"/>\n     <use x=\"27.783203\" xlink:href=\"#DejaVuSans-97\"/>\n     <use x=\"89.0625\" xlink:href=\"#DejaVuSans-119\"/>\n     <use x=\"170.849609\" xlink:href=\"#DejaVuSans-121\"/>\n     <use x=\"230.029297\" xlink:href=\"#DejaVuSans-101\"/>\n     <use x=\"291.552734\" xlink:href=\"#DejaVuSans-114\"/>\n    </g>\n   </g>\n   <g id=\"text_7\">\n    <!-- 1.3% -->\n    <defs>\n     <path d=\"M 40.578125 39.3125 \nQ 47.65625 37.796875 51.625 33 \nQ 55.609375 28.21875 55.609375 21.1875 \nQ 55.609375 10.40625 48.1875 4.484375 \nQ 40.765625 -1.421875 27.09375 -1.421875 \nQ 22.515625 -1.421875 17.65625 -0.515625 \nQ 12.796875 0.390625 7.625 2.203125 \nL 7.625 11.71875 \nQ 11.71875 9.328125 16.59375 8.109375 \nQ 21.484375 6.890625 26.8125 6.890625 \nQ 36.078125 6.890625 40.9375 10.546875 \nQ 45.796875 14.203125 45.796875 21.1875 \nQ 45.796875 27.640625 41.28125 31.265625 \nQ 36.765625 34.90625 28.71875 34.90625 \nL 20.21875 34.90625 \nL 20.21875 43.015625 \nL 29.109375 43.015625 \nQ 36.375 43.015625 40.234375 45.921875 \nQ 44.09375 48.828125 44.09375 54.296875 \nQ 44.09375 59.90625 40.109375 62.90625 \nQ 36.140625 65.921875 28.71875 65.921875 \nQ 24.65625 65.921875 20.015625 65.03125 \nQ 15.375 64.15625 9.8125 62.3125 \nL 9.8125 71.09375 \nQ 15.4375 72.65625 20.34375 73.4375 \nQ 25.25 74.21875 29.59375 74.21875 \nQ 40.828125 74.21875 47.359375 69.109375 \nQ 53.90625 64.015625 53.90625 55.328125 \nQ 53.90625 49.265625 50.4375 45.09375 \nQ 46.96875 40.921875 40.578125 39.3125 \nz\n\" id=\"DejaVuSans-51\"/>\n    </defs>\n    <g transform=\"translate(186.426894 149.609057)scale(0.1 -0.1)\">\n     <use xlink:href=\"#DejaVuSans-49\"/>\n     <use x=\"63.623047\" xlink:href=\"#DejaVuSans-46\"/>\n     <use x=\"95.410156\" xlink:href=\"#DejaVuSans-51\"/>\n     <use x=\"159.033203\" xlink:href=\"#DejaVuSans-37\"/>\n    </g>\n   </g>\n   <g id=\"text_8\">\n    <!-- none -->\n    <g transform=\"translate(122.860498 78.696427)scale(0.1 -0.1)\">\n     <use xlink:href=\"#DejaVuSans-110\"/>\n     <use x=\"63.378906\" xlink:href=\"#DejaVuSans-111\"/>\n     <use x=\"124.560547\" xlink:href=\"#DejaVuSans-110\"/>\n     <use x=\"187.939453\" xlink:href=\"#DejaVuSans-101\"/>\n    </g>\n   </g>\n   <g id=\"text_9\">\n    <!-- 1.0% -->\n    <defs>\n     <path d=\"M 31.78125 66.40625 \nQ 24.171875 66.40625 20.328125 58.90625 \nQ 16.5 51.421875 16.5 36.375 \nQ 16.5 21.390625 20.328125 13.890625 \nQ 24.171875 6.390625 31.78125 6.390625 \nQ 39.453125 6.390625 43.28125 13.890625 \nQ 47.125 21.390625 47.125 36.375 \nQ 47.125 51.421875 43.28125 58.90625 \nQ 39.453125 66.40625 31.78125 66.40625 \nz\nM 31.78125 74.21875 \nQ 44.046875 74.21875 50.515625 64.515625 \nQ 56.984375 54.828125 56.984375 36.375 \nQ 56.984375 17.96875 50.515625 8.265625 \nQ 44.046875 -1.421875 31.78125 -1.421875 \nQ 19.53125 -1.421875 13.0625 8.265625 \nQ 6.59375 17.96875 6.59375 36.375 \nQ 6.59375 54.828125 13.0625 64.515625 \nQ 19.53125 74.21875 31.78125 74.21875 \nz\n\" id=\"DejaVuSans-48\"/>\n    </defs>\n    <g transform=\"translate(180.048536 153.160551)scale(0.1 -0.1)\">\n     <use xlink:href=\"#DejaVuSans-49\"/>\n     <use x=\"63.623047\" xlink:href=\"#DejaVuSans-46\"/>\n     <use x=\"95.410156\" xlink:href=\"#DejaVuSans-48\"/>\n     <use x=\"159.033203\" xlink:href=\"#DejaVuSans-37\"/>\n    </g>\n   </g>\n   <g id=\"text_10\">\n    <!-- writer -->\n    <g transform=\"translate(90.838763 99.032228)scale(0.1 -0.1)\">\n     <use xlink:href=\"#DejaVuSans-119\"/>\n     <use x=\"81.787109\" xlink:href=\"#DejaVuSans-114\"/>\n     <use x=\"122.900391\" xlink:href=\"#DejaVuSans-105\"/>\n     <use x=\"150.683594\" xlink:href=\"#DejaVuSans-116\"/>\n     <use x=\"189.892578\" xlink:href=\"#DejaVuSans-101\"/>\n     <use x=\"251.416016\" xlink:href=\"#DejaVuSans-114\"/>\n    </g>\n   </g>\n   <g id=\"text_11\">\n    <!-- 4.8% -->\n    <defs>\n     <path d=\"M 31.78125 34.625 \nQ 24.75 34.625 20.71875 30.859375 \nQ 16.703125 27.09375 16.703125 20.515625 \nQ 16.703125 13.921875 20.71875 10.15625 \nQ 24.75 6.390625 31.78125 6.390625 \nQ 38.8125 6.390625 42.859375 10.171875 \nQ 46.921875 13.96875 46.921875 20.515625 \nQ 46.921875 27.09375 42.890625 30.859375 \nQ 38.875 34.625 31.78125 34.625 \nz\nM 21.921875 38.8125 \nQ 15.578125 40.375 12.03125 44.71875 \nQ 8.5 49.078125 8.5 55.328125 \nQ 8.5 64.0625 14.71875 69.140625 \nQ 20.953125 74.21875 31.78125 74.21875 \nQ 42.671875 74.21875 48.875 69.140625 \nQ 55.078125 64.0625 55.078125 55.328125 \nQ 55.078125 49.078125 51.53125 44.71875 \nQ 48 40.375 41.703125 38.8125 \nQ 48.828125 37.15625 52.796875 32.3125 \nQ 56.78125 27.484375 56.78125 20.515625 \nQ 56.78125 9.90625 50.3125 4.234375 \nQ 43.84375 -1.421875 31.78125 -1.421875 \nQ 19.734375 -1.421875 13.25 4.234375 \nQ 6.78125 9.90625 6.78125 20.515625 \nQ 6.78125 27.484375 10.78125 32.3125 \nQ 14.796875 37.15625 21.921875 38.8125 \nz\nM 18.3125 54.390625 \nQ 18.3125 48.734375 21.84375 45.5625 \nQ 25.390625 42.390625 31.78125 42.390625 \nQ 38.140625 42.390625 41.71875 45.5625 \nQ 45.3125 48.734375 45.3125 54.390625 \nQ 45.3125 60.0625 41.71875 63.234375 \nQ 38.140625 66.40625 31.78125 66.40625 \nQ 25.390625 66.40625 21.84375 63.234375 \nQ 18.3125 60.0625 18.3125 54.390625 \nz\n\" id=\"DejaVuSans-56\"/>\n    </defs>\n    <g transform=\"translate(164.930146 164.252806)scale(0.1 -0.1)\">\n     <use xlink:href=\"#DejaVuSans-52\"/>\n     <use x=\"63.623047\" xlink:href=\"#DejaVuSans-46\"/>\n     <use x=\"95.410156\" xlink:href=\"#DejaVuSans-56\"/>\n     <use x=\"159.033203\" xlink:href=\"#DejaVuSans-37\"/>\n    </g>\n   </g>\n   <g id=\"text_12\">\n    <!-- programmer -->\n    <defs>\n     <path d=\"M 18.109375 8.203125 \nL 18.109375 -20.796875 \nL 9.078125 -20.796875 \nL 9.078125 54.6875 \nL 18.109375 54.6875 \nL 18.109375 46.390625 \nQ 20.953125 51.265625 25.265625 53.625 \nQ 29.59375 56 35.59375 56 \nQ 45.5625 56 51.78125 48.09375 \nQ 58.015625 40.1875 58.015625 27.296875 \nQ 58.015625 14.40625 51.78125 6.484375 \nQ 45.5625 -1.421875 35.59375 -1.421875 \nQ 29.59375 -1.421875 25.265625 0.953125 \nQ 20.953125 3.328125 18.109375 8.203125 \nz\nM 48.6875 27.296875 \nQ 48.6875 37.203125 44.609375 42.84375 \nQ 40.53125 48.484375 33.40625 48.484375 \nQ 26.265625 48.484375 22.1875 42.84375 \nQ 18.109375 37.203125 18.109375 27.296875 \nQ 18.109375 17.390625 22.1875 11.75 \nQ 26.265625 6.109375 33.40625 6.109375 \nQ 40.53125 6.109375 44.609375 11.75 \nQ 48.6875 17.390625 48.6875 27.296875 \nz\n\" id=\"DejaVuSans-112\"/>\n     <path d=\"M 45.40625 27.984375 \nQ 45.40625 37.75 41.375 43.109375 \nQ 37.359375 48.484375 30.078125 48.484375 \nQ 22.859375 48.484375 18.828125 43.109375 \nQ 14.796875 37.75 14.796875 27.984375 \nQ 14.796875 18.265625 18.828125 12.890625 \nQ 22.859375 7.515625 30.078125 7.515625 \nQ 37.359375 7.515625 41.375 12.890625 \nQ 45.40625 18.265625 45.40625 27.984375 \nz\nM 54.390625 6.78125 \nQ 54.390625 -7.171875 48.1875 -13.984375 \nQ 42 -20.796875 29.203125 -20.796875 \nQ 24.46875 -20.796875 20.265625 -20.09375 \nQ 16.0625 -19.390625 12.109375 -17.921875 \nL 12.109375 -9.1875 \nQ 16.0625 -11.328125 19.921875 -12.34375 \nQ 23.78125 -13.375 27.78125 -13.375 \nQ 36.625 -13.375 41.015625 -8.765625 \nQ 45.40625 -4.15625 45.40625 5.171875 \nL 45.40625 9.625 \nQ 42.625 4.78125 38.28125 2.390625 \nQ 33.9375 0 27.875 0 \nQ 17.828125 0 11.671875 7.65625 \nQ 5.515625 15.328125 5.515625 27.984375 \nQ 5.515625 40.671875 11.671875 48.328125 \nQ 17.828125 56 27.875 56 \nQ 33.9375 56 38.28125 53.609375 \nQ 42.625 51.21875 45.40625 46.390625 \nL 45.40625 54.6875 \nL 54.390625 54.6875 \nz\n\" id=\"DejaVuSans-103\"/>\n     <path d=\"M 52 44.1875 \nQ 55.375 50.25 60.0625 53.125 \nQ 64.75 56 71.09375 56 \nQ 79.640625 56 84.28125 50.015625 \nQ 88.921875 44.046875 88.921875 33.015625 \nL 88.921875 0 \nL 79.890625 0 \nL 79.890625 32.71875 \nQ 79.890625 40.578125 77.09375 44.375 \nQ 74.3125 48.1875 68.609375 48.1875 \nQ 61.625 48.1875 57.5625 43.546875 \nQ 53.515625 38.921875 53.515625 30.90625 \nL 53.515625 0 \nL 44.484375 0 \nL 44.484375 32.71875 \nQ 44.484375 40.625 41.703125 44.40625 \nQ 38.921875 48.1875 33.109375 48.1875 \nQ 26.21875 48.1875 22.15625 43.53125 \nQ 18.109375 38.875 18.109375 30.90625 \nL 18.109375 0 \nL 9.078125 0 \nL 9.078125 54.6875 \nL 18.109375 54.6875 \nL 18.109375 46.1875 \nQ 21.1875 51.21875 25.484375 53.609375 \nQ 29.78125 56 35.6875 56 \nQ 41.65625 56 45.828125 52.96875 \nQ 50 49.953125 52 44.1875 \nz\n\" id=\"DejaVuSans-109\"/>\n    </defs>\n    <g transform=\"translate(14.102801 154.485343)scale(0.1 -0.1)\">\n     <use xlink:href=\"#DejaVuSans-112\"/>\n     <use x=\"63.476562\" xlink:href=\"#DejaVuSans-114\"/>\n     <use x=\"102.339844\" xlink:href=\"#DejaVuSans-111\"/>\n     <use x=\"163.521484\" xlink:href=\"#DejaVuSans-103\"/>\n     <use x=\"226.998047\" xlink:href=\"#DejaVuSans-114\"/>\n     <use x=\"268.111328\" xlink:href=\"#DejaVuSans-97\"/>\n     <use x=\"329.390625\" xlink:href=\"#DejaVuSans-109\"/>\n     <use x=\"426.802734\" xlink:href=\"#DejaVuSans-109\"/>\n     <use x=\"524.214844\" xlink:href=\"#DejaVuSans-101\"/>\n     <use x=\"585.738281\" xlink:href=\"#DejaVuSans-114\"/>\n    </g>\n   </g>\n   <g id=\"text_13\">\n    <!-- 7.0% -->\n    <defs>\n     <path d=\"M 8.203125 72.90625 \nL 55.078125 72.90625 \nL 55.078125 68.703125 \nL 28.609375 0 \nL 18.3125 0 \nL 43.21875 64.59375 \nL 8.203125 64.59375 \nz\n\" id=\"DejaVuSans-55\"/>\n    </defs>\n    <g transform=\"translate(141.311099 194.49996)scale(0.1 -0.1)\">\n     <use xlink:href=\"#DejaVuSans-55\"/>\n     <use x=\"63.623047\" xlink:href=\"#DejaVuSans-46\"/>\n     <use x=\"95.410156\" xlink:href=\"#DejaVuSans-48\"/>\n     <use x=\"159.033203\" xlink:href=\"#DejaVuSans-37\"/>\n    </g>\n   </g>\n   <g id=\"text_14\">\n    <!-- marketing -->\n    <defs>\n     <path d=\"M 9.078125 75.984375 \nL 18.109375 75.984375 \nL 18.109375 31.109375 \nL 44.921875 54.6875 \nL 56.390625 54.6875 \nL 27.390625 29.109375 \nL 57.625 0 \nL 45.90625 0 \nL 18.109375 26.703125 \nL 18.109375 0 \nL 9.078125 0 \nz\n\" id=\"DejaVuSans-107\"/>\n    </defs>\n    <g transform=\"translate(7.2 209.848585)scale(0.1 -0.1)\">\n     <use xlink:href=\"#DejaVuSans-109\"/>\n     <use x=\"97.412109\" xlink:href=\"#DejaVuSans-97\"/>\n     <use x=\"158.691406\" xlink:href=\"#DejaVuSans-114\"/>\n     <use x=\"199.804688\" xlink:href=\"#DejaVuSans-107\"/>\n     <use x=\"254.089844\" xlink:href=\"#DejaVuSans-101\"/>\n     <use x=\"315.613281\" xlink:href=\"#DejaVuSans-116\"/>\n     <use x=\"354.822266\" xlink:href=\"#DejaVuSans-105\"/>\n     <use x=\"382.605469\" xlink:href=\"#DejaVuSans-110\"/>\n     <use x=\"445.984375\" xlink:href=\"#DejaVuSans-103\"/>\n    </g>\n   </g>\n   <g id=\"text_15\">\n    <!-- 2.8% -->\n    <defs>\n     <path d=\"M 19.1875 8.296875 \nL 53.609375 8.296875 \nL 53.609375 0 \nL 7.328125 0 \nL 7.328125 8.296875 \nQ 12.9375 14.109375 22.625 23.890625 \nQ 32.328125 33.6875 34.8125 36.53125 \nQ 39.546875 41.84375 41.421875 45.53125 \nQ 43.3125 49.21875 43.3125 52.78125 \nQ 43.3125 58.59375 39.234375 62.25 \nQ 35.15625 65.921875 28.609375 65.921875 \nQ 23.96875 65.921875 18.8125 64.3125 \nQ 13.671875 62.703125 7.8125 59.421875 \nL 7.8125 69.390625 \nQ 13.765625 71.78125 18.9375 73 \nQ 24.125 74.21875 28.421875 74.21875 \nQ 39.75 74.21875 46.484375 68.546875 \nQ 53.21875 62.890625 53.21875 53.421875 \nQ 53.21875 48.921875 51.53125 44.890625 \nQ 49.859375 40.875 45.40625 35.40625 \nQ 44.1875 33.984375 37.640625 27.21875 \nQ 31.109375 20.453125 19.1875 8.296875 \nz\n\" id=\"DejaVuSans-50\"/>\n    </defs>\n    <g transform=\"translate(131.141958 224.698092)scale(0.1 -0.1)\">\n     <use xlink:href=\"#DejaVuSans-50\"/>\n     <use x=\"63.623047\" xlink:href=\"#DejaVuSans-46\"/>\n     <use x=\"95.410156\" xlink:href=\"#DejaVuSans-56\"/>\n     <use x=\"159.033203\" xlink:href=\"#DejaVuSans-37\"/>\n    </g>\n   </g>\n   <g id=\"text_16\">\n    <!-- other -->\n    <defs>\n     <path d=\"M 54.890625 33.015625 \nL 54.890625 0 \nL 45.90625 0 \nL 45.90625 32.71875 \nQ 45.90625 40.484375 42.875 44.328125 \nQ 39.84375 48.1875 33.796875 48.1875 \nQ 26.515625 48.1875 22.3125 43.546875 \nQ 18.109375 38.921875 18.109375 30.90625 \nL 18.109375 0 \nL 9.078125 0 \nL 9.078125 75.984375 \nL 18.109375 75.984375 \nL 18.109375 46.1875 \nQ 21.34375 51.125 25.703125 53.5625 \nQ 30.078125 56 35.796875 56 \nQ 45.21875 56 50.046875 50.171875 \nQ 54.890625 44.34375 54.890625 33.015625 \nz\n\" id=\"DejaVuSans-104\"/>\n    </defs>\n    <g transform=\"translate(35.367363 292.606005)scale(0.1 -0.1)\">\n     <use xlink:href=\"#DejaVuSans-111\"/>\n     <use x=\"61.181641\" xlink:href=\"#DejaVuSans-116\"/>\n     <use x=\"100.390625\" xlink:href=\"#DejaVuSans-104\"/>\n     <use x=\"163.769531\" xlink:href=\"#DejaVuSans-101\"/>\n     <use x=\"225.292969\" xlink:href=\"#DejaVuSans-114\"/>\n    </g>\n   </g>\n   <g id=\"text_17\">\n    <!-- 11.1% -->\n    <g transform=\"translate(130.067622 269.838503)scale(0.1 -0.1)\">\n     <use xlink:href=\"#DejaVuSans-49\"/>\n     <use x=\"63.623047\" xlink:href=\"#DejaVuSans-49\"/>\n     <use x=\"127.246094\" xlink:href=\"#DejaVuSans-46\"/>\n     <use x=\"159.033203\" xlink:href=\"#DejaVuSans-49\"/>\n     <use x=\"222.65625\" xlink:href=\"#DejaVuSans-37\"/>\n    </g>\n   </g>\n   <g id=\"text_18\">\n    <!-- executive -->\n    <defs>\n     <path d=\"M 54.890625 54.6875 \nL 35.109375 28.078125 \nL 55.90625 0 \nL 45.3125 0 \nL 29.390625 21.484375 \nL 13.484375 0 \nL 2.875 0 \nL 24.125 28.609375 \nL 4.6875 54.6875 \nL 15.28125 54.6875 \nL 29.78125 35.203125 \nL 44.28125 54.6875 \nz\n\" id=\"DejaVuSans-120\"/>\n     <path d=\"M 2.984375 54.6875 \nL 12.5 54.6875 \nL 29.59375 8.796875 \nL 46.6875 54.6875 \nL 56.203125 54.6875 \nL 35.6875 0 \nL 23.484375 0 \nz\n\" id=\"DejaVuSans-118\"/>\n    </defs>\n    <g transform=\"translate(54.643397 368.871081)scale(0.1 -0.1)\">\n     <use xlink:href=\"#DejaVuSans-101\"/>\n     <use x=\"59.773438\" xlink:href=\"#DejaVuSans-120\"/>\n     <use x=\"115.828125\" xlink:href=\"#DejaVuSans-101\"/>\n     <use x=\"177.351562\" xlink:href=\"#DejaVuSans-99\"/>\n     <use x=\"232.332031\" xlink:href=\"#DejaVuSans-117\"/>\n     <use x=\"295.710938\" xlink:href=\"#DejaVuSans-116\"/>\n     <use x=\"334.919922\" xlink:href=\"#DejaVuSans-105\"/>\n     <use x=\"362.703125\" xlink:href=\"#DejaVuSans-118\"/>\n     <use x=\"421.882812\" xlink:href=\"#DejaVuSans-101\"/>\n    </g>\n   </g>\n   <g id=\"text_19\">\n    <!-- 3.4% -->\n    <g transform=\"translate(155.60114 311.437635)scale(0.1 -0.1)\">\n     <use xlink:href=\"#DejaVuSans-51\"/>\n     <use x=\"63.623047\" xlink:href=\"#DejaVuSans-46\"/>\n     <use x=\"95.410156\" xlink:href=\"#DejaVuSans-52\"/>\n     <use x=\"159.033203\" xlink:href=\"#DejaVuSans-37\"/>\n    </g>\n   </g>\n   <g id=\"text_20\">\n    <!-- scientist -->\n    <g transform=\"translate(90.661129 396.036768)scale(0.1 -0.1)\">\n     <use xlink:href=\"#DejaVuSans-115\"/>\n     <use x=\"52.099609\" xlink:href=\"#DejaVuSans-99\"/>\n     <use x=\"107.080078\" xlink:href=\"#DejaVuSans-105\"/>\n     <use x=\"134.863281\" xlink:href=\"#DejaVuSans-101\"/>\n     <use x=\"196.386719\" xlink:href=\"#DejaVuSans-110\"/>\n     <use x=\"259.765625\" xlink:href=\"#DejaVuSans-116\"/>\n     <use x=\"298.974609\" xlink:href=\"#DejaVuSans-105\"/>\n     <use x=\"326.757812\" xlink:href=\"#DejaVuSans-115\"/>\n     <use x=\"378.857422\" xlink:href=\"#DejaVuSans-116\"/>\n    </g>\n   </g>\n   <g id=\"text_21\">\n    <!-- 3.3% -->\n    <g transform=\"translate(171.680415 326.255283)scale(0.1 -0.1)\">\n     <use xlink:href=\"#DejaVuSans-51\"/>\n     <use x=\"63.623047\" xlink:href=\"#DejaVuSans-46\"/>\n     <use x=\"95.410156\" xlink:href=\"#DejaVuSans-51\"/>\n     <use x=\"159.033203\" xlink:href=\"#DejaVuSans-37\"/>\n    </g>\n   </g>\n   <g id=\"text_22\">\n    <!-- student -->\n    <g transform=\"translate(268.944045 432.565391)scale(0.1 -0.1)\">\n     <use xlink:href=\"#DejaVuSans-115\"/>\n     <use x=\"52.099609\" xlink:href=\"#DejaVuSans-116\"/>\n     <use x=\"91.308594\" xlink:href=\"#DejaVuSans-117\"/>\n     <use x=\"154.6875\" xlink:href=\"#DejaVuSans-100\"/>\n     <use x=\"218.164062\" xlink:href=\"#DejaVuSans-101\"/>\n     <use x=\"279.6875\" xlink:href=\"#DejaVuSans-110\"/>\n     <use x=\"343.066406\" xlink:href=\"#DejaVuSans-116\"/>\n    </g>\n   </g>\n   <g id=\"text_23\">\n    <!-- 20.8% -->\n    <g transform=\"translate(242.941835 346.179986)scale(0.1 -0.1)\">\n     <use xlink:href=\"#DejaVuSans-50\"/>\n     <use x=\"63.623047\" xlink:href=\"#DejaVuSans-48\"/>\n     <use x=\"127.246094\" xlink:href=\"#DejaVuSans-46\"/>\n     <use x=\"159.033203\" xlink:href=\"#DejaVuSans-56\"/>\n     <use x=\"222.65625\" xlink:href=\"#DejaVuSans-37\"/>\n    </g>\n   </g>\n   <g id=\"text_24\">\n    <!-- salesman -->\n    <g transform=\"translate(385.21422 374.513244)scale(0.1 -0.1)\">\n     <use xlink:href=\"#DejaVuSans-115\"/>\n     <use x=\"52.099609\" xlink:href=\"#DejaVuSans-97\"/>\n     <use x=\"113.378906\" xlink:href=\"#DejaVuSans-108\"/>\n     <use x=\"141.162109\" xlink:href=\"#DejaVuSans-101\"/>\n     <use x=\"202.685547\" xlink:href=\"#DejaVuSans-115\"/>\n     <use x=\"254.785156\" xlink:href=\"#DejaVuSans-109\"/>\n     <use x=\"352.197266\" xlink:href=\"#DejaVuSans-97\"/>\n     <use x=\"413.476562\" xlink:href=\"#DejaVuSans-110\"/>\n    </g>\n   </g>\n   <g id=\"text_25\">\n    <!-- 1.3% -->\n    <g transform=\"translate(309.54318 314.515179)scale(0.1 -0.1)\">\n     <use xlink:href=\"#DejaVuSans-49\"/>\n     <use x=\"63.623047\" xlink:href=\"#DejaVuSans-46\"/>\n     <use x=\"95.410156\" xlink:href=\"#DejaVuSans-51\"/>\n     <use x=\"159.033203\" xlink:href=\"#DejaVuSans-37\"/>\n    </g>\n   </g>\n   <g id=\"text_26\">\n    <!-- artist -->\n    <g transform=\"translate(401.523688 354.936981)scale(0.1 -0.1)\">\n     <use xlink:href=\"#DejaVuSans-97\"/>\n     <use x=\"61.279297\" xlink:href=\"#DejaVuSans-114\"/>\n     <use x=\"102.392578\" xlink:href=\"#DejaVuSans-116\"/>\n     <use x=\"141.601562\" xlink:href=\"#DejaVuSans-105\"/>\n     <use x=\"169.384766\" xlink:href=\"#DejaVuSans-115\"/>\n     <use x=\"221.484375\" xlink:href=\"#DejaVuSans-116\"/>\n    </g>\n   </g>\n   <g id=\"text_27\">\n    <!-- 3.0% -->\n    <g transform=\"translate(318.439254 303.837217)scale(0.1 -0.1)\">\n     <use xlink:href=\"#DejaVuSans-51\"/>\n     <use x=\"63.623047\" xlink:href=\"#DejaVuSans-46\"/>\n     <use x=\"95.410156\" xlink:href=\"#DejaVuSans-48\"/>\n     <use x=\"159.033203\" xlink:href=\"#DejaVuSans-37\"/>\n    </g>\n   </g>\n   <g id=\"text_28\">\n    <!-- technician -->\n    <g transform=\"translate(419.415406 324.841843)scale(0.1 -0.1)\">\n     <use xlink:href=\"#DejaVuSans-116\"/>\n     <use x=\"39.208984\" xlink:href=\"#DejaVuSans-101\"/>\n     <use x=\"100.732422\" xlink:href=\"#DejaVuSans-99\"/>\n     <use x=\"155.712891\" xlink:href=\"#DejaVuSans-104\"/>\n     <use x=\"219.091797\" xlink:href=\"#DejaVuSans-110\"/>\n     <use x=\"282.470703\" xlink:href=\"#DejaVuSans-105\"/>\n     <use x=\"310.253906\" xlink:href=\"#DejaVuSans-99\"/>\n     <use x=\"365.234375\" xlink:href=\"#DejaVuSans-105\"/>\n     <use x=\"393.017578\" xlink:href=\"#DejaVuSans-97\"/>\n     <use x=\"454.296875\" xlink:href=\"#DejaVuSans-110\"/>\n    </g>\n   </g>\n   <g id=\"text_29\">\n    <!-- 2.9% -->\n    <defs>\n     <path d=\"M 10.984375 1.515625 \nL 10.984375 10.5 \nQ 14.703125 8.734375 18.5 7.8125 \nQ 22.3125 6.890625 25.984375 6.890625 \nQ 35.75 6.890625 40.890625 13.453125 \nQ 46.046875 20.015625 46.78125 33.40625 \nQ 43.953125 29.203125 39.59375 26.953125 \nQ 35.25 24.703125 29.984375 24.703125 \nQ 19.046875 24.703125 12.671875 31.3125 \nQ 6.296875 37.9375 6.296875 49.421875 \nQ 6.296875 60.640625 12.9375 67.421875 \nQ 19.578125 74.21875 30.609375 74.21875 \nQ 43.265625 74.21875 49.921875 64.515625 \nQ 56.59375 54.828125 56.59375 36.375 \nQ 56.59375 19.140625 48.40625 8.859375 \nQ 40.234375 -1.421875 26.421875 -1.421875 \nQ 22.703125 -1.421875 18.890625 -0.6875 \nQ 15.09375 0.046875 10.984375 1.515625 \nz\nM 30.609375 32.421875 \nQ 37.25 32.421875 41.125 36.953125 \nQ 45.015625 41.5 45.015625 49.421875 \nQ 45.015625 57.28125 41.125 61.84375 \nQ 37.25 66.40625 30.609375 66.40625 \nQ 23.96875 66.40625 20.09375 61.84375 \nQ 16.21875 57.28125 16.21875 49.421875 \nQ 16.21875 41.5 20.09375 36.953125 \nQ 23.96875 32.421875 30.609375 32.421875 \nz\n\" id=\"DejaVuSans-57\"/>\n    </defs>\n    <g transform=\"translate(328.198372 287.421687)scale(0.1 -0.1)\">\n     <use xlink:href=\"#DejaVuSans-50\"/>\n     <use x=\"63.623047\" xlink:href=\"#DejaVuSans-46\"/>\n     <use x=\"95.410156\" xlink:href=\"#DejaVuSans-57\"/>\n     <use x=\"159.033203\" xlink:href=\"#DejaVuSans-37\"/>\n    </g>\n   </g>\n   <g id=\"text_30\">\n    <!-- administrator -->\n    <g transform=\"translate(437.227816 260.023429)scale(0.1 -0.1)\">\n     <use xlink:href=\"#DejaVuSans-97\"/>\n     <use x=\"61.279297\" xlink:href=\"#DejaVuSans-100\"/>\n     <use x=\"124.755859\" xlink:href=\"#DejaVuSans-109\"/>\n     <use x=\"222.167969\" xlink:href=\"#DejaVuSans-105\"/>\n     <use x=\"249.951172\" xlink:href=\"#DejaVuSans-110\"/>\n     <use x=\"313.330078\" xlink:href=\"#DejaVuSans-105\"/>\n     <use x=\"341.113281\" xlink:href=\"#DejaVuSans-115\"/>\n     <use x=\"393.212891\" xlink:href=\"#DejaVuSans-116\"/>\n     <use x=\"432.421875\" xlink:href=\"#DejaVuSans-114\"/>\n     <use x=\"473.535156\" xlink:href=\"#DejaVuSans-97\"/>\n     <use x=\"534.814453\" xlink:href=\"#DejaVuSans-116\"/>\n     <use x=\"574.023438\" xlink:href=\"#DejaVuSans-111\"/>\n     <use x=\"635.205078\" xlink:href=\"#DejaVuSans-114\"/>\n    </g>\n   </g>\n   <g id=\"text_31\">\n    <!-- 8.4% -->\n    <g transform=\"translate(337.914233 252.066189)scale(0.1 -0.1)\">\n     <use xlink:href=\"#DejaVuSans-56\"/>\n     <use x=\"63.623047\" xlink:href=\"#DejaVuSans-46\"/>\n     <use x=\"95.410156\" xlink:href=\"#DejaVuSans-52\"/>\n     <use x=\"159.033203\" xlink:href=\"#DejaVuSans-37\"/>\n    </g>\n   </g>\n   <g id=\"text_32\">\n    <!-- engineer -->\n    <g transform=\"translate(423.311997 168.924162)scale(0.1 -0.1)\">\n     <use xlink:href=\"#DejaVuSans-101\"/>\n     <use x=\"61.523438\" xlink:href=\"#DejaVuSans-110\"/>\n     <use x=\"124.902344\" xlink:href=\"#DejaVuSans-103\"/>\n     <use x=\"188.378906\" xlink:href=\"#DejaVuSans-105\"/>\n     <use x=\"216.162109\" xlink:href=\"#DejaVuSans-110\"/>\n     <use x=\"279.541016\" xlink:href=\"#DejaVuSans-101\"/>\n     <use x=\"341.064453\" xlink:href=\"#DejaVuSans-101\"/>\n     <use x=\"402.587891\" xlink:href=\"#DejaVuSans-114\"/>\n    </g>\n   </g>\n   <g id=\"text_33\">\n    <!-- 7.1% -->\n    <g transform=\"translate(330.323786 202.375679)scale(0.1 -0.1)\">\n     <use xlink:href=\"#DejaVuSans-55\"/>\n     <use x=\"63.623047\" xlink:href=\"#DejaVuSans-46\"/>\n     <use x=\"95.410156\" xlink:href=\"#DejaVuSans-49\"/>\n     <use x=\"159.033203\" xlink:href=\"#DejaVuSans-37\"/>\n    </g>\n   </g>\n   <g id=\"text_34\">\n    <!-- healthcare -->\n    <g transform=\"translate(396.511199 123.499483)scale(0.1 -0.1)\">\n     <use xlink:href=\"#DejaVuSans-104\"/>\n     <use x=\"63.378906\" xlink:href=\"#DejaVuSans-101\"/>\n     <use x=\"124.902344\" xlink:href=\"#DejaVuSans-97\"/>\n     <use x=\"186.181641\" xlink:href=\"#DejaVuSans-108\"/>\n     <use x=\"213.964844\" xlink:href=\"#DejaVuSans-116\"/>\n     <use x=\"253.173828\" xlink:href=\"#DejaVuSans-104\"/>\n     <use x=\"316.552734\" xlink:href=\"#DejaVuSans-99\"/>\n     <use x=\"371.533203\" xlink:href=\"#DejaVuSans-97\"/>\n     <use x=\"432.8125\" xlink:href=\"#DejaVuSans-114\"/>\n     <use x=\"471.675781\" xlink:href=\"#DejaVuSans-101\"/>\n    </g>\n   </g>\n   <g id=\"text_35\">\n    <!-- 1.7% -->\n    <g transform=\"translate(315.705168 177.598582)scale(0.1 -0.1)\">\n     <use xlink:href=\"#DejaVuSans-49\"/>\n     <use x=\"63.623047\" xlink:href=\"#DejaVuSans-46\"/>\n     <use x=\"95.410156\" xlink:href=\"#DejaVuSans-55\"/>\n     <use x=\"159.033203\" xlink:href=\"#DejaVuSans-37\"/>\n    </g>\n   </g>\n   <g id=\"text_36\">\n    <!-- educator -->\n    <g transform=\"translate(343.367017 77.393398)scale(0.1 -0.1)\">\n     <use xlink:href=\"#DejaVuSans-101\"/>\n     <use x=\"61.523438\" xlink:href=\"#DejaVuSans-100\"/>\n     <use x=\"125\" xlink:href=\"#DejaVuSans-117\"/>\n     <use x=\"188.378906\" xlink:href=\"#DejaVuSans-99\"/>\n     <use x=\"243.359375\" xlink:href=\"#DejaVuSans-97\"/>\n     <use x=\"304.638672\" xlink:href=\"#DejaVuSans-116\"/>\n     <use x=\"343.847656\" xlink:href=\"#DejaVuSans-111\"/>\n     <use x=\"405.029297\" xlink:href=\"#DejaVuSans-114\"/>\n    </g>\n   </g>\n   <g id=\"text_37\">\n    <!-- 10.1% -->\n    <g transform=\"translate(283.536183 152.449808)scale(0.1 -0.1)\">\n     <use xlink:href=\"#DejaVuSans-49\"/>\n     <use x=\"63.623047\" xlink:href=\"#DejaVuSans-48\"/>\n     <use x=\"127.246094\" xlink:href=\"#DejaVuSans-46\"/>\n     <use x=\"159.033203\" xlink:href=\"#DejaVuSans-49\"/>\n     <use x=\"222.65625\" xlink:href=\"#DejaVuSans-37\"/>\n    </g>\n   </g>\n   <g id=\"text_38\">\n    <!-- entertainment -->\n    <g transform=\"translate(275.8921 53.412808)scale(0.1 -0.1)\">\n     <use xlink:href=\"#DejaVuSans-101\"/>\n     <use x=\"61.523438\" xlink:href=\"#DejaVuSans-110\"/>\n     <use x=\"124.902344\" xlink:href=\"#DejaVuSans-116\"/>\n     <use x=\"164.111328\" xlink:href=\"#DejaVuSans-101\"/>\n     <use x=\"225.634766\" xlink:href=\"#DejaVuSans-114\"/>\n     <use x=\"266.748047\" xlink:href=\"#DejaVuSans-116\"/>\n     <use x=\"305.957031\" xlink:href=\"#DejaVuSans-97\"/>\n     <use x=\"367.236328\" xlink:href=\"#DejaVuSans-105\"/>\n     <use x=\"395.019531\" xlink:href=\"#DejaVuSans-110\"/>\n     <use x=\"458.398438\" xlink:href=\"#DejaVuSans-109\"/>\n     <use x=\"555.810547\" xlink:href=\"#DejaVuSans-101\"/>\n     <use x=\"617.333984\" xlink:href=\"#DejaVuSans-110\"/>\n     <use x=\"680.712891\" xlink:href=\"#DejaVuSans-116\"/>\n    </g>\n   </g>\n   <g id=\"text_39\">\n    <!-- 1.9% -->\n    <g transform=\"translate(249.912933 139.369486)scale(0.1 -0.1)\">\n     <use xlink:href=\"#DejaVuSans-49\"/>\n     <use x=\"63.623047\" xlink:href=\"#DejaVuSans-46\"/>\n     <use x=\"95.410156\" xlink:href=\"#DejaVuSans-57\"/>\n     <use x=\"159.033203\" xlink:href=\"#DejaVuSans-37\"/>\n    </g>\n   </g>\n   <g id=\"text_40\">\n    <!-- homemaker -->\n    <g transform=\"translate(260.059056 51.638391)scale(0.1 -0.1)\">\n     <use xlink:href=\"#DejaVuSans-104\"/>\n     <use x=\"63.378906\" xlink:href=\"#DejaVuSans-111\"/>\n     <use x=\"124.560547\" xlink:href=\"#DejaVuSans-109\"/>\n     <use x=\"221.972656\" xlink:href=\"#DejaVuSans-101\"/>\n     <use x=\"283.496094\" xlink:href=\"#DejaVuSans-109\"/>\n     <use x=\"380.908203\" xlink:href=\"#DejaVuSans-97\"/>\n     <use x=\"442.1875\" xlink:href=\"#DejaVuSans-107\"/>\n     <use x=\"496.472656\" xlink:href=\"#DejaVuSans-101\"/>\n     <use x=\"557.996094\" xlink:href=\"#DejaVuSans-114\"/>\n    </g>\n   </g>\n   <g id=\"text_41\">\n    <!-- 0.7% -->\n    <g transform=\"translate(241.276727 138.401622)scale(0.1 -0.1)\">\n     <use xlink:href=\"#DejaVuSans-48\"/>\n     <use x=\"63.623047\" xlink:href=\"#DejaVuSans-46\"/>\n     <use x=\"95.410156\" xlink:href=\"#DejaVuSans-55\"/>\n     <use x=\"159.033203\" xlink:href=\"#DejaVuSans-37\"/>\n    </g>\n   </g>\n   <g id=\"text_42\">\n    <!-- doctor -->\n    <g transform=\"translate(251.144978 51.222329)scale(0.1 -0.1)\">\n     <use xlink:href=\"#DejaVuSans-100\"/>\n     <use x=\"63.476562\" xlink:href=\"#DejaVuSans-111\"/>\n     <use x=\"124.658203\" xlink:href=\"#DejaVuSans-99\"/>\n     <use x=\"179.638672\" xlink:href=\"#DejaVuSans-116\"/>\n     <use x=\"218.847656\" xlink:href=\"#DejaVuSans-111\"/>\n     <use x=\"280.029297\" xlink:href=\"#DejaVuSans-114\"/>\n    </g>\n   </g>\n   <g id=\"text_43\">\n    <!-- 0.7% -->\n    <g transform=\"translate(236.414503 138.174679)scale(0.1 -0.1)\">\n     <use xlink:href=\"#DejaVuSans-48\"/>\n     <use x=\"63.623047\" xlink:href=\"#DejaVuSans-46\"/>\n     <use x=\"95.410156\" xlink:href=\"#DejaVuSans-55\"/>\n     <use x=\"159.033203\" xlink:href=\"#DejaVuSans-37\"/>\n    </g>\n   </g>\n   <g id=\"text_44\">\n    <!-- occupation -->\n    <g transform=\"translate(213.632463 16.318125)scale(0.12 -0.12)\">\n     <use xlink:href=\"#DejaVuSans-111\"/>\n     <use x=\"61.181641\" xlink:href=\"#DejaVuSans-99\"/>\n     <use x=\"116.162109\" xlink:href=\"#DejaVuSans-99\"/>\n     <use x=\"171.142578\" xlink:href=\"#DejaVuSans-117\"/>\n     <use x=\"234.521484\" xlink:href=\"#DejaVuSans-112\"/>\n     <use x=\"297.998047\" xlink:href=\"#DejaVuSans-97\"/>\n     <use x=\"359.277344\" xlink:href=\"#DejaVuSans-116\"/>\n     <use x=\"398.486328\" xlink:href=\"#DejaVuSans-105\"/>\n     <use x=\"426.269531\" xlink:href=\"#DejaVuSans-111\"/>\n     <use x=\"487.451172\" xlink:href=\"#DejaVuSans-110\"/>\n    </g>\n   </g>\n   <g id=\"legend_1\">\n    <g id=\"patch_23\">\n     <path d=\"M 509.611088 333.55875 \nL 613.601713 333.55875 \nQ 615.601713 333.55875 615.601713 331.55875 \nL 615.601713 24.318125 \nQ 615.601713 22.318125 613.601713 22.318125 \nL 509.611088 22.318125 \nQ 507.611088 22.318125 507.611088 24.318125 \nL 507.611088 331.55875 \nQ 507.611088 333.55875 509.611088 333.55875 \nz\n\" style=\"fill:#ffffff;opacity:0.8;stroke:#cccccc;stroke-linejoin:miter;\"/>\n    </g>\n    <g id=\"patch_24\">\n     <path d=\"M 511.611088 33.916562 \nL 531.611088 33.916562 \nL 531.611088 26.916562 \nL 511.611088 26.916562 \nz\n\" style=\"fill:#1f77b4;\"/>\n    </g>\n    <g id=\"text_45\">\n     <!-- librarian -->\n     <g transform=\"translate(539.611088 33.916562)scale(0.1 -0.1)\">\n      <use xlink:href=\"#DejaVuSans-108\"/>\n      <use x=\"27.783203\" xlink:href=\"#DejaVuSans-105\"/>\n      <use x=\"55.566406\" xlink:href=\"#DejaVuSans-98\"/>\n      <use x=\"119.042969\" xlink:href=\"#DejaVuSans-114\"/>\n      <use x=\"160.15625\" xlink:href=\"#DejaVuSans-97\"/>\n      <use x=\"221.435547\" xlink:href=\"#DejaVuSans-114\"/>\n      <use x=\"262.548828\" xlink:href=\"#DejaVuSans-105\"/>\n      <use x=\"290.332031\" xlink:href=\"#DejaVuSans-97\"/>\n      <use x=\"351.611328\" xlink:href=\"#DejaVuSans-110\"/>\n     </g>\n    </g>\n    <g id=\"patch_25\">\n     <path d=\"M 511.611088 48.594687 \nL 531.611088 48.594687 \nL 531.611088 41.594687 \nL 511.611088 41.594687 \nz\n\" style=\"fill:#ff7f0e;\"/>\n    </g>\n    <g id=\"text_46\">\n     <!-- retired -->\n     <g transform=\"translate(539.611088 48.594687)scale(0.1 -0.1)\">\n      <use xlink:href=\"#DejaVuSans-114\"/>\n      <use x=\"38.863281\" xlink:href=\"#DejaVuSans-101\"/>\n      <use x=\"100.386719\" xlink:href=\"#DejaVuSans-116\"/>\n      <use x=\"139.595703\" xlink:href=\"#DejaVuSans-105\"/>\n      <use x=\"167.378906\" xlink:href=\"#DejaVuSans-114\"/>\n      <use x=\"206.242188\" xlink:href=\"#DejaVuSans-101\"/>\n      <use x=\"267.765625\" xlink:href=\"#DejaVuSans-100\"/>\n     </g>\n    </g>\n    <g id=\"patch_26\">\n     <path d=\"M 511.611088 63.272812 \nL 531.611088 63.272812 \nL 531.611088 56.272812 \nL 511.611088 56.272812 \nz\n\" style=\"fill:#2ca02c;\"/>\n    </g>\n    <g id=\"text_47\">\n     <!-- lawyer -->\n     <g transform=\"translate(539.611088 63.272812)scale(0.1 -0.1)\">\n      <use xlink:href=\"#DejaVuSans-108\"/>\n      <use x=\"27.783203\" xlink:href=\"#DejaVuSans-97\"/>\n      <use x=\"89.0625\" xlink:href=\"#DejaVuSans-119\"/>\n      <use x=\"170.849609\" xlink:href=\"#DejaVuSans-121\"/>\n      <use x=\"230.029297\" xlink:href=\"#DejaVuSans-101\"/>\n      <use x=\"291.552734\" xlink:href=\"#DejaVuSans-114\"/>\n     </g>\n    </g>\n    <g id=\"patch_27\">\n     <path d=\"M 511.611088 77.950937 \nL 531.611088 77.950937 \nL 531.611088 70.950937 \nL 511.611088 70.950937 \nz\n\" style=\"fill:#d62728;\"/>\n    </g>\n    <g id=\"text_48\">\n     <!-- none -->\n     <g transform=\"translate(539.611088 77.950937)scale(0.1 -0.1)\">\n      <use xlink:href=\"#DejaVuSans-110\"/>\n      <use x=\"63.378906\" xlink:href=\"#DejaVuSans-111\"/>\n      <use x=\"124.560547\" xlink:href=\"#DejaVuSans-110\"/>\n      <use x=\"187.939453\" xlink:href=\"#DejaVuSans-101\"/>\n     </g>\n    </g>\n    <g id=\"patch_28\">\n     <path d=\"M 511.611088 92.629062 \nL 531.611088 92.629062 \nL 531.611088 85.629062 \nL 511.611088 85.629062 \nz\n\" style=\"fill:#9467bd;\"/>\n    </g>\n    <g id=\"text_49\">\n     <!-- writer -->\n     <g transform=\"translate(539.611088 92.629062)scale(0.1 -0.1)\">\n      <use xlink:href=\"#DejaVuSans-119\"/>\n      <use x=\"81.787109\" xlink:href=\"#DejaVuSans-114\"/>\n      <use x=\"122.900391\" xlink:href=\"#DejaVuSans-105\"/>\n      <use x=\"150.683594\" xlink:href=\"#DejaVuSans-116\"/>\n      <use x=\"189.892578\" xlink:href=\"#DejaVuSans-101\"/>\n      <use x=\"251.416016\" xlink:href=\"#DejaVuSans-114\"/>\n     </g>\n    </g>\n    <g id=\"patch_29\">\n     <path d=\"M 511.611088 107.307187 \nL 531.611088 107.307187 \nL 531.611088 100.307187 \nL 511.611088 100.307187 \nz\n\" style=\"fill:#8c564b;\"/>\n    </g>\n    <g id=\"text_50\">\n     <!-- programmer -->\n     <g transform=\"translate(539.611088 107.307187)scale(0.1 -0.1)\">\n      <use xlink:href=\"#DejaVuSans-112\"/>\n      <use x=\"63.476562\" xlink:href=\"#DejaVuSans-114\"/>\n      <use x=\"102.339844\" xlink:href=\"#DejaVuSans-111\"/>\n      <use x=\"163.521484\" xlink:href=\"#DejaVuSans-103\"/>\n      <use x=\"226.998047\" xlink:href=\"#DejaVuSans-114\"/>\n      <use x=\"268.111328\" xlink:href=\"#DejaVuSans-97\"/>\n      <use x=\"329.390625\" xlink:href=\"#DejaVuSans-109\"/>\n      <use x=\"426.802734\" xlink:href=\"#DejaVuSans-109\"/>\n      <use x=\"524.214844\" xlink:href=\"#DejaVuSans-101\"/>\n      <use x=\"585.738281\" xlink:href=\"#DejaVuSans-114\"/>\n     </g>\n    </g>\n    <g id=\"patch_30\">\n     <path d=\"M 511.611088 121.985312 \nL 531.611088 121.985312 \nL 531.611088 114.985312 \nL 511.611088 114.985312 \nz\n\" style=\"fill:#e377c2;\"/>\n    </g>\n    <g id=\"text_51\">\n     <!-- marketing -->\n     <g transform=\"translate(539.611088 121.985312)scale(0.1 -0.1)\">\n      <use xlink:href=\"#DejaVuSans-109\"/>\n      <use x=\"97.412109\" xlink:href=\"#DejaVuSans-97\"/>\n      <use x=\"158.691406\" xlink:href=\"#DejaVuSans-114\"/>\n      <use x=\"199.804688\" xlink:href=\"#DejaVuSans-107\"/>\n      <use x=\"254.089844\" xlink:href=\"#DejaVuSans-101\"/>\n      <use x=\"315.613281\" xlink:href=\"#DejaVuSans-116\"/>\n      <use x=\"354.822266\" xlink:href=\"#DejaVuSans-105\"/>\n      <use x=\"382.605469\" xlink:href=\"#DejaVuSans-110\"/>\n      <use x=\"445.984375\" xlink:href=\"#DejaVuSans-103\"/>\n     </g>\n    </g>\n    <g id=\"patch_31\">\n     <path d=\"M 511.611088 136.663437 \nL 531.611088 136.663437 \nL 531.611088 129.663437 \nL 511.611088 129.663437 \nz\n\" style=\"fill:#7f7f7f;\"/>\n    </g>\n    <g id=\"text_52\">\n     <!-- other -->\n     <g transform=\"translate(539.611088 136.663437)scale(0.1 -0.1)\">\n      <use xlink:href=\"#DejaVuSans-111\"/>\n      <use x=\"61.181641\" xlink:href=\"#DejaVuSans-116\"/>\n      <use x=\"100.390625\" xlink:href=\"#DejaVuSans-104\"/>\n      <use x=\"163.769531\" xlink:href=\"#DejaVuSans-101\"/>\n      <use x=\"225.292969\" xlink:href=\"#DejaVuSans-114\"/>\n     </g>\n    </g>\n    <g id=\"patch_32\">\n     <path d=\"M 511.611088 151.341562 \nL 531.611088 151.341562 \nL 531.611088 144.341562 \nL 511.611088 144.341562 \nz\n\" style=\"fill:#bcbd22;\"/>\n    </g>\n    <g id=\"text_53\">\n     <!-- executive -->\n     <g transform=\"translate(539.611088 151.341562)scale(0.1 -0.1)\">\n      <use xlink:href=\"#DejaVuSans-101\"/>\n      <use x=\"59.773438\" xlink:href=\"#DejaVuSans-120\"/>\n      <use x=\"115.828125\" xlink:href=\"#DejaVuSans-101\"/>\n      <use x=\"177.351562\" xlink:href=\"#DejaVuSans-99\"/>\n      <use x=\"232.332031\" xlink:href=\"#DejaVuSans-117\"/>\n      <use x=\"295.710938\" xlink:href=\"#DejaVuSans-116\"/>\n      <use x=\"334.919922\" xlink:href=\"#DejaVuSans-105\"/>\n      <use x=\"362.703125\" xlink:href=\"#DejaVuSans-118\"/>\n      <use x=\"421.882812\" xlink:href=\"#DejaVuSans-101\"/>\n     </g>\n    </g>\n    <g id=\"patch_33\">\n     <path d=\"M 511.611088 166.019687 \nL 531.611088 166.019687 \nL 531.611088 159.019687 \nL 511.611088 159.019687 \nz\n\" style=\"fill:#17becf;\"/>\n    </g>\n    <g id=\"text_54\">\n     <!-- scientist -->\n     <g transform=\"translate(539.611088 166.019687)scale(0.1 -0.1)\">\n      <use xlink:href=\"#DejaVuSans-115\"/>\n      <use x=\"52.099609\" xlink:href=\"#DejaVuSans-99\"/>\n      <use x=\"107.080078\" xlink:href=\"#DejaVuSans-105\"/>\n      <use x=\"134.863281\" xlink:href=\"#DejaVuSans-101\"/>\n      <use x=\"196.386719\" xlink:href=\"#DejaVuSans-110\"/>\n      <use x=\"259.765625\" xlink:href=\"#DejaVuSans-116\"/>\n      <use x=\"298.974609\" xlink:href=\"#DejaVuSans-105\"/>\n      <use x=\"326.757812\" xlink:href=\"#DejaVuSans-115\"/>\n      <use x=\"378.857422\" xlink:href=\"#DejaVuSans-116\"/>\n     </g>\n    </g>\n    <g id=\"patch_34\">\n     <path d=\"M 511.611088 180.697812 \nL 531.611088 180.697812 \nL 531.611088 173.697812 \nL 511.611088 173.697812 \nz\n\" style=\"fill:#1f77b4;\"/>\n    </g>\n    <g id=\"text_55\">\n     <!-- student -->\n     <g transform=\"translate(539.611088 180.697812)scale(0.1 -0.1)\">\n      <use xlink:href=\"#DejaVuSans-115\"/>\n      <use x=\"52.099609\" xlink:href=\"#DejaVuSans-116\"/>\n      <use x=\"91.308594\" xlink:href=\"#DejaVuSans-117\"/>\n      <use x=\"154.6875\" xlink:href=\"#DejaVuSans-100\"/>\n      <use x=\"218.164062\" xlink:href=\"#DejaVuSans-101\"/>\n      <use x=\"279.6875\" xlink:href=\"#DejaVuSans-110\"/>\n      <use x=\"343.066406\" xlink:href=\"#DejaVuSans-116\"/>\n     </g>\n    </g>\n    <g id=\"patch_35\">\n     <path d=\"M 511.611088 195.375937 \nL 531.611088 195.375937 \nL 531.611088 188.375937 \nL 511.611088 188.375937 \nz\n\" style=\"fill:#ff7f0e;\"/>\n    </g>\n    <g id=\"text_56\">\n     <!-- salesman -->\n     <g transform=\"translate(539.611088 195.375937)scale(0.1 -0.1)\">\n      <use xlink:href=\"#DejaVuSans-115\"/>\n      <use x=\"52.099609\" xlink:href=\"#DejaVuSans-97\"/>\n      <use x=\"113.378906\" xlink:href=\"#DejaVuSans-108\"/>\n      <use x=\"141.162109\" xlink:href=\"#DejaVuSans-101\"/>\n      <use x=\"202.685547\" xlink:href=\"#DejaVuSans-115\"/>\n      <use x=\"254.785156\" xlink:href=\"#DejaVuSans-109\"/>\n      <use x=\"352.197266\" xlink:href=\"#DejaVuSans-97\"/>\n      <use x=\"413.476562\" xlink:href=\"#DejaVuSans-110\"/>\n     </g>\n    </g>\n    <g id=\"patch_36\">\n     <path d=\"M 511.611088 210.054062 \nL 531.611088 210.054062 \nL 531.611088 203.054062 \nL 511.611088 203.054062 \nz\n\" style=\"fill:#2ca02c;\"/>\n    </g>\n    <g id=\"text_57\">\n     <!-- artist -->\n     <g transform=\"translate(539.611088 210.054062)scale(0.1 -0.1)\">\n      <use xlink:href=\"#DejaVuSans-97\"/>\n      <use x=\"61.279297\" xlink:href=\"#DejaVuSans-114\"/>\n      <use x=\"102.392578\" xlink:href=\"#DejaVuSans-116\"/>\n      <use x=\"141.601562\" xlink:href=\"#DejaVuSans-105\"/>\n      <use x=\"169.384766\" xlink:href=\"#DejaVuSans-115\"/>\n      <use x=\"221.484375\" xlink:href=\"#DejaVuSans-116\"/>\n     </g>\n    </g>\n    <g id=\"patch_37\">\n     <path d=\"M 511.611088 224.732187 \nL 531.611088 224.732187 \nL 531.611088 217.732187 \nL 511.611088 217.732187 \nz\n\" style=\"fill:#d62728;\"/>\n    </g>\n    <g id=\"text_58\">\n     <!-- technician -->\n     <g transform=\"translate(539.611088 224.732187)scale(0.1 -0.1)\">\n      <use xlink:href=\"#DejaVuSans-116\"/>\n      <use x=\"39.208984\" xlink:href=\"#DejaVuSans-101\"/>\n      <use x=\"100.732422\" xlink:href=\"#DejaVuSans-99\"/>\n      <use x=\"155.712891\" xlink:href=\"#DejaVuSans-104\"/>\n      <use x=\"219.091797\" xlink:href=\"#DejaVuSans-110\"/>\n      <use x=\"282.470703\" xlink:href=\"#DejaVuSans-105\"/>\n      <use x=\"310.253906\" xlink:href=\"#DejaVuSans-99\"/>\n      <use x=\"365.234375\" xlink:href=\"#DejaVuSans-105\"/>\n      <use x=\"393.017578\" xlink:href=\"#DejaVuSans-97\"/>\n      <use x=\"454.296875\" xlink:href=\"#DejaVuSans-110\"/>\n     </g>\n    </g>\n    <g id=\"patch_38\">\n     <path d=\"M 511.611088 239.410312 \nL 531.611088 239.410312 \nL 531.611088 232.410312 \nL 511.611088 232.410312 \nz\n\" style=\"fill:#9467bd;\"/>\n    </g>\n    <g id=\"text_59\">\n     <!-- administrator -->\n     <g transform=\"translate(539.611088 239.410312)scale(0.1 -0.1)\">\n      <use xlink:href=\"#DejaVuSans-97\"/>\n      <use x=\"61.279297\" xlink:href=\"#DejaVuSans-100\"/>\n      <use x=\"124.755859\" xlink:href=\"#DejaVuSans-109\"/>\n      <use x=\"222.167969\" xlink:href=\"#DejaVuSans-105\"/>\n      <use x=\"249.951172\" xlink:href=\"#DejaVuSans-110\"/>\n      <use x=\"313.330078\" xlink:href=\"#DejaVuSans-105\"/>\n      <use x=\"341.113281\" xlink:href=\"#DejaVuSans-115\"/>\n      <use x=\"393.212891\" xlink:href=\"#DejaVuSans-116\"/>\n      <use x=\"432.421875\" xlink:href=\"#DejaVuSans-114\"/>\n      <use x=\"473.535156\" xlink:href=\"#DejaVuSans-97\"/>\n      <use x=\"534.814453\" xlink:href=\"#DejaVuSans-116\"/>\n      <use x=\"574.023438\" xlink:href=\"#DejaVuSans-111\"/>\n      <use x=\"635.205078\" xlink:href=\"#DejaVuSans-114\"/>\n     </g>\n    </g>\n    <g id=\"patch_39\">\n     <path d=\"M 511.611088 254.088437 \nL 531.611088 254.088437 \nL 531.611088 247.088437 \nL 511.611088 247.088437 \nz\n\" style=\"fill:#8c564b;\"/>\n    </g>\n    <g id=\"text_60\">\n     <!-- engineer -->\n     <g transform=\"translate(539.611088 254.088437)scale(0.1 -0.1)\">\n      <use xlink:href=\"#DejaVuSans-101\"/>\n      <use x=\"61.523438\" xlink:href=\"#DejaVuSans-110\"/>\n      <use x=\"124.902344\" xlink:href=\"#DejaVuSans-103\"/>\n      <use x=\"188.378906\" xlink:href=\"#DejaVuSans-105\"/>\n      <use x=\"216.162109\" xlink:href=\"#DejaVuSans-110\"/>\n      <use x=\"279.541016\" xlink:href=\"#DejaVuSans-101\"/>\n      <use x=\"341.064453\" xlink:href=\"#DejaVuSans-101\"/>\n      <use x=\"402.587891\" xlink:href=\"#DejaVuSans-114\"/>\n     </g>\n    </g>\n    <g id=\"patch_40\">\n     <path d=\"M 511.611088 268.766562 \nL 531.611088 268.766562 \nL 531.611088 261.766562 \nL 511.611088 261.766562 \nz\n\" style=\"fill:#e377c2;\"/>\n    </g>\n    <g id=\"text_61\">\n     <!-- healthcare -->\n     <g transform=\"translate(539.611088 268.766562)scale(0.1 -0.1)\">\n      <use xlink:href=\"#DejaVuSans-104\"/>\n      <use x=\"63.378906\" xlink:href=\"#DejaVuSans-101\"/>\n      <use x=\"124.902344\" xlink:href=\"#DejaVuSans-97\"/>\n      <use x=\"186.181641\" xlink:href=\"#DejaVuSans-108\"/>\n      <use x=\"213.964844\" xlink:href=\"#DejaVuSans-116\"/>\n      <use x=\"253.173828\" xlink:href=\"#DejaVuSans-104\"/>\n      <use x=\"316.552734\" xlink:href=\"#DejaVuSans-99\"/>\n      <use x=\"371.533203\" xlink:href=\"#DejaVuSans-97\"/>\n      <use x=\"432.8125\" xlink:href=\"#DejaVuSans-114\"/>\n      <use x=\"471.675781\" xlink:href=\"#DejaVuSans-101\"/>\n     </g>\n    </g>\n    <g id=\"patch_41\">\n     <path d=\"M 511.611088 283.444687 \nL 531.611088 283.444687 \nL 531.611088 276.444687 \nL 511.611088 276.444687 \nz\n\" style=\"fill:#7f7f7f;\"/>\n    </g>\n    <g id=\"text_62\">\n     <!-- educator -->\n     <g transform=\"translate(539.611088 283.444687)scale(0.1 -0.1)\">\n      <use xlink:href=\"#DejaVuSans-101\"/>\n      <use x=\"61.523438\" xlink:href=\"#DejaVuSans-100\"/>\n      <use x=\"125\" xlink:href=\"#DejaVuSans-117\"/>\n      <use x=\"188.378906\" xlink:href=\"#DejaVuSans-99\"/>\n      <use x=\"243.359375\" xlink:href=\"#DejaVuSans-97\"/>\n      <use x=\"304.638672\" xlink:href=\"#DejaVuSans-116\"/>\n      <use x=\"343.847656\" xlink:href=\"#DejaVuSans-111\"/>\n      <use x=\"405.029297\" xlink:href=\"#DejaVuSans-114\"/>\n     </g>\n    </g>\n    <g id=\"patch_42\">\n     <path d=\"M 511.611088 298.122812 \nL 531.611088 298.122812 \nL 531.611088 291.122812 \nL 511.611088 291.122812 \nz\n\" style=\"fill:#bcbd22;\"/>\n    </g>\n    <g id=\"text_63\">\n     <!-- entertainment -->\n     <g transform=\"translate(539.611088 298.122812)scale(0.1 -0.1)\">\n      <use xlink:href=\"#DejaVuSans-101\"/>\n      <use x=\"61.523438\" xlink:href=\"#DejaVuSans-110\"/>\n      <use x=\"124.902344\" xlink:href=\"#DejaVuSans-116\"/>\n      <use x=\"164.111328\" xlink:href=\"#DejaVuSans-101\"/>\n      <use x=\"225.634766\" xlink:href=\"#DejaVuSans-114\"/>\n      <use x=\"266.748047\" xlink:href=\"#DejaVuSans-116\"/>\n      <use x=\"305.957031\" xlink:href=\"#DejaVuSans-97\"/>\n      <use x=\"367.236328\" xlink:href=\"#DejaVuSans-105\"/>\n      <use x=\"395.019531\" xlink:href=\"#DejaVuSans-110\"/>\n      <use x=\"458.398438\" xlink:href=\"#DejaVuSans-109\"/>\n      <use x=\"555.810547\" xlink:href=\"#DejaVuSans-101\"/>\n      <use x=\"617.333984\" xlink:href=\"#DejaVuSans-110\"/>\n      <use x=\"680.712891\" xlink:href=\"#DejaVuSans-116\"/>\n     </g>\n    </g>\n    <g id=\"patch_43\">\n     <path d=\"M 511.611088 312.800937 \nL 531.611088 312.800937 \nL 531.611088 305.800937 \nL 511.611088 305.800937 \nz\n\" style=\"fill:#17becf;\"/>\n    </g>\n    <g id=\"text_64\">\n     <!-- homemaker -->\n     <g transform=\"translate(539.611088 312.800937)scale(0.1 -0.1)\">\n      <use xlink:href=\"#DejaVuSans-104\"/>\n      <use x=\"63.378906\" xlink:href=\"#DejaVuSans-111\"/>\n      <use x=\"124.560547\" xlink:href=\"#DejaVuSans-109\"/>\n      <use x=\"221.972656\" xlink:href=\"#DejaVuSans-101\"/>\n      <use x=\"283.496094\" xlink:href=\"#DejaVuSans-109\"/>\n      <use x=\"380.908203\" xlink:href=\"#DejaVuSans-97\"/>\n      <use x=\"442.1875\" xlink:href=\"#DejaVuSans-107\"/>\n      <use x=\"496.472656\" xlink:href=\"#DejaVuSans-101\"/>\n      <use x=\"557.996094\" xlink:href=\"#DejaVuSans-114\"/>\n     </g>\n    </g>\n    <g id=\"patch_44\">\n     <path d=\"M 511.611088 327.479062 \nL 531.611088 327.479062 \nL 531.611088 320.479062 \nL 511.611088 320.479062 \nz\n\" style=\"fill:#1f77b4;\"/>\n    </g>\n    <g id=\"text_65\">\n     <!-- doctor -->\n     <g transform=\"translate(539.611088 327.479062)scale(0.1 -0.1)\">\n      <use xlink:href=\"#DejaVuSans-100\"/>\n      <use x=\"63.476562\" xlink:href=\"#DejaVuSans-111\"/>\n      <use x=\"124.658203\" xlink:href=\"#DejaVuSans-99\"/>\n      <use x=\"179.638672\" xlink:href=\"#DejaVuSans-116\"/>\n      <use x=\"218.847656\" xlink:href=\"#DejaVuSans-111\"/>\n      <use x=\"280.029297\" xlink:href=\"#DejaVuSans-114\"/>\n     </g>\n    </g>\n   </g>\n  </g>\n </g>\n</svg>\n",
      "image/png": "[encoded data removed]"
     },
     "metadata": {}
    }
   ],
   "source": [
    "ax =Occupation_pandas_df['counts'].plot(kind='pie',\n",
    "           title =\"occupation\", figsize=(10,8), startangle=90, autopct='%1.1f%%')\n",
    "ax.legend(bbox_to_anchor=(1.1, 1), loc=2, borderaxespad=0.)\n",
    "plt.show()"
   ]
  }
 ],
 "metadata": {
  "kernelspec": {
   "display_name": "tf-gpu",
   "language": "python",
   "name": "base"
  },
  "language_info": {
   "codemirror_mode": {
    "name": "ipython",
    "version": 2
   },
   "file_extension": ".py",
   "mimetype": "text/x-python",
   "name": "python",
   "nbconvert_exporter": "python",
   "pygments_lexer": "ipython2",
   "version": "3.7.6-final"
  }
 },
 "nbformat": 4,
 "nbformat_minor": 0
}