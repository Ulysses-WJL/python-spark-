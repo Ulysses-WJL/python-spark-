{
 "cells": [
  {
   "cell_type": "code",
   "execution_count": 1,
   "metadata": {
    "collapsed": true
   },
   "outputs": [],
   "source": [
    "#注意事项:\n",
    "#当运行本Notebook的程序后，如果要关闭Notebook，请选择菜单: File > Close and Halt 才能确实停止当前正在运行的程序，并且释放资源\n",
    "#如果没有使用以上方法，只关闭此分页，程序仍在运行，未释放资源，当您打开并运行其他的Notebook，可能会发生错误"
   ]
  },
  {
   "cell_type": "markdown",
   "metadata": {},
   "source": [
    "# 12.7\t如何进行数据准备?"
   ]
  },
  {
   "cell_type": "code",
   "execution_count": 36,
   "metadata": {},
   "outputs": [],
   "source": [
    "sc.stop()"
   ]
  },
  {
   "cell_type": "code",
   "execution_count": 4,
   "metadata": {},
   "outputs": [],
   "source": [
    "from pyspark import SparkContext, SparkConf\n",
    "\n",
    "conf = SparkConf().setAppName('recommender').setMaster('local[4]')\n",
    "sc = SparkContext(conf=conf)"
   ]
  },
  {
   "cell_type": "code",
   "execution_count": 5,
   "metadata": {
    "collapsed": false
   },
   "outputs": [
    {
     "output_type": "execute_result",
     "data": {
      "text/plain": "'local[4]'"
     },
     "metadata": {},
     "execution_count": 5
    }
   ],
   "source": [
    "sc.master"
   ]
  },
  {
   "cell_type": "code",
   "execution_count": 6,
   "metadata": {
    "collapsed": true
   },
   "outputs": [],
   "source": [
    "global Path    \n",
    "if sc.master[0:5]==\"local\" :\n",
    "   Path=\"file:/mnt/data1/workspace/data_analysis_mining/Python+Spark2.0+Hadoop机器学习与大数据实战/pythonsparkexample/PythonProject/\"\n",
    "else:   \n",
    "   Path=\"hdfs://master:9000/user/hduser/\"\n",
    "#如果要在cluster模式运行(hadoop yarn 或Spark Stand alone)，请按照书上的说明，先把文件上传到HDFS目录"
   ]
  },
  {
   "cell_type": "code",
   "execution_count": 7,
   "metadata": {
    "collapsed": false
   },
   "outputs": [
    {
     "output_type": "execute_result",
     "data": {
      "text/plain": "100000"
     },
     "metadata": {},
     "execution_count": 7
    }
   ],
   "source": [
    "rawUserData = sc.textFile(Path+\"data/u.data\")\n",
    "rawUserData.count()"
   ]
  },
  {
   "cell_type": "code",
   "execution_count": 6,
   "metadata": {
    "collapsed": false
   },
   "outputs": [
    {
     "output_type": "execute_result",
     "data": {
      "text/plain": "'196\\t242\\t3\\t881250949'"
     },
     "metadata": {},
     "execution_count": 6
    }
   ],
   "source": [
    "rawUserData.first()"
   ]
  },
  {
   "cell_type": "code",
   "execution_count": 7,
   "metadata": {
    "collapsed": false,
    "tags": []
   },
   "outputs": [
    {
     "output_type": "stream",
     "name": "stdout",
     "text": "196\t242\t3\t881250949\n"
    }
   ],
   "source": [
    "print(rawUserData.first())  # 用户id, 项目id, 评价, 时间戳"
   ]
  },
  {
   "cell_type": "code",
   "execution_count": 8,
   "metadata": {
    "collapsed": false
   },
   "outputs": [
    {
     "output_type": "execute_result",
     "data": {
      "text/plain": "['196\\t242\\t3\\t881250949',\n '186\\t302\\t3\\t891717742',\n '22\\t377\\t1\\t878887116',\n '244\\t51\\t2\\t880606923',\n '166\\t346\\t1\\t886397596']"
     },
     "metadata": {},
     "execution_count": 8
    }
   ],
   "source": [
    "rawUserData.take(5)"
   ]
  },
  {
   "cell_type": "code",
   "execution_count": 9,
   "metadata": {
    "collapsed": false,
    "tags": []
   },
   "outputs": [
    {
     "output_type": "stream",
     "name": "stdout",
     "text": "196\t242\t3\t881250949\n186\t302\t3\t891717742\n22\t377\t1\t878887116\n244\t51\t2\t880606923\n166\t346\t1\t886397596\n"
    }
   ],
   "source": [
    "for x in rawUserData.take(5): \n",
    "    print(x)"
   ]
  },
  {
   "cell_type": "code",
   "execution_count": 10,
   "metadata": {
    "collapsed": true
   },
   "outputs": [],
   "source": [
    "from pyspark.mllib.recommendation import Rating"
   ]
  },
  {
   "cell_type": "code",
   "execution_count": 8,
   "metadata": {
    "collapsed": false
   },
   "outputs": [
    {
     "output_type": "execute_result",
     "data": {
      "text/plain": "[['196', '242', '3'],\n ['186', '302', '3'],\n ['22', '377', '1'],\n ['244', '51', '2'],\n ['166', '346', '1']]"
     },
     "metadata": {},
     "execution_count": 8
    }
   ],
   "source": [
    "# 获取 用户id, 项目id, 评价\n",
    "rawRatings = rawUserData.map(lambda line: line.split(\"\\t\")[:3] )\n",
    "rawRatings.take(5)"
   ]
  },
  {
   "cell_type": "code",
   "execution_count": 9,
   "metadata": {
    "collapsed": false
   },
   "outputs": [
    {
     "output_type": "execute_result",
     "data": {
      "text/plain": "[('196', '242', '3'),\n ('186', '302', '3'),\n ('22', '377', '1'),\n ('244', '51', '2'),\n ('166', '346', '1')]"
     },
     "metadata": {},
     "execution_count": 9
    }
   ],
   "source": [
    "# 转成tuple形式\n",
    "ratingsRDD = rawRatings.map(lambda x: (x[0],x[1],x[2]))\n",
    "ratingsRDD.take(5)"
   ]
  },
  {
   "cell_type": "code",
   "execution_count": 13,
   "metadata": {
    "collapsed": false
   },
   "outputs": [
    {
     "output_type": "execute_result",
     "data": {
      "text/plain": "100000"
     },
     "metadata": {},
     "execution_count": 13
    }
   ],
   "source": [
    "numRatings = ratingsRDD.count()\n",
    "numRatings"
   ]
  },
  {
   "cell_type": "code",
   "execution_count": 10,
   "metadata": {
    "collapsed": false
   },
   "outputs": [
    {
     "output_type": "execute_result",
     "data": {
      "text/plain": "943"
     },
     "metadata": {},
     "execution_count": 10
    }
   ],
   "source": [
    "# 用户数量\n",
    "numUsers = ratingsRDD.map(lambda x: x[0] ).distinct().count()\n",
    "numUsers "
   ]
  },
  {
   "cell_type": "code",
   "execution_count": 11,
   "metadata": {
    "collapsed": false
   },
   "outputs": [
    {
     "output_type": "execute_result",
     "data": {
      "text/plain": "1682"
     },
     "metadata": {},
     "execution_count": 11
    }
   ],
   "source": [
    "# 电影数量\n",
    "numMovies = ratingsRDD.map(lambda x: x[1]).distinct().count() \n",
    "numMovies"
   ]
  },
  {
   "cell_type": "code",
   "execution_count": 16,
   "metadata": {
    "collapsed": false
   },
   "outputs": [
    {
     "output_type": "execute_result",
     "data": {
      "text/plain": "PythonRDD[20] at RDD at PythonRDD.scala:53"
     },
     "metadata": {},
     "execution_count": 16
    }
   ],
   "source": [
    "ratingsRDD.persist()"
   ]
  },
  {
   "cell_type": "markdown",
   "metadata": {},
   "source": [
    "# 12.8\t如何训练模型? "
   ]
  },
  {
   "cell_type": "code",
   "execution_count": 12,
   "metadata": {
    "collapsed": true
   },
   "outputs": [],
   "source": [
    "from pyspark.mllib.recommendation import ALS"
   ]
  },
  {
   "cell_type": "code",
   "execution_count": 13,
   "metadata": {
    "collapsed": false,
    "tags": []
   },
   "outputs": [
    {
     "output_type": "stream",
     "name": "stdout",
     "text": "<pyspark.mllib.recommendation.MatrixFactorizationModel object at 0x7f5250045610>\n"
    }
   ],
   "source": [
    "# 将矩阵(m, n)分解为(m, rank) 和 (rank, n), 正则化系数0.01\n",
    "model = ALS.train(rawRatings, 10, 10, 0.01)  # 显示评分训练\n",
    "print(model)"
   ]
  },
  {
   "cell_type": "markdown",
   "metadata": {},
   "source": [
    "# 12.9\t如何使用模型进行推荐?"
   ]
  },
  {
   "cell_type": "code",
   "execution_count": 19,
   "metadata": {
    "collapsed": false
   },
   "outputs": [
    {
     "output_type": "execute_result",
     "data": {
      "text/plain": "[Rating(user=100, product=1279, rating=5.945706776911413),\n Rating(user=100, product=958, rating=5.724989170205736),\n Rating(user=100, product=1450, rating=5.594900100070466),\n Rating(user=100, product=1463, rating=5.45629156772284),\n Rating(user=100, product=1166, rating=5.258614526350782)]"
     },
     "metadata": {},
     "execution_count": 19
    }
   ],
   "source": [
    "# 针对用户推荐电影 用户id, 推荐数量\n",
    "model.recommendProducts(100, 5)"
   ]
  },
  {
   "cell_type": "code",
   "execution_count": 20,
   "metadata": {
    "collapsed": false
   },
   "outputs": [
    {
     "output_type": "execute_result",
     "data": {
      "text/plain": "4.038890249846785"
     },
     "metadata": {},
     "execution_count": 20
    }
   ],
   "source": [
    "# 针对用户id 100, 推荐物品1141的评分\n",
    "model.predict(100, 1141)"
   ]
  },
  {
   "cell_type": "code",
   "execution_count": 21,
   "metadata": {
    "collapsed": false
   },
   "outputs": [
    {
     "output_type": "execute_result",
     "data": {
      "text/plain": "[Rating(user=762, product=200, rating=7.635004059570843),\n Rating(user=362, product=200, rating=7.592178145980742),\n Rating(user=811, product=200, rating=7.2542754802393805),\n Rating(user=157, product=200, rating=5.769093787952176),\n Rating(user=240, product=200, rating=5.537591662677301)]"
     },
     "metadata": {},
     "execution_count": 21
    }
   ],
   "source": [
    "# 将物品推荐给用户\n",
    "model.recommendUsers(product=200,num=5)"
   ]
  },
  {
   "cell_type": "code",
   "execution_count": 14,
   "metadata": {},
   "outputs": [],
   "source": [
    "predict_rdd = model.predictAll(rawRatings.map(lambda r: (r[0], r[1])))"
   ]
  },
  {
   "cell_type": "code",
   "execution_count": 33,
   "metadata": {},
   "outputs": [],
   "source": [
    "predict_rdd = model.predictAll(rawRatings.map(lambda x: (x[0], x[1])))\n",
    "    # 以(user, product) 为key, 评分为value 合并\n",
    "predict_true = predict_rdd.map(lambda x: ((x[0], x[1]), x[2])).join(\n",
    "    rawRatings.map(lambda x: ((int(x[0]), int(x[1])), float(x[2])))\n",
    ")"
   ]
  },
  {
   "cell_type": "code",
   "execution_count": 34,
   "metadata": {},
   "outputs": [
    {
     "output_type": "execute_result",
     "data": {
      "text/plain": "[((470, 1084), (2.642686647279174, 3.0))]"
     },
     "metadata": {},
     "execution_count": 34
    }
   ],
   "source": [
    "predict_true.take(1)"
   ]
  },
  {
   "cell_type": "markdown",
   "metadata": {},
   "source": [
    "# 12.10\t显示推荐的电影的名称"
   ]
  },
  {
   "cell_type": "code",
   "execution_count": 23,
   "metadata": {
    "collapsed": false
   },
   "outputs": [
    {
     "output_type": "execute_result",
     "data": {
      "text/plain": "1682"
     },
     "metadata": {},
     "execution_count": 23
    }
   ],
   "source": [
    "itemRDD = sc.textFile(Path+\"data/u.item\")\n",
    "itemRDD.count()"
   ]
  },
  {
   "cell_type": "code",
   "execution_count": 24,
   "metadata": {
    "collapsed": false
   },
   "outputs": [
    {
     "output_type": "execute_result",
     "data": {
      "text/plain": "1682"
     },
     "metadata": {},
     "execution_count": 24
    }
   ],
   "source": [
    "movieTitle= itemRDD.map( lambda line : line.split(\"|\"))     \\\n",
    "                                   .map(lambda a: (float(a[0]),a[1]))       \\\n",
    "                                   .collectAsMap()\n",
    "len(movieTitle)"
   ]
  },
  {
   "cell_type": "code",
   "execution_count": 32,
   "metadata": {
    "collapsed": false
   },
   "outputs": [
    {
     "output_type": "execute_result",
     "data": {
      "text/plain": "'Copycat (1995)'"
     },
     "metadata": {},
     "execution_count": 32
    }
   ],
   "source": [
    "movieTitle.get(5)"
   ]
  },
  {
   "cell_type": "code",
   "execution_count": 33,
   "metadata": {
    "collapsed": false,
    "tags": []
   },
   "outputs": [
    {
     "output_type": "stream",
     "name": "stdout",
     "text": "1: Toy Story (1995)\n2: GoldenEye (1995)\n3: Four Rooms (1995)\n4: Get Shorty (1995)\n5: Copycat (1995)\n"
    }
   ],
   "source": [
    "for i in range(1,6): \n",
    "    print(f\"{i}: {movieTitle[i]}\")"
   ]
  },
  {
   "cell_type": "code",
   "execution_count": 34,
   "metadata": {
    "collapsed": false
   },
   "outputs": [
    {
     "output_type": "execute_result",
     "data": {
      "text/plain": "'Copycat (1995)'"
     },
     "metadata": {},
     "execution_count": 34
    }
   ],
   "source": [
    "movieTitle[5]"
   ]
  },
  {
   "cell_type": "code",
   "execution_count": 35,
   "metadata": {
    "collapsed": false,
    "tags": []
   },
   "outputs": [
    {
     "output_type": "stream",
     "name": "stdout",
     "text": "对用户100 推荐电影:To Live (Huozhe) (1994), 推荐评分: 5.300027435511032\n对用户100 推荐电影:Doom Generation, The (1995), 推荐评分: 5.151686198370768\n对用户100 推荐电影:War Room, The (1993), 推荐评分: 5.025557551269055\n对用户100 推荐电影:Stalker (1979), 推荐评分: 4.990324791516028\n对用户100 推荐电影:Fearless (1993), 推荐评分: 4.924419605396701\n"
    }
   ],
   "source": [
    "recommendP= model.recommendProducts(100,5) \n",
    "for p in recommendP:\n",
    "    print(f\"对用户{p[0]} 推荐电影:{movieTitle[p[1]]}, 推荐评分: {p[2]}\") "
   ]
  },
  {
   "cell_type": "code",
   "execution_count": null,
   "metadata": {},
   "outputs": [],
   "source": []
  }
 ],
 "metadata": {
  "kernelspec": {
   "display_name": "tf-gpu",
   "language": "python",
   "name": "base"
  },
  "language_info": {
   "codemirror_mode": {
    "name": "ipython",
    "version": 2
   },
   "file_extension": ".py",
   "mimetype": "text/x-python",
   "name": "python",
   "nbconvert_exporter": "python",
   "pygments_lexer": "ipython2",
   "version": "3.7.6-final"
  }
 },
 "nbformat": 4,
 "nbformat_minor": 0
}