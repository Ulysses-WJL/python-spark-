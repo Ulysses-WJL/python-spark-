{
 "cells": [
  {
   "cell_type": "code",
   "execution_count": 2,
   "metadata": {
    "collapsed": true
   },
   "outputs": [],
   "source": [
    "#注意事项:\n",
    "#当运行本Notebook的程序后，如果要关闭Notebook，请选择菜单: File > Close and Halt 才能确实停止当前正在运行的程序，并且释放资源\n",
    "#如果没有使用以上方法，只关闭此分页，程序仍在运行，未释放资源，当您打开并运行其他的Notebook，可能会发生错误"
   ]
  },
  {
   "cell_type": "markdown",
   "metadata": {},
   "source": [
    "# 20\tSpark ML Pipeline 二元分类机器学习"
   ]
  },
  {
   "cell_type": "code",
   "execution_count": 1,
   "metadata": {},
   "outputs": [],
   "source": [
    "from pyspark import SparkConf\n",
    "from pyspark.sql import SparkSession\n",
    "\n",
    "conf = SparkConf().setAppName(\"ML classifier\").setMaster('local[4]')\n",
    "spark = SparkSession.builder.config(conf=conf).getOrCreate()\n",
    "sc = spark.sparkContext"
   ]
  },
  {
   "cell_type": "code",
   "execution_count": 2,
   "metadata": {
    "collapsed": false
   },
   "outputs": [
    {
     "output_type": "execute_result",
     "data": {
      "text/plain": "'local[4]'"
     },
     "metadata": {},
     "execution_count": 2
    }
   ],
   "source": [
    "sc.master"
   ]
  },
  {
   "cell_type": "markdown",
   "metadata": {},
   "source": [
    "# 20.1\t数据准备"
   ]
  },
  {
   "cell_type": "code",
   "execution_count": 3,
   "metadata": {
    "collapsed": true
   },
   "outputs": [],
   "source": [
    "global Path    \n",
    "if sc.master[0:5]==\"local\" :\n",
    "   Path=\"file:/mnt/data1/workspace/data_analysis_mining/Python+Spark2.0+Hadoop机器学习与大数据实战/pythonsparkexample/PythonProject/\"\n",
    "else:   \n",
    "   Path=\"hdfs://master:9000/user/hduser/\"\n",
    "#如果要在cluster模式运行(hadoop yarn 或Spark Stand alone)，请按照书上的说明，先把文件上传到HDFS目录"
   ]
  },
  {
   "cell_type": "code",
   "execution_count": 5,
   "metadata": {},
   "outputs": [
    {
     "output_type": "execute_result",
     "data": {
      "text/plain": "7395"
     },
     "metadata": {},
     "execution_count": 5
    }
   ],
   "source": [
    "row_df = spark.read.csv(Path+\"data/train.tsv\", header=True, sep='\\t')\n",
    "row_df.count()"
   ]
  },
  {
   "cell_type": "code",
   "execution_count": 5,
   "metadata": {
    "collapsed": false
   },
   "outputs": [
    {
     "name": "stdout",
     "output_type": "stream",
     "text": [
      "7395\n"
     ]
    }
   ],
   "source": [
    "row_df = sqlContext.read.format(\"csv\") \\\n",
    "     .option(\"header\", \"true\") \\\n",
    "     .option(\"delimiter\", \"\\t\") \\\n",
    "     .load(Path+\"data/train.tsv\")\n",
    "print row_df.count()    "
   ]
  },
  {
   "cell_type": "code",
   "execution_count": 6,
   "metadata": {
    "collapsed": false,
    "tags": []
   },
   "outputs": [
    {
     "output_type": "stream",
     "name": "stdout",
     "text": "root\n |-- url: string (nullable = true)\n |-- urlid: string (nullable = true)\n |-- boilerplate: string (nullable = true)\n |-- alchemy_category: string (nullable = true)\n |-- alchemy_category_score: string (nullable = true)\n |-- avglinksize: string (nullable = true)\n |-- commonlinkratio_1: string (nullable = true)\n |-- commonlinkratio_2: string (nullable = true)\n |-- commonlinkratio_3: string (nullable = true)\n |-- commonlinkratio_4: string (nullable = true)\n |-- compression_ratio: string (nullable = true)\n |-- embed_ratio: string (nullable = true)\n |-- framebased: string (nullable = true)\n |-- frameTagRatio: string (nullable = true)\n |-- hasDomainLink: string (nullable = true)\n |-- html_ratio: string (nullable = true)\n |-- image_ratio: string (nullable = true)\n |-- is_news: string (nullable = true)\n |-- lengthyLinkDomain: string (nullable = true)\n |-- linkwordscore: string (nullable = true)\n |-- news_front_page: string (nullable = true)\n |-- non_markup_alphanum_characters: string (nullable = true)\n |-- numberOfLinks: string (nullable = true)\n |-- numwords_in_url: string (nullable = true)\n |-- parametrizedLinkRatio: string (nullable = true)\n |-- spelling_errors_ratio: string (nullable = true)\n |-- label: string (nullable = true)\n\n"
    }
   ],
   "source": [
    "row_df.printSchema()"
   ]
  },
  {
   "cell_type": "code",
   "execution_count": 7,
   "metadata": {
    "collapsed": false,
    "tags": []
   },
   "outputs": [
    {
     "output_type": "stream",
     "name": "stdout",
     "text": "+--------------------+------------------+----------------------+-------+-----+\n|                 url|  alchemy_category|alchemy_category_score|is_news|label|\n+--------------------+------------------+----------------------+-------+-----+\n|http://www.bloomb...|          business|              0.789131|      1|    0|\n|http://www.popsci...|        recreation|              0.574147|      1|    1|\n|http://www.menshe...|            health|              0.996526|      1|    1|\n|http://www.dumbli...|            health|              0.801248|      1|    1|\n|http://bleacherre...|            sports|              0.719157|      1|    0|\n|http://www.conven...|                 ?|                     ?|      ?|    0|\n|http://gofashionl...|arts_entertainment|               0.22111|      1|    1|\n|http://www.inside...|                 ?|                     ?|      ?|    0|\n|http://www.valetm...|                 ?|                     ?|      1|    1|\n|http://www.howswe...|                 ?|                     ?|      ?|    1|\n+--------------------+------------------+----------------------+-------+-----+\nonly showing top 10 rows\n\n"
    }
   ],
   "source": [
    "row_df.select('url','alchemy_category','alchemy_category_score','is_news','label').show(10)"
   ]
  },
  {
   "cell_type": "code",
   "execution_count": 9,
   "metadata": {},
   "outputs": [],
   "source": [
    "# 将? 全部转为0\n",
    "from pyspark.sql.functions import udf\n",
    "def replace_question(x):\n",
    "    return \"0\" if x == \"?\" else x\n",
    "replace_question = udf(replace_question)"
   ]
  },
  {
   "cell_type": "code",
   "execution_count": 10,
   "metadata": {
    "collapsed": false
   },
   "outputs": [],
   "source": [
    "from pyspark.sql.functions import col  \n",
    "import pyspark.sql.types as typ"
   ]
  },
  {
   "cell_type": "code",
   "execution_count": 11,
   "metadata": {},
   "outputs": [],
   "source": [
    "# 先替换? 在转为double 类型,\n",
    "df = row_df.select(\n",
    "    ['url', 'alchemy_category']+\n",
    "    [replace_question(col(column)).cast(typ.DoubleType()).alias(column) \n",
    "        for column in row_df.columns[4:]\n",
    "    \n",
    "    ])"
   ]
  },
  {
   "cell_type": "code",
   "execution_count": 13,
   "metadata": {
    "collapsed": false,
    "tags": []
   },
   "outputs": [
    {
     "output_type": "stream",
     "name": "stdout",
     "text": "root\n |-- url: string (nullable = true)\n |-- alchemy_category: string (nullable = true)\n |-- alchemy_category_score: double (nullable = true)\n |-- avglinksize: double (nullable = true)\n |-- commonlinkratio_1: double (nullable = true)\n |-- commonlinkratio_2: double (nullable = true)\n |-- commonlinkratio_3: double (nullable = true)\n |-- commonlinkratio_4: double (nullable = true)\n |-- compression_ratio: double (nullable = true)\n |-- embed_ratio: double (nullable = true)\n |-- framebased: double (nullable = true)\n |-- frameTagRatio: double (nullable = true)\n |-- hasDomainLink: double (nullable = true)\n |-- html_ratio: double (nullable = true)\n |-- image_ratio: double (nullable = true)\n |-- is_news: double (nullable = true)\n |-- lengthyLinkDomain: double (nullable = true)\n |-- linkwordscore: double (nullable = true)\n |-- news_front_page: double (nullable = true)\n |-- non_markup_alphanum_characters: double (nullable = true)\n |-- numberOfLinks: double (nullable = true)\n |-- numwords_in_url: double (nullable = true)\n |-- parametrizedLinkRatio: double (nullable = true)\n |-- spelling_errors_ratio: double (nullable = true)\n |-- label: double (nullable = true)\n\n"
    }
   ],
   "source": [
    "df.printSchema()"
   ]
  },
  {
   "cell_type": "code",
   "execution_count": 14,
   "metadata": {
    "collapsed": false,
    "tags": []
   },
   "outputs": [
    {
     "output_type": "stream",
     "name": "stdout",
     "text": "+--------------------+------------------+----------------------+-------+-----+\n|                 url|  alchemy_category|alchemy_category_score|is_news|label|\n+--------------------+------------------+----------------------+-------+-----+\n|http://www.bloomb...|          business|              0.789131|    1.0|  0.0|\n|http://www.popsci...|        recreation|              0.574147|    1.0|  1.0|\n|http://www.menshe...|            health|              0.996526|    1.0|  1.0|\n|http://www.dumbli...|            health|              0.801248|    1.0|  1.0|\n|http://bleacherre...|            sports|              0.719157|    1.0|  0.0|\n|http://www.conven...|                 ?|                   0.0|    0.0|  0.0|\n|http://gofashionl...|arts_entertainment|               0.22111|    1.0|  1.0|\n|http://www.inside...|                 ?|                   0.0|    0.0|  0.0|\n|http://www.valetm...|                 ?|                   0.0|    1.0|  1.0|\n|http://www.howswe...|                 ?|                   0.0|    0.0|  1.0|\n+--------------------+------------------+----------------------+-------+-----+\nonly showing top 10 rows\n\n"
    }
   ],
   "source": [
    "df.select('url','alchemy_category','alchemy_category_score','is_news','label').show(10)"
   ]
  },
  {
   "cell_type": "code",
   "execution_count": 15,
   "metadata": {
    "collapsed": false
   },
   "outputs": [
    {
     "output_type": "execute_result",
     "data": {
      "text/plain": "DataFrame[url: string, alchemy_category: string, alchemy_category_score: double, avglinksize: double, commonlinkratio_1: double, commonlinkratio_2: double, commonlinkratio_3: double, commonlinkratio_4: double, compression_ratio: double, embed_ratio: double, framebased: double, frameTagRatio: double, hasDomainLink: double, html_ratio: double, image_ratio: double, is_news: double, lengthyLinkDomain: double, linkwordscore: double, news_front_page: double, non_markup_alphanum_characters: double, numberOfLinks: double, numwords_in_url: double, parametrizedLinkRatio: double, spelling_errors_ratio: double, label: double]"
     },
     "metadata": {},
     "execution_count": 15
    }
   ],
   "source": [
    "train_df, test_df = df.randomSplit([0.7, 0.3])\n",
    "train_df.cache()\n",
    "test_df.cache()"
   ]
  },
  {
   "cell_type": "markdown",
   "metadata": {},
   "source": [
    "# 20.2\t介绍数据处理的pipeline管线的组件"
   ]
  },
  {
   "cell_type": "code",
   "execution_count": 16,
   "metadata": {
    "collapsed": true
   },
   "outputs": [],
   "source": [
    "from pyspark.ml import Pipeline\n",
    "from pyspark.ml.feature import  StringIndexer, OneHotEncoder,VectorAssembler\n",
    "from pyspark.ml.classification import DecisionTreeClassifier"
   ]
  },
  {
   "cell_type": "code",
   "execution_count": 17,
   "metadata": {
    "collapsed": true
   },
   "outputs": [],
   "source": [
    "# 将文字的分类特征转为数字\n",
    "categoryIndexer = StringIndexer(inputCol='alchemy_category',\n",
    "                                outputCol='alchemy_category_Index')"
   ]
  },
  {
   "cell_type": "code",
   "execution_count": 18,
   "metadata": {
    "collapsed": true
   },
   "outputs": [],
   "source": [
    "categoryTransformer=categoryIndexer.fit(df)"
   ]
  },
  {
   "cell_type": "code",
   "execution_count": 20,
   "metadata": {},
   "outputs": [
    {
     "output_type": "execute_result",
     "data": {
      "text/plain": "['?',\n 'recreation',\n 'arts_entertainment',\n 'business',\n 'health',\n 'sports',\n 'culture_politics',\n 'computer_internet',\n 'science_technology',\n 'gaming',\n 'religion',\n 'law_crime',\n 'unknown',\n 'weather']"
     },
     "metadata": {},
     "execution_count": 20
    }
   ],
   "source": [
    "categoryTransformer.labels"
   ]
  },
  {
   "cell_type": "code",
   "execution_count": 21,
   "metadata": {
    "collapsed": false
   },
   "outputs": [],
   "source": [
    "df1 = categoryTransformer.transform(df)"
   ]
  },
  {
   "cell_type": "code",
   "execution_count": 22,
   "metadata": {
    "collapsed": false
   },
   "outputs": [
    {
     "output_type": "execute_result",
     "data": {
      "text/plain": "['url',\n 'alchemy_category',\n 'alchemy_category_score',\n 'avglinksize',\n 'commonlinkratio_1',\n 'commonlinkratio_2',\n 'commonlinkratio_3',\n 'commonlinkratio_4',\n 'compression_ratio',\n 'embed_ratio',\n 'framebased',\n 'frameTagRatio',\n 'hasDomainLink',\n 'html_ratio',\n 'image_ratio',\n 'is_news',\n 'lengthyLinkDomain',\n 'linkwordscore',\n 'news_front_page',\n 'non_markup_alphanum_characters',\n 'numberOfLinks',\n 'numwords_in_url',\n 'parametrizedLinkRatio',\n 'spelling_errors_ratio',\n 'label',\n 'alchemy_category_Index']"
     },
     "metadata": {},
     "execution_count": 22
    }
   ],
   "source": [
    "df1.columns"
   ]
  },
  {
   "cell_type": "code",
   "execution_count": 23,
   "metadata": {
    "collapsed": false,
    "tags": []
   },
   "outputs": [
    {
     "output_type": "stream",
     "name": "stdout",
     "text": "+------------------+----------------------+\n|  alchemy_category|alchemy_category_Index|\n+------------------+----------------------+\n|          business|                   3.0|\n|        recreation|                   1.0|\n|            health|                   4.0|\n|            health|                   4.0|\n|            sports|                   5.0|\n|                 ?|                   0.0|\n|arts_entertainment|                   2.0|\n|                 ?|                   0.0|\n|                 ?|                   0.0|\n|                 ?|                   0.0|\n+------------------+----------------------+\nonly showing top 10 rows\n\n"
    }
   ],
   "source": [
    "df1.select(\"alchemy_category\",\"alchemy_category_Index\").show(10)"
   ]
  },
  {
   "cell_type": "code",
   "execution_count": 22,
   "metadata": {
    "collapsed": true
   },
   "outputs": [],
   "source": [
    "from pyspark.ml.feature import  OneHotEncoder"
   ]
  },
  {
   "cell_type": "code",
   "execution_count": 24,
   "metadata": {
    "collapsed": false
   },
   "outputs": [],
   "source": [
    "# alchemy_category_Index 进行onehot处理\n",
    "encoder = OneHotEncoder(dropLast=False,\n",
    "                        inputCol='alchemy_category_Index', \n",
    "                        outputCol=\"alchemy_category_IndexVec\")"
   ]
  },
  {
   "cell_type": "code",
   "execution_count": 25,
   "metadata": {
    "collapsed": false
   },
   "outputs": [
    {
     "output_type": "execute_result",
     "data": {
      "text/plain": "['url',\n 'alchemy_category',\n 'alchemy_category_score',\n 'avglinksize',\n 'commonlinkratio_1',\n 'commonlinkratio_2',\n 'commonlinkratio_3',\n 'commonlinkratio_4',\n 'compression_ratio',\n 'embed_ratio',\n 'framebased',\n 'frameTagRatio',\n 'hasDomainLink',\n 'html_ratio',\n 'image_ratio',\n 'is_news',\n 'lengthyLinkDomain',\n 'linkwordscore',\n 'news_front_page',\n 'non_markup_alphanum_characters',\n 'numberOfLinks',\n 'numwords_in_url',\n 'parametrizedLinkRatio',\n 'spelling_errors_ratio',\n 'label',\n 'alchemy_category_Index',\n 'alchemy_category_IndexVec']"
     },
     "metadata": {},
     "execution_count": 25
    }
   ],
   "source": [
    "df2=encoder.transform(df1)\n",
    "df2.columns"
   ]
  },
  {
   "cell_type": "code",
   "execution_count": 26,
   "metadata": {
    "collapsed": false,
    "tags": []
   },
   "outputs": [
    {
     "output_type": "stream",
     "name": "stdout",
     "text": "+------------------+----------------------+-------------------------+\n|  alchemy_category|alchemy_category_Index|alchemy_category_IndexVec|\n+------------------+----------------------+-------------------------+\n|          business|                   3.0|           (14,[3],[1.0])|\n|        recreation|                   1.0|           (14,[1],[1.0])|\n|            health|                   4.0|           (14,[4],[1.0])|\n|            health|                   4.0|           (14,[4],[1.0])|\n|            sports|                   5.0|           (14,[5],[1.0])|\n|                 ?|                   0.0|           (14,[0],[1.0])|\n|arts_entertainment|                   2.0|           (14,[2],[1.0])|\n|                 ?|                   0.0|           (14,[0],[1.0])|\n|                 ?|                   0.0|           (14,[0],[1.0])|\n|                 ?|                   0.0|           (14,[0],[1.0])|\n+------------------+----------------------+-------------------------+\nonly showing top 10 rows\n\n"
    }
   ],
   "source": [
    "df2.select(\"alchemy_category\",\"alchemy_category_Index\",\n",
    "                    \"alchemy_category_IndexVec\").show(10)"
   ]
  },
  {
   "cell_type": "code",
   "execution_count": 26,
   "metadata": {
    "collapsed": true
   },
   "outputs": [],
   "source": [
    "from pyspark.ml.feature import  VectorAssembler"
   ]
  },
  {
   "cell_type": "code",
   "execution_count": 27,
   "metadata": {
    "collapsed": false
   },
   "outputs": [
    {
     "output_type": "execute_result",
     "data": {
      "text/plain": "['alchemy_category_IndexVec',\n 'alchemy_category_score',\n 'avglinksize',\n 'commonlinkratio_1',\n 'commonlinkratio_2',\n 'commonlinkratio_3',\n 'commonlinkratio_4',\n 'compression_ratio',\n 'embed_ratio',\n 'framebased',\n 'frameTagRatio',\n 'hasDomainLink',\n 'html_ratio',\n 'image_ratio',\n 'is_news',\n 'lengthyLinkDomain',\n 'linkwordscore',\n 'news_front_page',\n 'non_markup_alphanum_characters',\n 'numberOfLinks',\n 'numwords_in_url',\n 'parametrizedLinkRatio',\n 'spelling_errors_ratio']"
     },
     "metadata": {},
     "execution_count": 27
    }
   ],
   "source": [
    "# 要将多个列整合到一个向量\n",
    "assemblerInputs =['alchemy_category_IndexVec']  +  row_df.columns[4:-1]\n",
    "assemblerInputs"
   ]
  },
  {
   "cell_type": "code",
   "execution_count": 28,
   "metadata": {
    "collapsed": false
   },
   "outputs": [],
   "source": [
    "assembler = VectorAssembler(inputCols=assemblerInputs,  \n",
    "                            outputCol=\"features\")"
   ]
  },
  {
   "cell_type": "code",
   "execution_count": 29,
   "metadata": {
    "collapsed": false
   },
   "outputs": [],
   "source": [
    "df3=assembler.transform(df2)"
   ]
  },
  {
   "cell_type": "code",
   "execution_count": 30,
   "metadata": {
    "collapsed": false
   },
   "outputs": [
    {
     "output_type": "execute_result",
     "data": {
      "text/plain": "['url',\n 'alchemy_category',\n 'alchemy_category_score',\n 'avglinksize',\n 'commonlinkratio_1',\n 'commonlinkratio_2',\n 'commonlinkratio_3',\n 'commonlinkratio_4',\n 'compression_ratio',\n 'embed_ratio',\n 'framebased',\n 'frameTagRatio',\n 'hasDomainLink',\n 'html_ratio',\n 'image_ratio',\n 'is_news',\n 'lengthyLinkDomain',\n 'linkwordscore',\n 'news_front_page',\n 'non_markup_alphanum_characters',\n 'numberOfLinks',\n 'numwords_in_url',\n 'parametrizedLinkRatio',\n 'spelling_errors_ratio',\n 'label',\n 'alchemy_category_Index',\n 'alchemy_category_IndexVec',\n 'features']"
     },
     "metadata": {},
     "execution_count": 30
    }
   ],
   "source": [
    "df3.columns"
   ]
  },
  {
   "cell_type": "code",
   "execution_count": 31,
   "metadata": {
    "collapsed": false,
    "tags": []
   },
   "outputs": [
    {
     "output_type": "stream",
     "name": "stdout",
     "text": "+--------------------+\n|            features|\n+--------------------+\n|(36,[3,14,15,16,1...|\n|(36,[1,14,15,16,1...|\n|(36,[4,14,15,16,1...|\n|(36,[4,14,15,16,1...|\n|(36,[5,14,15,16,1...|\n+--------------------+\nonly showing top 5 rows\n\n"
    }
   ],
   "source": [
    "df3.select('features').show(5)"
   ]
  },
  {
   "cell_type": "code",
   "execution_count": 32,
   "metadata": {
    "collapsed": false
   },
   "outputs": [
    {
     "output_type": "execute_result",
     "data": {
      "text/plain": "[Row(features=SparseVector(36, {3: 1.0, 14: 0.7891, 15: 2.0556, 16: 0.6765, 17: 0.2059, 18: 0.0471, 19: 0.0235, 20: 0.4438, 23: 0.0908, 25: 0.2458, 26: 0.0039, 27: 1.0, 28: 1.0, 29: 24.0, 31: 5424.0, 32: 170.0, 33: 8.0, 34: 0.1529, 35: 0.0791}))]"
     },
     "metadata": {},
     "execution_count": 32
    }
   ],
   "source": [
    "df3.select('features').take(1)"
   ]
  },
  {
   "cell_type": "code",
   "execution_count": 33,
   "metadata": {
    "collapsed": true
   },
   "outputs": [],
   "source": [
    "from pyspark.ml.classification import DecisionTreeClassifier"
   ]
  },
  {
   "cell_type": "code",
   "execution_count": 33,
   "metadata": {
    "collapsed": false
   },
   "outputs": [],
   "source": [
    "dt = DecisionTreeClassifier(labelCol=\"label\",  featuresCol=\"features\",\n",
    "                            impurity=\"gini\",maxDepth=10, maxBins=14)"
   ]
  },
  {
   "cell_type": "code",
   "execution_count": 34,
   "metadata": {
    "collapsed": false
   },
   "outputs": [
    {
     "output_type": "execute_result",
     "data": {
      "text/plain": "DecisionTreeClassificationModel (uid=DecisionTreeClassifier_b8a5cc995160) of depth 10 with 653 nodes"
     },
     "metadata": {},
     "execution_count": 34
    }
   ],
   "source": [
    "dt_model=dt.fit(df3)\n",
    "dt_model"
   ]
  },
  {
   "cell_type": "code",
   "execution_count": 35,
   "metadata": {
    "collapsed": true
   },
   "outputs": [],
   "source": [
    "df4=dt_model.transform(df3)"
   ]
  },
  {
   "cell_type": "markdown",
   "metadata": {},
   "source": [
    "# 20.3\t建立数据处理的pipeline管线"
   ]
  },
  {
   "cell_type": "code",
   "execution_count": 36,
   "metadata": {
    "collapsed": true
   },
   "outputs": [],
   "source": [
    "from pyspark.ml import Pipeline\n",
    "from pyspark.ml.feature import  StringIndexer, OneHotEncoder,VectorAssembler\n",
    "from pyspark.ml.classification import DecisionTreeClassifier"
   ]
  },
  {
   "cell_type": "code",
   "execution_count": 37,
   "metadata": {
    "collapsed": false
   },
   "outputs": [],
   "source": [
    "stringIndexer = StringIndexer(inputCol='alchemy_category', \n",
    "                              outputCol=\"alchemy_category_Index\")\n",
    "encoder = OneHotEncoder(dropLast=False,\n",
    "                        inputCol='alchemy_category_Index',\n",
    "                        outputCol=\"alchemy_category_IndexVec\")\n",
    "assemblerInputs =['alchemy_category_IndexVec']  + row_df.columns[4:-1] \n",
    "assembler = VectorAssembler(inputCols=assemblerInputs, outputCol=\"features\")\n",
    "dt = DecisionTreeClassifier(labelCol=\"label\", featuresCol=\"features\",impurity=\"gini\",\n",
    "                             maxDepth=10, maxBins=14)\n",
    "pipeline = Pipeline(stages=[stringIndexer,encoder ,assembler, dt])"
   ]
  },
  {
   "cell_type": "code",
   "execution_count": 38,
   "metadata": {
    "collapsed": false
   },
   "outputs": [
    {
     "output_type": "execute_result",
     "data": {
      "text/plain": "[StringIndexer_16a542320c9e,\n OneHotEncoder_c695810de035,\n VectorAssembler_c87a24eefcd0,\n DecisionTreeClassifier_bf207176fa65]"
     },
     "metadata": {},
     "execution_count": 38
    }
   ],
   "source": [
    "pipeline.getStages()"
   ]
  },
  {
   "cell_type": "markdown",
   "metadata": {},
   "source": [
    "# 20.4\t使用pipeline进行训练"
   ]
  },
  {
   "cell_type": "code",
   "execution_count": 48,
   "metadata": {
    "collapsed": false
   },
   "outputs": [],
   "source": [
    "pipelineModel = pipeline.fit(train_df)"
   ]
  },
  {
   "cell_type": "code",
   "execution_count": 49,
   "metadata": {
    "collapsed": false
   },
   "outputs": [
    {
     "output_type": "execute_result",
     "data": {
      "text/plain": "DecisionTreeClassificationModel (uid=DecisionTreeClassifier_bf207176fa65) of depth 10 with 501 nodes"
     },
     "metadata": {},
     "execution_count": 49
    }
   ],
   "source": [
    "pipelineModel.stages[3]"
   ]
  },
  {
   "cell_type": "code",
   "execution_count": 43,
   "metadata": {
    "collapsed": false,
    "tags": []
   },
   "outputs": [
    {
     "output_type": "stream",
     "name": "stdout",
     "text": "DecisionTreeClassificationModel (uid=DecisionTreeClassifier_bf207176fa65) of depth 10 with 501 nodes\n  If (feature 31 <= 1832.0)\n   If (feature 23 <= 0.035596906)\n    If (feature 16 <= 0.7569093425)\n     If (feature 26 <= 0.1085317665)\n      If (feature 26 <= 0.0089726355)\n       If (feature 33 <= 5.5)\n        If (feature 35 <= 0.167132216)\n         If (feature 1 in {0.0})\n          Predict: 0.0\n         Else (feature 1 not in {0.0})\n          Predict: 1.0\n        Else (feature 35 > 0.167132216)\n         If (feature 34 <= 0.0885214845)\n          If (feature 25 <= 0.20540665800000002)\n           Predict: 1.0\n          Else (feature 25 > 0.20540665800000002)\n           If (feature 25 <= 0.30533927299999997)\n            Predict: 0.0\n           Else (feature 25 > 0.30533927299999997)\n            Predict: 1.0\n         Else (feature 34 > 0.0885214845)\n          If (feature 23 <= 0.0218875075)\n           Predict: 0.0\n          Else (feature 23 > 0.0218875075)\n           Predict: 1.0\n       El\n"
    }
   ],
   "source": [
    "print(pipelineModel.stages[3].toDebugString[:1000])"
   ]
  },
  {
   "cell_type": "markdown",
   "metadata": {},
   "source": [
    "# 20.5\t使用pipeline 进行预测"
   ]
  },
  {
   "cell_type": "code",
   "execution_count": 44,
   "metadata": {
    "collapsed": false
   },
   "outputs": [],
   "source": [
    "predicted=pipelineModel.transform(test_df)"
   ]
  },
  {
   "cell_type": "code",
   "execution_count": 45,
   "metadata": {
    "collapsed": false
   },
   "outputs": [
    {
     "output_type": "execute_result",
     "data": {
      "text/plain": "['url',\n 'alchemy_category',\n 'alchemy_category_score',\n 'avglinksize',\n 'commonlinkratio_1',\n 'commonlinkratio_2',\n 'commonlinkratio_3',\n 'commonlinkratio_4',\n 'compression_ratio',\n 'embed_ratio',\n 'framebased',\n 'frameTagRatio',\n 'hasDomainLink',\n 'html_ratio',\n 'image_ratio',\n 'is_news',\n 'lengthyLinkDomain',\n 'linkwordscore',\n 'news_front_page',\n 'non_markup_alphanum_characters',\n 'numberOfLinks',\n 'numwords_in_url',\n 'parametrizedLinkRatio',\n 'spelling_errors_ratio',\n 'label',\n 'alchemy_category_Index',\n 'alchemy_category_IndexVec',\n 'features',\n 'rawPrediction',\n 'probability',\n 'prediction']"
     },
     "metadata": {},
     "execution_count": 45
    }
   ],
   "source": [
    "predicted.columns  # rawPrediction probability prediction"
   ]
  },
  {
   "cell_type": "code",
   "execution_count": 46,
   "metadata": {
    "collapsed": false,
    "tags": []
   },
   "outputs": [
    {
     "output_type": "stream",
     "name": "stdout",
     "text": "+--------------------+--------------------+-------------+--------------------+-----+----------+\n|                 url|            features|rawprediction|         probability|label|prediction|\n+--------------------+--------------------+-------------+--------------------+-----+----------+\n|http://1000awesom...|(36,[2,14,15,16,1...|  [15.0,63.0]|[0.19230769230769...|  1.0|       1.0|\n|http://13gb.com/p...|(36,[0,15,16,20,2...|  [97.0,46.0]|[0.67832167832167...|  0.0|       0.0|\n|http://3kidsandus...|(36,[0,15,16,17,1...|  [9.0,103.0]|[0.08035714285714...|  1.0|       1.0|\n|http://3ppp.info/...|(36,[1,14,15,16,1...|   [16.0,0.0]|           [1.0,0.0]|  1.0|       0.0|\n|http://9gag.com/g...|(36,[0,15,16,17,1...|  [66.0,46.0]|[0.58928571428571...|  1.0|       0.0|\n|http://9gag.com/g...|(36,[0,15,16,17,1...|  [66.0,46.0]|[0.58928571428571...|  0.0|       0.0|\n|http://9gg.us/hah...|(36,[12,14,15,20,...| [119.0,41.0]|   [0.74375,0.25625]|  0.0|       0.0|\n|http://aftenposte...|(36,[0,15,16,17,1...|  [16.0,10.0]|[0.61538461538461...|  0.0|       0.0|\n|http://aht.seriou...|(36,[7,14,15,16,1...| [119.0,81.0]|       [0.595,0.405]|  1.0|       0.0|\n|http://allrecipes...|(36,[3,14,15,16,1...|   [2.0,25.0]|[0.07407407407407...|  1.0|       1.0|\n+--------------------+--------------------+-------------+--------------------+-----+----------+\nonly showing top 10 rows\n\n"
    }
   ],
   "source": [
    "predicted.select('url','features','rawprediction','probability','label','prediction').show(10)"
   ]
  },
  {
   "cell_type": "code",
   "execution_count": 47,
   "metadata": {
    "collapsed": false
   },
   "outputs": [
    {
     "output_type": "execute_result",
     "data": {
      "text/plain": "[Row(probability=DenseVector([0.1923, 0.8077]), prediction=1.0),\n Row(probability=DenseVector([0.6783, 0.3217]), prediction=0.0),\n Row(probability=DenseVector([0.0804, 0.9196]), prediction=1.0),\n Row(probability=DenseVector([1.0, 0.0]), prediction=0.0),\n Row(probability=DenseVector([0.5893, 0.4107]), prediction=0.0),\n Row(probability=DenseVector([0.5893, 0.4107]), prediction=0.0),\n Row(probability=DenseVector([0.7438, 0.2562]), prediction=0.0),\n Row(probability=DenseVector([0.6154, 0.3846]), prediction=0.0),\n Row(probability=DenseVector([0.595, 0.405]), prediction=0.0),\n Row(probability=DenseVector([0.0741, 0.9259]), prediction=1.0)]"
     },
     "metadata": {},
     "execution_count": 47
    }
   ],
   "source": [
    "predicted.select('probability','prediction') .take(10)"
   ]
  },
  {
   "cell_type": "markdown",
   "metadata": {},
   "source": [
    "# 20.6\t评估模型的准确率"
   ]
  },
  {
   "cell_type": "code",
   "execution_count": 51,
   "metadata": {
    "collapsed": true
   },
   "outputs": [],
   "source": [
    "from pyspark.ml.evaluation import BinaryClassificationEvaluator"
   ]
  },
  {
   "cell_type": "code",
   "execution_count": 52,
   "metadata": {
    "collapsed": false
   },
   "outputs": [],
   "source": [
    "evaluator = BinaryClassificationEvaluator(\n",
    "                              rawPredictionCol=\"rawPrediction\",\n",
    "                              labelCol=\"label\",  \n",
    "                              metricName=\"areaUnderROC\"  )"
   ]
  },
  {
   "cell_type": "code",
   "execution_count": 53,
   "metadata": {
    "collapsed": false
   },
   "outputs": [
    {
     "output_type": "execute_result",
     "data": {
      "text/plain": "0.6404064868787183"
     },
     "metadata": {},
     "execution_count": 53
    }
   ],
   "source": [
    "predictions =pipelineModel.transform(test_df)\n",
    "auc= evaluator.evaluate(predictions)\n",
    "auc"
   ]
  },
  {
   "cell_type": "markdown",
   "metadata": {},
   "source": [
    "# 20.7\t使用TrainValidation进行训练评估找出最佳模型"
   ]
  },
  {
   "cell_type": "code",
   "execution_count": 54,
   "metadata": {
    "collapsed": true
   },
   "outputs": [],
   "source": [
    "from pyspark.ml.tuning import ParamGridBuilder,TrainValidationSplit"
   ]
  },
  {
   "cell_type": "code",
   "execution_count": 55,
   "metadata": {
    "collapsed": true
   },
   "outputs": [],
   "source": [
    "dt = DecisionTreeClassifier(labelCol=\"label\", featuresCol=\"features\")"
   ]
  },
  {
   "cell_type": "code",
   "execution_count": 56,
   "metadata": {
    "collapsed": false
   },
   "outputs": [],
   "source": [
    "paramGrid = ParamGridBuilder()\\\n",
    "  .addGrid(dt.impurity, [ \"gini\",\"entropy\"])\\\n",
    "  .addGrid(dt.maxDepth, [ 5,10,15])\\\n",
    "  .addGrid(dt.maxBins, [10, 15,20])\\\n",
    "  .build()"
   ]
  },
  {
   "cell_type": "code",
   "execution_count": 57,
   "metadata": {
    "collapsed": true
   },
   "outputs": [],
   "source": [
    "tvs = TrainValidationSplit(estimator=dt,evaluator=evaluator,\n",
    "                  estimatorParamMaps=paramGrid,trainRatio=0.8)"
   ]
  },
  {
   "cell_type": "code",
   "execution_count": 58,
   "metadata": {
    "collapsed": true
   },
   "outputs": [],
   "source": [
    "tvs_pipeline = Pipeline(stages=[stringIndexer,encoder ,assembler, tvs])"
   ]
  },
  {
   "cell_type": "code",
   "execution_count": 59,
   "metadata": {
    "collapsed": false
   },
   "outputs": [],
   "source": [
    "tvs_pipelineModel =tvs_pipeline.fit(train_df)"
   ]
  },
  {
   "cell_type": "code",
   "execution_count": 60,
   "metadata": {
    "collapsed": false
   },
   "outputs": [
    {
     "output_type": "execute_result",
     "data": {
      "text/plain": "DecisionTreeClassificationModel (uid=DecisionTreeClassifier_ede028bdc05a) of depth 15 with 1601 nodes"
     },
     "metadata": {},
     "execution_count": 60
    }
   ],
   "source": [
    "bestModel=tvs_pipelineModel.stages[3].bestModel\n",
    "bestModel"
   ]
  },
  {
   "cell_type": "code",
   "execution_count": 61,
   "metadata": {
    "collapsed": false,
    "tags": []
   },
   "outputs": [
    {
     "output_type": "stream",
     "name": "stdout",
     "text": "DecisionTreeClassificationModel (uid=DecisionTreeClassifier_ede028bdc05a) of depth 15 with 1601 nodes\n  If (feature 31 <= 1955.0)\n   If (feature 31 <= 1246.0)\n    If (feature 4 in {1.0})\n     If (feature 20 <= 0.6227490865)\n      If (feature 20 <= 0.43302699450000004)\n       If (feature 15 <= 1.907002801)\n        Predict: 1.0\n       Else (feature 15 > 1.907002801)\n        Predict: 0.0\n      Else (feature 20 > 0.43302699450000004)\n       Predict: 1.0\n     Else (feature 20 > 0.6227490865)\n      If\n"
    }
   ],
   "source": [
    "print(bestModel.toDebugString[:500])"
   ]
  },
  {
   "cell_type": "code",
   "execution_count": 62,
   "metadata": {
    "collapsed": false
   },
   "outputs": [
    {
     "output_type": "execute_result",
     "data": {
      "text/plain": "0.655512752470735"
     },
     "metadata": {},
     "execution_count": 62
    }
   ],
   "source": [
    "predictions = tvs_pipelineModel.transform(test_df)\n",
    "auc= evaluator.evaluate(predictions)\n",
    "auc"
   ]
  },
  {
   "cell_type": "markdown",
   "metadata": {},
   "source": [
    "# 20.8\t使用crossValidation进行训练评估找出最佳模型"
   ]
  },
  {
   "cell_type": "code",
   "execution_count": 63,
   "metadata": {
    "collapsed": true
   },
   "outputs": [],
   "source": [
    "from pyspark.ml.tuning import CrossValidator"
   ]
  },
  {
   "cell_type": "code",
   "execution_count": 64,
   "metadata": {
    "collapsed": true
   },
   "outputs": [],
   "source": [
    "cv = CrossValidator(estimator=dt, evaluator=evaluator, \n",
    "                    estimatorParamMaps=paramGrid, numFolds=3)"
   ]
  },
  {
   "cell_type": "code",
   "execution_count": 65,
   "metadata": {
    "collapsed": true
   },
   "outputs": [],
   "source": [
    "cv_pipeline = Pipeline(stages=[stringIndexer,encoder ,assembler, cv])"
   ]
  },
  {
   "cell_type": "code",
   "execution_count": 66,
   "metadata": {
    "collapsed": true
   },
   "outputs": [],
   "source": [
    "cv_pipelineModel = cv_pipeline.fit(train_df)"
   ]
  },
  {
   "cell_type": "code",
   "execution_count": 67,
   "metadata": {
    "collapsed": false
   },
   "outputs": [
    {
     "output_type": "execute_result",
     "data": {
      "text/plain": "DecisionTreeClassificationModel (uid=DecisionTreeClassifier_ede028bdc05a) of depth 15 with 1449 nodes"
     },
     "metadata": {},
     "execution_count": 67
    }
   ],
   "source": [
    "bestModel=cv_pipelineModel.stages[3].bestModel\n",
    "bestModel"
   ]
  },
  {
   "cell_type": "code",
   "execution_count": 68,
   "metadata": {
    "collapsed": false,
    "tags": []
   },
   "outputs": [
    {
     "output_type": "stream",
     "name": "stdout",
     "text": "DecisionTreeClassificationModel (uid=DecisionTreeClassifier_ede028bdc05a) of depth 15 with 1449 nodes\n  If (feature 31 <= 1611.5)\n   If (feature 4 in {1.0})\n    If (feature 31 <= 239.5)\n     If (feature 23 <= 0.012195692000000001)\n      Predict: 1.0\n     Else (feature 23 > 0.012195692000000001)\n      If (feature 35 <= 0.032965129999999995)\n       Predict: 1.0\n      Else (feature 35 > 0.032965129999999995)\n       Predict: 0.0\n    Else (feature 31 > 239.5)\n     If (feature 35 <= 0.0475698544999999\n"
    }
   ],
   "source": [
    "print(bestModel.toDebugString[:500])"
   ]
  },
  {
   "cell_type": "code",
   "execution_count": 69,
   "metadata": {
    "collapsed": false
   },
   "outputs": [
    {
     "output_type": "execute_result",
     "data": {
      "text/plain": "0.659141269669929"
     },
     "metadata": {},
     "execution_count": 69
    }
   ],
   "source": [
    "predictions = cv_pipelineModel.transform(test_df)\n",
    "auc= evaluator.evaluate(predictions)\n",
    "auc"
   ]
  },
  {
   "cell_type": "markdown",
   "metadata": {},
   "source": [
    "# 20.9\t使用RandomForestClassifier分类器"
   ]
  },
  {
   "cell_type": "code",
   "execution_count": 70,
   "metadata": {
    "collapsed": false
   },
   "outputs": [],
   "source": [
    "from pyspark.ml.classification import RandomForestClassifier\n",
    "\n",
    "rf =RandomForestClassifier(labelCol=\"label\", \n",
    "                           featuresCol=\"features\",numTrees=10)\n",
    "\n",
    "rfpipeline = Pipeline(stages=[stringIndexer,encoder ,assembler, rf])"
   ]
  },
  {
   "cell_type": "code",
   "execution_count": 71,
   "metadata": {
    "collapsed": false
   },
   "outputs": [
    {
     "output_type": "execute_result",
     "data": {
      "text/plain": "0.7338259061360592"
     },
     "metadata": {},
     "execution_count": 71
    }
   ],
   "source": [
    "rfpipelineModel = rfpipeline.fit(train_df)\n",
    "rfpredicted=rfpipelineModel.transform(test_df)\n",
    "evaluator.evaluate(rfpredicted)"
   ]
  },
  {
   "cell_type": "code",
   "execution_count": 72,
   "metadata": {
    "collapsed": false
   },
   "outputs": [
    {
     "output_type": "execute_result",
     "data": {
      "text/plain": "0.7641141485559393"
     },
     "metadata": {},
     "execution_count": 72
    }
   ],
   "source": [
    "from pyspark.ml.tuning import ParamGridBuilder, TrainValidationSplit\n",
    "from pyspark.ml.evaluation import BinaryClassificationEvaluator\n",
    "from pyspark.ml.classification import RandomForestClassifier\n",
    "\n",
    "paramGrid = ParamGridBuilder()\\\n",
    "  .addGrid(rf.impurity, [ \"gini\",\"entropy\"])\\\n",
    "  .addGrid(rf.maxDepth, [ 5,10,15])\\\n",
    "  .addGrid(rf.maxBins, [10, 15,20])\\\n",
    "  .addGrid(rf.numTrees, [10, 20,30])\\\n",
    "  .build()\n",
    "\n",
    "rftvs = TrainValidationSplit(estimator=rf, evaluator=evaluator,\n",
    "                                 estimatorParamMaps=paramGrid, trainRatio=0.8)\n",
    "\n",
    "rftvs_pipeline = Pipeline(stages=[stringIndexer,encoder ,assembler, rftvs])\n",
    "rftvs_pipelineModel =rftvs_pipeline.fit(train_df)\n",
    "rftvspredictions = rftvs_pipelineModel.transform(test_df)\n",
    "auc= evaluator.evaluate(rftvspredictions)\n",
    "auc"
   ]
  },
  {
   "cell_type": "code",
   "execution_count": 74,
   "metadata": {
    "collapsed": false
   },
   "outputs": [],
   "source": [
    "from pyspark.ml.tuning import CrossValidator, ParamGridBuilder\n",
    "from pyspark.ml import Pipeline\n",
    "\n",
    "rfcv = CrossValidator(estimator=rf, evaluator=evaluator, \n",
    "                          estimatorParamMaps=paramGrid, numFolds=3)\n",
    "\n",
    "rfcv_pipeline = Pipeline(stages=[stringIndexer,encoder ,assembler, rfcv])\n",
    "rfcv_pipelineModel = rfcv_pipeline.fit(train_df)"
   ]
  },
  {
   "cell_type": "code",
   "execution_count": 75,
   "metadata": {
    "collapsed": false
   },
   "outputs": [],
   "source": [
    "rfcvpredictions = rfcv_pipelineModel.transform(test_df)"
   ]
  },
  {
   "cell_type": "code",
   "execution_count": 76,
   "metadata": {
    "collapsed": false,
    "tags": []
   },
   "outputs": [
    {
     "output_type": "stream",
     "name": "stdout",
     "text": "网址: http://1000awesomethings.com/2008/12/29/864-mastering-the-art-of-the-all-you-can-eat-buffet/\n 预测: 1.0 说明为: 长青网页(evergreen)\n网址: http://13gb.com/pictures/4004/\n 预测: 0.0 说明为: 暂时性网页(ephemeral)\n网址: http://3kidsandus.com/red-velvet-rice-krispies-treats-hearts-for-valentines-day/\n 预测: 1.0 说明为: 长青网页(evergreen)\n网址: http://3ppp.info/homemade-gravlax-for-breakfast-it-turned-out-great/\n 预测: 0.0 说明为: 暂时性网页(ephemeral)\n网址: http://9gag.com/gag/107718\n 预测: 0.0 说明为: 暂时性网页(ephemeral)\n"
    }
   ],
   "source": [
    "DescDict = {\n",
    "           0: \"暂时性网页(ephemeral)\",\n",
    "           1: \"长青网页(evergreen)\"\n",
    "     }\n",
    "for data in rfcvpredictions.select('url','prediction').take(5):\n",
    "     print(\"网址: {}\\n 预测: {} 说明为: {}\".format(\n",
    "          data[0], data[1], DescDict[data[1]]\n",
    "     ))"
   ]
  },
  {
   "cell_type": "code",
   "execution_count": 77,
   "metadata": {
    "collapsed": false
   },
   "outputs": [
    {
     "output_type": "execute_result",
     "data": {
      "text/plain": "0.7643281639800424"
     },
     "metadata": {},
     "execution_count": 77
    }
   ],
   "source": [
    "auc= evaluator.evaluate(rfcvpredictions)\n",
    "auc"
   ]
  },
  {
   "cell_type": "code",
   "execution_count": null,
   "metadata": {},
   "outputs": [],
   "source": []
  }
 ],
 "metadata": {
  "kernelspec": {
   "display_name": "tf-gpu",
   "language": "python",
   "name": "base"
  },
  "language_info": {
   "codemirror_mode": {
    "name": "ipython",
    "version": 2
   },
   "file_extension": ".py",
   "mimetype": "text/x-python",
   "name": "python",
   "nbconvert_exporter": "python",
   "pygments_lexer": "ipython2",
   "version": "3.7.6-final"
  }
 },
 "nbformat": 4,
 "nbformat_minor": 0
}