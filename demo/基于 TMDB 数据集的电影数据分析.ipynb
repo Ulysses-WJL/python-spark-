{
 "metadata": {
  "language_info": {
   "codemirror_mode": {
    "name": "ipython",
    "version": 3
   },
   "file_extension": ".py",
   "mimetype": "text/x-python",
   "name": "python",
   "nbconvert_exporter": "python",
   "pygments_lexer": "ipython3",
   "version": "3.7.6-final"
  },
  "orig_nbformat": 2,
  "kernelspec": {
   "name": "python_defaultSpec_1599120370853",
   "display_name": "Python 3.7.6 64-bit ('anaconda3': virtualenv)"
  }
 },
 "nbformat": 4,
 "nbformat_minor": 2,
 "cells": [
  {
   "cell_type": "code",
   "execution_count": 1,
   "metadata": {},
   "outputs": [],
   "source": [
    "from pyspark.sql import SparkSession, Row\n",
    "from pyspark import SparkConf\n",
    "\n",
    "conf = SparkConf().setAppName(\"TMDB\").setMaster(\"local[4]\")\n",
    "spark = SparkSession.builder.config(conf=conf).getOrCreate()"
   ]
  },
  {
   "cell_type": "code",
   "execution_count": 2,
   "metadata": {},
   "outputs": [],
   "source": [
    "from pyspark.sql import Row\n",
    "from pyspark.sql.types import StringType, StructField, StructType\n",
    "import csv\n",
    "import json"
   ]
  },
  {
   "cell_type": "code",
   "execution_count": 3,
   "metadata": {},
   "outputs": [],
   "source": [
    "schemaString = \"budget,genres,homepage,id,keywords,original_language,original_title,overview,popularity,production_companies,production_countries,release_date,revenue,runtime,spoken_languages,status,tagline,title,vote_average,vote_count\"\n",
    "fields = [StructField(field, StringType(), True)\n",
    "          for field in schemaString.split(',')]\n",
    "schema = StructType(fields)\n",
    "\n",
    "sc = spark.sparkContext\n",
    "movies_RDD = sc.textFile(\"tmdb_5000_movies.csv\") \\\n",
    "               .map(lambda line: Row(*next(csv.reader([line]))))  \n",
    "               # next 函数将迭代器中的数据读取到数组中\n",
    "movies_DF = spark.createDataFrame(movies_RDD, schema=schema)"
   ]
  },
  {
   "cell_type": "code",
   "execution_count": 4,
   "metadata": {},
   "outputs": [],
   "source": [
    "def save(path, data):\n",
    "    with open(path, 'w') as f:\n",
    "        f.write(data)"
   ]
  },
  {
   "cell_type": "markdown",
   "metadata": {},
   "source": [
    "## 体裁分析"
   ]
  },
  {
   "cell_type": "code",
   "execution_count": 5,
   "metadata": {
    "tags": []
   },
   "outputs": [
    {
     "output_type": "stream",
     "name": "stdout",
     "text": "root\n |-- budget: string (nullable = true)\n |-- genres: string (nullable = true)\n |-- homepage: string (nullable = true)\n |-- id: string (nullable = true)\n |-- keywords: string (nullable = true)\n |-- original_language: string (nullable = true)\n |-- original_title: string (nullable = true)\n |-- overview: string (nullable = true)\n |-- popularity: string (nullable = true)\n |-- production_companies: string (nullable = true)\n |-- production_countries: string (nullable = true)\n |-- release_date: string (nullable = true)\n |-- revenue: string (nullable = true)\n |-- runtime: string (nullable = true)\n |-- spoken_languages: string (nullable = true)\n |-- status: string (nullable = true)\n |-- tagline: string (nullable = true)\n |-- title: string (nullable = true)\n |-- vote_average: string (nullable = true)\n |-- vote_count: string (nullable = true)\n\n"
    }
   ],
   "source": [
    "movies_DF.printSchema()"
   ]
  },
  {
   "cell_type": "code",
   "execution_count": 6,
   "metadata": {},
   "outputs": [
    {
     "output_type": "execute_result",
     "data": {
      "text/plain": "[Row(genres='[{\"id\": 28, \"name\": \"Action\"}, {\"id\": 12, \"name\": \"Adventure\"}, {\"id\": 14, \"name\": \"Fantasy\"}, {\"id\": 878, \"name\": \"Science Fiction\"}]'),\n Row(genres='[{\"id\": 12, \"name\": \"Adventure\"}, {\"id\": 14, \"name\": \"Fantasy\"}, {\"id\": 28, \"name\": \"Action\"}]'),\n Row(genres='[{\"id\": 28, \"name\": \"Action\"}, {\"id\": 12, \"name\": \"Adventure\"}, {\"id\": 80, \"name\": \"Crime\"}]')]"
     },
     "metadata": {},
     "execution_count": 6
    }
   ],
   "source": [
    "movies_DF.select('genres').rdd.take(3)"
   ]
  },
  {
   "cell_type": "code",
   "execution_count": 7,
   "metadata": {},
   "outputs": [],
   "source": [
    "def countByJson(field):\n",
    "    # filter(movies_DF[field] != field)\n",
    "    return movies_DF \\\n",
    "        .select(field) \\\n",
    "        .filter(movies_DF[field] != '') \\\n",
    "        .rdd \\\n",
    "        .flatMap(lambda g: [(v, 1) for v in map(lambda x: x['name'], json.loads(g[field]))]) \\\n",
    "        .repartition(1) \\\n",
    "        .reduceByKey(lambda x, y: x+y)\n",
    "def countByGenres():\n",
    "    res = countByJson('genres').collect()\n",
    "    return list(\n",
    "        map(lambda v: {'genre':v[0], 'count':v[1]}, res)\n",
    "    )"
   ]
  },
  {
   "cell_type": "code",
   "execution_count": 8,
   "metadata": {},
   "outputs": [],
   "source": [
    "a = movies_DF \\\n",
    "        .select(\"genres\") \\\n",
    "        .filter(movies_DF[\"genres\"] != '') \\\n",
    "        .filter(movies_DF[\"genres\"] != 'genres') \\\n",
    "        .rdd \\\n",
    "        .flatMap(lambda g: [(v, 1) for v in map(lambda x: x['name'], json.loads(g['genres']))]) \\\n",
    "        # .reduceByKey(lambda x, y: x+y)"
   ]
  },
  {
   "cell_type": "code",
   "execution_count": 9,
   "metadata": {},
   "outputs": [
    {
     "output_type": "execute_result",
     "data": {
      "text/plain": "[('Action', 1154)]"
     },
     "metadata": {},
     "execution_count": 9
    }
   ],
   "source": [
    "countByJson('genres').take(1)"
   ]
  },
  {
   "cell_type": "code",
   "execution_count": 84,
   "metadata": {},
   "outputs": [],
   "source": [
    "save('TMDB/genres.json', json.dumps(countByGenres()))"
   ]
  },
  {
   "cell_type": "markdown",
   "metadata": {},
   "source": [
    "## 前 100 个常见关键词"
   ]
  },
  {
   "cell_type": "code",
   "execution_count": 11,
   "metadata": {
    "tags": []
   },
   "outputs": [
    {
     "output_type": "stream",
     "name": "stdout",
     "text": "+---------------------------------------------------------------------------------------------------------------------------------------------------------------------------------------------------------------------------------------------------------------------------------------------------------------------------------------------------------------------------------------------------------------------------------------------------------------------------------------------------------------------------------------------------------------------------------------------------------------------------------------------------------------------------------------------------------------------------------------------------------------+\n|keywords                                                                                                                                                                                                                                                                                                                                                                                                                                                                                                                                                                                                                                                                                                                                                       |\n+---------------------------------------------------------------------------------------------------------------------------------------------------------------------------------------------------------------------------------------------------------------------------------------------------------------------------------------------------------------------------------------------------------------------------------------------------------------------------------------------------------------------------------------------------------------------------------------------------------------------------------------------------------------------------------------------------------------------------------------------------------------+\n|[{\"id\": 1463, \"name\": \"culture clash\"}, {\"id\": 2964, \"name\": \"future\"}, {\"id\": 3386, \"name\": \"space war\"}, {\"id\": 3388, \"name\": \"space colony\"}, {\"id\": 3679, \"name\": \"society\"}, {\"id\": 3801, \"name\": \"space travel\"}, {\"id\": 9685, \"name\": \"futuristic\"}, {\"id\": 9840, \"name\": \"romance\"}, {\"id\": 9882, \"name\": \"space\"}, {\"id\": 9951, \"name\": \"alien\"}, {\"id\": 10148, \"name\": \"tribe\"}, {\"id\": 10158, \"name\": \"alien planet\"}, {\"id\": 10987, \"name\": \"cgi\"}, {\"id\": 11399, \"name\": \"marine\"}, {\"id\": 13065, \"name\": \"soldier\"}, {\"id\": 14643, \"name\": \"battle\"}, {\"id\": 14720, \"name\": \"love affair\"}, {\"id\": 165431, \"name\": \"anti war\"}, {\"id\": 193554, \"name\": \"power relations\"}, {\"id\": 206690, \"name\": \"mind and soul\"}, {\"id\": 209714, \"name\": \"3d\"}]|\n|[{\"id\": 270, \"name\": \"ocean\"}, {\"id\": 726, \"name\": \"drug abuse\"}, {\"id\": 911, \"name\": \"exotic island\"}, {\"id\": 1319, \"name\": \"east india trading company\"}, {\"id\": 2038, \"name\": \"love of one's life\"}, {\"id\": 2052, \"name\": \"traitor\"}, {\"id\": 2580, \"name\": \"shipwreck\"}, {\"id\": 2660, \"name\": \"strong woman\"}, {\"id\": 3799, \"name\": \"ship\"}, {\"id\": 5740, \"name\": \"alliance\"}, {\"id\": 5941, \"name\": \"calypso\"}, {\"id\": 6155, \"name\": \"afterlife\"}, {\"id\": 6211, \"name\": \"fighter\"}, {\"id\": 12988, \"name\": \"pirate\"}, {\"id\": 157186, \"name\": \"swashbuckler\"}, {\"id\": 179430, \"name\": \"aftercreditsstinger\"}]                                                                                                                                                 |\n+---------------------------------------------------------------------------------------------------------------------------------------------------------------------------------------------------------------------------------------------------------------------------------------------------------------------------------------------------------------------------------------------------------------------------------------------------------------------------------------------------------------------------------------------------------------------------------------------------------------------------------------------------------------------------------------------------------------------------------------------------------------+\nonly showing top 2 rows\n\n"
    }
   ],
   "source": [
    "movies_DF.select('keywords').show(2, truncate=False)"
   ]
  },
  {
   "cell_type": "code",
   "execution_count": 12,
   "metadata": {},
   "outputs": [],
   "source": [
    "def countByKeywords():\n",
    "    res = countByJson('keywords').sortBy(lambda x: x[-1], ascending=False).take(100)\n",
    "    return list(\n",
    "        map(lambda v: {'keyword':v[0], 'count':v[1]}, res)\n",
    "    )\n",
    "keywords_list = countByKeywords()"
   ]
  },
  {
   "cell_type": "code",
   "execution_count": 14,
   "metadata": {},
   "outputs": [
    {
     "output_type": "execute_result",
     "data": {
      "text/plain": "[{'keyword': 'woman director', 'count': 324},\n {'keyword': 'independent film', 'count': 318},\n {'keyword': 'duringcreditsstinger', 'count': 307},\n {'keyword': 'based on novel', 'count': 197},\n {'keyword': 'murder', 'count': 189}]"
     },
     "metadata": {},
     "execution_count": 14
    }
   ],
   "source": [
    "keywords_list[:5]"
   ]
  },
  {
   "cell_type": "code",
   "execution_count": 15,
   "metadata": {},
   "outputs": [],
   "source": [
    "save('TMDB/keywords.json', json.dumps(countByKeywords()))"
   ]
  },
  {
   "cell_type": "markdown",
   "metadata": {},
   "source": [
    "## TMDB 中最常见的 10 种预算数"
   ]
  },
  {
   "cell_type": "code",
   "execution_count": 16,
   "metadata": {
    "tags": []
   },
   "outputs": [
    {
     "output_type": "stream",
     "name": "stdout",
     "text": "+---------+\n|   budget|\n+---------+\n|237000000|\n|300000000|\n|245000000|\n|250000000|\n|260000000|\n+---------+\nonly showing top 5 rows\n\n"
    }
   ],
   "source": [
    "movies_DF.select('budget').show(5)"
   ]
  },
  {
   "cell_type": "code",
   "execution_count": 23,
   "metadata": {
    "tags": []
   },
   "outputs": [
    {
     "output_type": "execute_result",
     "data": {
      "text/plain": "['{\"budget\":\"20000000\",\"count\":144}',\n '{\"budget\":\"30000000\",\"count\":128}',\n '{\"budget\":\"25000000\",\"count\":126}',\n '{\"budget\":\"40000000\",\"count\":123}',\n '{\"budget\":\"15000000\",\"count\":120}',\n '{\"budget\":\"35000000\",\"count\":102}',\n '{\"budget\":\"10000000\",\"count\":101}',\n '{\"budget\":\"50000000\",\"count\":101}',\n '{\"budget\":\"60000000\",\"count\":86}',\n '{\"budget\":\"5000000\",\"count\":84}']"
     },
     "metadata": {},
     "execution_count": 23
    }
   ],
   "source": [
    "# 结果为json 字符串\n",
    "movies_DF.filter(movies_DF[\"budget\"] != 0).groupBy('budget').count().orderBy('count', ascending=False).toJSON().take(10)"
   ]
  },
  {
   "cell_type": "code",
   "execution_count": 24,
   "metadata": {},
   "outputs": [
    {
     "output_type": "execute_result",
     "data": {
      "text/plain": "[Row(budget='20000000', count=144),\n Row(budget='30000000', count=128),\n Row(budget='25000000', count=126),\n Row(budget='40000000', count=123),\n Row(budget='15000000', count=120),\n Row(budget='35000000', count=102),\n Row(budget='10000000', count=101),\n Row(budget='50000000', count=101),\n Row(budget='60000000', count=86),\n Row(budget='5000000', count=84)]"
     },
     "metadata": {},
     "execution_count": 24
    }
   ],
   "source": [
    "movies_DF.filter(movies_DF[\"budget\"] != 0).groupBy('budget').count().orderBy('count', ascending=False).rdd.take(10)"
   ]
  },
  {
   "cell_type": "code",
   "execution_count": 25,
   "metadata": {},
   "outputs": [
    {
     "output_type": "execute_result",
     "data": {
      "text/plain": "[{'budget': '20000000', 'count': 144},\n {'budget': '30000000', 'count': 128},\n {'budget': '25000000', 'count': 126},\n {'budget': '40000000', 'count': 123},\n {'budget': '15000000', 'count': 120},\n {'budget': '35000000', 'count': 102},\n {'budget': '10000000', 'count': 101},\n {'budget': '50000000', 'count': 101},\n {'budget': '60000000', 'count': 86},\n {'budget': '5000000', 'count': 84}]"
     },
     "metadata": {},
     "execution_count": 25
    }
   ],
   "source": [
    "def countByBudget():\n",
    "    return movies_DF \\\n",
    "        .filter(movies_DF[\"budget\"] != 0) \\\n",
    "        .groupBy('budget') \\\n",
    "        .count() \\\n",
    "        .orderBy('count', ascending=False) \\\n",
    "        .toJSON() \\\n",
    "        .map(lambda  r: json.loads(r)) \\\n",
    "        .take(10)\n",
    "budget_res = countByBudget()\n",
    "budget_res"
   ]
  },
  {
   "cell_type": "code",
   "execution_count": 27,
   "metadata": {},
   "outputs": [],
   "source": [
    "save('TMDB/budget.json', json.dumps(countByBudget()))"
   ]
  },
  {
   "cell_type": "markdown",
   "metadata": {},
   "source": [
    "## TMDb 中最常见电影时长(只展示电影数大于 100 的时长)"
   ]
  },
  {
   "cell_type": "code",
   "execution_count": 30,
   "metadata": {},
   "outputs": [
    {
     "output_type": "execute_result",
     "data": {
      "text/plain": "[{'runtime': '101', 'count': 111}, {'runtime': '98', 'count': 133}]"
     },
     "metadata": {},
     "execution_count": 30
    }
   ],
   "source": [
    "def distributionOfRuntime():\n",
    "    return movies_DF \\\n",
    "        .filter(movies_DF['runtime'] != 0) \\\n",
    "        .groupBy('runtime') \\\n",
    "        .count() \\\n",
    "        .filter(\"count>=100\") \\\n",
    "        .toJSON() \\\n",
    "        .map(lambda r: json.loads(r)).collect()\n",
    "runtime = distributionOfRuntime()\n",
    "runtime[:2]"
   ]
  },
  {
   "cell_type": "code",
   "execution_count": 31,
   "metadata": {},
   "outputs": [],
   "source": [
    "save('TMDB/Runtime.json', json.dumps(distributionOfRuntime()))"
   ]
  },
  {
   "cell_type": "markdown",
   "metadata": {},
   "source": [
    "## 生产电影最多的 10 大公司"
   ]
  },
  {
   "cell_type": "code",
   "execution_count": 33,
   "metadata": {
    "tags": []
   },
   "outputs": [
    {
     "output_type": "stream",
     "name": "stdout",
     "text": "+-----------------------------------------------------------------------------------------------------------------------------------------------------------------------------------------------------------+\n|production_companies                                                                                                                                                                                       |\n+-----------------------------------------------------------------------------------------------------------------------------------------------------------------------------------------------------------+\n|[{\"name\": \"Ingenious Film Partners\", \"id\": 289}, {\"name\": \"Twentieth Century Fox Film Corporation\", \"id\": 306}, {\"name\": \"Dune Entertainment\", \"id\": 444}, {\"name\": \"Lightstorm Entertainment\", \"id\": 574}]|\n|[{\"name\": \"Walt Disney Pictures\", \"id\": 2}, {\"name\": \"Jerry Bruckheimer Films\", \"id\": 130}, {\"name\": \"Second Mate Productions\", \"id\": 19936}]                                                              |\n|[{\"name\": \"Columbia Pictures\", \"id\": 5}, {\"name\": \"Danjaq\", \"id\": 10761}, {\"name\": \"B24\", \"id\": 69434}]                                                                                                    |\n|[{\"name\": \"Legendary Pictures\", \"id\": 923}, {\"name\": \"Warner Bros.\", \"id\": 6194}, {\"name\": \"DC Entertainment\", \"id\": 9993}, {\"name\": \"Syncopy\", \"id\": 9996}]                                               |\n|[{\"name\": \"Walt Disney Pictures\", \"id\": 2}]                                                                                                                                                                |\n+-----------------------------------------------------------------------------------------------------------------------------------------------------------------------------------------------------------+\nonly showing top 5 rows\n\n"
    }
   ],
   "source": [
    "movies_DF.select('production_companies').show(5, truncate=False)"
   ]
  },
  {
   "cell_type": "code",
   "execution_count": 35,
   "metadata": {},
   "outputs": [
    {
     "output_type": "execute_result",
     "data": {
      "text/plain": "[('Warner Bros.', 319),\n ('Universal Pictures', 311),\n ('Paramount Pictures', 285),\n ('Twentieth Century Fox Film Corporation', 222),\n ('Columbia Pictures', 201)]"
     },
     "metadata": {},
     "execution_count": 35
    }
   ],
   "source": [
    "countByJson('production_companies').sortBy(lambda x: x[-1], ascending=False).take(5)"
   ]
  },
  {
   "cell_type": "code",
   "execution_count": 36,
   "metadata": {},
   "outputs": [],
   "source": [
    "def countByCompanies():\n",
    "    res = countByJson('production_companies').sortBy(lambda x: x[-1], ascending=False).take(10)\n",
    "    return list(map(lambda v: {'company': v[0], 'film_count':v[1]}, res))\n",
    "save('TMDB/company.json', json.dumps(countByCompanies()))"
   ]
  },
  {
   "cell_type": "markdown",
   "metadata": {},
   "source": [
    "## TMDb 中的 10 大电影语言"
   ]
  },
  {
   "cell_type": "code",
   "execution_count": 37,
   "metadata": {},
   "outputs": [
    {
     "output_type": "execute_result",
     "data": {
      "text/plain": "['budget',\n 'genres',\n 'homepage',\n 'id',\n 'keywords',\n 'original_language',\n 'original_title',\n 'overview',\n 'popularity',\n 'production_companies',\n 'production_countries',\n 'release_date',\n 'revenue',\n 'runtime',\n 'spoken_languages',\n 'status',\n 'tagline',\n 'title',\n 'vote_average',\n 'vote_count']"
     },
     "metadata": {},
     "execution_count": 37
    }
   ],
   "source": [
    "movies_DF.columns"
   ]
  },
  {
   "cell_type": "code",
   "execution_count": 39,
   "metadata": {
    "tags": []
   },
   "outputs": [
    {
     "output_type": "stream",
     "name": "stdout",
     "text": "+--------------------------------------------------------------------------------------------------------------------------------------------------------------------------------------------------------------------+\n|spoken_languages                                                                                                                                                                                                    |\n+--------------------------------------------------------------------------------------------------------------------------------------------------------------------------------------------------------------------+\n|[{\"iso_639_1\": \"en\", \"name\": \"English\"}, {\"iso_639_1\": \"es\", \"name\": \"Espa\\u00f1ol\"}]                                                                                                                               |\n|[{\"iso_639_1\": \"en\", \"name\": \"English\"}]                                                                                                                                                                            |\n|[{\"iso_639_1\": \"fr\", \"name\": \"Fran\\u00e7ais\"}, {\"iso_639_1\": \"en\", \"name\": \"English\"}, {\"iso_639_1\": \"es\", \"name\": \"Espa\\u00f1ol\"}, {\"iso_639_1\": \"it\", \"name\": \"Italiano\"}, {\"iso_639_1\": \"de\", \"name\": \"Deutsch\"}]|\n|[{\"iso_639_1\": \"en\", \"name\": \"English\"}]                                                                                                                                                                            |\n+--------------------------------------------------------------------------------------------------------------------------------------------------------------------------------------------------------------------+\nonly showing top 4 rows\n\n"
    }
   ],
   "source": [
    "movies_DF.select('spoken_languages').show(4, truncate=False)"
   ]
  },
  {
   "cell_type": "code",
   "execution_count": 41,
   "metadata": {},
   "outputs": [
    {
     "output_type": "execute_result",
     "data": {
      "text/plain": "[{'language': 'English', 'count': 4485},\n {'language': 'Français', 'count': 437},\n {'language': 'Español', 'count': 351},\n {'language': 'Deutsch', 'count': 262},\n {'language': 'Italiano', 'count': 188},\n {'language': 'Pусский', 'count': 185},\n {'language': '普通话', 'count': 107},\n {'language': '日本語', 'count': 97},\n {'language': 'Português', 'count': 68},\n {'language': 'العربية', 'count': 67}]"
     },
     "metadata": {},
     "execution_count": 41
    }
   ],
   "source": [
    "def countByLanguage():\n",
    "    res = countByJson('spoken_languages').filter(lambda lang: lang[0] != \"\").sortBy(lambda x: x[-1], ascending=False).take(10)\n",
    "    return list(map(lambda x: {'language':x[0], 'count':x[1]}, res))\n",
    "countByLanguage()"
   ]
  },
  {
   "cell_type": "code",
   "execution_count": 42,
   "metadata": {},
   "outputs": [],
   "source": [
    "save('TMDB/Language.json', json.dumps(countByLanguage()))"
   ]
  },
  {
   "cell_type": "markdown",
   "metadata": {},
   "source": [
    "## 预算与评价的关系\n",
    "\n",
    "考虑预算与评价之间的关系\n",
    "\n",
    "标题 预算  评价"
   ]
  },
  {
   "cell_type": "code",
   "execution_count": 45,
   "metadata": {},
   "outputs": [
    {
     "output_type": "execute_result",
     "data": {
      "text/plain": "[Row(title='Avatar', budget='237000000', vote_average='7.2'),\n Row(title=\"Pirates of the Caribbean: At World's End\", budget='300000000', vote_average='6.9'),\n Row(title='Spectre', budget='245000000', vote_average='6.3')]"
     },
     "metadata": {},
     "execution_count": 45
    }
   ],
   "source": [
    "def budgetVote():\n",
    "    return movies_DF.select('title', 'budget','vote_average').filter(movies_DF['budget'] != 0).filter(movies_DF['vote_count']>= 100).collect()\n",
    "budgetVote()[:3]"
   ]
  },
  {
   "cell_type": "code",
   "execution_count": 46,
   "metadata": {},
   "outputs": [],
   "source": [
    "save('TMDB/bugetvote.json', json.dumps(budgetVote()))"
   ]
  },
  {
   "cell_type": "markdown",
   "metadata": {},
   "source": [
    "## 发行时间与评价的关系"
   ]
  },
  {
   "cell_type": "code",
   "execution_count": 48,
   "metadata": {},
   "outputs": [],
   "source": [
    "def dateVote():\n",
    "    return movies_DF.select(movies_DF[\"release_date\"], \"vote_average\", \"title\").filter(movies_DF[\"release_date\"] != \"\").filter(movies_DF[\"vote_count\"] > 100).collect()\n",
    "\n",
    "save('TMDB/date_vote.json', json.dumps(dateVote()))"
   ]
  },
  {
   "cell_type": "markdown",
   "metadata": {},
   "source": [
    "## 3. 流行度和评价的关系"
   ]
  },
  {
   "cell_type": "code",
   "execution_count": 50,
   "metadata": {},
   "outputs": [],
   "source": [
    "def popVote():\n",
    "    return movies_DF.select(\"title\", \"popularity\", \"vote_average\").filter(movies_DF[\"popularity\"] != 0).filter(movies_DF[\"vote_count\"] > 100).collect()\n",
    "\n",
    "save('TMDB/pop_vote.json', json.dumps(popVote()))"
   ]
  },
  {
   "cell_type": "markdown",
   "metadata": {},
   "source": [
    "## 4. 公司生产的电影平均分和数量的关系\n",
    "\n",
    "公司  (评分, 1)\n"
   ]
  },
  {
   "cell_type": "code",
   "execution_count": 56,
   "metadata": {},
   "outputs": [],
   "source": [
    "from pyspark.sql.functions import explode"
   ]
  },
  {
   "cell_type": "code",
   "execution_count": 71,
   "metadata": {},
   "outputs": [
    {
     "output_type": "execute_result",
     "data": {
      "text/plain": "[('Ingenious Film Partners', (7.2, 1)),\n ('Twentieth Century Fox Film Corporation', (7.2, 1)),\n ('Dune Entertainment', (7.2, 1)),\n ('Lightstorm Entertainment', (7.2, 1)),\n ('Walt Disney Pictures', (6.9, 1))]"
     },
     "metadata": {},
     "execution_count": 71
    }
   ],
   "source": [
    "source = movies_DF.filter(movies_DF['production_companies'] !=\"\").filter(movies_DF['vote_count'] >= 100)\n",
    "\n",
    "trans = source.rdd.flatMap(\n",
    "    lambda g: [\n",
    "        (company, (float(g['vote_average']), 1))  for company in map(\n",
    "            lambda x: x['name'], json.loads(g['production_companies']))]\n",
    "    ).repartition(1)\n",
    "trans.take(5)"
   ]
  },
  {
   "cell_type": "code",
   "execution_count": 72,
   "metadata": {},
   "outputs": [
    {
     "output_type": "execute_result",
     "data": {
      "text/plain": "[('Ingenious Film Partners', 6.1240000000000006, 25),\n ('Twentieth Century Fox Film Corporation', 6.286813186813187, 182),\n ('Dune Entertainment', 5.9105263157894745, 57)]"
     },
     "metadata": {},
     "execution_count": 72
    }
   ],
   "source": [
    "trans.reduceByKey(lambda x, y: (x[0] + y[0], x[1] + y[1])).map(lambda x: (x[0], x[1][0] / x[1][1], x[1][1])).take(3)"
   ]
  },
  {
   "cell_type": "code",
   "execution_count": 73,
   "metadata": {
    "tags": []
   },
   "outputs": [],
   "source": [
    "def movieVote():\n",
    "    source = movies_DF.filter(movies_DF['production_companies'] !=\"\").filter(movies_DF['vote_count'] >= 100)\n",
    "\n",
    "    trans = source.rdd.flatMap(\n",
    "        lambda g: [\n",
    "            (company, (float(g['vote_average']), 1))  for company in map(\n",
    "                lambda x: x['name'], json.loads(g['production_companies']))]\n",
    "        ).repartition(1)\n",
    "    result = trans.reduceByKey(\n",
    "        lambda x, y: (x[0] + y[0], x[1] + y[1])).map(\n",
    "            lambda x: (x[0], x[1][0] / x[1][1], x[1][1])).collect()\n",
    "    return result"
   ]
  },
  {
   "cell_type": "code",
   "execution_count": 74,
   "metadata": {
    "tags": []
   },
   "outputs": [],
   "source": [
    "save('TMDB/movies_vote.json', json.dumps(moviesVote()))"
   ]
  },
  {
   "cell_type": "markdown",
   "metadata": {},
   "source": [
    "## 电影预算和营收的关系\n",
    "\n",
    "[电影标题，预算，收入]"
   ]
  },
  {
   "cell_type": "code",
   "execution_count": 76,
   "metadata": {},
   "outputs": [],
   "source": [
    "def budgetRevenue():\n",
    "    return movies_DF \\\n",
    "        .select('title', 'budget', 'revenue') \\\n",
    "        .filter(movies_DF['budget'] != 0) \\\n",
    "        .filter(movies_DF['revenue'] != 0) \\\n",
    "        .collect()\n",
    "save('TMDB/budget_revenue.json', json.dumps(budgetRevenue()))"
   ]
  },
  {
   "cell_type": "code",
   "execution_count": 1,
   "metadata": {
    "tags": []
   },
   "outputs": [
    {
     "output_type": "stream",
     "name": "stdout",
     "text": "2\n[0, 2, 1]\n"
    }
   ],
   "source": [
    "def func(a:int, l:list):\n",
    "    a += 1\n",
    "    print(a)\n",
    "    l.append(1)\n",
    "    print(l)\n",
    "a = 1\n",
    "l = [0, 2]\n",
    "\n",
    "func(a, l)"
   ]
  },
  {
   "cell_type": "code",
   "execution_count": 3,
   "metadata": {},
   "outputs": [
    {
     "output_type": "execute_result",
     "data": {
      "text/plain": "(1, [0, 2, 1])"
     },
     "metadata": {},
     "execution_count": 3
    }
   ],
   "source": [
    "a, l"
   ]
  },
  {
   "cell_type": "code",
   "execution_count": null,
   "metadata": {},
   "outputs": [],
   "source": []
  }
 ]
}