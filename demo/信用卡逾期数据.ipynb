{
 "metadata": {
  "language_info": {
   "codemirror_mode": {
    "name": "ipython",
    "version": 3
   },
   "file_extension": ".py",
   "mimetype": "text/x-python",
   "name": "python",
   "nbconvert_exporter": "python",
   "pygments_lexer": "ipython3",
   "version": "3.7.6-final"
  },
  "orig_nbformat": 2,
  "kernelspec": {
   "name": "python_defaultSpec_1597580346728",
   "display_name": "Python 3.7.6 64-bit ('base': conda)"
  }
 },
 "nbformat": 4,
 "nbformat_minor": 2,
 "cells": [
  {
   "cell_type": "code",
   "execution_count": 49,
   "metadata": {},
   "outputs": [],
   "source": [
    "import pandas as pd\n",
    "import numpy as np"
   ]
  },
  {
   "cell_type": "code",
   "execution_count": 3,
   "metadata": {},
   "outputs": [],
   "source": [
    "df = pd.read_csv('kaggle4396/cs-training.csv')"
   ]
  },
  {
   "cell_type": "code",
   "execution_count": 6,
   "metadata": {},
   "outputs": [],
   "source": [
    " # 去除重复值\n",
    "# df.duplicated()\n",
    "df.drop_duplicates(inplace=True)"
   ]
  },
  {
   "cell_type": "code",
   "execution_count": 7,
   "metadata": {
    "tags": []
   },
   "outputs": [
    {
     "output_type": "stream",
     "name": "stdout",
     "text": "<class 'pandas.core.frame.DataFrame'>\nInt64Index: 150000 entries, 0 to 149999\nData columns (total 12 columns):\n #   Column                                Non-Null Count   Dtype  \n---  ------                                --------------   -----  \n 0   Unnamed: 0                            150000 non-null  int64  \n 1   SeriousDlqin2yrs                      150000 non-null  int64  \n 2   RevolvingUtilizationOfUnsecuredLines  150000 non-null  float64\n 3   age                                   150000 non-null  int64  \n 4   NumberOfTime30-59DaysPastDueNotWorse  150000 non-null  int64  \n 5   DebtRatio                             150000 non-null  float64\n 6   MonthlyIncome                         120269 non-null  float64\n 7   NumberOfOpenCreditLinesAndLoans       150000 non-null  int64  \n 8   NumberOfTimes90DaysLate               150000 non-null  int64  \n 9   NumberRealEstateLoansOrLines          150000 non-null  int64  \n 10  NumberOfTime60-89DaysPastDueNotWorse  150000 non-null  int64  \n 11  NumberOfDependents                    146076 non-null  float64\ndtypes: float64(4), int64(8)\nmemory usage: 19.9 MB\n"
    }
   ],
   "source": [
    "df.info()"
   ]
  },
  {
   "cell_type": "code",
   "execution_count": 8,
   "metadata": {},
   "outputs": [],
   "source": [
    "# 缺失值按均值填充\n",
    "for col in list(df.columns[df.isnull().sum()>0]):\n",
    "    mean_val = df[col].mean()\n",
    "    df[col].fillna(mean_val, inplace=True)"
   ]
  },
  {
   "cell_type": "code",
   "execution_count": 9,
   "metadata": {},
   "outputs": [],
   "source": [
    "# 删除不分析的列\n",
    "columns = ['RevolvingUtilizationOfUnsecuredLines',\"DebtRatio\",\"NumberOfOpenCreditLinesAndLoans\",\"NumberOfTimes90DaysLate\"]\n",
    "df.drop(columns, axis=1, inplace=True)\n",
    "# 保存到本地\n",
    "df.to_csv('kaggle4396/data.csv')"
   ]
  },
  {
   "cell_type": "markdown",
   "metadata": {},
   "source": [
    " 将文件上传至HDFS文件系统\n",
    " ```\n",
    " hdfs dfs -put kaggle4396/data.csv  ... \n",
    " ```"
   ]
  },
  {
   "cell_type": "markdown",
   "metadata": {},
   "source": [
    "# 三、使用Spark对数据处理分析"
   ]
  },
  {
   "cell_type": "code",
   "execution_count": 10,
   "metadata": {},
   "outputs": [],
   "source": [
    "from pyspark.sql import SparkSession, Row\n",
    "from pyspark import SparkConf"
   ]
  },
  {
   "cell_type": "code",
   "execution_count": 11,
   "metadata": {},
   "outputs": [],
   "source": [
    "conf = SparkConf().setAppName(\"信用卡\").setMaster(\"local[4]\")\n",
    "spark = SparkSession.builder.config(conf=conf).getOrCreate()"
   ]
  },
  {
   "cell_type": "code",
   "execution_count": 52,
   "metadata": {},
   "outputs": [],
   "source": [
    "filename='kaggle4396/data.csv'\n",
    "df = spark.read.format('csv').option(\"header\", 'true').option('inferSchema', 'true').load(filename)"
   ]
  },
  {
   "cell_type": "code",
   "execution_count": 53,
   "metadata": {
    "tags": []
   },
   "outputs": [
    {
     "output_type": "stream",
     "name": "stdout",
     "text": "root\n |-- _c0: integer (nullable = true)\n |-- Unnamed: 0: integer (nullable = true)\n |-- SeriousDlqin2yrs: integer (nullable = true)\n |-- age: integer (nullable = true)\n |-- NumberOfTime30-59DaysPastDueNotWorse: integer (nullable = true)\n |-- MonthlyIncome: double (nullable = true)\n |-- NumberRealEstateLoansOrLines: integer (nullable = true)\n |-- NumberOfTime60-89DaysPastDueNotWorse: integer (nullable = true)\n |-- NumberOfDependents: double (nullable = true)\n\n"
    }
   ],
   "source": [
    "df.printSchema()"
   ]
  },
  {
   "cell_type": "code",
   "execution_count": 54,
   "metadata": {},
   "outputs": [],
   "source": [
    " # 修改列名\n",
    "df = df.withColumnRenamed('SeriousDlqin2yrs','y')\n",
    "df = df.withColumnRenamed('NumberOfTime30-59DaysPastDueNotWorse','30-59days')\n",
    "df = df.withColumnRenamed('NumberOfTime60-89DaysPastDueNotWorse','60-89days')\n",
    "df = df.withColumnRenamed('NumberRealEstateLoansOrLines','RealEstateLoans')\n",
    "df = df.withColumnRenamed('NumberOfDependents','families')"
   ]
  },
  {
   "cell_type": "code",
   "execution_count": 77,
   "metadata": {
    "tags": []
   },
   "outputs": [
    {
     "output_type": "stream",
     "name": "stdout",
     "text": "root\n |-- _c0: integer (nullable = true)\n |-- Unnamed: 0: integer (nullable = true)\n |-- y: integer (nullable = true)\n |-- age: integer (nullable = true)\n |-- 30-59days: integer (nullable = true)\n |-- MonthlyIncome: double (nullable = true)\n |-- RealEstateLoans: integer (nullable = true)\n |-- 60-89days: integer (nullable = true)\n |-- families: double (nullable = true)\n |-- age_bucket: double (nullable = true)\n\n"
    }
   ],
   "source": [
    "df.printSchema()"
   ]
  },
  {
   "cell_type": "code",
   "execution_count": 72,
   "metadata": {},
   "outputs": [
    {
     "output_type": "execute_result",
     "data": {
      "text/plain": "[139974, 10026]"
     },
     "metadata": {},
     "execution_count": 72
    }
   ],
   "source": [
    "# 返回data_web.py的数据列表\n",
    "all_list = []\n",
    "total_y = []\n",
    "for i in range(2):\n",
    "    total_y.append(df.filter(df['y'] == i).count())\n",
    "all_list.append(total_y)\n",
    "total_y  # 共有逾期10026人，139974没有逾期，总人数150000"
   ]
  },
  {
   "cell_type": "code",
   "execution_count": 56,
   "metadata": {},
   "outputs": [],
   "source": [
    "from pyspark.ml import feature as ft"
   ]
  },
  {
   "cell_type": "code",
   "execution_count": 57,
   "metadata": {},
   "outputs": [],
   "source": [
    "bins = [0, 30, 45, 60, 75, np.inf]"
   ]
  },
  {
   "cell_type": "code",
   "execution_count": 67,
   "metadata": {},
   "outputs": [
    {
     "output_type": "execute_result",
     "data": {
      "text/plain": "([10758, 42484, 57137, 38189, 11370], 159938)"
     },
     "metadata": {},
     "execution_count": 67
    }
   ],
   "source": [
    "# # 年龄分析\n",
    "# df_age  = df.select('age', 'y')\n",
    "# agenum = []\n",
    "\n",
    "# # 统计各个年龄段的人口\n",
    "# for i in range(5):\n",
    "#     agenum.append(\n",
    "#         df_age.filter(\n",
    "#             df['age'].between(bins[i], bins[i+1])\n",
    "#         ).count()\n",
    "#     )\n",
    "# all_list.append(agenum)\n",
    "# agenum, sum(agenum)  # 左右都是闭的"
   ]
  },
  {
   "cell_type": "code",
   "execution_count": 59,
   "metadata": {
    "tags": []
   },
   "outputs": [
    {
     "output_type": "stream",
     "name": "stdout",
     "text": "+---+----------+---+---+---------+-----------------+---------------+---------+------------------+----------+\n|_c0|Unnamed: 0|  y|age|30-59days|    MonthlyIncome|RealEstateLoans|60-89days|          families|age_bucket|\n+---+----------+---+---+---------+-----------------+---------------+---------+------------------+----------+\n|  0|         1|  1| 45|        2|           9120.0|              6|        0|               2.0|       2.0|\n|  1|         2|  0| 40|        0|           2600.0|              0|        0|               1.0|       1.0|\n|  2|         3|  0| 38|        1|           3042.0|              0|        0|               0.0|       1.0|\n|  3|         4|  0| 30|        0|           3300.0|              0|        0|               0.0|       1.0|\n|  4|         5|  0| 49|        1|          63588.0|              1|        0|               0.0|       2.0|\n|  5|         6|  0| 74|        0|           3500.0|              1|        0|               1.0|       3.0|\n|  6|         7|  0| 57|        0|6670.221237392844|              3|        0|               0.0|       2.0|\n|  7|         8|  0| 39|        0|           3500.0|              0|        0|               0.0|       1.0|\n|  8|         9|  0| 27|        0|6670.221237392844|              0|        0|0.7572222678605657|       0.0|\n|  9|        10|  0| 57|        0|          23684.0|              4|        0|               2.0|       2.0|\n| 10|        11|  0| 30|        0|           2500.0|              0|        0|               0.0|       1.0|\n| 11|        12|  0| 51|        0|           6501.0|              2|        0|               2.0|       2.0|\n| 12|        13|  0| 46|        0|          12454.0|              2|        0|               2.0|       2.0|\n| 13|        14|  1| 40|        3|          13700.0|              1|        1|               2.0|       1.0|\n| 14|        15|  0| 76|        0|              0.0|              1|        0|               0.0|       4.0|\n| 15|        16|  0| 64|        0|          11362.0|              1|        0|               2.0|       3.0|\n| 16|        17|  0| 78|        0|6670.221237392844|              2|        0|               0.0|       4.0|\n| 17|        18|  0| 53|        0|           8800.0|              0|        0|               0.0|       2.0|\n| 18|        19|  0| 43|        0|           3280.0|              1|        0|               2.0|       1.0|\n| 19|        20|  0| 25|        0|            333.0|              0|        0|               0.0|       0.0|\n+---+----------+---+---+---------+-----------------+---------------+---------+------------------+----------+\nonly showing top 20 rows\n\n"
    }
   ],
   "source": [
    "bucketizer = ft.Bucketizer(\n",
    "    splits=bins,\n",
    "    inputCol='age', outputCol='age_bucket'\n",
    ")\n",
    "df = bucketizer.setHandleInvalid(\"keep\").transform(df)\n",
    "df.show()"
   ]
  },
  {
   "cell_type": "code",
   "execution_count": 74,
   "metadata": {
    "tags": []
   },
   "outputs": [],
   "source": [
    "df_age  = df.select('age', 'age_bucket', 'y')"
   ]
  },
  {
   "cell_type": "code",
   "execution_count": 73,
   "metadata": {},
   "outputs": [
    {
     "output_type": "execute_result",
     "data": {
      "text/plain": "[[139974, 10026]]"
     },
     "metadata": {},
     "execution_count": 73
    }
   ],
   "source": [
    "all_list"
   ]
  },
  {
   "cell_type": "code",
   "execution_count": 75,
   "metadata": {},
   "outputs": [
    {
     "output_type": "execute_result",
     "data": {
      "text/plain": "[8821, 38982, 53879, 36948, 11370]"
     },
     "metadata": {},
     "execution_count": 75
    }
   ],
   "source": [
    "agenum = []\n",
    "for i in range(5):\n",
    "    agenum.append(\n",
    "        df_age.filter(\n",
    "            df_age['age_bucket']==float(i)\n",
    "        ).count()\n",
    "    )\n",
    "agenum"
   ]
  },
  {
   "cell_type": "code",
   "execution_count": 78,
   "metadata": {},
   "outputs": [
    {
     "output_type": "execute_result",
     "data": {
      "text/plain": "[(7786, 1035), (35282, 3700), (50088, 3791), (35677, 1271), (11141, 229)]"
     },
     "metadata": {},
     "execution_count": 78
    }
   ],
   "source": [
    "# 统计各个年龄段逾期与不逾期的数量\n",
    "age_y = []\n",
    "for i in range(5):\n",
    "    y0 = df_age.filter(df['age_bucket'] == float(i)).filter(df['y'] == 0).count()\n",
    "    y1 = df_age.filter(df['age_bucket'] == float(i)).filter(df['y'] == 1).count()\n",
    "    age_y.append((y0, y1))\n",
    "age_y"
   ]
  },
  {
   "cell_type": "code",
   "execution_count": 79,
   "metadata": {},
   "outputs": [],
   "source": [
    "all_list.append(age_y)"
   ]
  },
  {
   "cell_type": "code",
   "execution_count": 81,
   "metadata": {},
   "outputs": [
    {
     "output_type": "execute_result",
     "data": {
      "text/plain": "[23982]"
     },
     "metadata": {},
     "execution_count": 81
    }
   ],
   "source": [
    "# 有逾期记录的人的本次信用卡逾期数量\n",
    "df_pastDue = df.select(df['30-59days'],df['60-89days'],df['y'])\n",
    "numofpastdue = []\n",
    "# 逾期30-59\n",
    "numofpastdue.append(df_pastDue.filter(df_pastDue['30-59days'] > 0).count())\n",
    "numofpastdue"
   ]
  },
  {
   "cell_type": "code",
   "execution_count": null,
   "metadata": {},
   "outputs": [],
   "source": []
  }
 ]
}