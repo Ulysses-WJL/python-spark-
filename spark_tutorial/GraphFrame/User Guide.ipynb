{
 "cells": [
  {
   "cell_type": "code",
   "execution_count": 1,
   "metadata": {},
   "outputs": [
    {
     "data": {
      "text/html": [
       "\n",
       "        <div>\n",
       "            <p><b>SparkContext</b></p>\n",
       "\n",
       "            <p><a href=\"http://192.168.0.101:4042\">Spark UI</a></p>\n",
       "\n",
       "            <dl>\n",
       "              <dt>Version</dt>\n",
       "                <dd><code>v2.4.6</code></dd>\n",
       "              <dt>Master</dt>\n",
       "                <dd><code>local[*]</code></dd>\n",
       "              <dt>AppName</dt>\n",
       "                <dd><code>PySparkShell</code></dd>\n",
       "            </dl>\n",
       "        </div>\n",
       "        "
      ],
      "text/plain": [
       "<SparkContext master=local[*] appName=PySparkShell>"
      ]
     },
     "execution_count": 1,
     "metadata": {},
     "output_type": "execute_result"
    }
   ],
   "source": [
    "sc"
   ]
  },
  {
   "cell_type": "code",
   "execution_count": 2,
   "metadata": {},
   "outputs": [
    {
     "data": {
      "text/html": [
       "\n",
       "            <div>\n",
       "                <p><b>SparkSession - hive</b></p>\n",
       "                \n",
       "        <div>\n",
       "            <p><b>SparkContext</b></p>\n",
       "\n",
       "            <p><a href=\"http://192.168.0.101:4042\">Spark UI</a></p>\n",
       "\n",
       "            <dl>\n",
       "              <dt>Version</dt>\n",
       "                <dd><code>v2.4.6</code></dd>\n",
       "              <dt>Master</dt>\n",
       "                <dd><code>local[*]</code></dd>\n",
       "              <dt>AppName</dt>\n",
       "                <dd><code>PySparkShell</code></dd>\n",
       "            </dl>\n",
       "        </div>\n",
       "        \n",
       "            </div>\n",
       "        "
      ],
      "text/plain": [
       "<pyspark.sql.session.SparkSession at 0x7f979ca4e950>"
      ]
     },
     "execution_count": 2,
     "metadata": {},
     "output_type": "execute_result"
    }
   ],
   "source": [
    "spark"
   ]
  },
  {
   "cell_type": "markdown",
   "metadata": {},
   "source": [
    "# 构造GraphFrame\n",
    "\n",
    "- 顶点 Vertex:  需要有一个 `id`列\n",
    "- 边 Edge: 需要有 `src`（边缘的源顶点ID）和`dst`（边缘的目标顶点ID）"
   ]
  },
  {
   "cell_type": "code",
   "execution_count": 5,
   "metadata": {},
   "outputs": [],
   "source": [
    "from graphframes import *"
   ]
  },
  {
   "cell_type": "code",
   "execution_count": 7,
   "metadata": {},
   "outputs": [],
   "source": [
    "from pyspark.sql import SparkSession\n",
    "\n",
    "spark = SparkSession \\\n",
    "        .builder \\\n",
    "        .appName(\"graphframe\") \\\n",
    "        .master('local[4]') \\\n",
    "        .getOrCreate()\n",
    "sc = spark.sparkContext"
   ]
  },
  {
   "cell_type": "code",
   "execution_count": 3,
   "metadata": {},
   "outputs": [
    {
     "data": {
      "text/plain": [
       "'local[*]'"
      ]
     },
     "execution_count": 3,
     "metadata": {},
     "output_type": "execute_result"
    }
   ],
   "source": [
    "sc.master"
   ]
  },
  {
   "cell_type": "code",
   "execution_count": 6,
   "metadata": {},
   "outputs": [],
   "source": [
    "# Vertex DataFrame\n",
    "v = spark.createDataFrame(\n",
    "    [(\"a\", \"Alice\", 34),\n",
    "      (\"b\", \"Bob\", 36),\n",
    "      (\"c\", \"Charlie\", 30),\n",
    "      (\"d\", \"David\", 29),\n",
    "      (\"e\", \"Esther\", 32),\n",
    "      (\"f\", \"Fanny\", 36),\n",
    "      (\"g\", \"Gabby\", 60)],\n",
    "    ['id', 'name', 'age']\n",
    ")\n",
    "# Edge DataFrame\n",
    "e = spark.createDataFrame(\n",
    "    [(\"a\", \"b\", \"friend\"),\n",
    "      (\"b\", \"c\", \"follow\"),\n",
    "      (\"c\", \"b\", \"follow\"),\n",
    "      (\"f\", \"c\", \"follow\"),\n",
    "      (\"e\", \"f\", \"follow\"),\n",
    "      (\"e\", \"d\", \"friend\"),\n",
    "      (\"d\", \"a\", \"friend\"),\n",
    "      (\"a\", \"e\", \"friend\")],\n",
    "    ['src', 'dst', 'relationship']\n",
    ")\n",
    "# Create a GraphFrame\n",
    "g = GraphFrame(v, e)"
   ]
  },
  {
   "cell_type": "markdown",
   "metadata": {},
   "source": [
    "# 基本的查询"
   ]
  },
  {
   "cell_type": "code",
   "execution_count": 7,
   "metadata": {},
   "outputs": [
    {
     "name": "stdout",
     "output_type": "stream",
     "text": [
      "+---+-------+---+\n",
      "| id|   name|age|\n",
      "+---+-------+---+\n",
      "|  a|  Alice| 34|\n",
      "|  b|    Bob| 36|\n",
      "|  c|Charlie| 30|\n",
      "|  d|  David| 29|\n",
      "|  e| Esther| 32|\n",
      "|  f|  Fanny| 36|\n",
      "|  g|  Gabby| 60|\n",
      "+---+-------+---+\n",
      "\n"
     ]
    }
   ],
   "source": [
    "# 顶点\n",
    "g.vertices.show()"
   ]
  },
  {
   "cell_type": "code",
   "execution_count": 8,
   "metadata": {},
   "outputs": [
    {
     "name": "stdout",
     "output_type": "stream",
     "text": [
      "+---+---+------------+\n",
      "|src|dst|relationship|\n",
      "+---+---+------------+\n",
      "|  a|  b|      friend|\n",
      "|  b|  c|      follow|\n",
      "|  c|  b|      follow|\n",
      "|  f|  c|      follow|\n",
      "|  e|  f|      follow|\n",
      "|  e|  d|      friend|\n",
      "|  d|  a|      friend|\n",
      "|  a|  e|      friend|\n",
      "+---+---+------------+\n",
      "\n"
     ]
    }
   ],
   "source": [
    "# 边\n",
    "g.edges.show()"
   ]
  },
  {
   "cell_type": "code",
   "execution_count": 9,
   "metadata": {},
   "outputs": [
    {
     "data": {
      "text/plain": [
       "pyspark.sql.dataframe.DataFrame"
      ]
     },
     "execution_count": 9,
     "metadata": {},
     "output_type": "execute_result"
    }
   ],
   "source": [
    "# 入度\n",
    "inDegrees = g.inDegrees\n",
    "type(inDegrees)"
   ]
  },
  {
   "cell_type": "code",
   "execution_count": 10,
   "metadata": {},
   "outputs": [
    {
     "data": {
      "text/plain": [
       "['id', 'inDegree']"
      ]
     },
     "execution_count": 10,
     "metadata": {},
     "output_type": "execute_result"
    }
   ],
   "source": [
    "inDegrees.columns  # "
   ]
  },
  {
   "cell_type": "code",
   "execution_count": 11,
   "metadata": {},
   "outputs": [
    {
     "name": "stdout",
     "output_type": "stream",
     "text": [
      "+---+--------+\n",
      "| id|inDegree|\n",
      "+---+--------+\n",
      "|  f|       1|\n",
      "|  e|       1|\n",
      "|  d|       1|\n",
      "|  c|       2|\n",
      "|  b|       2|\n",
      "|  a|       1|\n",
      "+---+--------+\n",
      "\n"
     ]
    }
   ],
   "source": [
    "inDegrees.show()"
   ]
  },
  {
   "cell_type": "code",
   "execution_count": 12,
   "metadata": {},
   "outputs": [
    {
     "name": "stdout",
     "output_type": "stream",
     "text": [
      "+---+---------+\n",
      "| id|outDegree|\n",
      "+---+---------+\n",
      "|  f|        1|\n",
      "|  e|        2|\n",
      "|  d|        1|\n",
      "|  c|        1|\n",
      "|  b|        1|\n",
      "|  a|        2|\n",
      "+---+---------+\n",
      "\n"
     ]
    }
   ],
   "source": [
    "# 出度\n",
    "outDegrees = g.outDegrees\n",
    "outDegrees.show()"
   ]
  },
  {
   "cell_type": "code",
   "execution_count": 13,
   "metadata": {},
   "outputs": [
    {
     "name": "stdout",
     "output_type": "stream",
     "text": [
      "+--------+\n",
      "|min(age)|\n",
      "+--------+\n",
      "|      29|\n",
      "+--------+\n",
      "\n"
     ]
    }
   ],
   "source": [
    "# Find the youngest user's age in the graph.\n",
    "g.vertices.groupBy().min('age').show()"
   ]
  },
  {
   "cell_type": "code",
   "execution_count": 14,
   "metadata": {},
   "outputs": [
    {
     "data": {
      "text/plain": [
       "4"
      ]
     },
     "execution_count": 14,
     "metadata": {},
     "output_type": "execute_result"
    }
   ],
   "source": [
    "# Count the number of \"follows\" in the graph.\n",
    "numFollows = g.edges.filter(\"relationship = 'follow'\").count()\n",
    "numFollows"
   ]
  },
  {
   "cell_type": "markdown",
   "metadata": {},
   "source": [
    "# 主题挖掘\n",
    "\n",
    "`(a)-[ab]->(b); (b)-[bc]->(c)`\n",
    "\n",
    "- (x) 表示顶点  \\[xy\\]表示边\n",
    "- (b) 表示中间顶点\n",
    "- (a) 出发顶点\n",
    "- (c) 目的顶点\n",
    "- 边 \\[ab\\] 出发地与中间地的顶点\n",
    "- \\[bc\\] 中间地与目的地"
   ]
  },
  {
   "cell_type": "code",
   "execution_count": 16,
   "metadata": {},
   "outputs": [
    {
     "name": "stdout",
     "output_type": "stream",
     "text": [
      "+----------------+--------------+----------------+--------------+\n",
      "|               a|             e|               b|            e2|\n",
      "+----------------+--------------+----------------+--------------+\n",
      "|[c, Charlie, 30]|[c, b, follow]|    [b, Bob, 36]|[b, c, follow]|\n",
      "|    [b, Bob, 36]|[b, c, follow]|[c, Charlie, 30]|[c, b, follow]|\n",
      "+----------------+--------------+----------------+--------------+\n",
      "\n"
     ]
    }
   ],
   "source": [
    "# 搜索顶点之间具有双向边的顶点对\n",
    "motifs = g.find(\"(a)-[e]->(b); (b)-[e2]->(a)\")\n",
    "motifs.show()"
   ]
  },
  {
   "cell_type": "code",
   "execution_count": 17,
   "metadata": {},
   "outputs": [
    {
     "data": {
      "text/plain": [
       "pyspark.sql.dataframe.DataFrame"
      ]
     },
     "execution_count": 17,
     "metadata": {},
     "output_type": "execute_result"
    }
   ],
   "source": [
    "type(motifs)"
   ]
  },
  {
   "cell_type": "code",
   "execution_count": 18,
   "metadata": {},
   "outputs": [
    {
     "name": "stdout",
     "output_type": "stream",
     "text": [
      "+----------------+--------------+------------+--------------+\n",
      "|               a|             e|           b|            e2|\n",
      "+----------------+--------------+------------+--------------+\n",
      "|[c, Charlie, 30]|[c, b, follow]|[b, Bob, 36]|[b, c, follow]|\n",
      "+----------------+--------------+------------+--------------+\n",
      "\n"
     ]
    }
   ],
   "source": [
    "motifs.filter(\"b.age > 30\").show()"
   ]
  },
  {
   "cell_type": "code",
   "execution_count": 19,
   "metadata": {},
   "outputs": [
    {
     "name": "stdout",
     "output_type": "stream",
     "text": [
      "+----------------+--------------+----------------+--------------+----------------+\n",
      "|               a|             e|               b|            e2|               c|\n",
      "+----------------+--------------+----------------+--------------+----------------+\n",
      "|  [a, Alice, 34]|[a, e, friend]| [e, Esther, 32]|[e, f, follow]|  [f, Fanny, 36]|\n",
      "|  [d, David, 29]|[d, a, friend]|  [a, Alice, 34]|[a, e, friend]| [e, Esther, 32]|\n",
      "|  [a, Alice, 34]|[a, e, friend]| [e, Esther, 32]|[e, d, friend]|  [d, David, 29]|\n",
      "| [e, Esther, 32]|[e, f, follow]|  [f, Fanny, 36]|[f, c, follow]|[c, Charlie, 30]|\n",
      "|[c, Charlie, 30]|[c, b, follow]|    [b, Bob, 36]|[b, c, follow]|[c, Charlie, 30]|\n",
      "|  [a, Alice, 34]|[a, b, friend]|    [b, Bob, 36]|[b, c, follow]|[c, Charlie, 30]|\n",
      "|  [f, Fanny, 36]|[f, c, follow]|[c, Charlie, 30]|[c, b, follow]|    [b, Bob, 36]|\n",
      "|    [b, Bob, 36]|[b, c, follow]|[c, Charlie, 30]|[c, b, follow]|    [b, Bob, 36]|\n",
      "|  [d, David, 29]|[d, a, friend]|  [a, Alice, 34]|[a, b, friend]|    [b, Bob, 36]|\n",
      "| [e, Esther, 32]|[e, d, friend]|  [d, David, 29]|[d, a, friend]|  [a, Alice, 34]|\n",
      "+----------------+--------------+----------------+--------------+----------------+\n",
      "\n"
     ]
    }
   ],
   "source": [
    "# 由 顶点a 到 顶点b 再到 顶点 c \n",
    "# Be aware that names do not identify distinct elements\n",
    "# a和c 有可能指向相同的顶点\n",
    "motifs = g.find(\"(a)-[e]->(b); (b)-[e2]->(c)\")\n",
    "motifs.show()"
   ]
  },
  {
   "cell_type": "code",
   "execution_count": 21,
   "metadata": {},
   "outputs": [
    {
     "name": "stdout",
     "output_type": "stream",
     "text": [
      "+---------------+--------------+----------------+--------------+----------------+\n",
      "|              a|             e|               b|            e2|               c|\n",
      "+---------------+--------------+----------------+--------------+----------------+\n",
      "| [a, Alice, 34]|[a, e, friend]| [e, Esther, 32]|[e, f, follow]|  [f, Fanny, 36]|\n",
      "| [d, David, 29]|[d, a, friend]|  [a, Alice, 34]|[a, e, friend]| [e, Esther, 32]|\n",
      "| [a, Alice, 34]|[a, e, friend]| [e, Esther, 32]|[e, d, friend]|  [d, David, 29]|\n",
      "|[e, Esther, 32]|[e, f, follow]|  [f, Fanny, 36]|[f, c, follow]|[c, Charlie, 30]|\n",
      "| [a, Alice, 34]|[a, b, friend]|    [b, Bob, 36]|[b, c, follow]|[c, Charlie, 30]|\n",
      "| [f, Fanny, 36]|[f, c, follow]|[c, Charlie, 30]|[c, b, follow]|    [b, Bob, 36]|\n",
      "| [d, David, 29]|[d, a, friend]|  [a, Alice, 34]|[a, b, friend]|    [b, Bob, 36]|\n",
      "|[e, Esther, 32]|[e, d, friend]|  [d, David, 29]|[d, a, friend]|  [a, Alice, 34]|\n",
      "+---------------+--------------+----------------+--------------+----------------+\n",
      "\n"
     ]
    }
   ],
   "source": [
    "# 头尾 2个顶点不同\n",
    "motifs.filter(\"a.id != c.id\").show()"
   ]
  },
  {
   "cell_type": "code",
   "execution_count": 22,
   "metadata": {},
   "outputs": [
    {
     "name": "stdout",
     "output_type": "stream",
     "text": [
      "+---------------+----------------+\n",
      "|              a|               b|\n",
      "+---------------+----------------+\n",
      "| [a, Alice, 34]| [e, Esther, 32]|\n",
      "|[e, Esther, 32]|  [d, David, 29]|\n",
      "|[e, Esther, 32]|  [f, Fanny, 36]|\n",
      "| [a, Alice, 34]|    [b, Bob, 36]|\n",
      "| [f, Fanny, 36]|[c, Charlie, 30]|\n",
      "| [d, David, 29]|  [a, Alice, 34]|\n",
      "+---------------+----------------+\n",
      "\n"
     ]
    }
   ],
   "source": [
    "# 存在 a->b 但没有b->a\n",
    "motifs = g.find(\"(a)-[]->(b); !(b)-[]->(a)\")\n",
    "motifs.show()"
   ]
  },
  {
   "cell_type": "code",
   "execution_count": 23,
   "metadata": {},
   "outputs": [],
   "source": [
    "from pyspark.sql.functions import col, lit, when\n",
    "from pyspark.sql.types import IntegerType"
   ]
  },
  {
   "cell_type": "code",
   "execution_count": 25,
   "metadata": {},
   "outputs": [],
   "source": [
    "# 创建文字列\n",
    "lit? "
   ]
  },
  {
   "cell_type": "code",
   "execution_count": 24,
   "metadata": {},
   "outputs": [
    {
     "name": "stdout",
     "output_type": "stream",
     "text": [
      "+----------------+--------------+----------------+--------------+----------------+--------------+----------------+\n",
      "|               a|            ab|               b|            bc|               c|            cd|               d|\n",
      "+----------------+--------------+----------------+--------------+----------------+--------------+----------------+\n",
      "|  [d, David, 29]|[d, a, friend]|  [a, Alice, 34]|[a, e, friend]| [e, Esther, 32]|[e, f, follow]|  [f, Fanny, 36]|\n",
      "| [e, Esther, 32]|[e, d, friend]|  [d, David, 29]|[d, a, friend]|  [a, Alice, 34]|[a, e, friend]| [e, Esther, 32]|\n",
      "|  [d, David, 29]|[d, a, friend]|  [a, Alice, 34]|[a, e, friend]| [e, Esther, 32]|[e, d, friend]|  [d, David, 29]|\n",
      "|  [a, Alice, 34]|[a, e, friend]| [e, Esther, 32]|[e, f, follow]|  [f, Fanny, 36]|[f, c, follow]|[c, Charlie, 30]|\n",
      "|  [f, Fanny, 36]|[f, c, follow]|[c, Charlie, 30]|[c, b, follow]|    [b, Bob, 36]|[b, c, follow]|[c, Charlie, 30]|\n",
      "|    [b, Bob, 36]|[b, c, follow]|[c, Charlie, 30]|[c, b, follow]|    [b, Bob, 36]|[b, c, follow]|[c, Charlie, 30]|\n",
      "|  [d, David, 29]|[d, a, friend]|  [a, Alice, 34]|[a, b, friend]|    [b, Bob, 36]|[b, c, follow]|[c, Charlie, 30]|\n",
      "| [e, Esther, 32]|[e, f, follow]|  [f, Fanny, 36]|[f, c, follow]|[c, Charlie, 30]|[c, b, follow]|    [b, Bob, 36]|\n",
      "|[c, Charlie, 30]|[c, b, follow]|    [b, Bob, 36]|[b, c, follow]|[c, Charlie, 30]|[c, b, follow]|    [b, Bob, 36]|\n",
      "|  [a, Alice, 34]|[a, b, friend]|    [b, Bob, 36]|[b, c, follow]|[c, Charlie, 30]|[c, b, follow]|    [b, Bob, 36]|\n",
      "| [e, Esther, 32]|[e, d, friend]|  [d, David, 29]|[d, a, friend]|  [a, Alice, 34]|[a, b, friend]|    [b, Bob, 36]|\n",
      "|  [a, Alice, 34]|[a, e, friend]| [e, Esther, 32]|[e, d, friend]|  [d, David, 29]|[d, a, friend]|  [a, Alice, 34]|\n",
      "+----------------+--------------+----------------+--------------+----------------+--------------+----------------+\n",
      "\n"
     ]
    }
   ],
   "source": [
    "# a->b->c->d\n",
    "chain4 = g.find(\"(a)-[ab]->(b); (b)-[bc]->(c); (c)-[cd]->(d)\")\n",
    "chain4.show()"
   ]
  },
  {
   "cell_type": "code",
   "execution_count": 29,
   "metadata": {},
   "outputs": [],
   "source": [
    "from functools import reduce"
   ]
  },
  {
   "cell_type": "code",
   "execution_count": 32,
   "metadata": {},
   "outputs": [
    {
     "name": "stdout",
     "output_type": "stream",
     "text": [
      "+---------------+--------------+---------------+--------------+---------------+--------------+----------------+\n",
      "|              a|            ab|              b|            bc|              c|            cd|               d|\n",
      "+---------------+--------------+---------------+--------------+---------------+--------------+----------------+\n",
      "| [d, David, 29]|[d, a, friend]| [a, Alice, 34]|[a, e, friend]|[e, Esther, 32]|[e, f, follow]|  [f, Fanny, 36]|\n",
      "|[e, Esther, 32]|[e, d, friend]| [d, David, 29]|[d, a, friend]| [a, Alice, 34]|[a, e, friend]| [e, Esther, 32]|\n",
      "| [d, David, 29]|[d, a, friend]| [a, Alice, 34]|[a, e, friend]|[e, Esther, 32]|[e, d, friend]|  [d, David, 29]|\n",
      "| [d, David, 29]|[d, a, friend]| [a, Alice, 34]|[a, b, friend]|   [b, Bob, 36]|[b, c, follow]|[c, Charlie, 30]|\n",
      "|[e, Esther, 32]|[e, d, friend]| [d, David, 29]|[d, a, friend]| [a, Alice, 34]|[a, b, friend]|    [b, Bob, 36]|\n",
      "| [a, Alice, 34]|[a, e, friend]|[e, Esther, 32]|[e, d, friend]| [d, David, 29]|[d, a, friend]|  [a, Alice, 34]|\n",
      "+---------------+--------------+---------------+--------------+---------------+--------------+----------------+\n",
      "\n"
     ]
    }
   ],
   "source": [
    "# 3条边中至少有2条是friend关系\n",
    "# Query on sequence, with state (cnt)\n",
    "#  (a) Define method for updating state given the next element of the motif.\n",
    "sumFriends = lambda cnt, relationship: when(relationship==\"friend\", cnt+1).otherwise(cnt)\n",
    "#  (b) Use sequence operation to apply method to sequence of elements in motif.\n",
    "#      In this case, the elements are the 3 edges.\n",
    "condition = reduce(\n",
    "    lambda cnt, e: sumFriends(cnt, col(e).relationship),\n",
    "    [\"ab\", \"bc\", \"cd\"],\n",
    "    lit(0)  # 给定初始值0\n",
    ")\n",
    "\n",
    "#  (c) Apply filter to DataFrame.\n",
    "chainWith2Friends2 = chain4.where(condition>=2)\n",
    "chainWith2Friends2.show()"
   ]
  },
  {
   "cell_type": "markdown",
   "metadata": {},
   "source": [
    "# Subgraphs\n"
   ]
  },
  {
   "cell_type": "code",
   "execution_count": 25,
   "metadata": {},
   "outputs": [],
   "source": [
    "# 过滤  顶点 边  丢弃孤立的 没有边连接的顶点  \n",
    "g1 = g.filterVertices('age > 30').filterEdges(\"relationship='friend'\").dropIsolatedVertices()"
   ]
  },
  {
   "cell_type": "code",
   "execution_count": 26,
   "metadata": {},
   "outputs": [
    {
     "name": "stdout",
     "output_type": "stream",
     "text": [
      "+---+------+---+\n",
      "| id|  name|age|\n",
      "+---+------+---+\n",
      "|  e|Esther| 32|\n",
      "|  b|   Bob| 36|\n",
      "|  a| Alice| 34|\n",
      "+---+------+---+\n",
      "\n"
     ]
    }
   ],
   "source": [
    "g1.vertices.show()"
   ]
  },
  {
   "cell_type": "code",
   "execution_count": 27,
   "metadata": {},
   "outputs": [
    {
     "name": "stdout",
     "output_type": "stream",
     "text": [
      "+---+---+------------+\n",
      "|src|dst|relationship|\n",
      "+---+---+------------+\n",
      "|  a|  e|      friend|\n",
      "|  a|  b|      friend|\n",
      "+---+---+------------+\n",
      "\n"
     ]
    }
   ],
   "source": [
    "g1.edges.show()"
   ]
  },
  {
   "cell_type": "code",
   "execution_count": 28,
   "metadata": {},
   "outputs": [
    {
     "name": "stdout",
     "output_type": "stream",
     "text": [
      "+----------------+--------------+--------------+\n",
      "|               a|             e|             b|\n",
      "+----------------+--------------+--------------+\n",
      "| [e, Esther, 32]|[e, f, follow]|[f, Fanny, 36]|\n",
      "|[c, Charlie, 30]|[c, b, follow]|  [b, Bob, 36]|\n",
      "+----------------+--------------+--------------+\n",
      "\n"
     ]
    }
   ],
   "source": [
    "# Select subgraph based on edges \"e\" of type \"follow\"\n",
    "# pointing from a younger user \"a\" to an older user \"b\".\n",
    "paths = g.find(\"(a)-[e]->(b)\") \\\n",
    "         .filter(\"e.relationship='follow'\") \\\n",
    "         .filter(\"a.age < b.age\")\n",
    "\n",
    "\n",
    "paths.show()"
   ]
  },
  {
   "cell_type": "code",
   "execution_count": 29,
   "metadata": {},
   "outputs": [
    {
     "name": "stdout",
     "output_type": "stream",
     "text": [
      "+---+---+------------+\n",
      "|src|dst|relationship|\n",
      "+---+---+------------+\n",
      "|  e|  f|      follow|\n",
      "|  c|  b|      follow|\n",
      "+---+---+------------+\n",
      "\n"
     ]
    }
   ],
   "source": [
    "# \"paths\" contains vertex info. Extract the edges.\n",
    "# e2 = paths.select(\"e.src\", 'e.dst', \"e.relationship\")\n",
    "e2 = paths.select(\"e.*\")\n",
    "e2.show()"
   ]
  },
  {
   "cell_type": "code",
   "execution_count": 30,
   "metadata": {},
   "outputs": [],
   "source": [
    "# Construct the subgraph\n",
    "g2 = GraphFrame(g.vertices, e2)"
   ]
  },
  {
   "cell_type": "code",
   "execution_count": 31,
   "metadata": {},
   "outputs": [
    {
     "name": "stdout",
     "output_type": "stream",
     "text": [
      "+---+-------+---+\n",
      "| id|   name|age|\n",
      "+---+-------+---+\n",
      "|  a|  Alice| 34|\n",
      "|  b|    Bob| 36|\n",
      "|  c|Charlie| 30|\n",
      "|  d|  David| 29|\n",
      "|  e| Esther| 32|\n",
      "|  f|  Fanny| 36|\n",
      "|  g|  Gabby| 60|\n",
      "+---+-------+---+\n",
      "\n"
     ]
    }
   ],
   "source": [
    "g2.vertices.show()"
   ]
  },
  {
   "cell_type": "code",
   "execution_count": 32,
   "metadata": {},
   "outputs": [
    {
     "name": "stdout",
     "output_type": "stream",
     "text": [
      "+---+---+------------+\n",
      "|src|dst|relationship|\n",
      "+---+---+------------+\n",
      "|  e|  f|      follow|\n",
      "|  c|  b|      follow|\n",
      "+---+---+------------+\n",
      "\n"
     ]
    }
   ],
   "source": [
    "g2.edges.show()"
   ]
  },
  {
   "cell_type": "code",
   "execution_count": 46,
   "metadata": {},
   "outputs": [
    {
     "name": "stdout",
     "output_type": "stream",
     "text": [
      "+---+-------+---+\n",
      "| id|   name|age|\n",
      "+---+-------+---+\n",
      "|  f|  Fanny| 36|\n",
      "|  e| Esther| 32|\n",
      "|  c|Charlie| 30|\n",
      "|  b|    Bob| 36|\n",
      "+---+-------+---+\n",
      "\n"
     ]
    }
   ],
   "source": [
    "g2.dropIsolatedVertices().vertices.show()"
   ]
  },
  {
   "cell_type": "markdown",
   "metadata": {},
   "source": [
    "# Graph algorithms\n",
    "## Breadth-first search (BFS)\n",
    "\n",
    "查找从一个顶点（或一组顶点）到另一个顶点（或一组顶点）的最短路径。"
   ]
  },
  {
   "cell_type": "code",
   "execution_count": 50,
   "metadata": {},
   "outputs": [],
   "source": [
    "g.bfs?\n",
    "# g.bfs(fromExpr, toExpr, edgeFilter=None, maxPathLength=10)"
   ]
  },
  {
   "cell_type": "code",
   "execution_count": 33,
   "metadata": {},
   "outputs": [
    {
     "name": "stdout",
     "output_type": "stream",
     "text": [
      "+---------------+--------------+--------------+\n",
      "|           from|            e0|            to|\n",
      "+---------------+--------------+--------------+\n",
      "|[e, Esther, 32]|[e, d, friend]|[d, David, 29]|\n",
      "+---------------+--------------+--------------+\n",
      "\n"
     ]
    }
   ],
   "source": [
    "# Search from \"Esther\" for users of age < 32.\n",
    "paths = g.bfs(\n",
    "    fromExpr=\"name = 'Esther'\",\n",
    "    toExpr=\"age < 32\")\n",
    "paths.show()"
   ]
  },
  {
   "cell_type": "code",
   "execution_count": 34,
   "metadata": {},
   "outputs": [
    {
     "name": "stdout",
     "output_type": "stream",
     "text": [
      "+---------------+--------------+--------------+--------------+----------------+\n",
      "|           from|            e0|            v1|            e1|              to|\n",
      "+---------------+--------------+--------------+--------------+----------------+\n",
      "|[e, Esther, 32]|[e, f, follow]|[f, Fanny, 36]|[f, c, follow]|[c, Charlie, 30]|\n",
      "+---------------+--------------+--------------+--------------+----------------+\n",
      "\n"
     ]
    }
   ],
   "source": [
    "# Specify edge filters or max path lengths.\n",
    "g.bfs(\"name = 'Esther'\", \"age < 32\", edgeFilter=\"relationship != 'friend'\", maxPathLength=3).show()"
   ]
  },
  {
   "cell_type": "markdown",
   "metadata": {},
   "source": [
    "## Connected components"
   ]
  },
  {
   "cell_type": "code",
   "execution_count": 35,
   "metadata": {},
   "outputs": [],
   "source": [
    "sc.setCheckpointDir('./chpt')"
   ]
  },
  {
   "cell_type": "code",
   "execution_count": 36,
   "metadata": {},
   "outputs": [
    {
     "name": "stdout",
     "output_type": "stream",
     "text": [
      "+---+------------+\n",
      "| id|   component|\n",
      "+---+------------+\n",
      "|  g|146028888064|\n",
      "|  a|412316860416|\n",
      "|  f|412316860416|\n",
      "|  b|412316860416|\n",
      "|  d|412316860416|\n",
      "|  e|412316860416|\n",
      "|  c|412316860416|\n",
      "+---+------------+\n",
      "\n"
     ]
    }
   ],
   "source": [
    "result = g.connectedComponents()\n",
    "result.select(\"id\", \"component\").orderBy(\"component\").show()"
   ]
  },
  {
   "cell_type": "markdown",
   "metadata": {},
   "source": [
    "## Strongly connected components"
   ]
  },
  {
   "cell_type": "code",
   "execution_count": 58,
   "metadata": {},
   "outputs": [
    {
     "name": "stdout",
     "output_type": "stream",
     "text": [
      "+---+-------------+\n",
      "| id|    component|\n",
      "+---+-------------+\n",
      "|  g| 146028888064|\n",
      "|  f| 412316860416|\n",
      "|  a| 670014898176|\n",
      "|  d| 670014898176|\n",
      "|  e| 670014898176|\n",
      "|  b|1047972020224|\n",
      "|  c|1047972020224|\n",
      "+---+-------------+\n",
      "\n"
     ]
    }
   ],
   "source": [
    "result = g.stronglyConnectedComponents(maxIter=10)\n",
    "result.select(\"id\", \"component\").orderBy(\"component\").show()"
   ]
  },
  {
   "cell_type": "markdown",
   "metadata": {},
   "source": [
    "## Label Propagation Algorithm (LPA)\n",
    "标签传播算法\n",
    "\n",
    "https://blog.csdn.net/App_12062011/article/details/91353424\n",
    "\n",
    "https://www.cnblogs.com/LittleHann/p/10699988.html"
   ]
  },
  {
   "cell_type": "code",
   "execution_count": 59,
   "metadata": {},
   "outputs": [
    {
     "name": "stdout",
     "output_type": "stream",
     "text": [
      "+---+-------------+\n",
      "| id|        label|\n",
      "+---+-------------+\n",
      "|  g| 146028888064|\n",
      "|  b|1047972020224|\n",
      "|  e| 412316860416|\n",
      "|  a| 670014898176|\n",
      "|  f| 670014898176|\n",
      "|  d| 670014898176|\n",
      "|  c|1382979469312|\n",
      "+---+-------------+\n",
      "\n"
     ]
    }
   ],
   "source": [
    "result = g.labelPropagation(maxIter=5)\n",
    "result.select('id', 'label').show()"
   ]
  },
  {
   "cell_type": "markdown",
   "metadata": {},
   "source": [
    "## PageRank"
   ]
  },
  {
   "cell_type": "code",
   "execution_count": 62,
   "metadata": {},
   "outputs": [
    {
     "name": "stdout",
     "output_type": "stream",
     "text": [
      "+---+-------------------+\n",
      "| id|           pagerank|\n",
      "+---+-------------------+\n",
      "|  g| 0.1799821386239711|\n",
      "|  b|  2.655507832863289|\n",
      "|  e|0.37085233187676075|\n",
      "|  a|0.44910633706538744|\n",
      "|  f| 0.3283606792049851|\n",
      "|  d| 0.3283606792049851|\n",
      "|  c| 2.6878300011606218|\n",
      "+---+-------------------+\n",
      "\n"
     ]
    }
   ],
   "source": [
    "# Run PageRank until convergence to tolerance \"tol\".\n",
    "results = g.pageRank(resetProbability=0.15, tol=0.01)\n",
    "# GraphFrame with new vertices column “pagerank” and new edges column “weight”\n",
    "\n",
    "results.vertices.select(\"id\", \"pagerank\").show()"
   ]
  },
  {
   "cell_type": "code",
   "execution_count": 63,
   "metadata": {},
   "outputs": [
    {
     "name": "stdout",
     "output_type": "stream",
     "text": [
      "+---+---+------+\n",
      "|src|dst|weight|\n",
      "+---+---+------+\n",
      "|  a|  b|   0.5|\n",
      "|  b|  c|   1.0|\n",
      "|  e|  f|   0.5|\n",
      "|  e|  d|   0.5|\n",
      "|  c|  b|   1.0|\n",
      "|  a|  e|   0.5|\n",
      "|  f|  c|   1.0|\n",
      "|  d|  a|   1.0|\n",
      "+---+---+------+\n",
      "\n"
     ]
    }
   ],
   "source": [
    "results.edges.select(\"src\", \"dst\", \"weight\").show()"
   ]
  },
  {
   "cell_type": "code",
   "execution_count": 65,
   "metadata": {},
   "outputs": [
    {
     "name": "stdout",
     "output_type": "stream",
     "text": [
      "+---+-------+---+-------------------+\n",
      "| id|   name|age|           pagerank|\n",
      "+---+-------+---+-------------------+\n",
      "|  g|  Gabby| 60|0.17073170731707318|\n",
      "|  b|    Bob| 36| 2.7025217677349773|\n",
      "|  e| Esther| 32| 0.3613490987992571|\n",
      "|  a|  Alice| 34| 0.4485115093698443|\n",
      "|  f|  Fanny| 36|0.32504910549694244|\n",
      "|  d|  David| 29|0.32504910549694244|\n",
      "|  c|Charlie| 30| 2.6667877057849627|\n",
      "+---+-------+---+-------------------+\n",
      "\n"
     ]
    }
   ],
   "source": [
    "# Run PageRank for a fixed number of iterations.\n",
    "results2 = g.pageRank(resetProbability=0.15, maxIter=10)\n",
    "results2.vertices.show()"
   ]
  },
  {
   "cell_type": "code",
   "execution_count": 67,
   "metadata": {},
   "outputs": [
    {
     "name": "stdout",
     "output_type": "stream",
     "text": [
      "+---+-------+---+-------------------+\n",
      "| id|   name|age|           pagerank|\n",
      "+---+-------+---+-------------------+\n",
      "|  g|  Gabby| 60|                0.0|\n",
      "|  b|    Bob| 36| 0.3366143039702568|\n",
      "|  e| Esther| 32|0.07657840357273027|\n",
      "|  a|  Alice| 34|0.17710831642683564|\n",
      "|  f|  Fanny| 36|0.03189213697274781|\n",
      "|  d|  David| 29|0.03189213697274781|\n",
      "|  c|Charlie| 30| 0.3459147020846817|\n",
      "+---+-------+---+-------------------+\n",
      "\n"
     ]
    }
   ],
   "source": [
    "# Run PageRank personalized for vertex \"a\"\n",
    "results3 = g.pageRank(resetProbability=0.15, maxIter=10, sourceId='a')\n",
    "results3.vertices.show()"
   ]
  },
  {
   "cell_type": "code",
   "execution_count": 68,
   "metadata": {},
   "outputs": [],
   "source": [
    "# Run PageRank personalized for vertex [\"a\", \"b\", \"c\", \"d\"] in parallel\n",
    "results4 = g.parallelPersonalizedPageRank(resetProbability=.15, sourceIds=[\"a\", 'b', 'c', 'd'], maxIter=10)"
   ]
  },
  {
   "cell_type": "code",
   "execution_count": 71,
   "metadata": {},
   "outputs": [
    {
     "name": "stdout",
     "output_type": "stream",
     "text": [
      "+---+-------+---+--------------------------------------------------------------------------------------------+\n",
      "|id |name   |age|pageranks                                                                                   |\n",
      "+---+-------+---+--------------------------------------------------------------------------------------------+\n",
      "|g  |Gabby  |60 |(4,[0,1,2,3],[0.0,0.0,0.0,0.0])                                                             |\n",
      "|b  |Bob    |36 |(4,[0,1,2,3],[0.3366143039702568,0.6309963479403321,0.36900365205966795,0.3188063856578461])|\n",
      "|e  |Esther |32 |(4,[0,1,2,3],[0.07657840357273027,0.0,0.0,0.06378427394549561])                             |\n",
      "|a  |Alice  |34 |(4,[0,1,2,3],[0.17710831642683564,0.0,0.0,0.15315680714546054])                             |\n",
      "|f  |Fanny  |36 |(4,[0,1,2,3],[0.03189213697274781,0.0,0.0,0.027108316426835637])                            |\n",
      "|d  |David  |29 |(4,[0,1,2,3],[0.03189213697274781,0.0,0.0,0.17710831642683564])                             |\n",
      "|c  |Charlie|30 |(4,[0,1,2,3],[0.3459147020846817,0.36900365205966795,0.6309963479403321,0.2600359003975265])|\n",
      "+---+-------+---+--------------------------------------------------------------------------------------------+\n",
      "\n"
     ]
    }
   ],
   "source": [
    "results4.vertices.show(truncate=False)"
   ]
  },
  {
   "cell_type": "markdown",
   "metadata": {},
   "source": [
    "## Shortest paths\n",
    "计算从每个顶点到给定的地标顶点集的最短路径\n",
    " 注意，这考虑了边缘方向。"
   ]
  },
  {
   "cell_type": "markdown",
   "metadata": {},
   "source": [
    "(\"a\", \"b\", \"friend\"),\n",
    "      (\"b\", \"c\", \"follow\"),\n",
    "      (\"c\", \"b\", \"follow\"),\n",
    "      (\"f\", \"c\", \"follow\"),\n",
    "      (\"e\", \"f\", \"follow\"),\n",
    "      (\"e\", \"d\", \"friend\"),\n",
    "      (\"d\", \"a\", \"friend\"),\n",
    "      (\"a\", \"e\", \"friend\")"
   ]
  },
  {
   "cell_type": "code",
   "execution_count": 37,
   "metadata": {},
   "outputs": [
    {
     "name": "stdout",
     "output_type": "stream",
     "text": [
      "+---+----------------+\n",
      "| id|       distances|\n",
      "+---+----------------+\n",
      "|  g|              []|\n",
      "|  b|              []|\n",
      "|  e|[d -> 1, a -> 2]|\n",
      "|  a|[a -> 0, d -> 2]|\n",
      "|  f|              []|\n",
      "|  d|[d -> 0, a -> 1]|\n",
      "|  c|              []|\n",
      "+---+----------------+\n",
      "\n"
     ]
    }
   ],
   "source": [
    "results = g.shortestPaths(landmarks=['a', 'd'])\n",
    "results.select(\"id\", \"distances\").show()\n",
    "# e -> a 最短距离2"
   ]
  },
  {
   "cell_type": "markdown",
   "metadata": {},
   "source": [
    "## Triangle count\n",
    "Computes the number of triangles passing through each vertex."
   ]
  },
  {
   "cell_type": "code",
   "execution_count": 74,
   "metadata": {},
   "outputs": [
    {
     "name": "stdout",
     "output_type": "stream",
     "text": [
      "+---+-----+\n",
      "| id|count|\n",
      "+---+-----+\n",
      "|  g|    0|\n",
      "|  f|    0|\n",
      "|  e|    1|\n",
      "|  d|    1|\n",
      "|  c|    0|\n",
      "|  b|    0|\n",
      "|  a|    1|\n",
      "+---+-----+\n",
      "\n"
     ]
    }
   ],
   "source": [
    "results = g.triangleCount()    \n",
    "results.select('id', 'count').show()\n",
    "# e->d->a->e  "
   ]
  },
  {
   "cell_type": "markdown",
   "metadata": {},
   "source": [
    "# Saving and loading GraphFrames"
   ]
  },
  {
   "cell_type": "code",
   "execution_count": null,
   "metadata": {},
   "outputs": [],
   "source": [
    "# Save vertices and edges as Parquet to some location.\n",
    "g.vertices.write.parquet(\"hdfs://myLocation/vertices\")\n",
    "g.edges.write.parquet(\"hdfs://myLocation/edges\")\n",
    "\n",
    "# Load the vertices and edges back.\n",
    "sameV = spark.read.parquet(\"hdfs://myLocation/vertices\")\n",
    "sameE = spark.read.parquet(\"hdfs://myLocation/edges\")\n",
    "\n",
    "# Create an identical GraphFrame.\n",
    "sameG = GraphFrame(sameV, sameE)"
   ]
  },
  {
   "cell_type": "markdown",
   "metadata": {},
   "source": [
    "# Message passing via AggregateMessages\n",
    "- aggregateMessages: 在顶点之间发送消息，并汇总每个顶点的消息\n",
    "- joins: 将消息聚合与原始图形合并\n",
    "\n",
    "\n",
    "```\n",
    "class graphframes.lib.AggregateMessages[source]\n",
    "Collection of utilities usable with graphframes.GraphFrame.aggregateMessages().\n",
    "\n",
    "dst\n",
    "Reference for destination column, used for specifying messages.\n",
    "\n",
    "edge\n",
    "Reference for edge column, used for specifying messages.\n",
    "\n",
    "static getCachedDataFrame(df)[source]\n",
    "Create a new cached copy of a DataFrame.\n",
    "\n",
    "This utility method is useful for iterative DataFrame-based algorithms. See Scala documentation for more details.\n",
    "\n",
    "WARNING: This is NOT the same as DataFrame.cache().\n",
    "The original DataFrame will NOT be cached.\n",
    "msg\n",
    "Reference for message column, used for specifying aggregation function.\n",
    "\n",
    "src\n",
    "Reference for source column, used for specifying messages.\n",
    "```"
   ]
  },
  {
   "cell_type": "code",
   "execution_count": 38,
   "metadata": {},
   "outputs": [],
   "source": [
    "g.aggregateMessages?"
   ]
  },
  {
   "cell_type": "code",
   "execution_count": 39,
   "metadata": {},
   "outputs": [
    {
     "name": "stdout",
     "output_type": "stream",
     "text": [
      "+---+----------+\n",
      "| id|summedAges|\n",
      "+---+----------+\n",
      "|  f|        62|\n",
      "|  e|        99|\n",
      "|  d|        66|\n",
      "|  c|       108|\n",
      "|  b|        94|\n",
      "|  a|        97|\n",
      "+---+----------+\n",
      "\n"
     ]
    }
   ],
   "source": [
    "from graphframes.lib import AggregateMessages as AM\n",
    "from pyspark.sql.functions import sum as sqlsum\n",
    "\n",
    "# 聚合 与之相连的人的年龄\n",
    "msgToSrc = AM.dst['age']\n",
    "msgToDst = AM.src['age']\n",
    "agg = g.aggregateMessages(\n",
    "    sqlsum(AM.msg).alias('summedAges'),\n",
    "    sendToSrc=msgToSrc,\n",
    "    sendToDst=msgToDst\n",
    ")\n",
    "agg.show()"
   ]
  },
  {
   "cell_type": "code",
   "execution_count": 42,
   "metadata": {},
   "outputs": [
    {
     "ename": "TypeError",
     "evalue": "'Column' object is not callable",
     "output_type": "error",
     "traceback": [
      "\u001b[0;31m---------------------------------------------------------------------------\u001b[0m",
      "\u001b[0;31mTypeError\u001b[0m                                 Traceback (most recent call last)",
      "\u001b[0;32m<ipython-input-42-924279d5c617>\u001b[0m in \u001b[0;36m<module>\u001b[0;34m\u001b[0m\n\u001b[0;32m----> 1\u001b[0;31m \u001b[0mAM\u001b[0m\u001b[0;34m.\u001b[0m\u001b[0mmsg\u001b[0m\u001b[0;34m.\u001b[0m\u001b[0mshow\u001b[0m\u001b[0;34m(\u001b[0m\u001b[0;34m)\u001b[0m\u001b[0;34m\u001b[0m\u001b[0;34m\u001b[0m\u001b[0m\n\u001b[0m",
      "\u001b[0;31mTypeError\u001b[0m: 'Column' object is not callable"
     ]
    }
   ],
   "source": []
  },
  {
   "cell_type": "code",
   "execution_count": null,
   "metadata": {},
   "outputs": [],
   "source": []
  }
 ],
 "metadata": {
  "kernelspec": {
   "display_name": "tf-gpu",
   "language": "python",
   "name": "base"
  },
  "language_info": {
   "codemirror_mode": {
    "name": "ipython",
    "version": 3
   },
   "file_extension": ".py",
   "mimetype": "text/x-python",
   "name": "python",
   "nbconvert_exporter": "python",
   "pygments_lexer": "ipython3",
   "version": "3.7.6"
  }
 },
 "nbformat": 4,
 "nbformat_minor": 4
}
