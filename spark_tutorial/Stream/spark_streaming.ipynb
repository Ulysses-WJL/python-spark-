{
 "metadata": {
  "language_info": {
   "codemirror_mode": {
    "name": "ipython",
    "version": 3
   },
   "file_extension": ".py",
   "mimetype": "text/x-python",
   "name": "python",
   "nbconvert_exporter": "python",
   "pygments_lexer": "ipython3",
   "version": "3.7.6-final"
  },
  "orig_nbformat": 2,
  "kernelspec": {
   "name": "base",
   "display_name": "tf-gpu"
  }
 },
 "nbformat": 4,
 "nbformat_minor": 2,
 "cells": [
  {
   "cell_type": "code",
   "execution_count": 1,
   "metadata": {},
   "outputs": [
    {
     "output_type": "error",
     "ename": "NameError",
     "evalue": "name 'sc' is not defined",
     "traceback": [
      "\u001b[0;31m---------------------------------------------------------------------------\u001b[0m",
      "\u001b[0;31mNameError\u001b[0m                                 Traceback (most recent call last)",
      "\u001b[0;32m<ipython-input-1-8d3513b7698b>\u001b[0m in \u001b[0;36m<module>\u001b[0;34m\u001b[0m\n\u001b[0;32m----> 1\u001b[0;31m \u001b[0msc\u001b[0m\u001b[0;34m.\u001b[0m\u001b[0mstop\u001b[0m\u001b[0;34m(\u001b[0m\u001b[0;34m)\u001b[0m\u001b[0;34m\u001b[0m\u001b[0;34m\u001b[0m\u001b[0m\n\u001b[0m",
      "\u001b[0;31mNameError\u001b[0m: name 'sc' is not defined"
     ]
    }
   ],
   "source": [
    "from pyspark import SparkConf, SparkContext\n",
    "from pyspark.streaming import StreamingContext\n",
    "\n",
    "\n",
    "conf = SparkConf().setAppName(\"Steaming file\").setMaster('local')\n",
    "sc = SparkContext(conf=conf)\n",
    "ssc = StreamingContext(sc, 2)"
   ]
  },
  {
   "cell_type": "markdown",
   "metadata": {},
   "source": [
    "# 基本输入源\n",
    "\n",
    "- 文件流\n",
    "- 套接字流\n",
    "- RDD队列流\n"
   ]
  },
  {
   "cell_type": "code",
   "execution_count": 6,
   "metadata": {},
   "outputs": [],
   "source": [
    "# 文件流\n",
    "ssc.textFileStream?"
   ]
  },
  {
   "cell_type": "markdown",
   "metadata": {},
   "source": [
    "## 套接字流"
   ]
  },
  {
   "cell_type": "code",
   "execution_count": 1,
   "metadata": {
    "tags": []
   },
   "outputs": [
    {
     "output_type": "stream",
     "name": "stdout",
     "text": "Object `ssc.socketTextStream` not found.\n"
    }
   ],
   "source": [
    "# 套接字流\n",
    "ssc.socketTextStream?"
   ]
  },
  {
   "cell_type": "markdown",
   "metadata": {},
   "source": [
    "服务端\n",
    "```\n",
    "nc lk 9999 \n",
    "```\n",
    "输入信息\n",
    "\n",
    "客户端 \n",
    "```\n",
    "spark-submit streaming_socket.py localhost 9999\n",
    "\n",
    "```\n",
    "统计词频"
   ]
  },
  {
   "cell_type": "markdown",
   "metadata": {},
   "source": [
    "自定义socket数据\n",
    "\n",
    "```\n",
    "import socket\n",
    "\n",
    "server = socket.socket()\n",
    "\n",
    "server.bind(('localhost', 9999))\n",
    "server.listen(1)\n",
    "\n",
    "while True:\n",
    "    print(\"Wating for connect ...\")\n",
    "    # 这里用两个值接受，因为连接上之后使用的是客户端发来请求的这个实例\n",
    "    # 所以下面的传输要使用conn实例操作\n",
    "    conn, addr = server.accept()  # 阻塞, 等待连接\n",
    "\n",
    "    print(f\"Connect success! Connection is from {addr[0]}\")\n",
    "\n",
    "    print(\"Sending data ...\")\n",
    "    conn.send('I love hadoop I love spark hadoop is good spark is fast'.encode())\n",
    "    # 结束 断开连接, while循环下一次连接\n",
    "    conn.close()\n",
    "    print('Connection is broken.')\n",
    "```"
   ]
  },
  {
   "cell_type": "markdown",
   "metadata": {},
   "source": [
    "## RDD 队列流\n",
    "\n",
    "在调试Spark Streaming应用程序的时候，我们可以使用streamingContext.queueStream(queueOfRDD)创建基于RDD队列的DStream\n"
   ]
  },
  {
   "cell_type": "code",
   "execution_count": null,
   "metadata": {},
   "outputs": [],
   "source": [
    "sc.parallelize()"
   ]
  }
 ]
}